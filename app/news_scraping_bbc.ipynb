{
 "cells": [
  {
   "cell_type": "code",
   "execution_count": 2,
   "metadata": {},
   "outputs": [],
   "source": [
    "from selenium import webdriver\n",
    "from selenium.webdriver.chrome.options import Options\n",
    "from selenium.webdriver.chrome.service import Service\n",
    "from webdriver_manager.chrome import ChromeDriverManager\n",
    "from selenium.webdriver.common.by import By"
   ]
  },
  {
   "cell_type": "code",
   "execution_count": 3,
   "metadata": {},
   "outputs": [
    {
     "name": "stdout",
     "output_type": "stream",
     "text": [
      "Home - BBC News\n"
     ]
    }
   ],
   "source": [
    "options = Options()\n",
    "options.add_argument('--headless')\n",
    "options.add_argument('--no-sandbox')\n",
    "options.add_argument('--disable-dev-shm-usage')\n",
    "driver = webdriver.Chrome(service=Service(ChromeDriverManager().install()), options=options)\n",
    "\n",
    " \n",
    "driver.get(\"https://www.bbc.com/news\")\n",
    "print(driver.title)"
   ]
  },
  {
   "cell_type": "markdown",
   "metadata": {},
   "source": []
  },
  {
   "cell_type": "code",
   "execution_count": 4,
   "metadata": {},
   "outputs": [
    {
     "name": "stdout",
     "output_type": "stream",
     "text": [
      "75\n",
      "75\n",
      "https://www.bbc.com/news/entertainment-arts-67296157\n"
     ]
    }
   ],
   "source": [
    "news_urls=[]\n",
    "def get_urls():\n",
    " elements_for_url=driver.find_elements(By.CLASS_NAME, 'gs-c-promo-heading')\n",
    " for element in elements_for_url:\n",
    "        news_urls.append(element.get_attribute('href'))\n",
    " print(len(elements_for_url))\n",
    "get_urls()\n",
    "print(len(news_urls))#list with all the urls to the articels. should be equally long to elements_for_url\n",
    "print(news_urls[12])"
   ]
  },
  {
   "cell_type": "code",
   "execution_count": 5,
   "metadata": {},
   "outputs": [],
   "source": [
    "#here we extract all the text contents from the articles. This takes approximately 2 minutes with a total of 76 articels today\n",
    "text_contents=[]\n",
    "def extract_contents():\n",
    "  try:\n",
    "   article = driver.find_element(By.TAG_NAME, 'article')\n",
    "   text_contents.append(article.text)\n",
    "  except: #exception if no article element is there. doesn´t happen often, but has to be handled\n",
    "   article = driver.find_element(By.TAG_NAME, 'body')\n",
    "   text_contents.append(article.text)\n",
    "   print(\"article not found\") #in this test, 3 of 73 articels had no article element. \n",
    "#extract_contents()\n",
    "#print(len(text_contents)) "
   ]
  },
  {
   "cell_type": "code",
   "execution_count": 6,
   "metadata": {},
   "outputs": [],
   "source": [
    "\n",
    "#here are a few exceptions, because the bbc articles have different html structures\n",
    "def get_headers():\n",
    "  try:\n",
    "   header=driver.find_element(By.ID, 'main-heading')\n",
    "   headers.append(header.text)\n",
    "  except:\n",
    "   try:\n",
    "     header = driver.find_element(By.CLASS_NAME, 'qa-story-headline')\n",
    "     headers.append(header.text)\n",
    "   except:\n",
    "    try:\n",
    "     header = driver.find_element(By.CLASS_NAME, 'article-headline__text')\n",
    "     headers.append(header.text)\n",
    "    except:\n",
    "     header='unknown'\n",
    "     headers.append(header)\n",
    "     print('no header')\n",
    "#get_headers()\n",
    "\n",
    "\n"
   ]
  },
  {
   "cell_type": "code",
   "execution_count": 7,
   "metadata": {},
   "outputs": [],
   "source": [
    "def get_timestamps():\n",
    "  try:\n",
    "   time_element=driver.find_element(By.TAG_NAME, 'time')\n",
    "   date=(time_element.get_attribute('datetime'))\n",
    "   time.append(date)\n",
    "  except:\n",
    "    date='unknown'\n",
    "    time.append(date)\n",
    "    print('no date')"
   ]
  },
  {
   "cell_type": "code",
   "execution_count": 8,
   "metadata": {},
   "outputs": [
    {
     "name": "stdout",
     "output_type": "stream",
     "text": [
      "no header\n",
      "article not found\n",
      "no header\n",
      "article not found\n",
      "no date\n",
      "no header\n",
      "no date\n",
      "no date\n",
      "no date\n",
      "no date\n",
      "no date\n",
      "no date\n",
      "no date\n",
      "no header\n",
      "article not found\n",
      "no date\n",
      "no header\n",
      "Donald Trump Jr's courtroom debut: Chuckles, smiles and mispronunciation\n",
      "Published\n",
      "4 hours ago\n",
      "Share\n",
      "Media caption,\n",
      "Donald Trump Jr: 'I should have worn make-up'\n",
      "By Kayla Epstein\n",
      "Reporting from court in New York, BBC News\n",
      "\"I should have worn make-up,\" Donald Trump Jr quipped on Wednesday as a group of photographers rushed into court to take his picture.\n",
      "As an executive at the Trump Organization, he was testifying in a multimillion-dollar civil trial that could see his family lose a sizable part of its business empire.\n",
      "His comment set the tone for what was an hour-long charm offensive that saw Mr Trump Jr lightheartedly engaging with the judge while letting his lawyers do the brawling for him.\n",
      "In under two hours of testimony in New York, he said he did not work on the financial statements at the centre of the case.\n",
      "The eldest son of the former president appeared confident and relaxed on the witness stand. He smiled during proceedings, even making the occasional joke and drawing laughter from the courtroom.\n",
      "The stakes, however, were high and the claims against him serious.\n",
      "The judge has already found the Trump Organization falsified business records. This hearing will resolve other claims and potential penalties, which, in a worst-case scenario for the family, could see Mr Trump Jr, along with his father and brother Eric, essentially lose the ability to do business in New York\n",
      "But Mr Trump Jr did not appear perturbed. Wearing a dark blue suit and flamingo-pink tie, the current Florida resident quipped to the judge that he had \"kept the New York pace\" after being asked to speak more slowly.\n",
      "At another point, Judge Arthur Engoron noted humorously that Mr Trump Jr could settle a minor pronunciation argument: whether to pronounce \"revocable\" as \"re-VOCK-able\" or \"re-VOKE-able\".\n",
      "Mr Trump Jr laughed and said he did not know.\n",
      "When Colleen Faherty of the attorney general's office then phrased her question with one pronunciation, Mr Trump Jr joked that he only understood the other.\n",
      "On another occasion, Ms Faherty pressed the 45-year-old on his understanding of the guidelines businesses use to ensure financial records are accurately maintained. He drew chuckles as he smiled and responded: \"I have no understanding\" - part of his broader argument that he was not involved in the minutiae of the company's accounting as prosecutors have claimed.\n",
      "The attorney general's office argues he and his brother Eric were \"intimately involved\" in the Trump Organization, and said in court filings that they were \"aware of the true financial performance of the company\".\n",
      "Donald Trump Jr testifies in NY civil fraud trial\n",
      "Five things to know about Trump's New York trial\n",
      "The glitzy New York buildings that Trump could lose\n",
      "Mr Trump Jr's jovial persona on Wednesday was notably different to the hyper-masculine right-wing influencer he usually portrays.\n",
      "In an appearance on the conservative Newsmax network earlier this week, he called the trial a \"sham\" and and labelled the chamber a \"kangaroo court\".\n",
      "But he refrained from airing such bombastic criticism in court. While Judge Engoron appeared in decent spirits, he had earlier fined Mr Trump Jr's father $15,000 (£12,300) for levelling political attacks against court staff.\n",
      "Most of Ms Faherty's questioning focused on establishing Mr Trump Jr's work at the Trump Organization and his involvement in the preparation of various financial documents that had come under the attorney general's scrutiny.\n",
      "Anticipation for this phase of the trial had been building since it began on 2 October. Mr Trump Jr is the first of his siblings to give testimony, with Ivanka and Eric Trump scheduled to do so in the coming days. Donald Trump himself may take the stand next week.\n",
      "And while Mr Trump Jr faced a relatively drama-free day on Wednesday, the tone could change as the attorney general's team resume their questioning on Thursday morning.\n",
      "Related Topics\n",
      "Donald Trump Jr\n",
      "New York City\n",
      "New York\n",
      "Donald Trump\n",
      "United States\n",
      "More on this story\n",
      "Donald Trump Jr testifies in NY civil fraud trial\n",
      "Published\n",
      "13 hours ago\n",
      "Five things to know about Trump's New York trial\n",
      "Published\n",
      "14 hours ago\n",
      "The glitzy New York buildings that Trump could lose\n",
      "Published\n",
      "28 September\n",
      "Trump committed fraud in New York, judge finds\n",
      "Published\n",
      "27 September\n",
      "2023-11-02T07:44:36.000Z\n",
      "Donald Trump Jr's courtroom debut: Chuckles, smiles and mispronunciation\n"
     ]
    }
   ],
   "source": [
    "#main method to extract all contents except the authors(might follow later). Runs way faster than the different smaller methods before\n",
    "text_contents=[]\n",
    "time=[]\n",
    "headers=[]\n",
    "def extract_all():\n",
    "    for i in range(len(news_urls)):\n",
    "       driver.get(news_urls[i]) #we go to the specific article by using the url\n",
    "       extract_contents()\n",
    "       get_timestamps()\n",
    "       get_headers()\n",
    "    for i in range(len(time)):\n",
    "      if time[i]==None:\n",
    "       time[i]='unknown'\n",
    "extract_all()\n",
    "print(text_contents[10])\n",
    "print(time[10])\n",
    "print(headers[10])"
   ]
  },
  {
   "cell_type": "code",
   "execution_count": 9,
   "metadata": {},
   "outputs": [
    {
     "name": "stdout",
     "output_type": "stream",
     "text": [
      "unknown\n",
      "Israel Gaza: Children must be off limits, says father of abducted kids\n",
      "'I simply don’t want to die at 24' - Gaza woman trapped at Rafah crossing\n",
      "Could an Israeli ground invasion of Gaza meet its aims?\n",
      "Gaza tunnels: Breaking down videos from Hamas' secret network\n",
      "What China wants from Israel-Hamas war\n",
      "Suspected mushroom poisoning: Australian woman charged with three murders\n",
      "Baby monitor captures moment window is blown in by Storm Ciarán\n",
      "Li Keqiang: Official nerves show as BBC hears praise for dead Chinese leader\n",
      "Swiss village of Aarwangen in ding-dong over challenge to cowbells\n",
      "Donald Trump Jr's courtroom debut: Chuckles, smiles and mispronunciation\n",
      "Boss of Indonesia cough syrup maker jailed after child deaths\n",
      "Emily Hampshire: Actress apologises for Depp and Heard costume\n",
      "Shubhneet Singh: Punjabi rapper faces heat over concert hoodie\n",
      "Taylor Tomlinson: Comedian, 29, fills James Corden's late TV show slot\n",
      "Olivia Rodrigo 'beyond excited' her song is in Hunger Games film\n",
      "Taylor Tomlinson: Comedian, 29, fills James Corden's late TV show slot\n",
      "Olivia Rodrigo 'beyond excited' her song is in Hunger Games film\n",
      "Cornell student in court over threats to kill Jews\n",
      "Edgar Lungu - Zambian ex-president stripped of retirement benefits\n",
      "Brain power dropped among over-50s during Covid-19 pandemic, study shows\n",
      "Criminals and sanctions-busters exploiting UK secrecy loophole\n",
      "unknown\n",
      "unknown\n",
      "Singer Weyes Blood: I feel like I've lived a million lives\n",
      "Agoa Forum: Has the US trade pact benefited Africa?\n",
      "Migrants to Europe dying in gun battles and car crashes\n",
      "Germany asks forgiveness for Tanzania colonial crimes\n",
      "Why are fewer women using AI than men?\n",
      "Baby monitor captures moment window is blown in by Storm Ciarán\n",
      "Florida: Pilot rescued after plane crashes into Everglades\n",
      "Dancing Queen! Camilla in Kenya animal sanctuary visit\n",
      "BBC World Service\n",
      "Halloween 2023: Heidi Klum wows at her annual party as a peacock\n",
      "Cockney and King's English becoming less common, researchers find\n",
      "Dancing Queen! Camilla in Kenya animal sanctuary visit\n",
      "The Beatles' final song Now And Then: When is it out and what will it sound like?\n",
      "Florida: Pilot rescued after plane crashes into Everglades\n",
      "Celebrity Halloween costumes 2023: Heidi Klum proves why she is queen of Halloween\n",
      "Kourtney Kardashian’s partner Travis Barker reveals baby's name\n",
      "Women's Nations League: Irene Paredes denied 100th Spain cap by 'computer error'\n",
      "Suspected mushroom poisoning: Australian woman charged with three murders\n",
      "Criminals and sanctions-busters exploiting UK secrecy loophole\n",
      "Emily Hampshire: Actress apologises for Depp and Heard costume\n",
      "Donald Trump Jr's courtroom debut: Chuckles, smiles and mispronunciation\n",
      "M&S pulls Christmas advert post after Palestinian flag criticism\n",
      "Edgar Lungu - Zambian ex-president stripped of retirement benefits\n",
      "Chinese grieve popular ex-premier Li Keqiang in quiet show of dissent\n",
      "Israel Gaza: Children must be off limits, says father of abducted kids\n",
      "Boss of Indonesia cough syrup maker jailed after child deaths\n",
      "'I simply don’t want to die at 24' - Gaza woman trapped at Rafah crossing\n",
      "Psilocybin and LSD: What I learnt after experiencing 'psychedelic flashbacks'\n",
      "Why surge pricing is coming at restaurants, online retailers and more\n",
      "Massimo Bottura's new \"Not Barbecue\" restaurant\n",
      "How Virginia Woolf and the Bloomsbury group unbuttoned Britain\n",
      "How forest schools boost children's immune systems\n",
      "Despite financial pressures, holiday shoppers will still spend billions\n",
      "The Isle of Eigg: The community-owned island that powers itself\n",
      "unknown\n",
      "Cricket World Cup: How politics derailed England's 2003 World Cup campaign\n",
      "EFL Cup reaction and more football news\n",
      "Man Utd 0-3 Newcastle: Erik ten Hag vows to 'fight on' but 'questions' grow for Reds boss\n",
      "World Series 2023: Texas Rangers beat Arizona Diamondbacks to clinch 4-1 Fall Classic win\n",
      "Cricket World Cup 2023: Mitchell Marsh to return to Australia for personal reasons\n",
      "unknown\n",
      "Suspected mushroom poisoning: Australian woman charged with three murders\n",
      "Criminals and sanctions-busters exploiting UK secrecy loophole\n",
      "Emily Hampshire: Actress apologises for Depp and Heard costume\n",
      "Donald Trump Jr's courtroom debut: Chuckles, smiles and mispronunciation\n",
      "M&S pulls Christmas advert post after Palestinian flag criticism\n",
      "Edgar Lungu - Zambian ex-president stripped of retirement benefits\n",
      "Chinese grieve popular ex-premier Li Keqiang in quiet show of dissent\n",
      "Israel Gaza: Children must be off limits, says father of abducted kids\n",
      "Boss of Indonesia cough syrup maker jailed after child deaths\n",
      "'I simply don’t want to die at 24' - Gaza woman trapped at Rafah crossing\n",
      "75\n",
      "5\n",
      "https://www.bbc.com/news/live/world-middle-east-67281166\n",
      "https://www.bbc.com/news/world-middle-east-67292422\n",
      "https://www.bbc.com/news/world-middle-east-67293048\n",
      "https://www.bbc.com/news/world-middle-east-67084141\n",
      "https://www.bbc.com/news/world-middle-east-67280010\n",
      "https://www.bbc.com/news/world-asia-china-67237146\n",
      "https://www.bbc.com/news/world-australia-67293752\n",
      "https://www.bbc.com/news/uk-67295305\n",
      "https://www.bbc.com/news/world-asia-china-67294136\n",
      "https://www.bbc.com/news/world-europe-67296413\n",
      "https://www.bbc.com/news/world-us-canada-67293355\n",
      "https://www.bbc.com/news/business-67294106\n",
      "https://www.bbc.com/news/entertainment-arts-67296157\n",
      "https://www.bbc.com/news/world-asia-india-67294185\n",
      "https://www.bbc.com/news/entertainment-arts-67296327\n",
      "https://www.bbc.com/news/entertainment-arts-67296455\n",
      "https://www.bbc.com/news/entertainment-arts-67296327\n",
      "https://www.bbc.com/news/entertainment-arts-67296455\n",
      "https://www.bbc.com/news/world-us-canada-67280174\n",
      "https://www.bbc.com/news/world-africa-67294418\n",
      "https://www.bbc.com/news/health-67272152\n",
      "https://www.bbc.com/news/uk-67276289\n",
      "https://www.bbc.com/news/world_radio_and_tv\n",
      "https://www.bbc.com/sounds/play/live:bbc_world_service\n",
      "https://www.bbc.com/news/entertainment-arts-67062838\n",
      "https://www.bbc.com/news/world-africa-67284812\n",
      "https://www.bbc.com/news/world-europe-67245358\n",
      "https://www.bbc.com/news/world-africa-67285182\n",
      "https://www.bbc.com/news/business-67217915\n",
      "https://www.bbc.com/news/uk-67295305\n",
      "https://www.bbc.com/news/world-us-canada-67284282\n",
      "https://www.bbc.com/news/uk-67289523\n",
      "https://www.bbc.com/news/world-65432059\n",
      "https://www.bbc.com/news/entertainment-arts-67284280\n",
      "https://www.bbc.com/news/uk-england-essex-67289519\n",
      "https://www.bbc.com/news/uk-67289523\n",
      "https://www.bbc.com/news/entertainment-arts-67285117\n",
      "https://www.bbc.com/news/world-us-canada-67284282\n",
      "https://www.bbc.com/news/entertainment-arts-67262119\n",
      "https://www.bbc.com/news/world-us-canada-67280482\n",
      "https://www.bbc.com/sport/football/67284302\n",
      "https://www.bbc.com/news/world-australia-67293752\n",
      "https://www.bbc.com/news/uk-67276289\n",
      "https://www.bbc.com/news/entertainment-arts-67296157\n",
      "https://www.bbc.com/news/world-us-canada-67293355\n",
      "https://www.bbc.com/news/uk-67294809\n",
      "https://www.bbc.com/news/world-africa-67294418\n",
      "https://www.bbc.com/news/world-asia-china-67294919\n",
      "https://www.bbc.com/news/world-middle-east-67292422\n",
      "https://www.bbc.com/news/business-67294106\n",
      "https://www.bbc.com/news/world-middle-east-67293048\n",
      "https://www.bbc.com/future/article/20231101-psychedelic-drugs-flashbacks-hallucinogen-persisting-perception-disorder-hppd\n",
      "https://www.bbc.com/worklife/article/20231101-why-surge-pricing-is-coming-at-restaurants-online-retailers-and-more\n",
      "https://www.bbc.com/travel/article/20231101-massimo-botturas-new-not-barbecue-restaurant\n",
      "https://www.bbc.com/culture/article/20231031-how-virginia-woolf-and-the-bloomsbury-group-unbuttoned-britain\n",
      "https://www.bbc.com/future/article/20231031-how-forest-schools-boost-childrens-immune-systems\n",
      "https://www.bbc.com/worklife/article/20231031-despite-financial-pressures-holiday-shoppers-will-still-spend-billions\n",
      "https://www.bbc.com/travel/article/20231025-the-isle-of-eigg-the-community-owned-island-that-powers-itself\n",
      "https://www.bbc.com/sport/live/cricket/66858826\n",
      "https://www.bbc.com/sport/cricket/67240832\n",
      "https://www.bbc.co.uk/sport/football/live/clm0v828yjrt\n",
      "https://www.bbc.com/sport/football/67293894\n",
      "https://www.bbc.com/sport/baseball/67294346\n",
      "https://www.bbc.com/sport/cricket/67294581\n",
      "https://www.bbc.com/sport/football/67213052\n",
      "https://www.bbc.com/news/world-australia-67293752\n",
      "https://www.bbc.com/news/uk-67276289\n",
      "https://www.bbc.com/news/entertainment-arts-67296157\n",
      "https://www.bbc.com/news/world-us-canada-67293355\n",
      "https://www.bbc.com/news/uk-67294809\n",
      "https://www.bbc.com/news/world-africa-67294418\n",
      "https://www.bbc.com/news/world-asia-china-67294919\n",
      "https://www.bbc.com/news/world-middle-east-67292422\n",
      "https://www.bbc.com/news/business-67294106\n",
      "https://www.bbc.com/news/world-middle-east-67293048\n"
     ]
    }
   ],
   "source": [
    "for item in headers:\n",
    "  print(item)\n",
    "print(len(headers))\n",
    "counter=0\n",
    "for i in range(len(headers)):\n",
    "    if headers[i]=='unknown':\n",
    "      counter=counter+1\n",
    "print(counter)\n",
    "for item in news_urls:\n",
    "  print(item)"
   ]
  },
  {
   "cell_type": "code",
   "execution_count": 10,
   "metadata": {},
   "outputs": [
    {
     "name": "stdout",
     "output_type": "stream",
     "text": [
      "By Kayla Epstein\n",
      "75\n",
      "['no author', 'By Jon Donnison', 'By Fergal Keane', 'By Paul Kirby', 'no author', 'By Tessa Wong', 'By Hannah Ritchie and Simon Fraser', 'no author', 'By Stephen McDonell', 'By Imogen Foulkes', 'By Kayla Epstein', 'By Peter Hoskins', 'By Natasha Preskey', 'By Cherylann Mollan', 'By Annabel Rackham', 'By Helen Bushby', 'By Annabel Rackham', 'By Helen Bushby', 'By Brandon Drenon', 'By Wycliffe Muia', 'By Michelle Roberts', 'By James Oliver, Will Dahlgreen, James Melley & Andy Verity', 'no author', 'no author', 'By Paul Glynn', 'By Jewel Kiriungi', 'By Nick Thorpe', 'By Jessica Parker & Danai Nesta Kupemba', 'By MaryLou Costa', 'no author', 'no author', 'no author', 'no author', 'no author', 'By Shivani Chaudhari and Sonia Watson', 'no author', 'By Mark Savage', 'no author', 'By Andre Rhoden-Paul', 'By Chloe Kim', 'no author', 'By Hannah Ritchie and Simon Fraser', 'By James Oliver, Will Dahlgreen, James Melley & Andy Verity', 'By Natasha Preskey', 'By Kayla Epstein', 'By James Gregory', 'By Wycliffe Muia', 'By Kelly Ng', 'By Jon Donnison', 'By Peter Hoskins', 'By Fergal Keane', 'By Ed Prideaux', 'By Elizabeth Bennett', 'By Eva Sandoval', 'By Holly Williams', 'By Erika Benke', 'By Kate Morgan', 'By Hugh Tucker', 'no author', 'By Stephan Shemilt', 'no author', 'By Simon Stone', 'By Mark Mitchener', 'By Matthew Henry', 'no author', 'By Hannah Ritchie and Simon Fraser', 'By James Oliver, Will Dahlgreen, James Melley & Andy Verity', 'By Natasha Preskey', 'By Kayla Epstein', 'By James Gregory', 'By Wycliffe Muia', 'By Kelly Ng', 'By Jon Donnison', 'By Peter Hoskins', 'By Fergal Keane']\n",
      "16\n"
     ]
    }
   ],
   "source": [
    "def get_authors(article):\n",
    "    authors = []\n",
    "    lines = article.split('\\n')\n",
    "    for line in lines[:13]:  # Loop through lines from lines[0] to lines[10]\n",
    "        if \"By\" in line:\n",
    "            authors.append(line)\n",
    "    return authors\n",
    "\n",
    "all_authors = []\n",
    "def get_all_authors():\n",
    "    for article in text_contents:\n",
    "        authors = get_authors(article)\n",
    "        if not authors:  # Check if authors is an empty list\n",
    "            all_authors.append(\"no author\")\n",
    "        else:\n",
    "            all_authors.extend(authors)\n",
    "\n",
    "# Print the authors\n",
    "for author in all_authors:\n",
    "    print(author)\n",
    "\n",
    "\n",
    "get_all_authors()\n",
    "print(all_authors[10])\n",
    "print(len(all_authors))\n",
    "print(all_authors)\n",
    "\n",
    "counter=0\n",
    "for i in range(len(all_authors)):\n",
    "    if all_authors[i]=='no author':\n",
    "      counter=counter+1\n",
    "print(counter)\n",
    "\n",
    "#<p class=\"lx-commentary__meta-reporter gel-long-primer\" data-reactid=\".18n36quudgy.0.2.0.0.1.0.1.0.$lx-tabs0.0.$lx-commentary.$lx-commentary.0.2.0.0\">  Edited by Nadia Ragozhina and Samuel Horti</p>\n",
    "#<div class=\"ssrcss-68pt20-Text-TextContributorName e8mq1e96\">By Jeremy Bowen</div>\n",
    "#<div class=\"ssrcss-68pt20-Text-TextContributorName e8mq1e96\">By David Gritten</div>"
   ]
  },
  {
   "cell_type": "code",
   "execution_count": 11,
   "metadata": {},
   "outputs": [
    {
     "name": "stdout",
     "output_type": "stream",
     "text": [
      "{'header': \"Donald Trump Jr's courtroom debut: Chuckles, smiles and mispronunciation\", 'url': 'https://www.bbc.com/news/world-us-canada-67293355', 'timestamp': '2023-11-02T07:44:36.000Z', 'author': 'By Kayla Epstein', 'text_content': 'Donald Trump Jr\\'s courtroom debut: Chuckles, smiles and mispronunciation\\nPublished\\n4 hours ago\\nShare\\nMedia caption,\\nDonald Trump Jr: \\'I should have worn make-up\\'\\nBy Kayla Epstein\\nReporting from court in New York, BBC News\\n\"I should have worn make-up,\" Donald Trump Jr quipped on Wednesday as a group of photographers rushed into court to take his picture.\\nAs an executive at the Trump Organization, he was testifying in a multimillion-dollar civil trial that could see his family lose a sizable part of its business empire.\\nHis comment set the tone for what was an hour-long charm offensive that saw Mr Trump Jr lightheartedly engaging with the judge while letting his lawyers do the brawling for him.\\nIn under two hours of testimony in New York, he said he did not work on the financial statements at the centre of the case.\\nThe eldest son of the former president appeared confident and relaxed on the witness stand. He smiled during proceedings, even making the occasional joke and drawing laughter from the courtroom.\\nThe stakes, however, were high and the claims against him serious.\\nThe judge has already found the Trump Organization falsified business records. This hearing will resolve other claims and potential penalties, which, in a worst-case scenario for the family, could see Mr Trump Jr, along with his father and brother Eric, essentially lose the ability to do business in New York\\nBut Mr Trump Jr did not appear perturbed. Wearing a dark blue suit and flamingo-pink tie, the current Florida resident quipped to the judge that he had \"kept the New York pace\" after being asked to speak more slowly.\\nAt another point, Judge Arthur Engoron noted humorously that Mr Trump Jr could settle a minor pronunciation argument: whether to pronounce \"revocable\" as \"re-VOCK-able\" or \"re-VOKE-able\".\\nMr Trump Jr laughed and said he did not know.\\nWhen Colleen Faherty of the attorney general\\'s office then phrased her question with one pronunciation, Mr Trump Jr joked that he only understood the other.\\nOn another occasion, Ms Faherty pressed the 45-year-old on his understanding of the guidelines businesses use to ensure financial records are accurately maintained. He drew chuckles as he smiled and responded: \"I have no understanding\" - part of his broader argument that he was not involved in the minutiae of the company\\'s accounting as prosecutors have claimed.\\nThe attorney general\\'s office argues he and his brother Eric were \"intimately involved\" in the Trump Organization, and said in court filings that they were \"aware of the true financial performance of the company\".\\nDonald Trump Jr testifies in NY civil fraud trial\\nFive things to know about Trump\\'s New York trial\\nThe glitzy New York buildings that Trump could lose\\nMr Trump Jr\\'s jovial persona on Wednesday was notably different to the hyper-masculine right-wing influencer he usually portrays.\\nIn an appearance on the conservative Newsmax network earlier this week, he called the trial a \"sham\" and and labelled the chamber a \"kangaroo court\".\\nBut he refrained from airing such bombastic criticism in court. While Judge Engoron appeared in decent spirits, he had earlier fined Mr Trump Jr\\'s father $15,000 (£12,300) for levelling political attacks against court staff.\\nMost of Ms Faherty\\'s questioning focused on establishing Mr Trump Jr\\'s work at the Trump Organization and his involvement in the preparation of various financial documents that had come under the attorney general\\'s scrutiny.\\nAnticipation for this phase of the trial had been building since it began on 2 October. Mr Trump Jr is the first of his siblings to give testimony, with Ivanka and Eric Trump scheduled to do so in the coming days. Donald Trump himself may take the stand next week.\\nAnd while Mr Trump Jr faced a relatively drama-free day on Wednesday, the tone could change as the attorney general\\'s team resume their questioning on Thursday morning.\\nRelated Topics\\nDonald Trump Jr\\nNew York City\\nNew York\\nDonald Trump\\nUnited States\\nMore on this story\\nDonald Trump Jr testifies in NY civil fraud trial\\nPublished\\n13 hours ago\\nFive things to know about Trump\\'s New York trial\\nPublished\\n14 hours ago\\nThe glitzy New York buildings that Trump could lose\\nPublished\\n28 September\\nTrump committed fraud in New York, judge finds\\nPublished\\n27 September'}\n"
     ]
    }
   ],
   "source": [
    "article1 = {\n",
    "  \"header\": headers[10],\n",
    "  \"url\": news_urls[10],\n",
    "  \"timestamp\":time[10],\n",
    "  \"author\":all_authors[10],\n",
    "  \"text_content\":text_contents[10]\n",
    "}\n",
    "\n",
    "print(article1)\n",
    "\n",
    "\n"
   ]
  },
  {
   "cell_type": "code",
   "execution_count": 12,
   "metadata": {},
   "outputs": [
    {
     "name": "stdout",
     "output_type": "stream",
     "text": [
      "{'headline': 'unknown', 'url': 'https://www.bbc.com/news/live/world-middle-east-67281166', 'date': 'unknown', 'authors': 'no author', 'read-time': 'no info', 'ImageURL': 'not yet', 'ImageDescription': 'not yet', 'contents': \"Posted at 12:01\\n12:01\\nDutch citizens said to have left Gaza\\nAnna Holligan\\nHague correspondent\\nThe first Dutch people have crossed Gaza's border with Egypt - according to the Dutch public broadcaster NOS, quoting a family member. Those evacuees are reportedly members of the same family.\\nThe foreign ministry hasn't yet confirmed the news.\\nThis morning, the Palestinian border guard published a list of 400 names of people who would be allowed to leave Gaza today, including those of 20 Dutch people. At the last count, 27 Dutch nationals or people with immediate family in the Netherlands - or with Dutch residence papers - were in Gaza.\\nArticle share tools\\nShare\\nView more share options\\nShare this post\\nCopy this link\\nRead more about these links.\"}\n"
     ]
    }
   ],
   "source": [
    "#dictionary with all infos, ordered after attributes\n",
    "articles_info={}\n",
    "for i in range(len(news_urls)):\n",
    " article_info_i={ \n",
    "  \"headline\": headers[i],\n",
    "  \"url\": news_urls[i],\n",
    "  \"date\":time[i],\n",
    "  \"authors\":all_authors[i],\n",
    "  \"read-time\":\"no info\",\n",
    "  \"ImageURL\":\"not yet\",\n",
    "  \"ImageDescription\":\"not yet\",\n",
    "  \"contents\":text_contents[i]\n",
    " }\n",
    " articles_info[i]=article_info_i\n",
    "print(articles_info[0])\n",
    "#URLId, Headline, Contents, Authors, UploadDate, ReadTime, ImageURL, ImageDescription"
   ]
  },
  {
   "cell_type": "code",
   "execution_count": 13,
   "metadata": {},
   "outputs": [
    {
     "name": "stdout",
     "output_type": "stream",
     "text": [
      "<class 'dict'>\n"
     ]
    }
   ],
   "source": [
    "\n",
    "print(type(articles_info[8]))\n"
   ]
  },
  {
   "cell_type": "code",
   "execution_count": 14,
   "metadata": {},
   "outputs": [],
   "source": [
    "import psycopg2"
   ]
  },
  {
   "cell_type": "code",
   "execution_count": 15,
   "metadata": {},
   "outputs": [],
   "source": [
    "conn = psycopg2.connect(dbname=\"postgres\",user=\"postgres\", password=\"postgres\", port=\"5432\", host=\"localhost\")\n",
    "conn.autocommit = True\n",
    "cursor = conn.cursor()"
   ]
  },
  {
   "cell_type": "code",
   "execution_count": 17,
   "metadata": {},
   "outputs": [
    {
     "name": "stdout",
     "output_type": "stream",
     "text": [
      "Article with URLId https://www.bbc.com/news/entertainment-arts-67296327 already exists in the database.\n",
      "Article with URLId https://www.bbc.com/news/entertainment-arts-67296455 already exists in the database.\n",
      "Article with URLId https://www.bbc.com/news/uk-67295305 already exists in the database.\n",
      "Article with URLId https://www.bbc.com/news/uk-67289523 already exists in the database.\n",
      "Article with URLId https://www.bbc.com/news/world-us-canada-67284282 already exists in the database.\n",
      "Article with URLId https://www.bbc.com/news/world-australia-67293752 already exists in the database.\n",
      "Article with URLId https://www.bbc.com/news/uk-67276289 already exists in the database.\n",
      "Article with URLId https://www.bbc.com/news/entertainment-arts-67296157 already exists in the database.\n",
      "Article with URLId https://www.bbc.com/news/world-us-canada-67293355 already exists in the database.\n",
      "Article with URLId https://www.bbc.com/news/world-africa-67294418 already exists in the database.\n",
      "Article with URLId https://www.bbc.com/news/world-middle-east-67292422 already exists in the database.\n",
      "Article with URLId https://www.bbc.com/news/business-67294106 already exists in the database.\n",
      "Article with URLId https://www.bbc.com/news/world-middle-east-67293048 already exists in the database.\n",
      "Article with URLId https://www.bbc.com/news/world-australia-67293752 already exists in the database.\n",
      "Article with URLId https://www.bbc.com/news/uk-67276289 already exists in the database.\n",
      "Article with URLId https://www.bbc.com/news/entertainment-arts-67296157 already exists in the database.\n",
      "Article with URLId https://www.bbc.com/news/world-us-canada-67293355 already exists in the database.\n",
      "Article with URLId https://www.bbc.com/news/uk-67294809 already exists in the database.\n",
      "Article with URLId https://www.bbc.com/news/world-africa-67294418 already exists in the database.\n",
      "Article with URLId https://www.bbc.com/news/world-asia-china-67294919 already exists in the database.\n",
      "Article with URLId https://www.bbc.com/news/world-middle-east-67292422 already exists in the database.\n",
      "Article with URLId https://www.bbc.com/news/business-67294106 already exists in the database.\n",
      "Article with URLId https://www.bbc.com/news/world-middle-east-67293048 already exists in the database.\n"
     ]
    }
   ],
   "source": [
    "for article in articles_info.values():\n",
    "    try:\n",
    "        cursor.execute('''INSERT INTO Articles(URLId, Headline, Contents, Authors, UploadDate, ReadTime, ImageURL, ImageDescription) \n",
    "                        VALUES (%s, %s, %s, %s, %s, %s, %s, %s);''', \n",
    "                       (article[\"url\"], article[\"headline\"], article[\"contents\"], article[\"authors\"], article[\"date\"], article[\"read-time\"], article[\"ImageURL\"], article[\"ImageDescription\"])\n",
    "                       )\n",
    "    except psycopg2.IntegrityError as e:\n",
    "        if \"duplicate key value violates unique constraint\" in str(e):\n",
    "            print(f\"Article with URLId {article['url']} already exists in the database.\")\n",
    "\n",
    "\n"
   ]
  },
  {
   "cell_type": "markdown",
   "metadata": {},
   "source": []
  }
 ],
 "metadata": {
  "kernelspec": {
   "display_name": "Python 3",
   "language": "python",
   "name": "python3"
  },
  "language_info": {
   "codemirror_mode": {
    "name": "ipython",
    "version": 3
   },
   "file_extension": ".py",
   "mimetype": "text/x-python",
   "name": "python",
   "nbconvert_exporter": "python",
   "pygments_lexer": "ipython3",
   "version": "3.11.6"
  }
 },
 "nbformat": 4,
 "nbformat_minor": 2
}
