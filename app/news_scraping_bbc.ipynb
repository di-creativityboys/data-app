{
 "cells": [
  {
   "cell_type": "code",
   "execution_count": 35,
   "metadata": {},
   "outputs": [],
   "source": [
    "from selenium import webdriver\n",
    "from selenium.webdriver.chrome.options import Options\n",
    "from selenium.webdriver.chrome.service import Service\n",
    "from webdriver_manager.chrome import ChromeDriverManager\n",
    "from selenium.webdriver.common.by import By"
   ]
  },
  {
   "cell_type": "code",
   "execution_count": 36,
   "metadata": {},
   "outputs": [
    {
     "name": "stdout",
     "output_type": "stream",
     "text": [
      "Home - BBC News\n"
     ]
    }
   ],
   "source": [
    "options = Options()\n",
    "options.add_argument('--headless')\n",
    "options.add_argument('--no-sandbox')\n",
    "options.add_argument('--disable-dev-shm-usage')\n",
    "driver = webdriver.Chrome(service=Service(ChromeDriverManager().install()), options=options)\n",
    "\n",
    " \n",
    "driver.get(\"https://www.bbc.com/news\")\n",
    "print(driver.title)"
   ]
  },
  {
   "cell_type": "markdown",
   "metadata": {},
   "source": []
  },
  {
   "cell_type": "code",
   "execution_count": 37,
   "metadata": {},
   "outputs": [
    {
     "name": "stdout",
     "output_type": "stream",
     "text": [
      "76\n",
      "76\n",
      "https://www.bbc.com/sport/football/67262447\n"
     ]
    }
   ],
   "source": [
    "news_urls=[]\n",
    "def get_urls():\n",
    " elements_for_url=driver.find_elements(By.CLASS_NAME, 'gs-c-promo-heading')\n",
    " for element in elements_for_url:\n",
    "        news_urls.append(element.get_attribute('href'))\n",
    " print(len(elements_for_url))\n",
    "get_urls()\n",
    "print(len(news_urls))#list with all the urls to the articels. should be equally long to elements_for_url\n",
    "print(news_urls[12])"
   ]
  },
  {
   "cell_type": "code",
   "execution_count": 38,
   "metadata": {},
   "outputs": [],
   "source": [
    "#here we extract all the text contents from the articles. This takes approximately 2 minutes with a total of 76 articels today\n",
    "text_contents=[]\n",
    "def extract_contents():\n",
    "  try:\n",
    "   article = driver.find_element(By.TAG_NAME, 'article')\n",
    "   text_contents.append(article.text)\n",
    "  except: #exception if no article element is there. doesn´t happen often, but has to be handled\n",
    "   article = driver.find_element(By.TAG_NAME, 'body')\n",
    "   text_contents.append(article.text)\n",
    "   print(\"article not found\") #in this test, 3 of 73 articels had no article element. \n",
    "#extract_contents()\n",
    "#print(len(text_contents)) "
   ]
  },
  {
   "cell_type": "code",
   "execution_count": 39,
   "metadata": {},
   "outputs": [],
   "source": [
    "\n",
    "#here are a few exceptions, because the bbc articles have different html structures\n",
    "def get_headers():\n",
    "  try:\n",
    "   header=driver.find_element(By.ID, 'main-heading')\n",
    "   headers.append(header.text)\n",
    "  except:\n",
    "   try:\n",
    "     header = driver.find_element(By.CLASS_NAME, 'qa-story-headline')\n",
    "     headers.append(header.text)\n",
    "   except:\n",
    "    try:\n",
    "     header = driver.find_element(By.CLASS_NAME, 'article-headline__text')\n",
    "     headers.append(header.text)\n",
    "    except:\n",
    "     header='unknown'\n",
    "     headers.append(header)\n",
    "     print('no header')\n",
    "#get_headers()\n",
    "\n",
    "\n"
   ]
  },
  {
   "cell_type": "code",
   "execution_count": 40,
   "metadata": {},
   "outputs": [],
   "source": [
    "def get_timestamps():\n",
    "  try:\n",
    "   time_element=driver.find_element(By.TAG_NAME, 'time')\n",
    "   date=(time_element.get_attribute('datetime'))\n",
    "   time.append(date)\n",
    "  except:\n",
    "    date='unknown'\n",
    "    time.append(date)\n",
    "    print('no date')"
   ]
  },
  {
   "cell_type": "code",
   "execution_count": 41,
   "metadata": {},
   "outputs": [
    {
     "name": "stdout",
     "output_type": "stream",
     "text": [
      "no header\n",
      "article not found\n",
      "no header\n",
      "article not found\n",
      "no date\n",
      "no header\n",
      "no date\n",
      "no date\n",
      "no date\n",
      "no date\n",
      "no date\n",
      "no date\n",
      "no date\n",
      "no header\n",
      "US announces 'strongest global action yet' on AI safety\n",
      "Published\n",
      "3 hours ago\n",
      "Share\n",
      "IMAGE SOURCE,\n",
      "GETTY IMAGES\n",
      "By Shiona McCallum & Zoe Kleinman\n",
      "Technology team\n",
      "The White House has announced what it is calling \"the most significant actions ever taken by any government to advance the field of AI safety.\"\n",
      "An executive order from President Biden requires Artificial Intelligence (AI) developers to share safety results with the US government.\n",
      "It places the US at the centre of the global debate on AI governance.\n",
      "However, this is a position the UK government hoped a summit it is hosting this week would allow it to hold.\n",
      "The two-day meeting begins on 1 November at Bletchley Park. It has been prompted by concerns that the rapid advance of AI systems could lead to problems such as the development of more deadly bio-weapons and more paralysing cyber attacks.\n",
      "Alex Krasodomski, senior research associate at Chatham House, told the BBC the executive order showed the US considered itself the leader in terms of how to address such threats.\n",
      "Can Sunak’s big summit save us from AI nightmare?\n",
      "A simple guide to help you understand AI\n",
      "In a statement, White House Deputy Chief of Staff Bruce Reed said the US had issued \"the strongest set of actions any government in the world has ever taken on AI safety, security, and trust\".\n",
      "The measures include\n",
      "Creating new safety and security standards for AI, including measures that require AI companies to share safety test results with the federal government\n",
      "Protecting consumer privacy, by creating guidelines that agencies can use to evaluate privacy techniques used in AI\n",
      "Helping to stop AI algorithms discriminate and creating best practices on the appropriate role of AI in the justice system\n",
      "Creating a program to evaluate potentially harmful AI related healthcare practices and creating resources on how educators can responsibly use AI tools\n",
      "Working with international partners to implement AI standards around the world.\n",
      "The Biden administration is also taking steps to beef up its AI workforce. From today, workers with AI expertise can find relevant openings in the federal government on AI.gov.\n",
      "Does this undermine the UK gathering?\n",
      "Mr Krasodomski said the order was \"really important\", but one that \"doesn't necessarily run in-line with the UK's objectives and aims for the summit\".\n",
      "\"The UK summit is referenced in the executive order. But it's mentioned under the heading of 'advancing American leadership abroad' - indicating that the US very clearly knows that it is the big player here alongside China but more precisely, it is the US companies that are really driving forward,\" he said.\n",
      "Mr Krasodomski added: \"It's difficult to put together a small, highly technical summit but I think clearly if this technology is going to have significant global impact there's going to be there have to be a ton of other kinds of work and engagement with countries around the world\", he said.\n",
      "US Vice President Kamala Harris and top executives from the US tech giants are arriving in the UK this week to discuss AI safety at the UK government's AI Summit, which it has billed as a \"world first\".\n",
      "The summit, hosted by Prime Minister Rishi Sunak, will focus on growing fears about the implications of so-called frontier AI. President of the EU Commission Ursula von der Leyen and UN Secretary-General Antonio Guterres will also be in attendance.\n",
      "The UK is determined to position itself as a global leader in the space of trying to minimise the risks posed by this powerful technology.\n",
      "But the EU is in the process of passing an AI act, China has already devised a number of strict AI rules and and now the US has issued this order.\n",
      "On top of that, according to the Reuters news agency, the Group of Seven (G7) industrial countries are reportedly agreeing a code of conduct for companies developing advanced AI systems.\n",
      "All that activity raises the question of how much will actually be left up for discussion at Bletchley Park this week.\n",
      "Related Topics\n",
      "Artificial intelligence\n",
      "Joe Biden\n",
      "More on this story\n",
      "Can Sunak’s big summit save us from AI nightmare?\n",
      "Published\n",
      "2 days ago\n",
      "Is it possible to regulate artificial intelligence?\n",
      "Published\n",
      "21 September\n",
      "2023-10-30T13:00:55.000Z\n",
      "US announces 'strongest global action yet' on AI safety\n"
     ]
    }
   ],
   "source": [
    "#main method to extract all contents except the authors(might follow later). Runs way faster than the different smaller methods before\n",
    "text_contents=[]\n",
    "time=[]\n",
    "headers=[]\n",
    "def extract_all():\n",
    "    for i in range(len(news_urls)):\n",
    "       driver.get(news_urls[i]) #we go to the specific article by using the url\n",
    "       extract_contents()\n",
    "       get_timestamps()\n",
    "       get_headers()\n",
    "    for i in range(len(time)):\n",
    "      if time[i]==None:\n",
    "       time[i]='unknown'\n",
    "extract_all()\n",
    "print(text_contents[10])\n",
    "print(time[10])\n",
    "print(headers[10])"
   ]
  },
  {
   "cell_type": "code",
   "execution_count": 43,
   "metadata": {},
   "outputs": [
    {
     "name": "stdout",
     "output_type": "stream",
     "text": [
      "unknown\n",
      "Israel's Netanyahu condemns 'cruel' Hamas video of Israeli hostages\n",
      "Shani Louk: Woman missing after Hamas attack is dead, says mother\n",
      "Moment Israeli tank appears to fire on car inside Gaza\n",
      "Tanzanian students taken hostage by Hamas in Gaza named\n",
      "UN: Thousands in Gaza break into warehouses in search of aid\n",
      "Dagestan: Mob storms Russian airport in search of Jews\n",
      "Matthew Perry cause of death inconclusive pending toxicology tests\n",
      "Lilie James: Murder at elite school horrifies Australia\n",
      "Gun shop turned Maine suspect away months before mass shooting\n",
      "US announces 'strongest global action yet' on AI safety\n",
      "Carbon emissions threaten 1.5C climate threshold sooner than thought - report\n",
      "Luis Rubiales: Ex-Spanish football federation chief given three-year ban by Fifa\n",
      "Portuguese police apologise to Madeleine McCann's parents\n",
      "German politician arrested following Nazi slogan complaints\n",
      "At least three killed in Hamburg scaffolding collapse\n",
      "Adam Johnson: Tributes to ice hockey player after 'freak accident'\n",
      "At least three killed in Hamburg scaffolding collapse\n",
      "Adam Johnson: Tributes to ice hockey player after 'freak accident'\n",
      "Dr Matthew Lani: TikTok star arrested in South Africa\n",
      "Luis Diaz: Major military and police search under way for Liverpool player's father\n",
      "Federal trial of ex-officer in Breonna Taylor case begins\n",
      "Chandler on Friends: A match made in comedy heaven\n",
      "unknown\n",
      "unknown\n",
      "Magic Johnson declared a billionaire by Forbes\n",
      "Moment Czech president knocks soldier's hat off by striking him with flagpole\n",
      "Shakira's ex and former footballer Gerard Pique falls off stage\n",
      "Quiz of the week: Why is Wednesday Addams missing out on Halloween?\n",
      "Africa's week in pictures: 20-26 October 2023\n",
      "Moment Israeli tank appears to fire on car inside Gaza\n",
      "Sir Cliff Richard sings in BBC interview 'without artificial insemination'\n",
      "Hospitals struggle amid Israeli attacks on Gaza\n",
      "BBC World Service\n",
      "Moment Czech president knocks soldier's hat off by striking him with flagpole\n",
      "Kenya's school floggings: The children suffering from a hidden epidemic\n",
      "Adam Johnson: Stigma around neck guards 'needs to change' after ice hockey player's death\n",
      "Matthew Perry obituary: Friends brought fame but couldn't quell personal demons\n",
      "Would you drink genetically modified beer?\n",
      "Princess Leonor of Spain's royal profile rises as she turns 18\n",
      "The Tanzanians searching for their grandfathers' skulls in Germany\n",
      "Edgar Lungu: Ex-Zambia president makes political comeback\n",
      "Shani Louk: Woman missing after Hamas attack is dead, says mother\n",
      "Dagestan: Mob storms Russian airport in search of Jews\n",
      "Lilie James: Murder at elite school horrifies Australia\n",
      "Gun shop turned Maine suspect away months before mass shooting\n",
      "Matthew Perry cause of death inconclusive pending toxicology tests\n",
      "Israel's Netanyahu condemns 'cruel' Hamas video of Israeli hostages\n",
      "Portuguese police apologise to Madeleine McCann's parents\n",
      "German politician arrested following Nazi slogan complaints\n",
      "US announces 'strongest global action yet' on AI safety\n",
      "Halloween: Ice Spice, Adele and Lizzo transform with costumes\n",
      "How the right to repair might change technology\n",
      "Why so many healthcare workers are walking off the job\n",
      "Japan's adrenaline-fuelled adventure\n",
      "The Friends episode that really showcased Matthew Perry's genius\n",
      "Alien language: If we met extraterrestrials, could we talk to them?\n",
      "The dark side of touch-screen tipping\n",
      "A Turkish secret hiding in plain sight\n",
      "unknown\n",
      "Manchester United: The problems facing Erik ten Hag at Old Trafford\n",
      "NFL week eight review & results: Chiefs beaten in Denver and 49ers lose third in a row\n",
      "BBC Women's Footballer of the Year 2023: Alexandra Popp profile\n",
      "Mexico City Grand Prix: Questions on Sergio Perez's future as he fights Lewis Hamilton\n",
      "Man Utd 0-3 Man City: Why repercussions are needed after Red Devils' derby defeat - Danny Murphy\n",
      "WTA Finals: Aryna Sabalenka says she feels 'disrespected' over Cancun organisation\n",
      "Shani Louk: Woman missing after Hamas attack is dead, says mother\n",
      "Dagestan: Mob storms Russian airport in search of Jews\n",
      "Lilie James: Murder at elite school horrifies Australia\n",
      "Gun shop turned Maine suspect away months before mass shooting\n",
      "Matthew Perry cause of death inconclusive pending toxicology tests\n",
      "Israel's Netanyahu condemns 'cruel' Hamas video of Israeli hostages\n",
      "Portuguese police apologise to Madeleine McCann's parents\n",
      "German politician arrested following Nazi slogan complaints\n",
      "US announces 'strongest global action yet' on AI safety\n",
      "Celebrity Halloween costumes 2023: Ice Spice and Adele among those dressing up\n",
      "76\n",
      "4\n",
      "https://www.bbc.com/news/live/world-middle-east-67258466\n",
      "https://www.bbc.com/news/world-middle-east-67265915\n",
      "https://www.bbc.com/news/world-middle-east-67260093\n",
      "https://www.bbc.com/news/world-middle-east-67262375\n",
      "https://www.bbc.com/news/world-africa-67260313\n",
      "https://www.bbc.com/news/world-middle-east-67255822\n",
      "https://www.bbc.com/news/world-europe-67258332\n",
      "https://www.bbc.com/news/entertainment-arts-67260549\n",
      "https://www.bbc.com/news/world-australia-67235592\n",
      "https://www.bbc.com/news/world-us-canada-67263059\n",
      "https://www.bbc.com/news/technology-67261284\n",
      "https://www.bbc.com/news/science-environment-67242386\n",
      "https://www.bbc.com/sport/football/67262447\n",
      "https://www.bbc.com/news/uk-67229219\n",
      "https://www.bbc.com/news/world-europe-67261127\n",
      "https://www.bbc.com/news/world-europe-67261979\n",
      "https://www.bbc.com/news/uk-england-nottinghamshire-67255503\n",
      "https://www.bbc.com/news/world-europe-67261979\n",
      "https://www.bbc.com/news/uk-england-nottinghamshire-67255503\n",
      "https://www.bbc.com/news/world-africa-67262873\n",
      "https://www.bbc.com/sport/football/67257588\n",
      "https://www.bbc.com/news/world-us-canada-67262791\n",
      "https://www.bbc.com/news/entertainment-arts-67254268\n",
      "https://www.bbc.com/news/world_radio_and_tv\n",
      "https://www.bbc.com/sounds/play/live:bbc_world_service\n",
      "https://www.bbc.com/news/world-us-canada-67258902\n",
      "https://www.bbc.com/news/world-europe-67252981\n",
      "https://www.bbc.com/news/world-latin-america-67234333\n",
      "https://www.bbc.com/news/world-67222333\n",
      "https://www.bbc.com/news/world-africa-67227818\n",
      "https://www.bbc.com/news/world-middle-east-67262375\n",
      "https://www.bbc.com/news/entertainment-arts-67261414\n",
      "https://www.bbc.com/news/world-middle-east-67257333\n",
      "https://www.bbc.com/news/world-65432059\n",
      "https://www.bbc.com/news/world-europe-67252981\n",
      "https://www.bbc.com/news/world-africa-67229601\n",
      "https://www.bbc.com/sport/ice-hockey/67260326\n",
      "https://www.bbc.com/news/entertainment-arts-67253920\n",
      "https://www.bbc.com/news/business-67193176\n",
      "https://www.bbc.com/news/world-europe-67230053\n",
      "https://www.bbc.co.uk/news/world-africa-67209935\n",
      "https://www.bbc.com/news/world-africa-67254347\n",
      "https://www.bbc.com/news/world-middle-east-67260093\n",
      "https://www.bbc.com/news/world-europe-67258332\n",
      "https://www.bbc.com/news/world-australia-67235592\n",
      "https://www.bbc.com/news/world-us-canada-67263059\n",
      "https://www.bbc.com/news/entertainment-arts-67260549\n",
      "https://www.bbc.com/news/world-middle-east-67265915\n",
      "https://www.bbc.com/news/uk-67229219\n",
      "https://www.bbc.com/news/world-europe-67261127\n",
      "https://www.bbc.com/news/technology-67261284\n",
      "https://www.bbc.com/news/entertainment-arts-67262119\n",
      "https://www.bbc.com/future/article/20231027-how-the-right-to-repair-might-change-technology\n",
      "https://www.bbc.com/worklife/article/20231027-why-so-many-healthcare-workers-are-walking-off-the-job\n",
      "https://www.bbc.com/travel/article/20231029-japans-adrenaline-fuelled-adventure\n",
      "https://www.bbc.com/culture/article/20231030-the-friends-episode-that-really-showcased-matthew-perrys-genius\n",
      "https://www.bbc.com/future/article/20231027-alien-language-if-we-met-extraterrestrials-could-we-talk-to-them\n",
      "https://www.bbc.com/worklife/article/20231016-the-dark-side-of-touch-screen-tipping\n",
      "https://www.bbc.com/travel/article/20231027-a-turkish-secret-hiding-in-plain-sight\n",
      "https://www.bbc.com/sport/live/cricket/66858754\n",
      "https://www.bbc.com/sport/football/67263129\n",
      "https://www.bbc.com/sport/american-football/67258830\n",
      "https://www.bbc.com/sport/av/football/67185015\n",
      "https://www.bbc.com/sport/formula1/67258671\n",
      "https://www.bbc.com/sport/football/67256100\n",
      "https://www.bbc.com/sport/tennis/67259508\n",
      "https://www.bbc.com/news/world-middle-east-67260093\n",
      "https://www.bbc.com/news/world-europe-67258332\n",
      "https://www.bbc.com/news/world-australia-67235592\n",
      "https://www.bbc.com/news/world-us-canada-67263059\n",
      "https://www.bbc.com/news/entertainment-arts-67260549\n",
      "https://www.bbc.com/news/world-middle-east-67265915\n",
      "https://www.bbc.com/news/uk-67229219\n",
      "https://www.bbc.com/news/world-europe-67261127\n",
      "https://www.bbc.com/news/technology-67261284\n",
      "https://www.bbc.com/news/entertainment-arts-67262119\n"
     ]
    }
   ],
   "source": [
    "for item in headers:\n",
    "  print(item)\n",
    "print(len(headers))\n",
    "counter=0\n",
    "for i in range(len(headers)):\n",
    "    if headers[i]=='unknown':\n",
    "      counter=counter+1\n",
    "print(counter)\n",
    "for item in news_urls:\n",
    "  print(item)"
   ]
  },
  {
   "cell_type": "code",
   "execution_count": 44,
   "metadata": {},
   "outputs": [
    {
     "name": "stdout",
     "output_type": "stream",
     "text": [
      "By Shiona McCallum & Zoe Kleinman\n",
      "76\n",
      "['no author', 'no author', 'By Kathryn Armstrong', 'no author', 'By Alfred Lasteck & Danai Nesta Kupemba', 'By Ruth Comerford', 'By Oliver Slow & Laurence Peter', 'By Emma Saunders', 'By Tiffanie Turnbull', 'By Nadine Yousif', 'By Shiona McCallum & Zoe Kleinman', 'By Matt McGrath', 'no author', 'no author', 'By Ido Vock & Michael Steininger', 'By Kathryn Armstrong', 'By Dan Martin & Sarah Hawley', 'By Kathryn Armstrong', 'By Dan Martin & Sarah Hawley', 'By Danai Nesta Kupemba', 'no author', 'By Bernd Debusmann Jr', 'By Helen Bushby', 'no author', 'no author', 'By George Wright', 'no author', 'no author', 'no author', 'no author', 'no author', 'no author', 'no author', 'no author', 'no author', 'By Tom Odula in Nairobi & Tamasin Ford in London', 'no author', 'By Ian Youngs', 'By David Silverberg', 'By Guy Hedgecoe', 'By Damian Zane', 'By Kennedy Gondwe', 'By Kathryn Armstrong', 'By Oliver Slow & Laurence Peter', 'By Tiffanie Turnbull', 'By Nadine Yousif', 'By Emma Saunders', 'no author', 'no author', 'By Ido Vock & Michael Steininger', 'By Shiona McCallum & Zoe Kleinman', 'By Andre Rhoden-Paul', 'By Chris Stokel-Walker', 'By Kate Morgan', 'By Mara Budgen', 'By Laura Martin', 'By Katherine Latham', 'By Leah Carroll', \"By Stefania D'Ignoti\", 'no author', 'By Simon Stone', 'By Paul Higham', 'no author', 'By Andrew Benson', 'By Danny Murphy', 'no author', 'By Kathryn Armstrong', 'By Oliver Slow & Laurence Peter', 'By Tiffanie Turnbull', 'By Nadine Yousif', 'By Emma Saunders', 'no author', 'no author', 'By Ido Vock & Michael Steininger', 'By Shiona McCallum & Zoe Kleinman', 'By Andre Rhoden-Paul']\n",
      "25\n"
     ]
    }
   ],
   "source": [
    "def get_authors(article):\n",
    "    authors = []\n",
    "    lines = article.split('\\n')\n",
    "    for line in lines[:13]:  # Loop through lines from lines[0] to lines[10]\n",
    "        if \"By\" in line:\n",
    "            authors.append(line)\n",
    "    return authors\n",
    "\n",
    "all_authors = []\n",
    "def get_all_authors():\n",
    "    for article in text_contents:\n",
    "        authors = get_authors(article)\n",
    "        if not authors:  # Check if authors is an empty list\n",
    "            all_authors.append(\"no author\")\n",
    "        else:\n",
    "            all_authors.extend(authors)\n",
    "\n",
    "# Print the authors\n",
    "for author in all_authors:\n",
    "    print(author)\n",
    "\n",
    "\n",
    "get_all_authors()\n",
    "print(all_authors[10])\n",
    "print(len(all_authors))\n",
    "print(all_authors)\n",
    "\n",
    "counter=0\n",
    "for i in range(len(all_authors)):\n",
    "    if all_authors[i]=='no author':\n",
    "      counter=counter+1\n",
    "print(counter)\n",
    "\n",
    "#<p class=\"lx-commentary__meta-reporter gel-long-primer\" data-reactid=\".18n36quudgy.0.2.0.0.1.0.1.0.$lx-tabs0.0.$lx-commentary.$lx-commentary.0.2.0.0\">  Edited by Nadia Ragozhina and Samuel Horti</p>\n",
    "#<div class=\"ssrcss-68pt20-Text-TextContributorName e8mq1e96\">By Jeremy Bowen</div>\n",
    "#<div class=\"ssrcss-68pt20-Text-TextContributorName e8mq1e96\">By David Gritten</div>"
   ]
  },
  {
   "cell_type": "code",
   "execution_count": 48,
   "metadata": {},
   "outputs": [
    {
     "name": "stdout",
     "output_type": "stream",
     "text": [
      "{'header': \"US announces 'strongest global action yet' on AI safety\", 'url': 'https://www.bbc.com/news/technology-67261284', 'timestamp': '2023-10-30T13:00:55.000Z', 'author': 'By Shiona McCallum & Zoe Kleinman', 'text_content': 'US announces \\'strongest global action yet\\' on AI safety\\nPublished\\n3 hours ago\\nShare\\nIMAGE SOURCE,\\nGETTY IMAGES\\nBy Shiona McCallum & Zoe Kleinman\\nTechnology team\\nThe White House has announced what it is calling \"the most significant actions ever taken by any government to advance the field of AI safety.\"\\nAn executive order from President Biden requires Artificial Intelligence (AI) developers to share safety results with the US government.\\nIt places the US at the centre of the global debate on AI governance.\\nHowever, this is a position the UK government hoped a summit it is hosting this week would allow it to hold.\\nThe two-day meeting begins on 1 November at Bletchley Park. It has been prompted by concerns that the rapid advance of AI systems could lead to problems such as the development of more deadly bio-weapons and more paralysing cyber attacks.\\nAlex Krasodomski, senior research associate at Chatham House, told the BBC the executive order showed the US considered itself the leader in terms of how to address such threats.\\nCan Sunak’s big summit save us from AI nightmare?\\nA simple guide to help you understand AI\\nIn a statement, White House Deputy Chief of Staff Bruce Reed said the US had issued \"the strongest set of actions any government in the world has ever taken on AI safety, security, and trust\".\\nThe measures include\\nCreating new safety and security standards for AI, including measures that require AI companies to share safety test results with the federal government\\nProtecting consumer privacy, by creating guidelines that agencies can use to evaluate privacy techniques used in AI\\nHelping to stop AI algorithms discriminate and creating best practices on the appropriate role of AI in the justice system\\nCreating a program to evaluate potentially harmful AI related healthcare practices and creating resources on how educators can responsibly use AI tools\\nWorking with international partners to implement AI standards around the world.\\nThe Biden administration is also taking steps to beef up its AI workforce. From today, workers with AI expertise can find relevant openings in the federal government on AI.gov.\\nDoes this undermine the UK gathering?\\nMr Krasodomski said the order was \"really important\", but one that \"doesn\\'t necessarily run in-line with the UK\\'s objectives and aims for the summit\".\\n\"The UK summit is referenced in the executive order. But it\\'s mentioned under the heading of \\'advancing American leadership abroad\\' - indicating that the US very clearly knows that it is the big player here alongside China but more precisely, it is the US companies that are really driving forward,\" he said.\\nMr Krasodomski added: \"It\\'s difficult to put together a small, highly technical summit but I think clearly if this technology is going to have significant global impact there\\'s going to be there have to be a ton of other kinds of work and engagement with countries around the world\", he said.\\nUS Vice President Kamala Harris and top executives from the US tech giants are arriving in the UK this week to discuss AI safety at the UK government\\'s AI Summit, which it has billed as a \"world first\".\\nThe summit, hosted by Prime Minister Rishi Sunak, will focus on growing fears about the implications of so-called frontier AI. President of the EU Commission Ursula von der Leyen and UN Secretary-General Antonio Guterres will also be in attendance.\\nThe UK is determined to position itself as a global leader in the space of trying to minimise the risks posed by this powerful technology.\\nBut the EU is in the process of passing an AI act, China has already devised a number of strict AI rules and and now the US has issued this order.\\nOn top of that, according to the Reuters news agency, the Group of Seven (G7) industrial countries are reportedly agreeing a code of conduct for companies developing advanced AI systems.\\nAll that activity raises the question of how much will actually be left up for discussion at Bletchley Park this week.\\nRelated Topics\\nArtificial intelligence\\nJoe Biden\\nMore on this story\\nCan Sunak’s big summit save us from AI nightmare?\\nPublished\\n2 days ago\\nIs it possible to regulate artificial intelligence?\\nPublished\\n21 September'}\n"
     ]
    }
   ],
   "source": [
    "article1 = {\n",
    "  \"header\": headers[10],\n",
    "  \"url\": news_urls[10],\n",
    "  \"timestamp\":time[10],\n",
    "  \"author\":all_authors[10],\n",
    "  \"text_content\":text_contents[10]\n",
    "}\n",
    "\n",
    "print(article1)\n",
    "\n",
    "\n"
   ]
  },
  {
   "cell_type": "code",
   "execution_count": 49,
   "metadata": {},
   "outputs": [
    {
     "name": "stdout",
     "output_type": "stream",
     "text": [
      "{'header': 'unknown', 'url': 'https://www.bbc.com/news/live/world-middle-east-67258466', 'timestamp': 'unknown', 'author': 'no author', 'text_content': 'Posted at 16:03\\n16:03\\nSituation in Al-Quds hospital out of control - Red Cross\\nReuters\\nCopyright: Reuters\\nThe Palestine Red Crescent shared a picture on Sunday of what it says from the inside of Al-Quds Hospital\\nImage caption: The Palestine Red Crescent shared a picture on Sunday of what it says from the inside of Al-Quds Hospital\\nHere\\'s a little more on conditions at Al-Quds hospital in Gaza City.\\nTommaso Della Longa, spokesperson for the International Federation of the Red Cross and Red Crescent (IFRC), told our colleagues on the BBC News channel earlier that the situation there is \"out of control\".\\nThe hospital is \"crowded with patients, injured [people] and more than 10,000 people who sought refuge in the hospital because they thought that it was the safest place\".\\n\"People are living in the corridors, on stairs, outside and inside. Plus 500 patients are receiving life-saving care. I\\'m talking about intensive care units, babies in incubators who need oxygen,\" Della Longa added.\\nHe said the Red Cross was \"deeply concerned\" about the evacuation order the Palestinian Red Crescent says was given to doctors by Israel. \"In this situation there is no possible way to evacuate the patients\".\\nAnd he added \"resources are absolutely limited and running out minute by minute\" at the facility, with its waning fuel supply meaning \"power will run out soon\".\\n.\\nCopyright: .\\nArticle share tools\\nShare\\nView more share options\\nShare this post\\nCopy this link\\nRead more about these links.'}\n"
     ]
    }
   ],
   "source": [
    "#dictionary with all infos, ordered after attributes\n",
    "articles_info={}\n",
    "for i in range(len(news_urls)):\n",
    " article_info_i={ \n",
    "  \"header\": headers[i],\n",
    "  \"url\": news_urls[i],\n",
    "  \"timestamp\":time[i],\n",
    "  \"author\":all_authors[i],\n",
    "  \"text_content\":text_contents[i],\n",
    " }\n",
    " articles_info[i]=article_info_i\n",
    "print(articles_info[0])"
   ]
  },
  {
   "cell_type": "code",
   "execution_count": 53,
   "metadata": {},
   "outputs": [
    {
     "name": "stdout",
     "output_type": "stream",
     "text": [
      "{'header': 'Matthew Perry cause of death inconclusive pending toxicology tests', 'url': 'https://www.bbc.com/news/entertainment-arts-67260549', 'timestamp': '2023-10-30T09:40:11.000Z', 'author': 'By Emma Saunders', 'text_content': 'Matthew Perry cause of death inconclusive pending toxicology tests\\nPublished\\n6 hours ago\\nShare\\nIMAGE SOURCE,\\nALAMY\\nImage caption,\\nPerry was a fan favourite as Chandler Bing in Friends\\nBy Emma Saunders\\nEntertainment reporter\\nThe cause of Matthew Perry\\'s death is unknown and has been \"deferred\" pending further investigation.\\nThe LA Times and TMZ, which first reported the Friends actor had died, said the star was found unresponsive in a hot tub at his house on Saturday.\\nPerry\\'s post-mortem examination was inconclusive, while officials await the results of toxicology tests.\\nThere were no obvious signs of trauma, an LA Police spokesperson confirmed to CBS News, the BBC\\'s US partner.\\nThe LA County Medical Examiner\\'s office updated their file on Sunday to say the case had been deferred.\\nThis usually means that the post-mortem is complete but more detail is needed.\\nFriends star Matthew Perry dies at 54\\nMatthew Perry: Friends fame couldn\\'t quell deep demons\\nMatthew Perry and Chandler: A match made in comedy heaven\\nMatthew Perry\\'s life in pictures\\nA Los Angeles Fire Department spokesperson told the BBC on Sunday that first responders went to an address in the Pacific Palisades area, regarding a \"water emergency\" of an unknown type, but did not name Perry.\\nThe Friends star, who died at the age of 54, was best known for playing wisecracking Chandler Bing in the hugely popular \\'90s TV sitcom.\\nThe show, which followed the fortunes of six young friends living in New York City, aired from 1994 until 2004.\\nIts final episode was watched by 52.5 million in the US, making it the most watched TV episode of the 2000s.\\nBut while at the height of his fame, Perry was battling with addiction to painkillers and alcohol, and attended rehabilitation clinics on multiple occasions.\\nIn 2016, he told BBC Radio 2 that he could not remember three years of filming during Friends, because of drink and drugs.\\nRelated Topics\\nFriends\\nComedy\\nTelevision\\nMore on this story\\nFriends star Matthew Perry dies at 54\\nPublished\\n1 day ago\\nMatthew Perry: Friends fame couldn\\'t quell deep demons\\nPublished\\n1 day ago\\nMatthew Perry and Chandler: A match made in comedy heaven\\nPublished\\n1 day ago'}\n"
     ]
    }
   ],
   "source": [
    "print(articles_info[70])"
   ]
  },
  {
   "cell_type": "markdown",
   "metadata": {},
   "source": []
  }
 ],
 "metadata": {
  "kernelspec": {
   "display_name": "Python 3",
   "language": "python",
   "name": "python3"
  },
  "language_info": {
   "codemirror_mode": {
    "name": "ipython",
    "version": 3
   },
   "file_extension": ".py",
   "mimetype": "text/x-python",
   "name": "python",
   "nbconvert_exporter": "python",
   "pygments_lexer": "ipython3",
   "version": "3.11.6"
  }
 },
 "nbformat": 4,
 "nbformat_minor": 2
}
