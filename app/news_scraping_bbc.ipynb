{
 "cells": [
  {
   "cell_type": "code",
   "execution_count": 1,
   "metadata": {},
   "outputs": [],
   "source": [
    "from selenium import webdriver\n",
    "from selenium.webdriver.chrome.options import Options\n",
    "from selenium.webdriver.chrome.service import Service\n",
    "from webdriver_manager.chrome import ChromeDriverManager\n",
    "from selenium.webdriver.common.by import By"
   ]
  },
  {
   "cell_type": "code",
   "execution_count": 92,
   "metadata": {},
   "outputs": [
    {
     "name": "stdout",
     "output_type": "stream",
     "text": [
      "Home - BBC News\n"
     ]
    }
   ],
   "source": [
    "options = Options()\n",
    "options.add_argument('--headless')\n",
    "options.add_argument('--no-sandbox')\n",
    "options.add_argument('--disable-dev-shm-usage')\n",
    "driver = webdriver.Chrome(service=Service(ChromeDriverManager().install()), options=options)\n",
    "\n",
    " \n",
    "driver.get(\"https://www.bbc.com/news\")\n",
    "print(driver.title)"
   ]
  },
  {
   "cell_type": "markdown",
   "metadata": {},
   "source": []
  },
  {
   "cell_type": "code",
   "execution_count": 93,
   "metadata": {},
   "outputs": [
    {
     "name": "stdout",
     "output_type": "stream",
     "text": [
      "UN says civilians in Gaza feel abandoned, as only 'crumbs' of aid get in\n"
     ]
    }
   ],
   "source": [
    "#here we extract all headers from the articels\n",
    "news_headers=[]\n",
    "def extract_headers():\n",
    "  elements=driver.find_elements(By.CLASS_NAME, 'gs-c-promo-heading__title')\n",
    "  for element in elements:\n",
    "    if element.text:\n",
    "        news_headers.append(element.text)\n",
    "#driver.quit()\n",
    "extract_headers()\n",
    "print(news_headers[0])\n",
    "    \n",
    "    "
   ]
  },
  {
   "cell_type": "code",
   "execution_count": 94,
   "metadata": {},
   "outputs": [
    {
     "name": "stdout",
     "output_type": "stream",
     "text": [
      "76\n",
      "76\n",
      "https://www.bbc.com/news/world-latin-america-67234333\n"
     ]
    }
   ],
   "source": [
    "news_urls=[]\n",
    "def get_urls():\n",
    " elements_for_url=driver.find_elements(By.CLASS_NAME, 'gs-c-promo-heading')\n",
    " for element in elements_for_url:\n",
    "        news_urls.append(element.get_attribute('href'))\n",
    " print(len(elements_for_url))\n",
    "get_urls()\n",
    "print(len(news_urls))#list with all the urls to the articels. should be equally long to elements_for_url\n",
    "print(news_urls[12])"
   ]
  },
  {
   "cell_type": "code",
   "execution_count": 9,
   "metadata": {},
   "outputs": [
    {
     "name": "stdout",
     "output_type": "stream",
     "text": [
      "{'header': \"UN says civilians in Gaza feel abandoned, as only 'crumbs' of aid get in\", 'url': 'https://www.bbc.com/news/live/world-middle-east-67223217'}\n"
     ]
    }
   ],
   "source": [
    "article1 = {\n",
    "  \"header\": news_headers[0],\n",
    "  \"url\": news_urls[0],\n",
    "}\n",
    "print(article1)"
   ]
  },
  {
   "cell_type": "code",
   "execution_count": 65,
   "metadata": {},
   "outputs": [
    {
     "name": "stdout",
     "output_type": "stream",
     "text": [
      "[\"Israel Gaza: EU calls for 'corridors and pauses' for humanitarian aid\", 'Published', '16 hours ago', 'Share', 'Related Topics', 'Israel-Gaza war', 'IMAGE SOURCE,', 'REUTERS', 'Image caption,', \"Differences between EU leaders have been stark, with some like Hungary's Viktor Orban (L) closer to the Israeli position\", 'By Sofia Bettiza in Brussels & Robert Greenall in London', 'BBC News', 'EU leaders have called for \"corridors and pauses\" as a means to get badly needed humanitarian aid into Gaza.', 'After more than five hours of talks at a summit in Brussels, a joint statement urged safe and unhindered access.', 'It follows days of disagreement, with some member states arguing for a longer, single pause in the fighting.', \"Israel began bombing Gaza and cut off fuel, food and other supplies after Hamas's attack in which 1,400 people were killed and 224 taken hostage.\", \"Gaza's Hamas-run health ministry says more than 7,000 people have been killed in the territory since then and that its health system is facing total collapse, with a third of hospitals not functioning and the rest only treating emergency cases.\", 'Only small amounts of aid have started reaching Gaza in recent days.', \"The EU leaders' summit is their first face-to-face meeting since the 7 October attacks.\", 'Their statement condemns the Hamas attacks and \"strongly emphasises Israel\\'s right to defend itself in line with international law\".', '\"The European Council expresses its gravest concern for the deteriorating humanitarian situation in Gaza and calls for continued, rapid, safe and unhindered humanitarian access and aid to reach those in need through all necessary measures including humanitarian corridors and pauses for humanitarian needs,\" the statement reads.', \"This may not seem like much, but for an institution that represents 27 countries with some fundamentally opposing views on the Israel-Palestinian conflict - it's a compromise.\", '\"Humanitarian pauses\" are meant as short intervals of just a few hours, so that the EU can \"work closely with partners in the region to protect civilians, provide assistance and facilitate access to food, water, medical care, fuel and shelter, ensuring that such assistance is not abused by terrorist organisations\", the statement reads.', 'This follows days of complex negotiations about whether to call for a \"pause\" (singular) or \"pauses\" (plural).', '\"A single, humanitarian pause would be too close to the concept of a ceasefire - when Israel has the right to defend itself from attack,\" an EU diplomat told the BBC.', '\"A pause means both actors stop for good, whereas pauses is temporary.\"', 'This position was shared by those European countries that have taken a strong pro-Israel stance - including Hungary, Austria, the Czech Republic and most importantly Germany, which undoubtedly had a big say in the wording of the EU statement.', \"Some countries will be disappointed. Both Ireland's and Spain's leaders, speaking to journalists before the start of the negotiations, had called for a ceasefire.\", 'But the Spanish caretaker Prime Minister Pedro Sánchez will be pleased about a new line added to the EU statement at the last minute: \"The European Union supports the holding of an international peace conference soon.\"', 'He had called earlier today for an international peace summit in six months to find a solution to the long-standing conflict in the region.', 'The EU is not a military power - all they can do, really, is exercise diplomatic pressure and grant aid.', \"And ultimately, this statement might not change anything. Earlier today Benny Gantz, a member of Israel's war cabinet, said the country would make its own decisions about its war plans in Gaza, based on its own interests.\", 'More on Israel-Gaza war', 'Follow live: Latest updates', 'Explained: What is happening in Israel and Gaza, and why now?', 'History behind the story: The Israel-Palestinian conflict', 'Hostages: Who are the hostages taken by Hamas from Israel?', 'Bowen: Israelis and Palestinians fear worst is yet to come', 'Related Topics', 'Israel-Gaza war', 'Israel', 'Ursula von der Leyen', 'European Union', 'More on this story', 'Who are the hostages taken by Hamas from Israel?', 'Published', '4 hours ago', 'Bowen: Israelis and Palestinians fear worst is yet to come', 'Published', '1 day ago']\n",
      "By Sofia Bettiza in Brussels & Robert Greenall in London\n"
     ]
    }
   ],
   "source": [
    "#extract text from the whole article, here for one as an example.\n",
    "driver.get(news_urls[4])\n"
   ]
  },
  {
   "cell_type": "code",
   "execution_count": 95,
   "metadata": {},
   "outputs": [
    {
     "name": "stdout",
     "output_type": "stream",
     "text": [
      "article not found\n",
      "article not found\n",
      "76\n"
     ]
    }
   ],
   "source": [
    "#here we apply the method from the last cell to all articels. This takes approximately 2 minutes with a total of 76 articels today\n",
    "text_contents=[]\n",
    "def extract_contents():\n",
    " for i in range(len(news_urls)):\n",
    "  driver.get(news_urls[i]) #we go to the specific article by using the url\n",
    "  try:\n",
    "   article = driver.find_element(By.TAG_NAME, 'article')\n",
    "   text_contents.append(article.text)\n",
    "  except: #exception if no article element is there. doesn´t happen often, but has to be handled\n",
    "   article = driver.find_element(By.TAG_NAME, 'body')\n",
    "   text_contents.append(article.text)\n",
    "   print(\"article not found\") #in this test, 3 of 73 articels had no article element. \n",
    "extract_contents()\n",
    "print(len(text_contents)) "
   ]
  },
  {
   "cell_type": "code",
   "execution_count": 146,
   "metadata": {},
   "outputs": [
    {
     "name": "stdout",
     "output_type": "stream",
     "text": [
      "Giving birth in Gaza amid shelling and power cuts\n",
      "Published\n",
      "15 hours ago\n",
      "Share\n",
      "Related Topics\n",
      "Israel-Gaza war\n",
      "IMAGE SOURCE,\n",
      "JUMANA EMAD\n",
      "Image caption,\n",
      "Jumana Emad says being pregnant in Gaza is terrifying\n",
      "By Dalia Haidar\n",
      "BBC Arabic\n",
      "One month ago, Gaza resident Jumana Emad was in the final stages of pregnancy.\n",
      "She was happily sharing pictures of her heavily pregnant belly, waiting to put her birthing plan into action.\n",
      "She knew she was going to have a girl, her husband was excited, her hospital bag was packed and her four-year-old daughter Tulin couldn't wait to meet her baby sister.\n",
      "Then everything changed.\n",
      "Hamas killed more than 1,400 people in Israel and took more than 200 people hostage in an attack on 7 October. Israel launched retaliatory air strikes on Gaza which - the Hamas-run health ministry says - have killed almost 7,000 people.\n",
      "\"I was scared,\" Jumana told the BBC. \"I was in labour among continuous shelling.\"\n",
      "The 25-year-old freelance journalist followed Israeli orders to leave her home in the north. She left Gaza City two days after Israeli strikes began and headed south.\n",
      "Afraid and nine months pregnant, Jumana took her daughter to a relative's house. She took only a single piece of clothing, a box of milk and a small bag for her daughter.\n",
      "\"The situation was tough,\" she explained in a voice message.\n",
      "IMAGE SOURCE,\n",
      "JUMANA EMAD\n",
      "Image caption,\n",
      "Baby Talia was born on 13 October 2023 in Gaza\n",
      "\"We didn't sleep at night. There was a lot of shelling and we had to go to another place. Pregnant women like me should be going out for walks but because of the war we are not able to go out even to buy food,\" she explained in another message.\n",
      "Jumana repeatedly spoke of power outages, internet interruptions and water shortages, in addition to her fear and anxiety over giving birth in such difficult circumstances.\n",
      "On Friday 13 October, Jumana went into labour.\n",
      "She had originally planned to go to Al-Shifa Hospital in Gaza City, which is a big hospital, but she was told it was under immense pressure. Instead, Jumana went to Al-Awda Hospital in Nuseirat, a smaller hospital in the middle of the Gaza Strip.\n",
      "But even getting there was hard. In pain and in labour Jumana struggled to find someone to take her. \"Taxi drivers are afraid, and ambulances don't have time for a woman about to give birth,\" she explained.\n",
      "She described the hours of labour as hard and terrifying. \"There was intense shelling in a house next to the hospital, the sound was so loud that I thought the shelling had reached the hospital itself. Injured people kept arriving. I could hear screams from every direction. I was also thinking about my first daughter. I was worried about her because she was far away from me.\n",
      "\"All I thought about was I want to deliver my baby no matter what.\"\n",
      "Jumana described her feeling of shock when hours later that evening, she gave birth to a baby girl, who she decided to name Talia.\n",
      "\"Her crying meant we were all still alive,\" she recalls.\n",
      "There was no bed available for Jumana immediately after childbirth. In pain and bleeding, she had to wait until a bed was found and squeezed into a small room.\n",
      "\"I was lucky to have one, other women lay on couches and on the floor in the hospital corridor immediately after giving birth,\" she says.\n",
      "IMAGE SOURCE,\n",
      "JUMANA EMAD\n",
      "Image caption,\n",
      "Jumana's daughters - Tulin, aged four, and baby Talia\n",
      "The United Nations Population Fund (UNFPA) estimates that there are about 50,000 pregnant women in Gaza with 5,500 of them expected to give birth in the next 30 days. It says hospitals are overwhelmed and are running out of medicine and basic supplies.\n",
      "The day after she gave birth, Jumana sent a video of herself holding her baby daughter in a taxi, wrapped in a white blanket.\n",
      "She had left the hospital to join her family but says even that was an ordeal.\n",
      "\"The lift stopped working due to a power issue,\" she says. So Jumana, on the fourth floor of the hospital, in pain after giving birth and with her newborn in her arms, had to walk down several flights of stairs to get to the exit.\n",
      "Once out of the hospital, she was faced with trying to get transport back to the place where she was staying.\n",
      "\"We spent an hour looking for a taxi, and none of the drivers agreed to take us. They were scared after a nearby shelling in the morning. In the end, we found one, but he asked for a higher fare and didn't drop us off in front of the house.\"\n",
      "Jumana says childbirth in such hard circumstances has taken its toll. \"I am worn out mentally. I no longer have the desire to do anything,\" she admits.\n",
      "But she tells me Baby Talia is doing well: \"She is a mix of my features, her sister's and her father's.\n",
      "\"If it wasn't for the war, I would have wanted to celebrate a beautiful event one week after the birth. I would have invited all my family members and held an Aqiqah [a traditional Islamic celebration] for her,\" Jumana trails off.\n",
      "She says she does not know what the future holds for her family but is grateful for their new arrival saying: \"She is my hope in this life of war and death.\"\n",
      "Related Topics\n",
      "Israel-Gaza war\n"
     ]
    }
   ],
   "source": [
    "print(text_contents[2\n",
    "])#test"
   ]
  },
  {
   "cell_type": "code",
   "execution_count": 165,
   "metadata": {},
   "outputs": [
    {
     "name": "stdout",
     "output_type": "stream",
     "text": [
      "['Posted at 18:32 26 Oct', '18:32 26 Oct', 'SHARED', 'Hamas official ends BBC interview when questioned over killing of civilians', 'Hugo Bachega', 'Reporting from Beirut, Lebanon', 'Today, I interviewed Ghazi Hamad, a long-time Hamas member and spokesman, who was in Beirut.', 'Sitting down with a representative of a group that many governments deem a terrorist organisation was not a decision taken lightly. But it was a chance to ask, face to face, about the attacks Hamas carried out in Israel on 7 October in which it killed more than 1,400 people, mostly civilians, and took more than 200 people hostage.', 'Hamad refused to acknowledge that his group had deliberately targeted civilians, despite the overwhelming evidence, including footage from body cameras worn by the fighters. He said the attack had been a “military operation” intended to target only military personnel.', 'I repeatedly asked him how that could possibly have been an attack on military targets only when hundreds of civilians had been killed, including people at a music festival and in their own homes, with their families. He then abruptly interrupted the interview and walked away.', 'Before that, Hamad suggested Hamas was open to negotiations over the civilian hostages it is holding in Gaza. But, he said, there needed to be certain circumstances for that to happen, without specifying which.', 'Video content', 'Video caption: Hamas official ends BBC interview after being questioned over killing of civilians in Israel', 'Hamas official ends BBC interview after being questioned over killing of civilians in Israel', 'Article share tools', 'Share', 'View more share options', 'Share this post', 'Copy this link', 'Read more about these links.']\n"
     ]
    }
   ],
   "source": [
    "lines = text_contents[5].split('\\n')\n",
    "print(lines)\n"
   ]
  },
  {
   "cell_type": "code",
   "execution_count": 169,
   "metadata": {},
   "outputs": [
    {
     "name": "stdout",
     "output_type": "stream",
     "text": [
      "By Joel Guinto\n",
      "76\n",
      "['no author', 'By Paul Kirby', 'By Dalia Haidar', 'By Wyre Davies', 'By Sofia Bettiza in Brussels & Robert Greenall in London', 'no author', 'no author', 'By James Gregory & Frank Gardner, security correspondent', 'By Laura Gozzi', 'By Stephen McDonell', 'By Joel Guinto', 'By Paul Glynn & Mark Savage', 'no author', 'By Gloria Aradi', 'By Jonathan Holmes & PA Media', 'By Favour Nunoo & Wycliffe Muia', 'no author', 'By Favour Nunoo & Wycliffe Muia', 'no author', 'no author', 'By Natalie Sherman & Daniel Thomas', 'By Nadine Yousif', 'no author', 'no author', 'no author', 'no author', 'no author', 'By Paul Glynn & Mark Savage', 'no author', 'no author', 'no author', 'no author', 'no author', 'no author', 'no author', 'By Holly Honderich & Eloise Alanna', 'By Mark Savage', 'By James Clayton and Shiona McCallum', 'By Nick Marsh', 'no author', 'By Nikhila Henry and Cherylann Mollan', 'By Jean Mackenzie', 'By Stephen McDonell', 'By Laura Gozzi', 'By James Gregory & Frank Gardner, security correspondent', 'By Gloria Aradi', 'no author', 'By Paul Glynn & Mark Savage', 'no author', 'By Yvette Tan & Stephen McDonell', 'By Dalia Haidar', 'By Jake Horton, Joshua Cheetham and Shayan Sardarizadeh', 'By Rashi Goel', 'By Hilary George-Parkin', 'By Anthony Ham', 'By Natasha Tripney', 'By Zaria Gorvett', 'By Rebecca M Knight', 'By Laura Hall', 'no author', 'no author', 'no author', 'By Shamoon Hafez', 'By Jonathan Agnew', 'By Kal Sajad', 'no author', 'By Stephen McDonell', 'By Laura Gozzi', 'By James Gregory & Frank Gardner, security correspondent', 'By Gloria Aradi', 'no author', 'By Paul Glynn & Mark Savage', 'no author', 'By Yvette Tan & Stephen McDonell', 'By Dalia Haidar', 'By Jake Horton, Joshua Cheetham and Shayan Sardarizadeh']\n"
     ]
    }
   ],
   "source": [
    "def get_authors(article):\n",
    "    authors = []\n",
    "    lines = article.split('\\n')\n",
    "    for line in lines[:13]:  # Loop through lines from lines[0] to lines[10]\n",
    "        if \"By\" in line:\n",
    "            authors.append(line)\n",
    "    return authors\n",
    "\n",
    "all_authors = []\n",
    "def get_all_authors():\n",
    "    for article in text_contents:\n",
    "        authors = get_authors(article)\n",
    "        if not authors:  # Check if authors is an empty list\n",
    "            all_authors.append(\"no author\")\n",
    "        else:\n",
    "            all_authors.extend(authors)\n",
    "\n",
    "# Print the authors\n",
    "for author in all_authors:\n",
    "    print(author)\n",
    "\n",
    "\n",
    "get_all_authors()\n",
    "print(all_authors[10])\n",
    "print(len(all_authors))\n",
    "print(all_authors)"
   ]
  },
  {
   "cell_type": "markdown",
   "metadata": {},
   "source": []
  }
 ],
 "metadata": {
  "kernelspec": {
   "display_name": "Python 3",
   "language": "python",
   "name": "python3"
  },
  "language_info": {
   "codemirror_mode": {
    "name": "ipython",
    "version": 3
   },
   "file_extension": ".py",
   "mimetype": "text/x-python",
   "name": "python",
   "nbconvert_exporter": "python",
   "pygments_lexer": "ipython3",
   "version": "3.11.6"
  }
 },
 "nbformat": 4,
 "nbformat_minor": 2
}
