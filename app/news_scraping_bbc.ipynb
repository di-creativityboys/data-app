{
 "cells": [
  {
   "cell_type": "code",
   "execution_count": 1,
   "metadata": {},
   "outputs": [],
   "source": [
    "from selenium import webdriver\n",
    "from selenium.webdriver.chrome.options import Options\n",
    "from selenium.webdriver.chrome.service import Service\n",
    "from webdriver_manager.chrome import ChromeDriverManager\n",
    "from selenium.webdriver.common.by import By"
   ]
  },
  {
   "cell_type": "code",
   "execution_count": 2,
   "metadata": {},
   "outputs": [
    {
     "name": "stdout",
     "output_type": "stream",
     "text": [
      "Home - BBC News\n"
     ]
    }
   ],
   "source": [
    "options = Options()\n",
    "options.add_argument('--headless')\n",
    "options.add_argument('--no-sandbox')\n",
    "options.add_argument('--disable-dev-shm-usage')\n",
    "driver = webdriver.Chrome(service=Service(ChromeDriverManager().install()), options=options)\n",
    "\n",
    " \n",
    "driver.get(\"https://www.bbc.com/news\")\n",
    "print(driver.title)"
   ]
  },
  {
   "cell_type": "markdown",
   "metadata": {},
   "source": []
  },
  {
   "cell_type": "code",
   "execution_count": null,
   "metadata": {},
   "outputs": [
    {
     "name": "stdout",
     "output_type": "stream",
     "text": [
      "76\n",
      "76\n",
      "https://www.bbc.com/news/world-us-canada-67238812\n"
     ]
    }
   ],
   "source": [
    "news_urls=[]\n",
    "def get_urls():\n",
    " elements_for_url=driver.find_elements(By.CLASS_NAME, 'gs-c-promo-heading')\n",
    " for element in elements_for_url:\n",
    "        news_urls.append(element.get_attribute('href'))\n",
    " print(len(elements_for_url))\n",
    "get_urls()\n",
    "print(len(news_urls))#list with all the urls to the articels. should be equally long to elements_for_url\n",
    "print(news_urls[12])"
   ]
  },
  {
   "cell_type": "code",
   "execution_count": null,
   "metadata": {},
   "outputs": [],
   "source": [
    "#here will a function be implemented, who calls the smaller ones. The aim is to only access the articels urls once, so that the runtime is reduced greatly. This is not yet finished\n",
    "text_contents=[]\n",
    "time=[]\n",
    "headers=[]\n",
    "def extract_all():\n",
    "    for i in range(len(news_urls)):\n",
    "       driver.get(news_urls[i]) #we go to the specific article by using the url\n",
    "       extract_contents()\n",
    "       get_timestamps()\n",
    "       get_headers()"
   ]
  },
  {
   "cell_type": "code",
   "execution_count": 4,
   "metadata": {},
   "outputs": [
    {
     "name": "stdout",
     "output_type": "stream",
     "text": [
      "article not found\n",
      "article not found\n",
      "76\n"
     ]
    }
   ],
   "source": [
    "#here we extract all the text contents from the articles. This takes approximately 2 minutes with a total of 76 articels today\n",
    "text_contents=[]\n",
    "def extract_contents():\n",
    " for i in range(len(news_urls)):\n",
    "  driver.get(news_urls[i]) #we go to the specific article by using the url\n",
    "  try:\n",
    "   article = driver.find_element(By.TAG_NAME, 'article')\n",
    "   text_contents.append(article.text)\n",
    "  except: #exception if no article element is there. doesn´t happen often, but has to be handled\n",
    "   article = driver.find_element(By.TAG_NAME, 'body')\n",
    "   text_contents.append(article.text)\n",
    "   print(\"article not found\") #in this test, 3 of 73 articels had no article element. \n",
    "#extract_contents()\n",
    "#print(len(text_contents)) "
   ]
  },
  {
   "cell_type": "code",
   "execution_count": 5,
   "metadata": {},
   "outputs": [
    {
     "name": "stdout",
     "output_type": "stream",
     "text": [
      "Going undercover to reveal people smugglers' sales tactics\n",
      "Published\n",
      "15 hours ago\n",
      "Share\n",
      "IMAGE SOURCE,\n",
      "GETTY IMAGES\n",
      "Image caption,\n",
      "Migrants from Pakistan and other countries have been crossing into Europe via Turkey\n",
      "By Reha Kansara, Samrah Fatima & Jasmin Dyer\n",
      "BBC Trending, BBC Urdu & BBC Newsnight\n",
      "\"There is nothing to be worried about. Whether they're 12 or 18 years old, we take guys of these ages too.\"\n",
      "A people smuggler in Quetta, who arranges illegal routes out of Pakistan, is explaining his business model to an undercover BBC journalist. For 2.5m Pakistani rupees ($9000; £7,500), a young man can arrive in Europe \"safe and sound\" in approximately three weeks, he says, by crossing the border into Iran on foot and then travelling by road via Turkey to Italy. His tone is reassuring.\n",
      "\"He should keep snacks. He should definitely carry good quality shoes, and two or three sets of clothes. That's it. He can buy water from Quetta. He will call upon reaching Quetta and a guy will come and receive him.\"\n",
      "The smuggler - Azam - claims hundreds of migrants cross the Pakistan border into Iran every day. He downplays the risks to our reporter, who is posing as a man wanting to bring his brother to the UK.\n",
      "With inflation soaring in the country and the Pakistani rupee plummeting in value, many people are looking to move. Pakistani authorities have told the BBC nearly 13,000 people left Pakistan to go to Libya or Egypt in the first six months of 2023, compared with close to 7,000 in the whole of 2022.\n",
      "Often the journeys they take are dangerous. In June, hundreds of migrants died after a cramped fishing vessel sank off the coast of Greece. At least 350 Pakistanis were thought to be on board.\n",
      "\"Even if he gets caught [along the way], he is only going to end up back at home. No-one is going to kidnap him and ask for ransom,\" Azam says.\n",
      "But migrants who attempt to travel via Libya can fall prey to militias and criminal gangs. One Pakistani man we spoke to, who used a people smuggler to travel to Italy, says he was kidnapped and imprisoned for three months in Libya.\n",
      "Saeed (not his real name) says he was only released after his family paid a ransom of $2,500 (£2,000).\n",
      "Media caption,\n",
      "Watch: The BBC spoke to a people smuggler who admitted that the route he was offering was illegal\n",
      "'DM for game'\n",
      "Many smugglers are operating in plain sight on mainstream social media platforms like Facebook and TikTok - through accounts that have tens of thousands of followers.\n",
      "Since May, the BBC has been monitoring social media accounts promoting illegal migration routes. We have found that the smugglers' tactics are concealed by a web of euphemisms that enable them to sidestep content moderation and law enforcement. They arrange trips and payments privately via direct messages and WhatsApp.\n",
      "Code words like \"dunki\" and \"game\" are used to promote illegal routes to Europe. \"Dunki\" refers to boat crossings and \"game\" describes the journeys that migrants will take from start to finish.\n",
      "You can listen to \"BBC Trending: Exposing people smugglers\" on BBC Sounds.\n",
      "The three most common routes from Pakistan transit through Turkey, Iran or Libya before reaching their final destination in Europe.\n",
      "Since the Greek migrant boat disaster, people smugglers we monitored have been increasingly promoting \"taxi games\" - shorthand for routes by road through Eastern Europe - as the favoured smuggling method.\n",
      "Smugglers' social media accounts post videos of groups of migrants hiding in woods and running into minivans, with agents' names and mobile phone numbers superimposed on top. On WhatsApp, customers and \"agents\" exchange messages about the next \"game\" in group chats with hundreds of members.\n",
      "Azam specialises in \"taxi games\", claiming they are safer than sea routes. But there are risks to those land routes too.\n",
      "The UNHCR - the UN's refugee agency - says freezing temperatures in winter as migrants attempt to cross borders on foot, as well as road accidents, have resulted in deaths.\n",
      "Five other smugglers we spoke to also recommended \"taxi routes\". One said he could get someone to the UK from France for £1,000 ($1,228).\n",
      "We put our evidence to Meta, which owns Facebook and WhatsApp, and TikTok - that their platforms are being used to promote illegal people smuggling.\n",
      "Meta took down all links to the Facebook groups and pages we flagged to them, but did not take down the profiles attached to them. It did not remove WhatsApp groups, because its policy of end-to-end encryption protects privacy and does not allow for moderation.\n",
      "TikTok took down the links to the accounts we alerted them to. It says the company \"has zero tolerance for content that facilitates human smuggling\" and \"removed accounts and content that violate their policies\".\n",
      "Image caption,\n",
      "Saeed says he was captured in Libya while trying to get to Europe\n",
      "'Journey of death'\n",
      "Saeed left his town in Pakistani-administered Kashmir almost a year ago because of a lack of employment opportunities for young men in his area - and clashes along the border with Indian-administered Kashmir. He lived very close to the Line of Control - the de facto border between India and Pakistan in the contested region - but has been in Italy for 10 months.\n",
      "He says he was influenced to come to Europe by a combination of TikTok videos he saw online and by a friend who had left Pakistan a few months before him.\n",
      "\"I heard that it's very simple to come here and it would take about 15-20 days. But it was all a lie. It took me more than seven months,\" he says.\n",
      "Saeed is awaiting the outcome of his asylum claim in Italy and says he now regrets taking the illegal route, calling it \"a journey of death\". But he regularly posts videos on TikTok of his new life in Italy.\n",
      "A few clips document his route from Pakistan, mostly showing an excited young man on his journey. These upbeat videos follow a TikTok trend which many young Pakistani men like him, who arrive in Europe, have participated in.\n",
      "In one video captioned \"Pakistan to Libya\", a friend he travelled with films them both, selfie-style, sitting on a plane, smiling.\n",
      "He says that it's \"just a form of art\" to post videos like this and argues they are \"not a true reflection of society\".\n",
      "Two weeks after our undercover journalist first contacts the smuggler, we call him again - this time revealing we are BBC journalists.\n",
      "When we challenge Azam about the dangers of the illegal routes he is promoting, he hangs up.\n",
      "Related Topics\n",
      "Pakistan\n",
      "TikTok\n",
      "People smuggling\n",
      "Meta\n",
      "Migration\n",
      "More on this story\n",
      "Disaster boat carried 350 Pakistanis, says minister\n",
      "Published\n",
      "23 June\n",
      "Inside the operation smuggling young men to Europe\n",
      "Published\n",
      "1 August\n",
      "Are migrant YouTubers influencing others to travel to the EU?\n",
      "Published\n",
      "20 February 2021\n"
     ]
    }
   ],
   "source": [
    "#print(text_contents[10\n",
    "#])#test"
   ]
  },
  {
   "cell_type": "code",
   "execution_count": 6,
   "metadata": {},
   "outputs": [
    {
     "name": "stdout",
     "output_type": "stream",
     "text": [
      "By Reha Kansara, Samrah Fatima & Jasmin Dyer\n",
      "76\n",
      "['no author', 'no author', 'By Jeremy Bowen', 'By David Gritten', 'no author', 'By Paul Kirby', 'By Ruth Comerford', 'By Ruth Comerford', 'By Holly Honderich in Maine and Max Matza', 'By Ruth Comerford', 'By Reha Kansara, Samrah Fatima & Jasmin Dyer', 'By Max Matza', 'By Rianna Croxford and Ruth Evans', 'By Tom Symonds', 'By Nadine Yousif', 'By Paul Glynn, Mark Savage & Ian Youngs', 'By Kathryn Armstrong', 'By Paul Glynn, Mark Savage & Ian Youngs', 'By Kathryn Armstrong', 'By Annabel Rackham & Becky Morton', 'no author', 'By Natalie Sherman & Tom Espiner', 'no author', 'no author', 'no author', 'no author', 'no author', 'no author', 'By Paul Glynn & Mark Savage', 'no author', 'no author', 'no author', 'no author', 'no author', 'no author', 'By Sean Coughlan', 'no author', 'By Alastair Telfer', 'By Craig Williams', 'By Helen Briggs', 'By Stephen McDonell', 'By Mark Savage', 'By Jeremy Bowen', 'By Ruth Comerford', 'By Holly Honderich in Maine and Max Matza', 'By Max Matza', 'By Ruth Comerford', 'By Chloe Kim', 'By The Visual Journalism Team', 'By Thomas Mackintosh & Victoria Bourne in central London', 'By Reha Kansara, Samrah Fatima & Jasmin Dyer', 'By Rianna Croxford and Ruth Evans', 'By Katherine Latham', 'By Leah Carroll', \"By Stefania D'Ignoti\", 'By Natasha Tripney', 'By Rashi Goel', 'By Alex Christian', 'By Emily Monaco', 'no author', 'By Ffion Wynne', 'By Mike Henson', 'no author', 'By Mike Henson', 'By Matthew Henry', 'By Mark Mitchener', 'By Jeremy Bowen', 'By Ruth Comerford', 'By Holly Honderich in Maine and Max Matza', 'By Max Matza', 'By Ruth Comerford', 'By Chloe Kim', 'By The Visual Journalism Team', 'By Thomas Mackintosh & Victoria Bourne in central London', 'By Reha Kansara, Samrah Fatima & Jasmin Dyer', 'By Rianna Croxford and Ruth Evans']\n",
      "19\n"
     ]
    }
   ],
   "source": [
    "def get_authors(article):\n",
    "    authors = []\n",
    "    lines = article.split('\\n')\n",
    "    for line in lines[:13]:  # Loop through lines from lines[0] to lines[10]\n",
    "        if \"By\" in line:\n",
    "            authors.append(line)\n",
    "    return authors\n",
    "\n",
    "all_authors = []\n",
    "def get_all_authors():\n",
    "    for article in text_contents:\n",
    "        authors = get_authors(article)\n",
    "        if not authors:  # Check if authors is an empty list\n",
    "            all_authors.append(\"no author\")\n",
    "        else:\n",
    "            all_authors.extend(authors)\n",
    "\n",
    "# Print the authors\n",
    "for author in all_authors:\n",
    "    print(author)\n",
    "\n",
    "\n",
    "get_all_authors()\n",
    "print(all_authors[10])\n",
    "print(len(all_authors))\n",
    "print(all_authors)\n",
    "\n",
    "counter=0\n",
    "for i in range(len(all_authors)):\n",
    "    if all_authors[i]=='no author':\n",
    "      counter=counter+1\n",
    "print(counter)\n",
    "\n",
    "#<p class=\"lx-commentary__meta-reporter gel-long-primer\" data-reactid=\".18n36quudgy.0.2.0.0.1.0.1.0.$lx-tabs0.0.$lx-commentary.$lx-commentary.0.2.0.0\">  Edited by Nadia Ragozhina and Samuel Horti</p>\n",
    "#<div class=\"ssrcss-68pt20-Text-TextContributorName e8mq1e96\">By Jeremy Bowen</div>\n",
    "#<div class=\"ssrcss-68pt20-Text-TextContributorName e8mq1e96\">By David Gritten</div>"
   ]
  },
  {
   "cell_type": "code",
   "execution_count": 7,
   "metadata": {},
   "outputs": [
    {
     "name": "stdout",
     "output_type": "stream",
     "text": [
      "no date\n",
      "no date\n",
      "no date\n",
      "no date\n",
      "no date\n",
      "no date\n",
      "no date\n",
      "no date\n",
      "['unknown', '2023-10-28T08:23:08.000Z', '2023-10-28T12:35:08.000Z', '2023-10-28T15:17:17.000Z', '2023-10-28T08:40:35.000Z', '2023-10-27T18:14:22.000Z', '2023-10-28T09:36:20.000Z', '2023-10-28T13:18:44.000Z', '2023-10-28T03:37:36.000Z', '2023-10-28T11:31:44.000Z', '2023-10-27T23:33:16.000Z', '2023-10-27T23:08:45.000Z', '2023-10-27T15:36:43.000Z', '2023-10-27T15:14:19.000Z', '2023-10-27T19:07:01.000Z', '2023-10-27T14:36:06.000Z', '2023-10-27T18:09:16.000Z', '2023-10-27T14:36:06.000Z', '2023-10-27T18:09:16.000Z', '2023-10-27T15:59:01.000Z', '2023-10-27', '2023-10-27T20:53:34.000Z', '2023-10-26T18:29:58.000Z', '2023-04-03T08:22:58.000Z', 'unknown', '2023-10-26T23:09:24.000Z', '2023-10-27T06:18:22.000Z', '2023-10-27T14:56:03.000Z', '2023-10-26T15:04:36.000Z', '2023-10-26T06:54:34.000Z', '2023-10-28T08:23:08.000Z', '2023-04-28T18:15:11.000Z', '2023-10-28T08:04:02.000Z', '2023-10-26T18:29:58.000Z', '2023-10-28T07:17:51.000Z', '2023-10-28T00:06:55.000Z', '2023-10-28T00:11:27.000Z', '2023-10-27T23:25:32+00:00', '2023-10-28T08:22:22.000Z', '2023-10-27T23:52:02.000Z', '2023-10-27T09:53:02.000Z', '2023-10-27T09:12:53.000Z', '2023-10-28T12:35:08.000Z', '2023-10-28T09:36:20.000Z', '2023-10-28T03:37:36.000Z', '2023-10-27T23:08:45.000Z', '2023-10-28T11:31:44.000Z', '2023-10-27T19:19:39.000Z', '2023-10-27T17:17:15.000Z', '2023-10-28T14:40:18.000Z', '2023-10-27T23:33:16.000Z', '2023-10-27T15:36:43.000Z', 'unknown', 'unknown', 'unknown', 'unknown', 'unknown', 'unknown', 'unknown', 'unknown', '2023-10-28T13:40:32+00:00', '2023-10-28T06:57:04+00:00', '2023-10-28', '2023-10-28T05:48:08+00:00', '2023-10-28T09:55:33+00:00', '2023-10-28T05:29:45+00:00', '2023-10-28T12:35:08.000Z', '2023-10-28T09:36:20.000Z', '2023-10-28T03:37:36.000Z', '2023-10-27T23:08:45.000Z', '2023-10-28T11:31:44.000Z', '2023-10-27T19:19:39.000Z', '2023-10-27T17:17:15.000Z', '2023-10-28T14:40:18.000Z', '2023-10-27T23:33:16.000Z', '2023-10-27T15:36:43.000Z']\n"
     ]
    }
   ],
   "source": [
    "time=[]\n",
    "def get_timestamps():\n",
    " for i in range(len(news_urls)):\n",
    "  driver.get(news_urls[i])\n",
    "  try:\n",
    "   time_element=driver.find_element(By.TAG_NAME, 'time')\n",
    "   date=(time_element.get_attribute('datetime'))\n",
    "   time.append(date)\n",
    "  except:\n",
    "    date='unknown'\n",
    "    time.append(date)\n",
    "    print('no date')\n",
    " for i in range(len(time)):\n",
    "  if time[i]==None:\n",
    "   time[i]='unknown'\n",
    " print(time)\n",
    "#get_timestamps()\n"
   ]
  },
  {
   "cell_type": "code",
   "execution_count": 8,
   "metadata": {},
   "outputs": [
    {
     "name": "stdout",
     "output_type": "stream",
     "text": [
      "['unknown', '2023-10-28T08:23:08.000Z', '2023-10-28T12:35:08.000Z', '2023-10-28T15:17:17.000Z', '2023-10-28T08:40:35.000Z', '2023-10-27T18:14:22.000Z', '2023-10-28T09:36:20.000Z', '2023-10-28T13:18:44.000Z', '2023-10-28T03:37:36.000Z', '2023-10-28T11:31:44.000Z', '2023-10-27T23:33:16.000Z', '2023-10-27T23:08:45.000Z', '2023-10-27T15:36:43.000Z', '2023-10-27T15:14:19.000Z', '2023-10-27T19:07:01.000Z', '2023-10-27T14:36:06.000Z', '2023-10-27T18:09:16.000Z', '2023-10-27T14:36:06.000Z', '2023-10-27T18:09:16.000Z', '2023-10-27T15:59:01.000Z', '2023-10-27', '2023-10-27T20:53:34.000Z', '2023-10-26T18:29:58.000Z', '2023-04-03T08:22:58.000Z', 'unknown', '2023-10-26T23:09:24.000Z', '2023-10-27T06:18:22.000Z', '2023-10-27T14:56:03.000Z', '2023-10-26T15:04:36.000Z', '2023-10-26T06:54:34.000Z', '2023-10-28T08:23:08.000Z', '2023-04-28T18:15:11.000Z', '2023-10-28T08:04:02.000Z', '2023-10-26T18:29:58.000Z', '2023-10-28T07:17:51.000Z', '2023-10-28T00:06:55.000Z', '2023-10-28T00:11:27.000Z', '2023-10-27T23:25:32+00:00', '2023-10-28T08:22:22.000Z', '2023-10-27T23:52:02.000Z', '2023-10-27T09:53:02.000Z', '2023-10-27T09:12:53.000Z', '2023-10-28T12:35:08.000Z', '2023-10-28T09:36:20.000Z', '2023-10-28T03:37:36.000Z', '2023-10-27T23:08:45.000Z', '2023-10-28T11:31:44.000Z', '2023-10-27T19:19:39.000Z', '2023-10-27T17:17:15.000Z', '2023-10-28T14:40:18.000Z', '2023-10-27T23:33:16.000Z', '2023-10-27T15:36:43.000Z', 'unknown', 'unknown', 'unknown', 'unknown', 'unknown', 'unknown', 'unknown', 'unknown', '2023-10-28T13:40:32+00:00', '2023-10-28T06:57:04+00:00', '2023-10-28', '2023-10-28T05:48:08+00:00', '2023-10-28T09:55:33+00:00', '2023-10-28T05:29:45+00:00', '2023-10-28T12:35:08.000Z', '2023-10-28T09:36:20.000Z', '2023-10-28T03:37:36.000Z', '2023-10-27T23:08:45.000Z', '2023-10-28T11:31:44.000Z', '2023-10-27T19:19:39.000Z', '2023-10-27T17:17:15.000Z', '2023-10-28T14:40:18.000Z', '2023-10-27T23:33:16.000Z', '2023-10-27T15:36:43.000Z']\n",
      "76\n",
      "10\n"
     ]
    }
   ],
   "source": [
    "\n",
    "#print(time)\n",
    "#print(len(time))\n",
    "#counter=0\n",
    "#for i in range(len(time)):\n",
    " #   if time[i]=='unknown':\n",
    "  #    counter=counter+1\n",
    "#print(counter)\n",
    "      "
   ]
  },
  {
   "cell_type": "code",
   "execution_count": 9,
   "metadata": {},
   "outputs": [
    {
     "name": "stdout",
     "output_type": "stream",
     "text": [
      "no header\n",
      "no header\n",
      "no header\n",
      "no header\n",
      "no header\n",
      "no header\n",
      "['unknown', 'BBC reports from Gaza after heaviest Israeli bombing yet', \"Israeli troops clear Gaza areas 'slice by slice', but is this an invasion?\", \"Netanyahu meets Israeli hostages' families anxious over Gaza war plans\", 'What is happening in Israel and Gaza, and what is Hamas?', 'Could an Israeli ground invasion of Gaza meet its aims?', 'Armita Geravand: Iranian girl who collapsed on Tehran metro dies', 'Kazakhstan mine fire leaves at least 32 dead', 'Maine mass shooting suspect found dead', 'At least 32 dead and 63 injured in Egypt car crash', \"Going undercover to reveal people smugglers' sales tactics\", 'Fisherman missing for two weeks found in raft and ate salmon to survive', 'Lawsuit accuses Abercrombie & Fitch of funding sex-trafficking operation', 'Hate crime soars in London during Gaza conflict', 'Donald Trump and children to testify in fraud case', \"Taylor Swift's 1989: What's new on Taylor's Version and why has she re-recorded it?\", 'Spanish Church sexual abuse affected 200,000 children, commission finds', \"Taylor Swift's 1989: What's new on Taylor's Version and why has she re-recorded it?\", 'Spanish Church sexual abuse affected 200,000 children, commission finds', 'Boris Johnson: Former prime minister to host GB News show', 'unknown', \"FTX: 'Crypto King' admits people got hurt as he speaks out in trial\", \"Shakira's ex and former footballer Gerard Pique falls off stage\", 'unknown', 'unknown', 'Quiz of the week: Why is Wednesday Addams missing out on Halloween?', \"Africa's week in pictures: 20-26 October 2023\", \"All baa myself: Is this Britain's loneliest sheep?\", \"The Beatles to release emotional 'final song', Now and Then, next week\", 'Watch: Seaside hotels smashed by Hurricane Otis in Mexico', 'BBC reports from Gaza after heaviest Israeli bombing yet', 'BBC World Service', 'Video appears to show Israeli ground forces in Gaza', \"Shakira's ex and former footballer Gerard Pique falls off stage\", 'What happened in Gaza overnight?', 'History of slavery continues to haunt British royals', 'Week in pictures: 21-27 October 2023', 'Rugby World Cup 2023 final: New Zealand vs South Africa - where the game will be won and lost', \"Evelyn Hollow: 'Don't call me a ghost hunter'\", \"The man rescuing Britain's 'magical' glow worms\", \"Why Li Keqiang's death is dangerous for Xi Jinping\", \"Taylor Swift's biggest album 1989 returns with new tracks from the vault\", \"Israeli troops clear Gaza areas 'slice by slice', but is this an invasion?\", 'Armita Geravand: Iranian girl who collapsed on Tehran metro dies', 'Maine mass shooting suspect found dead', 'Fisherman missing for two weeks found in raft and ate salmon to survive', 'At least 32 dead and 63 injured in Egypt car crash', 'Doubt cast on indigenous roots of Buffy Sainte-Marie', 'Gaza before and after: Satellite images show destruction', 'Pro-Palestinian protest in London sees thousands call for bombing to stop', \"Going undercover to reveal people smugglers' sales tactics\", 'Lawsuit accuses Abercrombie & Fitch of funding sex-trafficking operation', 'Alien language: If we met extraterrestrials, could we talk to them?', 'The dark side of touch-screen tipping', 'A Turkish secret hiding in plain sight', 'The Enfield Poltergeist: Why the unexplained mystery that shocked 1970s Britain continues to disturb', 'Are Halloween pumpkins a future superfood?', 'The employees secretly using AI at work', \"Gladstone's: The UK's only residential library\", 'unknown', 'Cricket World Cup 2023: Australia edge past New Zealand in high-scoring thriller', 'Rugby World Cup 2023 final: New Zealand vs South Africa preview', 'unknown', 'Rugby World Cup 2023: England end tournament with hope renewed', \"Cricket World Cup 2023: England's players all 'feeling the heat', says Marcus Trescothick\", 'World Series 2023: Texas Rangers beat Arizona Diamondbacks 6-5 after walk-off homer in 11th inning', \"Israeli troops clear Gaza areas 'slice by slice', but is this an invasion?\", 'Armita Geravand: Iranian girl who collapsed on Tehran metro dies', 'Maine mass shooting suspect found dead', 'Fisherman missing for two weeks found in raft and ate salmon to survive', 'At least 32 dead and 63 injured in Egypt car crash', 'Doubt cast on indigenous roots of Buffy Sainte-Marie', 'Gaza before and after: Satellite images show destruction', 'Pro-Palestinian protest in London sees thousands call for bombing to stop', \"Going undercover to reveal people smugglers' sales tactics\", 'Lawsuit accuses Abercrombie & Fitch of funding sex-trafficking operation']\n"
     ]
    }
   ],
   "source": [
    "headers=[]\n",
    "#here are a few exceptions, because the bbc articles have different html structures\n",
    "def get_headers():\n",
    " for i in range(len(news_urls)):\n",
    "  driver.get(news_urls[i])\n",
    "  try:\n",
    "   header=driver.find_element(By.ID, 'main-heading')\n",
    "   headers.append(header.text)\n",
    "  except:\n",
    "   try:\n",
    "     header = driver.find_element(By.CLASS_NAME, 'qa-story-headline')\n",
    "     headers.append(header.text)\n",
    "   except:\n",
    "    try:\n",
    "     header = driver.find_element(By.CLASS_NAME, 'article-headline__text')\n",
    "     headers.append(header.text)\n",
    "    except:\n",
    "     header='unknown'\n",
    "     headers.append(header)\n",
    "     print('no header')\n",
    " print(headers)\n",
    "#get_headers()\n",
    "\n",
    "\n"
   ]
  },
  {
   "cell_type": "code",
   "execution_count": 10,
   "metadata": {},
   "outputs": [
    {
     "name": "stdout",
     "output_type": "stream",
     "text": [
      "76\n",
      "6\n",
      "https://www.bbc.com/news/live/world-middle-east-67246761\n",
      "https://www.bbc.com/news/world-middle-east-67248399\n",
      "https://www.bbc.com/news/world-middle-east-67248454\n",
      "https://www.bbc.com/news/world-middle-east-67248317\n",
      "https://www.bbc.com/news/world-middle-east-67039975\n",
      "https://www.bbc.com/news/world-middle-east-67084141\n",
      "https://www.bbc.com/news/world-middle-east-67248449\n",
      "https://www.bbc.com/news/world-europe-67248267\n",
      "https://www.bbc.com/news/world-us-canada-67247726\n",
      "https://www.bbc.com/news/world-middle-east-67248455\n",
      "https://www.bbc.com/news/world-asia-66984050\n",
      "https://www.bbc.com/news/world-us-canada-67246163\n",
      "https://www.bbc.com/news/world-us-canada-67238812\n",
      "https://www.bbc.com/news/uk-67241374\n",
      "https://www.bbc.com/news/world-us-canada-67243100\n",
      "https://www.bbc.com/news/entertainment-arts-67237220\n",
      "https://www.bbc.com/news/world-europe-67238572\n",
      "https://www.bbc.com/news/entertainment-arts-67237220\n",
      "https://www.bbc.com/news/world-europe-67238572\n",
      "https://www.bbc.com/news/entertainment-arts-67242822\n",
      "https://www.bbc.com/sport/football/67245258\n",
      "https://www.bbc.com/news/business-67242519\n",
      "https://www.bbc.com/news/world-latin-america-67234333\n",
      "https://www.bbc.com/news/world_radio_and_tv\n",
      "https://www.bbc.com/sounds/play/live:bbc_world_service\n",
      "https://www.bbc.com/news/world-67222333\n",
      "https://www.bbc.com/news/world-africa-67227818\n",
      "https://www.bbc.com/news/uk-scotland-highlands-islands-67237956\n",
      "https://www.bbc.com/news/entertainment-arts-67207699\n",
      "https://www.bbc.com/news/world-latin-america-67216467\n",
      "https://www.bbc.com/news/world-middle-east-67248399\n",
      "https://www.bbc.com/news/world-65432059\n",
      "https://www.bbc.com/news/world-middle-east-67248398\n",
      "https://www.bbc.com/news/world-latin-america-67234333\n",
      "https://www.bbc.com/news/world-middle-east-67248397\n",
      "https://www.bbc.com/news/uk-67150357\n",
      "https://www.bbc.com/news/in-pictures-67226465\n",
      "https://www.bbc.com/sport/rugby-union/67241836\n",
      "https://www.bbc.com/news/uk-scotland-67089531\n",
      "https://www.bbc.com/news/science-environment-67240450\n",
      "https://www.bbc.com/news/world-asia-china-67236049\n",
      "https://www.bbc.com/news/entertainment-arts-66910595\n",
      "https://www.bbc.com/news/world-middle-east-67248454\n",
      "https://www.bbc.com/news/world-middle-east-67248449\n",
      "https://www.bbc.com/news/world-us-canada-67247726\n",
      "https://www.bbc.com/news/world-us-canada-67246163\n",
      "https://www.bbc.com/news/world-middle-east-67248455\n",
      "https://www.bbc.com/news/world-us-canada-67242752\n",
      "https://www.bbc.com/news/world-middle-east-67241290\n",
      "https://www.bbc.com/news/uk-67246847\n",
      "https://www.bbc.com/news/world-asia-66984050\n",
      "https://www.bbc.com/news/world-us-canada-67238812\n",
      "https://www.bbc.com/future/article/20231027-alien-language-if-we-met-extraterrestrials-could-we-talk-to-them\n",
      "https://www.bbc.com/worklife/article/20231016-the-dark-side-of-touch-screen-tipping\n",
      "https://www.bbc.com/travel/article/20231027-a-turkish-secret-hiding-in-plain-sight\n",
      "https://www.bbc.com/culture/article/20231026-the-enfield-poltergeist-why-the-unexplained-mystery-that-shocked-1970s-britain-continues-to-disturb\n",
      "https://www.bbc.com/future/article/20231026-are-halloween-pumpkins-a-future-superfood\n",
      "https://www.bbc.com/worklife/article/20231017-the-employees-secretly-using-ai-at-work\n",
      "https://www.bbc.com/travel/article/20231022-gladstones-the-uks-only-residential-library\n",
      "https://www.bbc.com/sport/live/football/66599786\n",
      "https://www.bbc.com/sport/cricket/67248375\n",
      "https://www.bbc.com/sport/rugby-union/67241976\n",
      "https://www.bbc.com/sport/football/67179273\n",
      "https://www.bbc.com/sport/rugby-union/67242547\n",
      "https://www.bbc.com/sport/cricket/67248929\n",
      "https://www.bbc.com/sport/baseball/67246857\n",
      "https://www.bbc.com/news/world-middle-east-67248454\n",
      "https://www.bbc.com/news/world-middle-east-67248449\n",
      "https://www.bbc.com/news/world-us-canada-67247726\n",
      "https://www.bbc.com/news/world-us-canada-67246163\n",
      "https://www.bbc.com/news/world-middle-east-67248455\n",
      "https://www.bbc.com/news/world-us-canada-67242752\n",
      "https://www.bbc.com/news/world-middle-east-67241290\n",
      "https://www.bbc.com/news/uk-67246847\n",
      "https://www.bbc.com/news/world-asia-66984050\n",
      "https://www.bbc.com/news/world-us-canada-67238812\n"
     ]
    }
   ],
   "source": [
    "#for item in headers:\n",
    "  #print(item)\n",
    "print(len(headers))\n",
    "counter=0\n",
    "for i in range(len(headers)):\n",
    "    if headers[i]=='unknown':\n",
    "      counter=counter+1\n",
    "print(counter)\n",
    "for item in news_urls:\n",
    "  print(item)\n",
    "      "
   ]
  },
  {
   "cell_type": "code",
   "execution_count": 11,
   "metadata": {},
   "outputs": [
    {
     "name": "stdout",
     "output_type": "stream",
     "text": [
      "{'header': \"Going undercover to reveal people smugglers' sales tactics\", 'url': 'https://www.bbc.com/news/world-asia-66984050', 'timestamp': '2023-10-27T23:33:16.000Z', 'text_content': 'Going undercover to reveal people smugglers\\' sales tactics\\nPublished\\n15 hours ago\\nShare\\nIMAGE SOURCE,\\nGETTY IMAGES\\nImage caption,\\nMigrants from Pakistan and other countries have been crossing into Europe via Turkey\\nBy Reha Kansara, Samrah Fatima & Jasmin Dyer\\nBBC Trending, BBC Urdu & BBC Newsnight\\n\"There is nothing to be worried about. Whether they\\'re 12 or 18 years old, we take guys of these ages too.\"\\nA people smuggler in Quetta, who arranges illegal routes out of Pakistan, is explaining his business model to an undercover BBC journalist. For 2.5m Pakistani rupees ($9000; £7,500), a young man can arrive in Europe \"safe and sound\" in approximately three weeks, he says, by crossing the border into Iran on foot and then travelling by road via Turkey to Italy. His tone is reassuring.\\n\"He should keep snacks. He should definitely carry good quality shoes, and two or three sets of clothes. That\\'s it. He can buy water from Quetta. He will call upon reaching Quetta and a guy will come and receive him.\"\\nThe smuggler - Azam - claims hundreds of migrants cross the Pakistan border into Iran every day. He downplays the risks to our reporter, who is posing as a man wanting to bring his brother to the UK.\\nWith inflation soaring in the country and the Pakistani rupee plummeting in value, many people are looking to move. Pakistani authorities have told the BBC nearly 13,000 people left Pakistan to go to Libya or Egypt in the first six months of 2023, compared with close to 7,000 in the whole of 2022.\\nOften the journeys they take are dangerous. In June, hundreds of migrants died after a cramped fishing vessel sank off the coast of Greece. At least 350 Pakistanis were thought to be on board.\\n\"Even if he gets caught [along the way], he is only going to end up back at home. No-one is going to kidnap him and ask for ransom,\" Azam says.\\nBut migrants who attempt to travel via Libya can fall prey to militias and criminal gangs. One Pakistani man we spoke to, who used a people smuggler to travel to Italy, says he was kidnapped and imprisoned for three months in Libya.\\nSaeed (not his real name) says he was only released after his family paid a ransom of $2,500 (£2,000).\\nMedia caption,\\nWatch: The BBC spoke to a people smuggler who admitted that the route he was offering was illegal\\n\\'DM for game\\'\\nMany smugglers are operating in plain sight on mainstream social media platforms like Facebook and TikTok - through accounts that have tens of thousands of followers.\\nSince May, the BBC has been monitoring social media accounts promoting illegal migration routes. We have found that the smugglers\\' tactics are concealed by a web of euphemisms that enable them to sidestep content moderation and law enforcement. They arrange trips and payments privately via direct messages and WhatsApp.\\nCode words like \"dunki\" and \"game\" are used to promote illegal routes to Europe. \"Dunki\" refers to boat crossings and \"game\" describes the journeys that migrants will take from start to finish.\\nYou can listen to \"BBC Trending: Exposing people smugglers\" on BBC Sounds.\\nThe three most common routes from Pakistan transit through Turkey, Iran or Libya before reaching their final destination in Europe.\\nSince the Greek migrant boat disaster, people smugglers we monitored have been increasingly promoting \"taxi games\" - shorthand for routes by road through Eastern Europe - as the favoured smuggling method.\\nSmugglers\\' social media accounts post videos of groups of migrants hiding in woods and running into minivans, with agents\\' names and mobile phone numbers superimposed on top. On WhatsApp, customers and \"agents\" exchange messages about the next \"game\" in group chats with hundreds of members.\\nAzam specialises in \"taxi games\", claiming they are safer than sea routes. But there are risks to those land routes too.\\nThe UNHCR - the UN\\'s refugee agency - says freezing temperatures in winter as migrants attempt to cross borders on foot, as well as road accidents, have resulted in deaths.\\nFive other smugglers we spoke to also recommended \"taxi routes\". One said he could get someone to the UK from France for £1,000 ($1,228).\\nWe put our evidence to Meta, which owns Facebook and WhatsApp, and TikTok - that their platforms are being used to promote illegal people smuggling.\\nMeta took down all links to the Facebook groups and pages we flagged to them, but did not take down the profiles attached to them. It did not remove WhatsApp groups, because its policy of end-to-end encryption protects privacy and does not allow for moderation.\\nTikTok took down the links to the accounts we alerted them to. It says the company \"has zero tolerance for content that facilitates human smuggling\" and \"removed accounts and content that violate their policies\".\\nImage caption,\\nSaeed says he was captured in Libya while trying to get to Europe\\n\\'Journey of death\\'\\nSaeed left his town in Pakistani-administered Kashmir almost a year ago because of a lack of employment opportunities for young men in his area - and clashes along the border with Indian-administered Kashmir. He lived very close to the Line of Control - the de facto border between India and Pakistan in the contested region - but has been in Italy for 10 months.\\nHe says he was influenced to come to Europe by a combination of TikTok videos he saw online and by a friend who had left Pakistan a few months before him.\\n\"I heard that it\\'s very simple to come here and it would take about 15-20 days. But it was all a lie. It took me more than seven months,\" he says.\\nSaeed is awaiting the outcome of his asylum claim in Italy and says he now regrets taking the illegal route, calling it \"a journey of death\". But he regularly posts videos on TikTok of his new life in Italy.\\nA few clips document his route from Pakistan, mostly showing an excited young man on his journey. These upbeat videos follow a TikTok trend which many young Pakistani men like him, who arrive in Europe, have participated in.\\nIn one video captioned \"Pakistan to Libya\", a friend he travelled with films them both, selfie-style, sitting on a plane, smiling.\\nHe says that it\\'s \"just a form of art\" to post videos like this and argues they are \"not a true reflection of society\".\\nTwo weeks after our undercover journalist first contacts the smuggler, we call him again - this time revealing we are BBC journalists.\\nWhen we challenge Azam about the dangers of the illegal routes he is promoting, he hangs up.\\nRelated Topics\\nPakistan\\nTikTok\\nPeople smuggling\\nMeta\\nMigration\\nMore on this story\\nDisaster boat carried 350 Pakistanis, says minister\\nPublished\\n23 June\\nInside the operation smuggling young men to Europe\\nPublished\\n1 August\\nAre migrant YouTubers influencing others to travel to the EU?\\nPublished\\n20 February 2021', 'author': 'By Reha Kansara, Samrah Fatima & Jasmin Dyer'}\n"
     ]
    }
   ],
   "source": [
    "article1 = {\n",
    "  \"header\": headers[10],\n",
    "  \"url\": news_urls[10],\n",
    "  \"timestamp\":time[10],\n",
    "  \"text_content\":text_contents[10],\n",
    "  \"author\":all_authors[10]\n",
    "}\n",
    "\n",
    "print(article1)\n",
    "\n",
    "\n"
   ]
  },
  {
   "cell_type": "code",
   "execution_count": null,
   "metadata": {},
   "outputs": [
    {
     "name": "stdout",
     "output_type": "stream",
     "text": [
      "{'header': 'unknown', 'url': 'https://www.bbc.com/news/live/world-middle-east-67246761', 'timestamp': 'unknown', 'text_content': 'Posted at 15:29\\n15:29\\nFears international response to Gaza is starting to diverge\\nDamian Grammaticas\\nPolitical correspondent\\nAs Israel has relentlessly ratcheted up its military operation, its closest allies have signalled their continued support.\\nJohn Kirby, the national security spokesperson in the Biden White House, told CBS News Israel had “every right and responsibility to defend itself and take the fight to Hamas and its leaders” who he said were “sheltering behind civilians in Gaza,” words echoed this morning by the UK Foreign Secretary James Cleverly.\\nKirby was explicit that the US would continue to make sure Israel had “the tools and capabilities” to prosecute its war against Hamas.\\nBoth men said they were in favour of a “pause” for humanitarian aid to reach Gaza.\\nBut the fears for what’s happening to civilians in Gaza mean international responses are starting to diverge.\\nThe UN General Assembly last night adopted a non-binding resolution calling for “an immediate, durable, and sustained humanitarian truce leading to a cessation of hostilities.” 120 nations backed it, including countries like France, Spain, Ireland and Belgium.\\nThe US and 13 other countries opposed the resolution which did not mention Hamas. Israel voiced outrage calling it “infamy”.\\nThe vote has no legal force. But it’s a sign of the way views in the international community could polarise as the situation for civilians in Gaza worsens.\\nArticle share tools\\nShare\\nView more share options\\nShare this post\\nCopy this link\\nRead more about these links.', 'author': 'no author'}\n"
     ]
    }
   ],
   "source": [
    "articles_info={}\n",
    "for i in range(len(news_urls)):\n",
    " article_info_i={ \n",
    "  \"header\": headers[i],\n",
    "  \"url\": news_urls[i],\n",
    "  \"timestamp\":time[i],\n",
    "  \"text_content\":text_contents[i],\n",
    "  \"author\":all_authors[i]\n",
    " }\n",
    " articles_info[i]=article_info_i\n",
    "print(articles_info[0])"
   ]
  },
  {
   "cell_type": "code",
   "execution_count": null,
   "metadata": {},
   "outputs": [],
   "source": [
    "print(articles_info[4])"
   ]
  },
  {
   "cell_type": "markdown",
   "metadata": {},
   "source": []
  }
 ],
 "metadata": {
  "kernelspec": {
   "display_name": "Python 3",
   "language": "python",
   "name": "python3"
  },
  "language_info": {
   "codemirror_mode": {
    "name": "ipython",
    "version": 3
   },
   "file_extension": ".py",
   "mimetype": "text/x-python",
   "name": "python",
   "nbconvert_exporter": "python",
   "pygments_lexer": "ipython3",
   "version": "3.11.6"
  }
 },
 "nbformat": 4,
 "nbformat_minor": 2
}
