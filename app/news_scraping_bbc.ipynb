{
 "cells": [
  {
   "cell_type": "code",
   "execution_count": 3,
   "metadata": {},
   "outputs": [],
   "source": [
    "from selenium import webdriver\n",
    "from selenium.webdriver.chrome.options import Options\n",
    "from selenium.webdriver.chrome.service import Service\n",
    "from webdriver_manager.chrome import ChromeDriverManager\n",
    "from selenium.webdriver.common.by import By"
   ]
  },
  {
   "cell_type": "code",
   "execution_count": 4,
   "metadata": {},
   "outputs": [
    {
     "name": "stdout",
     "output_type": "stream",
     "text": [
      "Home - BBC News\n"
     ]
    }
   ],
   "source": [
    "options = Options()\n",
    "options.add_argument('--headless')\n",
    "options.add_argument('--no-sandbox')\n",
    "options.add_argument('--disable-dev-shm-usage')\n",
    "driver = webdriver.Chrome(service=Service(ChromeDriverManager().install()), options=options)\n",
    "\n",
    " \n",
    "driver.get(\"https://www.bbc.com/news\")\n",
    "print(driver.title)"
   ]
  },
  {
   "cell_type": "markdown",
   "metadata": {},
   "source": []
  },
  {
   "cell_type": "code",
   "execution_count": 5,
   "metadata": {},
   "outputs": [
    {
     "name": "stdout",
     "output_type": "stream",
     "text": [
      "Israel pounds Gaza with non-stop strikes after overnight bombing causes 'total chaos'\n"
     ]
    }
   ],
   "source": [
    "#here we extract all headers from the articels\n",
    "news_headers=[]\n",
    "def extract_headers():\n",
    "  elements=driver.find_elements(By.CLASS_NAME, 'gs-c-promo-heading__title')\n",
    "  for element in elements:\n",
    "    if element.text:\n",
    "        news_headers.append(element.text)\n",
    "#driver.quit()\n",
    "extract_headers()\n",
    "print(news_headers[0])\n",
    "    \n",
    "    "
   ]
  },
  {
   "cell_type": "code",
   "execution_count": 6,
   "metadata": {},
   "outputs": [
    {
     "name": "stdout",
     "output_type": "stream",
     "text": [
      "76\n",
      "76\n",
      "https://www.bbc.com/news/world-us-canada-67238812\n"
     ]
    }
   ],
   "source": [
    "news_urls=[]\n",
    "def get_urls():\n",
    " elements_for_url=driver.find_elements(By.CLASS_NAME, 'gs-c-promo-heading')\n",
    " for element in elements_for_url:\n",
    "        news_urls.append(element.get_attribute('href'))\n",
    " print(len(elements_for_url))\n",
    "get_urls()\n",
    "print(len(news_urls))#list with all the urls to the articels. should be equally long to elements_for_url\n",
    "print(news_urls[12])"
   ]
  },
  {
   "cell_type": "code",
   "execution_count": 7,
   "metadata": {},
   "outputs": [
    {
     "name": "stdout",
     "output_type": "stream",
     "text": [
      "{'header': \"Israel pounds Gaza with non-stop strikes after overnight bombing causes 'total chaos'\", 'url': 'https://www.bbc.com/news/live/world-middle-east-67246761'}\n"
     ]
    }
   ],
   "source": [
    "article1 = {\n",
    "  \"header\": news_headers[0],\n",
    "  \"url\": news_urls[0],\n",
    "}\n",
    "print(article1)"
   ]
  },
  {
   "cell_type": "code",
   "execution_count": 9,
   "metadata": {},
   "outputs": [
    {
     "name": "stdout",
     "output_type": "stream",
     "text": [
      "article not found\n",
      "article not found\n",
      "76\n"
     ]
    }
   ],
   "source": [
    "#here we apply the method from the last cell to all articels. This takes approximately 2 minutes with a total of 76 articels today\n",
    "text_contents=[]\n",
    "def extract_contents():\n",
    " for i in range(len(news_urls)):\n",
    "  driver.get(news_urls[i]) #we go to the specific article by using the url\n",
    "  try:\n",
    "   article = driver.find_element(By.TAG_NAME, 'article')\n",
    "   text_contents.append(article.text)\n",
    "  except: #exception if no article element is there. doesn´t happen often, but has to be handled\n",
    "   article = driver.find_element(By.TAG_NAME, 'body')\n",
    "   text_contents.append(article.text)\n",
    "   print(\"article not found\") #in this test, 3 of 73 articels had no article element. \n",
    "extract_contents()\n",
    "print(len(text_contents)) "
   ]
  },
  {
   "cell_type": "code",
   "execution_count": 10,
   "metadata": {},
   "outputs": [
    {
     "name": "stdout",
     "output_type": "stream",
     "text": [
      "Posted at 13:11\n",
      "13:11\n",
      "Israeli vehicles in north-west Gaza, Hamas says\n",
      "About an hour ago, the Telegram account of the Izzedine al-Qassam Brigades, the military arm of Hamas, said it had shelled Israeli vehicles in north-west Gaza.\n",
      "This follows earlier comments from the Israeli military that troops and tanks had entered Gaza overnight and were \"still in the field\". The military has not said where exactly it entered Gaza.\n",
      "We have not yet been able to verify the location of footage released by Israel's military earlier today, which it said showed its tanks and other vehicles inside Gaza. It said last night its ground troops were \"expanding operations\".\n",
      "Article share tools\n",
      "Share\n",
      "View more share options\n",
      "Share this post\n",
      "Copy this link\n",
      "Read more about these links.\n"
     ]
    }
   ],
   "source": [
    "print(text_contents[0\n",
    "])#test"
   ]
  },
  {
   "cell_type": "code",
   "execution_count": 18,
   "metadata": {},
   "outputs": [
    {
     "name": "stdout",
     "output_type": "stream",
     "text": [
      "By Reha Kansara, Samrah Fatima & Jasmin Dyer\n",
      "76\n",
      "['no author', 'no author', 'By Jeremy Bowen', 'By David Gritten', 'no author', 'By Paul Kirby', 'By Ruth Comerford', 'By Ruth Comerford', 'By Holly Honderich in Maine and Max Matza', 'no author', 'By Reha Kansara, Samrah Fatima & Jasmin Dyer', 'By Max Matza', 'By Rianna Croxford and Ruth Evans', 'By Tom Symonds', 'By Nadine Yousif', 'By Paul Glynn, Mark Savage & Ian Youngs', 'By Kathryn Armstrong', 'By Paul Glynn, Mark Savage & Ian Youngs', 'By Kathryn Armstrong', 'By Annabel Rackham & Becky Morton', 'no author', 'By Natalie Sherman & Tom Espiner', 'no author', 'no author', 'no author', 'no author', 'no author', 'no author', 'By Paul Glynn & Mark Savage', 'no author', 'no author', 'no author', 'no author', 'no author', 'no author', 'By Sean Coughlan', 'no author', 'By Alastair Telfer', 'By Craig Williams', 'By Helen Briggs', 'By Stephen McDonell', 'By Mark Savage', 'By Jeremy Bowen', 'By Ruth Comerford', 'By Holly Honderich in Maine and Max Matza', 'By Ruth Comerford', 'By Max Matza', 'By Chloe Kim', 'By The Visual Journalism Team', 'By Reha Kansara, Samrah Fatima & Jasmin Dyer', 'By Tom Symonds', 'By Paul Glynn, Mark Savage & Ian Youngs', 'By Katherine Latham', 'By Leah Carroll', 'By Anthony Ham', 'By Natasha Tripney', 'By Rashi Goel', 'By Alex Christian', 'By Laura Hall', 'no author', 'By Ffion Wynne', 'By Mike Henson', 'no author', 'By Andrew Benson', 'By Mike Henson', 'By Matthew Henry', 'By Jeremy Bowen', 'By Ruth Comerford', 'By Holly Honderich in Maine and Max Matza', 'By Ruth Comerford', 'By Max Matza', 'By Chloe Kim', 'By The Visual Journalism Team', 'By Reha Kansara, Samrah Fatima & Jasmin Dyer', 'By Tom Symonds', 'By Paul Glynn, Mark Savage & Ian Youngs']\n",
      "20\n"
     ]
    }
   ],
   "source": [
    "def get_authors(article):\n",
    "    authors = []\n",
    "    lines = article.split('\\n')\n",
    "    for line in lines[:13]:  # Loop through lines from lines[0] to lines[10]\n",
    "        if \"By\" in line:\n",
    "            authors.append(line)\n",
    "    return authors\n",
    "\n",
    "all_authors = []\n",
    "def get_all_authors():\n",
    "    for article in text_contents:\n",
    "        authors = get_authors(article)\n",
    "        if not authors:  # Check if authors is an empty list\n",
    "            all_authors.append(\"no author\")\n",
    "        else:\n",
    "            all_authors.extend(authors)\n",
    "\n",
    "# Print the authors\n",
    "for author in all_authors:\n",
    "    print(author)\n",
    "\n",
    "\n",
    "get_all_authors()\n",
    "print(all_authors[10])\n",
    "print(len(all_authors))\n",
    "print(all_authors)\n",
    "\n",
    "counter=0\n",
    "for i in range(len(all_authors)):\n",
    "    if all_authors[i]=='no author':\n",
    "      counter=counter+1\n",
    "print(counter)\n",
    "\n",
    "#<p class=\"lx-commentary__meta-reporter gel-long-primer\" data-reactid=\".18n36quudgy.0.2.0.0.1.0.1.0.$lx-tabs0.0.$lx-commentary.$lx-commentary.0.2.0.0\">  Edited by Nadia Ragozhina and Samuel Horti</p>\n",
    "#<div class=\"ssrcss-68pt20-Text-TextContributorName e8mq1e96\">By Jeremy Bowen</div>\n",
    "#<div class=\"ssrcss-68pt20-Text-TextContributorName e8mq1e96\">By David Gritten</div>"
   ]
  },
  {
   "cell_type": "code",
   "execution_count": 26,
   "metadata": {},
   "outputs": [
    {
     "name": "stdout",
     "output_type": "stream",
     "text": [
      "no date\n",
      "no date\n",
      "no date\n",
      "no date\n",
      "no date\n",
      "no date\n",
      "no date\n",
      "no date\n",
      "['unknown', '2023-10-28T08:23:08.000Z', '2023-10-28T12:35:08.000Z', '2023-10-28T13:00:16.000Z', '2023-10-28T08:40:35.000Z', '2023-10-27T18:14:22.000Z', '2023-10-28T09:36:20.000Z', '2023-10-28T13:18:44.000Z', '2023-10-28T03:37:36.000Z', '2023-10-28T11:31:44.000Z', '2023-10-27T23:33:16.000Z', '2023-10-27T23:08:45.000Z', '2023-10-27T15:36:43.000Z', '2023-10-27T15:14:19.000Z', '2023-10-27T19:07:01.000Z', '2023-10-27T14:36:06.000Z', '2023-10-27T18:09:16.000Z', '2023-10-27T14:36:06.000Z', '2023-10-27T18:09:16.000Z', '2023-10-27T15:59:01.000Z', '2023-10-27', '2023-10-27T20:53:34.000Z', '2023-10-26T18:29:58.000Z', '2023-04-03T08:22:58.000Z', 'unknown', '2023-10-26T23:09:24.000Z', '2023-10-27T06:18:22.000Z', '2023-10-27T14:56:03.000Z', '2023-10-26T15:04:36.000Z', '2023-10-26T06:54:34.000Z', '2023-10-28T08:23:08.000Z', '2023-04-28T18:15:11.000Z', '2023-10-28T08:04:02.000Z', '2023-10-26T18:29:58.000Z', '2023-10-28T07:17:51.000Z', '2023-10-28T00:06:55.000Z', '2023-10-28T00:11:27.000Z', '2023-10-27T23:25:32+00:00', '2023-10-28T08:22:22.000Z', '2023-10-27T23:52:02.000Z', '2023-10-27T09:53:02.000Z', '2023-10-27T09:12:53.000Z', '2023-10-28T12:35:08.000Z', '2023-10-28T09:36:20.000Z', '2023-10-28T03:37:36.000Z', '2023-10-28T11:31:44.000Z', '2023-10-27T23:08:45.000Z', '2023-10-27T19:19:39.000Z', '2023-10-27T17:17:15.000Z', '2023-10-27T23:33:16.000Z', '2023-10-27T15:14:19.000Z', '2023-10-27T14:36:06.000Z', 'unknown', 'unknown', 'unknown', 'unknown', 'unknown', 'unknown', 'unknown', 'unknown', '2023-10-28T13:40:32+00:00', '2023-10-28T06:57:04+00:00', 'unknown', '2023-10-28T00:43:03+00:00', '2023-10-28T05:48:08+00:00', '2023-10-28T09:55:33+00:00', '2023-10-28T12:35:08.000Z', '2023-10-28T09:36:20.000Z', '2023-10-28T03:37:36.000Z', '2023-10-28T11:31:44.000Z', '2023-10-27T23:08:45.000Z', '2023-10-27T19:19:39.000Z', '2023-10-27T17:17:15.000Z', '2023-10-27T23:33:16.000Z', '2023-10-27T15:14:19.000Z', '2023-10-27T14:36:06.000Z']\n"
     ]
    }
   ],
   "source": [
    "time=[]\n",
    "def get_timestamps():\n",
    " for i in range(len(news_urls)):\n",
    "  driver.get(news_urls[i])\n",
    "  try:\n",
    "   time_element=driver.find_element(By.TAG_NAME, 'time')\n",
    "   date=(time_element.get_attribute('datetime'))\n",
    "   time.append(date)\n",
    "  except:\n",
    "    date='unknown'\n",
    "    time.append(date)\n",
    "    print('no date')\n",
    " for i in range(len(time)):\n",
    "  if time[i]==None:\n",
    "   time[i]='unknown'\n",
    " print(time)\n",
    "get_timestamps()\n"
   ]
  },
  {
   "cell_type": "code",
   "execution_count": 27,
   "metadata": {},
   "outputs": [
    {
     "name": "stdout",
     "output_type": "stream",
     "text": [
      "['unknown', '2023-10-28T08:23:08.000Z', '2023-10-28T12:35:08.000Z', '2023-10-28T13:00:16.000Z', '2023-10-28T08:40:35.000Z', '2023-10-27T18:14:22.000Z', '2023-10-28T09:36:20.000Z', '2023-10-28T13:18:44.000Z', '2023-10-28T03:37:36.000Z', '2023-10-28T11:31:44.000Z', '2023-10-27T23:33:16.000Z', '2023-10-27T23:08:45.000Z', '2023-10-27T15:36:43.000Z', '2023-10-27T15:14:19.000Z', '2023-10-27T19:07:01.000Z', '2023-10-27T14:36:06.000Z', '2023-10-27T18:09:16.000Z', '2023-10-27T14:36:06.000Z', '2023-10-27T18:09:16.000Z', '2023-10-27T15:59:01.000Z', '2023-10-27', '2023-10-27T20:53:34.000Z', '2023-10-26T18:29:58.000Z', '2023-04-03T08:22:58.000Z', 'unknown', '2023-10-26T23:09:24.000Z', '2023-10-27T06:18:22.000Z', '2023-10-27T14:56:03.000Z', '2023-10-26T15:04:36.000Z', '2023-10-26T06:54:34.000Z', '2023-10-28T08:23:08.000Z', '2023-04-28T18:15:11.000Z', '2023-10-28T08:04:02.000Z', '2023-10-26T18:29:58.000Z', '2023-10-28T07:17:51.000Z', '2023-10-28T00:06:55.000Z', '2023-10-28T00:11:27.000Z', '2023-10-27T23:25:32+00:00', '2023-10-28T08:22:22.000Z', '2023-10-27T23:52:02.000Z', '2023-10-27T09:53:02.000Z', '2023-10-27T09:12:53.000Z', '2023-10-28T12:35:08.000Z', '2023-10-28T09:36:20.000Z', '2023-10-28T03:37:36.000Z', '2023-10-28T11:31:44.000Z', '2023-10-27T23:08:45.000Z', '2023-10-27T19:19:39.000Z', '2023-10-27T17:17:15.000Z', '2023-10-27T23:33:16.000Z', '2023-10-27T15:14:19.000Z', '2023-10-27T14:36:06.000Z', 'unknown', 'unknown', 'unknown', 'unknown', 'unknown', 'unknown', 'unknown', 'unknown', '2023-10-28T13:40:32+00:00', '2023-10-28T06:57:04+00:00', 'unknown', '2023-10-28T00:43:03+00:00', '2023-10-28T05:48:08+00:00', '2023-10-28T09:55:33+00:00', '2023-10-28T12:35:08.000Z', '2023-10-28T09:36:20.000Z', '2023-10-28T03:37:36.000Z', '2023-10-28T11:31:44.000Z', '2023-10-27T23:08:45.000Z', '2023-10-27T19:19:39.000Z', '2023-10-27T17:17:15.000Z', '2023-10-27T23:33:16.000Z', '2023-10-27T15:14:19.000Z', '2023-10-27T14:36:06.000Z']\n",
      "11\n"
     ]
    }
   ],
   "source": [
    "\n",
    "print(time)\n",
    "counter=0\n",
    "for i in range(len(time)):\n",
    "    if time[i]=='unknown':\n",
    "      counter=counter+1\n",
    "print(counter)\n",
    "      "
   ]
  },
  {
   "cell_type": "markdown",
   "metadata": {},
   "source": []
  }
 ],
 "metadata": {
  "kernelspec": {
   "display_name": "Python 3",
   "language": "python",
   "name": "python3"
  },
  "language_info": {
   "codemirror_mode": {
    "name": "ipython",
    "version": 3
   },
   "file_extension": ".py",
   "mimetype": "text/x-python",
   "name": "python",
   "nbconvert_exporter": "python",
   "pygments_lexer": "ipython3",
   "version": "3.11.6"
  }
 },
 "nbformat": 4,
 "nbformat_minor": 2
}
