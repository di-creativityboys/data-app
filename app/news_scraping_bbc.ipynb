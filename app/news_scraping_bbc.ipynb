{
 "cells": [
  {
   "cell_type": "code",
   "execution_count": 22,
   "metadata": {},
   "outputs": [],
   "source": [
    "from selenium import webdriver\n",
    "from selenium.webdriver.chrome.options import Options\n",
    "from selenium.webdriver.chrome.service import Service\n",
    "from webdriver_manager.chrome import ChromeDriverManager\n",
    "from selenium.webdriver.common.by import By"
   ]
  },
  {
   "cell_type": "code",
   "execution_count": 23,
   "metadata": {},
   "outputs": [
    {
     "name": "stdout",
     "output_type": "stream",
     "text": [
      "Home - BBC News\n"
     ]
    }
   ],
   "source": [
    "options = Options()\n",
    "options.add_argument('--headless')\n",
    "options.add_argument('--no-sandbox')\n",
    "options.add_argument('--disable-dev-shm-usage')\n",
    "driver = webdriver.Chrome(service=Service(ChromeDriverManager().install()), options=options)\n",
    "\n",
    " \n",
    "driver.get(\"https://www.bbc.com/news\")\n",
    "print(driver.title)"
   ]
  },
  {
   "cell_type": "markdown",
   "metadata": {},
   "source": []
  },
  {
   "cell_type": "code",
   "execution_count": 24,
   "metadata": {},
   "outputs": [
    {
     "name": "stdout",
     "output_type": "stream",
     "text": [
      "UN says civilians in Gaza feel abandoned, as only 'crumbs' of aid get in\n"
     ]
    }
   ],
   "source": [
    "#here we extract all headers from the articels\n",
    "news_headers=[]\n",
    "def extract_headers():\n",
    "  elements=driver.find_elements(By.CLASS_NAME, 'gs-c-promo-heading__title')\n",
    "  for element in elements:\n",
    "    if element.text:\n",
    "        news_headers.append(element.text)\n",
    "#driver.quit()\n",
    "extract_headers()\n",
    "print(news_headers[0])\n",
    "    \n",
    "    "
   ]
  },
  {
   "cell_type": "code",
   "execution_count": 25,
   "metadata": {},
   "outputs": [
    {
     "name": "stdout",
     "output_type": "stream",
     "text": [
      "75\n",
      "75\n",
      "https://www.bbc.com/news/world-africa-67236078\n"
     ]
    }
   ],
   "source": [
    "news_urls=[]\n",
    "def get_urls():\n",
    " elements_for_url=driver.find_elements(By.CLASS_NAME, 'gs-c-promo-heading')\n",
    " for element in elements_for_url:\n",
    "        news_urls.append(element.get_attribute('href'))\n",
    " print(len(elements_for_url))\n",
    "get_urls()\n",
    "print(len(news_urls))#list with all the urls to the articels. should be equally long to elements_for_url\n",
    "print(news_urls[12])"
   ]
  },
  {
   "cell_type": "code",
   "execution_count": 26,
   "metadata": {},
   "outputs": [
    {
     "name": "stdout",
     "output_type": "stream",
     "text": [
      "Posted at 18:32 26 Oct\n",
      "18:32 26 Oct\n",
      "SHARED\n",
      "Hamas official ends BBC interview when questioned over killing of civilians\n",
      "Hugo Bachega\n",
      "Reporting from Beirut, Lebanon\n",
      "Today, I interviewed Ghazi Hamad, a long-time Hamas member and spokesman, who was in Beirut.\n",
      "Sitting down with a representative of a group that many governments deem a terrorist organisation was not a decision taken lightly. But it was a chance to ask, face to face, about the attacks Hamas carried out in Israel on 7 October in which it killed more than 1,400 people, mostly civilians, and took more than 200 people hostage.\n",
      "Hamad refused to acknowledge that his group had deliberately targeted civilians, despite the overwhelming evidence, including footage from body cameras worn by the fighters. He said the attack had been a “military operation” intended to target only military personnel.\n",
      "I repeatedly asked him how that could possibly have been an attack on military targets only when hundreds of civilians had been killed, including people at a music festival and in their own homes, with their families. He then abruptly interrupted the interview and walked away.\n",
      "Before that, Hamad suggested Hamas was open to negotiations over the civilian hostages it is holding in Gaza. But, he said, there needed to be certain circumstances for that to happen, without specifying which.\n",
      "Video content\n",
      "Video caption: Hamas official ends BBC interview after being questioned over killing of civilians in Israel\n",
      "Hamas official ends BBC interview after being questioned over killing of civilians in Israel\n",
      "Article share tools\n",
      "Share\n",
      "View more share options\n",
      "Share this post\n",
      "Copy this link\n",
      "Read more about these links.\n",
      "https://www.bbc.co.uk/news/live/world-middle-east-67223217?ns_mchannel=social&ns_source=twitter&ns_campaign=bbc_live&ns_linkname=653ab0d98ae7803bb6845083%26Hamas%20official%20ends%20BBC%20interview%20when%20questioned%20over%20killing%20of%20civilians%262023-10-26T18%3A32%3A58.207Z&ns_fee=0&pinned_post_locator=urn:asset:26c7f622-45ba-44df-89f5-18c228dc8434&pinned_post_asset_id=653ab0d98ae7803bb6845083&pinned_post_type=share\n"
     ]
    }
   ],
   "source": [
    "#extract text from the whole article, here for one as an example.\n",
    "driver.get(news_urls[4])\n",
    "article = driver.find_element(By.TAG_NAME, 'article')\n",
    "print(article.text) \n",
    "print(news_urls[4])"
   ]
  },
  {
   "cell_type": "code",
   "execution_count": 27,
   "metadata": {},
   "outputs": [
    {
     "name": "stdout",
     "output_type": "stream",
     "text": [
      "article not found\n",
      "article not found\n",
      "article not found\n",
      "72\n"
     ]
    }
   ],
   "source": [
    "#here we apply the method from the last cell to all articels. This takes approximately 2 minutes with a total of 76 articels today\n",
    "text_contents=[]\n",
    "def extract_contents():\n",
    " for i in range(len(news_urls)):\n",
    "  driver.get(news_urls[i]) #we go to the specific article by using the url\n",
    "  try:\n",
    "   article = driver.find_element(By.TAG_NAME, 'article')\n",
    "   text_contents.append(article.text)\n",
    "  except: #exception if no article element is there. doesn´t happen often, but has to be handled\n",
    "   print(\"article not found\") #in this test, 3 of 73 articels had no article element. Either this is neglected or we extract the text of the whole page for these three cases. Can be decided in the next meeting\n",
    "extract_contents()\n",
    "print(len(text_contents)) "
   ]
  },
  {
   "cell_type": "code",
   "execution_count": 31,
   "metadata": {},
   "outputs": [
    {
     "name": "stdout",
     "output_type": "stream",
     "text": [
      "Shakira's ex and former footballer Gerard Pique falls off stage\n",
      "Shakira's ex and former footballer Gerard Pique falls off stage\n",
      "Read description\n"
     ]
    }
   ],
   "source": [
    "print(text_contents[10])#test"
   ]
  },
  {
   "cell_type": "markdown",
   "metadata": {},
   "source": []
  }
 ],
 "metadata": {
  "kernelspec": {
   "display_name": "Python 3",
   "language": "python",
   "name": "python3"
  },
  "language_info": {
   "codemirror_mode": {
    "name": "ipython",
    "version": 3
   },
   "file_extension": ".py",
   "mimetype": "text/x-python",
   "name": "python",
   "nbconvert_exporter": "python",
   "pygments_lexer": "ipython3",
   "version": "3.11.6"
  }
 },
 "nbformat": 4,
 "nbformat_minor": 2
}
