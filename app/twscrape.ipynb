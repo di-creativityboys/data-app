{
 "cells": [
  {
   "cell_type": "code",
   "execution_count": 1,
   "metadata": {},
   "outputs": [
    {
     "name": "stderr",
     "output_type": "stream",
     "text": [
      "\u001b[32m2023-10-27 14:12:00.258\u001b[0m | \u001b[1mINFO    \u001b[0m | \u001b[36mtwscrape.db\u001b[0m:\u001b[36mmigrate\u001b[0m:\u001b[36m86\u001b[0m - \u001b[1mRunning migration to v1\u001b[0m\n",
      "\u001b[32m2023-10-27 14:12:00.268\u001b[0m | \u001b[1mINFO    \u001b[0m | \u001b[36mtwscrape.db\u001b[0m:\u001b[36mmigrate\u001b[0m:\u001b[36m86\u001b[0m - \u001b[1mRunning migration to v2\u001b[0m\n",
      "\u001b[32m2023-10-27 14:12:00.284\u001b[0m | \u001b[1mINFO    \u001b[0m | \u001b[36mtwscrape.db\u001b[0m:\u001b[36mmigrate\u001b[0m:\u001b[36m86\u001b[0m - \u001b[1mRunning migration to v3\u001b[0m\n",
      "\u001b[32m2023-10-27 14:12:00.310\u001b[0m | \u001b[1mINFO    \u001b[0m | \u001b[36mtwscrape.accounts_pool\u001b[0m:\u001b[36madd_account\u001b[0m:\u001b[36m97\u001b[0m - \u001b[1mAccount BBong20237297 added successfully (active=False)\u001b[0m\n",
      "\u001b[32m2023-10-27 14:12:00.317\u001b[0m | \u001b[1mINFO    \u001b[0m | \u001b[36mtwscrape.accounts_pool\u001b[0m:\u001b[36mlogin_all\u001b[0m:\u001b[36m155\u001b[0m - \u001b[1m[1/1] Logging in BBong20237297 - twitterscrapertest@rambler.ua\u001b[0m\n",
      "\u001b[32m2023-10-27 14:12:02.942\u001b[0m | \u001b[31m\u001b[1mERROR   \u001b[0m | \u001b[36mtwscrape.login\u001b[0m:\u001b[36mnext_login_task\u001b[0m:\u001b[36m181\u001b[0m - \u001b[31m\u001b[1mError in LoginAcid: [Errno 11001] getaddrinfo failed\u001b[0m\n",
      "\u001b[32m2023-10-27 14:12:02.943\u001b[0m | \u001b[31m\u001b[1mERROR   \u001b[0m | \u001b[36mtwscrape.accounts_pool\u001b[0m:\u001b[36mlogin\u001b[0m:\u001b[36m141\u001b[0m - \u001b[31m\u001b[1mError logging in to BBong20237297: [Errno 11001] getaddrinfo failed\u001b[0m\n",
      "\u001b[32m2023-10-27 14:12:02.965\u001b[0m | \u001b[1mINFO    \u001b[0m | \u001b[36mtwscrape.accounts_pool\u001b[0m:\u001b[36mlogin_all\u001b[0m:\u001b[36m155\u001b[0m - \u001b[1m[1/1] Logging in BBong20237297 - twitterscrapertest@rambler.ua\u001b[0m\n",
      "\u001b[32m2023-10-27 14:12:05.260\u001b[0m | \u001b[31m\u001b[1mERROR   \u001b[0m | \u001b[36mtwscrape.login\u001b[0m:\u001b[36mnext_login_task\u001b[0m:\u001b[36m181\u001b[0m - \u001b[31m\u001b[1mError in LoginAcid: [Errno 11001] getaddrinfo failed\u001b[0m\n",
      "\u001b[32m2023-10-27 14:12:05.262\u001b[0m | \u001b[31m\u001b[1mERROR   \u001b[0m | \u001b[36mtwscrape.accounts_pool\u001b[0m:\u001b[36mlogin\u001b[0m:\u001b[36m141\u001b[0m - \u001b[31m\u001b[1mError logging in to BBong20237297: [Errno 11001] getaddrinfo failed\u001b[0m\n",
      "\u001b[32m2023-10-27 14:12:05.274\u001b[0m | \u001b[1mINFO    \u001b[0m | \u001b[36mtwscrape.accounts_pool\u001b[0m:\u001b[36mget_for_queue_or_wait\u001b[0m:\u001b[36m260\u001b[0m - \u001b[1mNo account available for queue \"UserByScreenName\". Next available at none\u001b[0m\n"
     ]
    }
   ],
   "source": [
    "import asyncio\n",
    "from twscrape import API, gather\n",
    "from twscrape.logger import set_log_level\n",
    "\n",
    "async def main():\n",
    "    api = API()  # or API(\"path-to.db\") - default is `accounts.db`\n",
    "\n",
    "    # ADD ACCOUNTS \n",
    "    #await api.pool.add_account(\"BingBong2397074\", \"BingBong\", \"\", \"\")\n",
    "    await api.pool.add_account(\"BBong20237297\", \"BingBong\", \"twitterscrapertest@rambler.ua\", \"BingBong2397074\")\n",
    "    await api.pool.login_all()\n",
    "    await api.pool.relogin_failed()\n",
    "    \n",
    "    #get user by login\n",
    "    user_login = \"realdonaldtrump\"\n",
    "    user_login = await api.user_by_login(user_login)  # User\n",
    "    print(\"user login:\", user_login, \"\\n\")\n",
    "    # user info\n",
    "    user_id = user_login.id\n",
    "    print(\"user id:\", user_id, \"\\n\")\n",
    "    out = await gather(api.user_tweets(user_id, limit=10))  # list[Tweet]\n",
    "\n",
    "    # change log level, default info\n",
    "    set_log_level(\"DEBUG\")\n",
    "    tweetno = 1\n",
    "    for tweet in out:\n",
    "        print(\"This is tweet number\", tweetno, \":\")\n",
    "        tweetno += 1\n",
    "        print(tweet.rawContent, \"\\n\")\n",
    "\n",
    "await main()"
   ]
  }
 ],
 "metadata": {
  "kernelspec": {
   "display_name": "base",
   "language": "python",
   "name": "python3"
  },
  "language_info": {
   "codemirror_mode": {
    "name": "ipython",
    "version": 3
   },
   "file_extension": ".py",
   "mimetype": "text/x-python",
   "name": "python",
   "nbconvert_exporter": "python",
   "pygments_lexer": "ipython3",
   "version": "3.11.5"
  }
 },
 "nbformat": 4,
 "nbformat_minor": 2
}
