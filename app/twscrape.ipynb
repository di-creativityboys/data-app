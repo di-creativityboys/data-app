{
 "cells": [
  {
   "cell_type": "code",
   "execution_count": null,
   "metadata": {},
   "outputs": [],
   "source": [
    "import asyncio\n",
    "from twscrape import API, gather\n",
    "from twscrape.logger import set_log_level\n",
    "\n",
    "async def main():\n",
    "    api = API()  # or API(\"path-to.db\") - default is `accounts.db`\n",
    "\n",
    "    # ADD ACCOUNTS \n",
    "    await api.pool.add_account(\"BingBong2397074\", \"BingBong\", \"twitterscrapertest@rambler.ua\", \"BingBong2397074\")\n",
    "    await api.pool.add_account(\"BBong20237297\", \"BingBong\", \"twitterscrapertest@rambler.ua\", \"BingBong2397074\")\n",
    "    await api.pool.login_all()\n",
    "    await api.pool.relogin_failed()\n",
    "    \n",
    "    #get user by login\n",
    "    user_login = \"realdonaldtrump\"\n",
    "    user_login = await api.user_by_login(user_login)  # User\n",
    "    print(\"user login:\", user_login, \"\\n\")\n",
    "    # user info\n",
    "    user_id = user_login.id\n",
    "    print(\"user id:\", user_id, \"\\n\")\n",
    "    out = await gather(api.user_tweets(user_id, limit=1))  # list[Tweet]\n",
    "    print(out) # - print the actual response \n",
    "    # change log level, default info\n",
    "    set_log_level(\"DEBUG\")\n",
    "    tweetno = 1\n",
    "    for tweet in out:\n",
    "        print(\"This is tweet number\", tweetno, \":\")\n",
    "        tweetno += 1\n",
    "        print(tweet.rawContent, \"\\n\")\n",
    "    #the function should take in the number of tweets (default value = 100) and username, and it returns the list with the dic-s \n",
    "await main()"
   ]
  }
 ],
 "metadata": {
  "kernelspec": {
   "display_name": "base",
   "language": "python",
   "name": "python3"
  },
  "language_info": {
   "codemirror_mode": {
    "name": "ipython",
    "version": 3
   },
   "file_extension": ".py",
   "mimetype": "text/x-python",
   "name": "python",
   "nbconvert_exporter": "python",
   "pygments_lexer": "ipython3",
   "version": "3.11.5"
  }
 },
 "nbformat": 4,
 "nbformat_minor": 2
}
