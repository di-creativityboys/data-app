{
 "cells": [
  {
   "cell_type": "code",
   "execution_count": 9,
   "metadata": {},
   "outputs": [
    {
     "name": "stdout",
     "output_type": "stream",
     "text": [
      "Defaulting to user installation because normal site-packages is not writeable\n",
      "Requirement already satisfied: bs4 in /home/vscode/.local/lib/python3.11/site-packages (0.0.1)\n",
      "Requirement already satisfied: beautifulsoup4 in /usr/local/lib/python3.11/site-packages (from bs4) (4.12.2)\n",
      "Requirement already satisfied: soupsieve>1.2 in /usr/local/lib/python3.11/site-packages (from beautifulsoup4->bs4) (2.5)\n",
      "\n",
      "\u001b[1m[\u001b[0m\u001b[34;49mnotice\u001b[0m\u001b[1;39;49m]\u001b[0m\u001b[39;49m A new release of pip is available: \u001b[0m\u001b[31;49m23.2.1\u001b[0m\u001b[39;49m -> \u001b[0m\u001b[32;49m23.3.1\u001b[0m\n",
      "\u001b[1m[\u001b[0m\u001b[34;49mnotice\u001b[0m\u001b[1;39;49m]\u001b[0m\u001b[39;49m To update, run: \u001b[0m\u001b[32;49mpip install --upgrade pip\u001b[0m\n",
      "Defaulting to user installation because normal site-packages is not writeable\n",
      "Requirement already satisfied: html5lib in /home/vscode/.local/lib/python3.11/site-packages (1.1)\n",
      "Requirement already satisfied: six>=1.9 in /usr/local/lib/python3.11/site-packages (from html5lib) (1.16.0)\n",
      "Requirement already satisfied: webencodings in /home/vscode/.local/lib/python3.11/site-packages (from html5lib) (0.5.1)\n",
      "\n",
      "\u001b[1m[\u001b[0m\u001b[34;49mnotice\u001b[0m\u001b[1;39;49m]\u001b[0m\u001b[39;49m A new release of pip is available: \u001b[0m\u001b[31;49m23.2.1\u001b[0m\u001b[39;49m -> \u001b[0m\u001b[32;49m23.3.1\u001b[0m\n",
      "\u001b[1m[\u001b[0m\u001b[34;49mnotice\u001b[0m\u001b[1;39;49m]\u001b[0m\u001b[39;49m To update, run: \u001b[0m\u001b[32;49mpip install --upgrade pip\u001b[0m\n",
      "Defaulting to user installation because normal site-packages is not writeable\n",
      "Requirement already satisfied: lxml in /home/vscode/.local/lib/python3.11/site-packages (4.9.3)\n",
      "\n",
      "\u001b[1m[\u001b[0m\u001b[34;49mnotice\u001b[0m\u001b[1;39;49m]\u001b[0m\u001b[39;49m A new release of pip is available: \u001b[0m\u001b[31;49m23.2.1\u001b[0m\u001b[39;49m -> \u001b[0m\u001b[32;49m23.3.1\u001b[0m\n",
      "\u001b[1m[\u001b[0m\u001b[34;49mnotice\u001b[0m\u001b[1;39;49m]\u001b[0m\u001b[39;49m To update, run: \u001b[0m\u001b[32;49mpip install --upgrade pip\u001b[0m\n"
     ]
    }
   ],
   "source": [
    "!pip install bs4\n",
    "!pip install html5lib\n",
    "!pip install lxml"
   ]
  },
  {
   "cell_type": "code",
   "execution_count": 10,
   "metadata": {},
   "outputs": [],
   "source": [
    "from bs4 import *\n",
    "import requests"
   ]
  },
  {
   "cell_type": "code",
   "execution_count": 11,
   "metadata": {},
   "outputs": [],
   "source": [
    "CNN_NEWS = \"https://edition.cnn.com/world\" # this url directs to the world news section \n",
    "MAINPAGE = \"https://edition.cnn.com\""
   ]
  },
  {
   "cell_type": "code",
   "execution_count": 12,
   "metadata": {},
   "outputs": [],
   "source": [
    "def is_article(tag) -> bool:\n",
    "    return tag.has_attr(\"data-open-link\") and tag.has_attr(\"data-word-count\")"
   ]
  },
  {
   "cell_type": "code",
   "execution_count": 18,
   "metadata": {},
   "outputs": [],
   "source": [
    "def get_articles():\n",
    "    html_page = requests.get(CNN_NEWS).text\n",
    "    soup = BeautifulSoup(html_page)\n",
    "    results = soup.find_all(is_article)\n",
    "    results_list = list(results)\n",
    "    results_list = [f\"{MAINPAGE}{result.attrs['data-open-link']}\" for result in results]\n",
    "    '''for result in results:\n",
    "        #print(dir(result))\n",
    "        print(f\"{MAINPAGE}{result.attrs['data-open-link']}\")'''\n",
    "\n",
    "    return results_list"
   ]
  },
  {
   "cell_type": "code",
   "execution_count": 19,
   "metadata": {},
   "outputs": [
    {
     "data": {
      "text/plain": [
       "['https://edition.cnn.com/2023/10/23/middleeast/israel-gaza-hamas-war-monday-intl-hnk/index.html',\n",
       " 'https://edition.cnn.com/2023/10/10/world/map-israel-hamas-war-dg/index.html',\n",
       " 'https://edition.cnn.com/2023/10/23/world/west-antarctic-ice-melt-climate/index.html',\n",
       " 'https://edition.cnn.com/world/how-to-help-humanitarian-efforts-in-israel-and-gaza/index.html',\n",
       " 'https://edition.cnn.com/2023/10/23/middleeast/gaza-hospitals-doctors-disaster-intl-hnk/index.html',\n",
       " 'https://edition.cnn.com/2023/10/17/middleeast/rafah-border-crossing-gaza-israel-explained-intl/index.html',\n",
       " 'https://edition.cnn.com/2023/10/21/middleeast/israel-hamas-war-gaza-future-intl/index.html',\n",
       " 'https://edition.cnn.com/world/generative-ai-video-games-spc-intl-hnk/index.html',\n",
       " 'https://edition.cnn.com/2023/10/23/world/iran-armita-geravand-brain-dead-intl-hnk/index.html',\n",
       " 'https://edition.cnn.com/2023/10/22/asia/south-china-sea-philippines-collision-intl-hnk/index.html',\n",
       " 'https://edition.cnn.com/2023/10/23/china/china-middle-east-envoy-mediation-intl-hnk/index.html',\n",
       " 'https://edition.cnn.com/2023/10/22/americas/argentina-vote-president-intl-latam/index.html',\n",
       " 'https://edition.cnn.com/2023/10/22/middleeast/israel-gaza-hamas-war-sunday-intl-hnk/index.html',\n",
       " 'https://edition.cnn.com/2023/10/21/middleeast/cnn-investigates-forensic-analysis-gaza-hospital-blast/index.html',\n",
       " 'https://edition.cnn.com/2023/10/22/world/mountain-chicken-frog-endangered-chytrid-disease-scn/index.html',\n",
       " 'https://edition.cnn.com/2023/10/13/europe/poland-ukraine-tensions-election-cmd-intl/index.html',\n",
       " 'https://edition.cnn.com/2023/10/12/europe/france-ban-pro-palestinian-intl/index.html',\n",
       " 'https://edition.cnn.com/2023/10/12/europe/ukraine-western-support-israel-gaza-intl/index.html',\n",
       " 'https://edition.cnn.com/2023/10/10/uk/uk-labour-party-conference-keir-starmer-intl-gbr-cmd/index.html',\n",
       " 'https://edition.cnn.com/2023/10/11/uk/beavers-released-ealing-c2e/index.html',\n",
       " 'https://edition.cnn.com/2023/10/11/europe/poland-election-divisions-cmd-intl/index.html',\n",
       " 'https://edition.cnn.com/2023/10/21/middleeast/israel-gaza-war-hostages-saturday-intl-hnk/index.html',\n",
       " 'https://edition.cnn.com/2023/10/20/middleeast/hamas-us-hostages-released-intl/index.html',\n",
       " 'https://edition.cnn.com/2023/10/21/middleeast/arab-israeli-citizens-cmd-intl/index.html',\n",
       " 'https://edition.cnn.com/2023/10/21/middleeast/northern-gaza-humanitarian-situation-dire-intl-hnk/index.html',\n",
       " 'https://edition.cnn.com/2023/10/20/middleeast/protests-palestinian-gaza-middle-east-int/index.html',\n",
       " 'https://edition.cnn.com/2023/10/20/middleeast/israel-gaza-hamas-war-friday-intl-hnk/index.html',\n",
       " 'https://edition.cnn.com/2023/10/20/africa/niger-junta-foils-bazoum-escape-intl/index.html',\n",
       " 'https://edition.cnn.com/2023/10/19/africa/british-couple-killed-in-uganda-intl/index.html',\n",
       " 'https://edition.cnn.com/2023/10/17/africa/congo-boat-accident-deaths-rise-intl/index.html',\n",
       " 'https://edition.cnn.com/2022/07/20/africa/ox-delivers-electric-off-road-truck-rwanda-spc-intl/index.html',\n",
       " 'https://edition.cnn.com/2023/10/17/americas/amazon-river-lowest-levels-drought-climate-intl/index.html',\n",
       " 'https://edition.cnn.com/2023/10/15/americas/ecuador-election-gonzalez-noboa-intl-latam/index.html',\n",
       " 'https://edition.cnn.com/2023/10/11/americas/victor-jara-chilean-barrientos-arrest/index.html',\n",
       " 'https://edition.cnn.com/2023/10/10/americas/amazon-drought-floating-village-climate-intl/index.html',\n",
       " 'https://edition.cnn.com/2023/10/14/asia/japan-unification-church-dissolution-explainer-hnk-dst-intl/index.html',\n",
       " 'https://edition.cnn.com/2023/10/21/asia/nawaz-sharif-returns-pakistan-intl-hnk/index.html',\n",
       " 'https://edition.cnn.com/2023/10/17/asia/hong-kong-court-ruling-lgbtq-housing-intl-hnk/index.html',\n",
       " 'https://edition.cnn.com/2023/10/13/asia/new-zealand-general-election-labour-national-intl-hnk/index.html',\n",
       " 'https://edition.cnn.com/cnn-underscored/travel/best-packing-cubes',\n",
       " 'https://edition.cnn.com/cnn-underscored/travel/how-to-use-points-ski-vacation',\n",
       " 'https://edition.cnn.com/travel/fukuoka-japan-street-food-yatai-intl-hnk/index.html',\n",
       " 'https://edition.cnn.com/travel/article/nyc-alligator-sewer-statue-trnd/index.html',\n",
       " 'https://edition.cnn.com/travel/american-airports-post-security-passes/index.html',\n",
       " 'https://edition.cnn.com/style/cleveland-museum-art-statue-seizure/index.html',\n",
       " 'https://edition.cnn.com/style/filipino-american-fashion-barong-history/index.html',\n",
       " 'https://edition.cnn.com/2023/10/16/style/mona-lisa-leonardo-da-vinci-experimental-paint-technique-scn/index.html',\n",
       " 'https://edition.cnn.com/2023/10/20/style/medemblik-stolen-paintings-returned-arthur-brand-tan/index.html',\n",
       " 'https://edition.cnn.com/style/pixy-liao-extreme-relationship-selfies/index.html',\n",
       " 'https://edition.cnn.com/2023/10/21/weather/hurricanes-norma-tammy-climate-saturday/index.html',\n",
       " 'https://edition.cnn.com/2023/10/20/weather/hurricanes-tammy-norma-climate/index.html',\n",
       " 'https://edition.cnn.com/2023/10/20/weather/northeast-wet-dreary-weekend-forecast/index.html',\n",
       " 'https://edition.cnn.com/2023/04/19/weather/2023-atlantic-hurricane-season-fast-facts/index.html',\n",
       " 'https://edition.cnn.com/2023/10/22/europe/ukraine-kharkiv-russia-missile-strike-intl/index.html',\n",
       " 'https://edition.cnn.com/style/waldorf-astoria-miami-penthouse-apartment/index.html',\n",
       " 'https://edition.cnn.com/style/sydney-opera-house-competition-designs/index.html',\n",
       " 'https://edition.cnn.com/style/aviva-studios-manchester-arts-uk/index.html',\n",
       " 'https://edition.cnn.com/style/article/australia-c6-worlds-tallest-wooden-building-intl-hnk/index.html',\n",
       " 'https://edition.cnn.com/style/suleika-jaouad-jon-batiste-brooklyn-home-ad/index.html',\n",
       " 'https://edition.cnn.com/2023/10/23/sport/jamaica-womens-boycott-world-cup-spt-intl/index.html',\n",
       " 'https://edition.cnn.com/2023/10/23/sport/week-7-2023-nfl-season-review-spt-intl/index.html',\n",
       " 'https://edition.cnn.com/2023/10/23/sport/adolis-garcia-hits-grand-slam-in-the-9th-as-texas-rangers-force-alcs-to-game-7-with-comfortable-win-over-the-houston-astros/index.html',\n",
       " 'https://edition.cnn.com/2023/10/23/sport/logan-sargeant-f1-american-grand-prix-spt-intl/index.html',\n",
       " 'https://edition.cnn.com/2023/10/06/americas/california-mexico-border-school-migrants-cnnheroes/index.html',\n",
       " 'https://edition.cnn.com/2023/09/29/americas/colombia-disability-students-university-education-cnnheroes/index.html',\n",
       " 'https://edition.cnn.com/2023/09/22/us/illinois-cancer-treatment-wish-delivery-cnnheroes/index.html',\n",
       " 'https://edition.cnn.com/2023/08/31/us/new-york-women-prison-support-cnnheroes/index.html']"
      ]
     },
     "execution_count": 19,
     "metadata": {},
     "output_type": "execute_result"
    }
   ],
   "source": [
    "get_articles()"
   ]
  }
 ],
 "metadata": {
  "kernelspec": {
   "display_name": "web-scraper",
   "language": "python",
   "name": "python3"
  },
  "language_info": {
   "codemirror_mode": {
    "name": "ipython",
    "version": 3
   },
   "file_extension": ".py",
   "mimetype": "text/x-python",
   "name": "python",
   "nbconvert_exporter": "python",
   "pygments_lexer": "ipython3",
   "version": "3.11.6"
  }
 },
 "nbformat": 4,
 "nbformat_minor": 2
}
