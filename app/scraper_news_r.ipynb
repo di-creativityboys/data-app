{
 "cells": [
  {
   "cell_type": "code",
   "execution_count": 1,
   "metadata": {},
   "outputs": [],
   "source": [
    "from bs4 import *\n",
    "import requests"
   ]
  },
  {
   "cell_type": "code",
   "execution_count": 2,
   "metadata": {},
   "outputs": [],
   "source": [
    "CNN_NEWS = \"https://edition.cnn.com/world\" # this url directs to the world news section \n",
    "MAINPAGE = \"https://edition.cnn.com\""
   ]
  },
  {
   "cell_type": "code",
   "execution_count": 3,
   "metadata": {},
   "outputs": [],
   "source": [
    "def get_soup(url : str)-> BeautifulSoup:\n",
    "    article = requests.get(url).text\n",
    "    return BeautifulSoup(article)\n",
    "\n",
    "def get_content(article_soup : BeautifulSoup):\n",
    "    paragraphs = [paragraph.text for paragraph in article_soup.find_all(is_paragraph)]\n",
    "    string = \"\"\n",
    "    for paragraph in paragraphs:\n",
    "        string = f\"{string} {paragraph}\"\n",
    "    return string\n",
    "\n",
    "'''def get_news(article_url : str) -> str:\n",
    "    article_soup = get_soup(article_url)\n",
    "    return get_content(article_soup)'''\n",
    "\n",
    "def is_article(tag) -> bool:\n",
    "    return tag.has_attr(\"data-open-link\") and tag.has_attr(\"data-word-count\")\n",
    "\n",
    "\n",
    "def get_article_links(article_soup : BeautifulSoup):\n",
    "    results = article_soup.find_all(is_article)\n",
    "    results_list = list(results)\n",
    "    results_list = [f\"{MAINPAGE}{result.attrs['data-open-link']}\" for result in results]\n",
    "    '''for result in results:\n",
    "        #print(dir(result))\n",
    "        print(f\"{MAINPAGE}{result.attrs['data-open-link']}\")'''\n",
    "    return results_list\n",
    "\n",
    "def get_headline(article_soup : BeautifulSoup):\n",
    "    return article_soup.find(\"h1\").text\n",
    "\n",
    "def is_paragraph(tag) -> bool:\n",
    "    return tag.has_attr(\"data-component-name\") and tag.name == \"p\"\n",
    "\n",
    "def is_author(tag) -> bool:\n",
    "    return tag.get_attribute_list(\"class\")[0] == \"byline__name\"\n",
    "\n",
    "def get_authors(article_soup : BeautifulSoup):\n",
    "    author_tags = article_soup.find_all(is_author)\n",
    "    names = [tag.string for tag in author_tags]\n",
    "    return names"
   ]
  },
  {
   "cell_type": "code",
   "execution_count": 4,
   "metadata": {},
   "outputs": [
    {
     "name": "stdout",
     "output_type": "stream",
     "text": [
      "['https://edition.cnn.com/2023/10/23/middleeast/israel-gaza-hamas-war-monday-intl-hnk/index.html', 'https://edition.cnn.com/2023/10/23/politics/tom-emmer-2020-election-kfile/index.html', 'https://edition.cnn.com/2023/10/23/world/iran-armita-geravand-brain-dead-intl-hnk/index.html', 'https://edition.cnn.com/2023/10/22/world/mountain-chicken-frog-endangered-chytrid-disease-scn/index.html', 'https://edition.cnn.com/travel/fukuoka-japan-street-food-yatai-intl-hnk/index.html', 'https://edition.cnn.com/2023/10/23/world/apollo-17-moon-age-crystals-scn/index.html', 'https://edition.cnn.com/2023/10/23/entertainment/dwayne-johnson-wax-figure/index.html', 'https://edition.cnn.com/2023/10/24/middleeast/israel-hamas-gaza-war-tuesday-intl-hnk/index.html', 'https://edition.cnn.com/2023/10/24/middleeast/israel-hostages-freed-lifshitz-cooper-intl-hnk/index.html', 'https://edition.cnn.com/2023/10/23/middleeast/gaza-hospitals-doctors-disaster-intl-hnk/index.html', 'https://edition.cnn.com/2023/10/23/politics/iranian-militias-israel-hamas/index.html', 'https://edition.cnn.com/2023/10/24/politics/speakership-nightmare-republicans/index.html', 'https://edition.cnn.com/2023/10/23/politics/tom-emmer-2020-election-kfile/index.html', 'https://edition.cnn.com/2023/10/24/politics/trump-january-6-case-first-amendment/index.html', 'https://edition.cnn.com/2023/10/24/politics/michael-cohen-donald-trump/index.html', 'https://edition.cnn.com/2023/10/24/politics/paul-whelan-blinken-cnn-interview/index.html', 'https://edition.cnn.com/2023/10/24/asia/hong-kong-us-politician-charged-over-gun-intl-hnk/index.html', 'https://edition.cnn.com/2023/10/24/energy/iea-oil-gas-coal-demand-peak-2030/index.html', 'https://edition.cnn.com/2023/10/24/investing/saudi-davos-in-the-desert-jamie-dimon/index.html', 'https://edition.cnn.com/2023/10/24/middleeast/sweden-nato-turkey-parliament-intl-hnk/index.html', 'https://edition.cnn.com/2023/10/24/us/alaska-airlines-disruption-off-duty-pilot-tuesday/index.html', 'https://edition.cnn.com/2023/10/23/entertainment/jeremy-renner-accident-health/index.html', 'https://edition.cnn.com/2023/10/24/us/tyonna-major-us-gun-deaths-gdpr/index.html', 'https://edition.cnn.com/2023/10/23/business/billionaires-global-tax/index.html', 'https://edition.cnn.com/2023/10/24/health/lonely-adults-gallup-poll-wellness/index.html', 'https://edition.cnn.com/2023/10/24/sport/2023-nba-season-preview-how-to-watch-spt-intl/index.html', 'https://edition.cnn.com/travel/article/jetblue-plane-tipped-jfk/index.html', 'https://edition.cnn.com/world/africa/pabra-new-beans-africa-spc/index.html', 'https://edition.cnn.com/travel/fukuoka-japan-street-food-yatai-intl-hnk/index.html', 'https://edition.cnn.com/2023/10/23/sport/jose-mourinho-red-card-roma-winner-spt-intl/index.html', 'https://edition.cnn.com/2023/10/22/sport/ilia-malinin-personal-best-skate-america-spt-intl/index.html', 'https://edition.cnn.com/2023/10/22/opinions/hollywood-actors-movies-strike-talks-sag-aftra-barakchian/index.html', 'https://edition.cnn.com/2023/10/23/entertainment/dwayne-johnson-wax-figure/index.html', 'https://edition.cnn.com/2023/10/23/europe/iceland-women-strike-scli-intl/index.html', 'https://edition.cnn.com/2023/10/22/americas/argentina-vote-president-intl-latam/index.html', 'https://edition.cnn.com/2023/10/23/world/apollo-17-moon-age-crystals-scn/index.html', 'https://edition.cnn.com/2023/10/24/business-food/sand-to-green-desert-morocco-spc-intl/index.html', 'https://edition.cnn.com/style/filipino-american-fashion-barong-history/index.html', 'https://edition.cnn.com/2023/10/23/sport/jamaica-womens-boycott-world-cup-spt-intl/index.html', 'https://edition.cnn.com/style/cleveland-museum-art-statue-seizure/index.html', 'https://edition.cnn.com/2023/10/22/opinions/hollywood-actors-movies-strike-talks-sag-aftra-barakchian/index.html', 'https://edition.cnn.com/2023/10/22/economy/stocks-week-ahead-q3-gdp/index.html', 'https://edition.cnn.com/2023/10/19/business/moodys-israel-credit-rating-potential-downgrade/index.html', 'https://edition.cnn.com/2023/10/21/economy/consumer-spending-winter-outlook/index.html', 'https://edition.cnn.com/2023/10/20/homes/housing-market-challenges/index.html', 'https://edition.cnn.com/2023/10/20/business/upenn-dick-wolf-liz-magill/index.html', 'https://edition.cnn.com/travel/hong-kong-cheap-eats-local-markets/index.html', 'https://edition.cnn.com/travel/chance-encounters-andrea-lewis-teenage-summer-romance-reunited/index.html', 'https://edition.cnn.com/travel/matild-palace-budapest/index.html', 'https://edition.cnn.com/travel/article/easyjet-flight-canceled-defecation-incident/index.html', 'https://edition.cnn.com/travel/what-you-need-to-know-about-europes-bedbug-panic-wellness/index.html', 'https://edition.cnn.com/travel/texas-woman-buys-italy-house-us-too-expensive/index.html', 'https://edition.cnn.com/travel/airbus-overhead-airspace-l-bins/index.html', 'https://edition.cnn.com/2023/10/23/sport/tributes-bobby-charlton-spt-intl/index.html', 'https://edition.cnn.com/2023/10/23/sport/jamaica-womens-boycott-world-cup-spt-intl/index.html', 'https://edition.cnn.com/2023/10/22/sport/ilia-malinin-personal-best-skate-america-spt-intl/index.html', 'https://edition.cnn.com/2023/10/20/sport/chiamaka-nnadozie-nigeria-goalkeeper-paris-spt-intl/index.html', 'https://edition.cnn.com/2023/09/20/sport/saudi-arabia-soccer-spl-bin-salman-intl-spt-cmd-dg/index.html', 'https://edition.cnn.com/style/pixy-liao-extreme-relationship-selfies/index.html', 'https://edition.cnn.com/2023/10/20/style/medemblik-stolen-paintings-returned-arthur-brand-tan/index.html', 'https://edition.cnn.com/style/julia-fox-dry-cleaning-bag-lotw/index.html', 'https://edition.cnn.com/style/queer-san-francisco-photos-chloe-sherman-renegades/index.html', 'https://edition.cnn.com/style/bacteria-jacket-polybion-ganni-scn-climate-spc-intl/index.html', 'https://edition.cnn.com/style/sydney-opera-house-competition-designs/index.html', 'https://edition.cnn.com/2023/10/19/opinions/palestinian-american-family-gaza-fears-almadhoun/index.html', 'https://edition.cnn.com/2023/10/18/opinions/israel-palestinians-hamas-gaza-college-student-protests-hemmer/index.html', 'https://edition.cnn.com/2023/10/18/opinions/zelensky-israel-palestine-ukraine-russia-ghitis/index.html', 'https://edition.cnn.com/2023/10/17/opinions/israel-military-strategy-after-hamas-moulton/index.html', 'https://edition.cnn.com/2023/10/16/opinions/gaza-israel-urban-warfare-civilians-kapila/index.html', 'https://edition.cnn.com/2023/10/16/opinions/israel-hamas-gaza-palestinians-oppose-terror-mohammed/index.html', 'https://edition.cnn.com/2023/10/22/politics/senate-race-rankings-october-elections/index.html', 'https://edition.cnn.com/2023/10/22/opinions/biden-channels-his-inner-fdr-opinion-column-galant/index.html', 'https://edition.cnn.com/2023/10/21/politics/chesebro-powell-plea-deals-trump-takeaways/index.html', 'https://edition.cnn.com/2023/10/22/politics/redistricting-states-maps-house-control/index.html', 'https://edition.cnn.com/2023/10/22/politics/biden-student-loan-forgiveness-supreme-court/index.html', 'https://edition.cnn.com/2023/10/20/politics/kenneth-chesebro-georgia-election-subversion/index.html', 'https://edition.cnn.com/2023/10/22/world/mountain-chicken-frog-endangered-chytrid-disease-scn/index.html', 'https://edition.cnn.com/2023/10/23/health/raising-boys-to-be-good-men-wellness/index.html', 'https://edition.cnn.com/2023/10/19/world/distant-ancient-fast-radio-burst-scn/index.html', 'https://edition.cnn.com/2023/10/22/health/kitchen-organization-food-relationship-wellness/index.html', 'https://edition.cnn.com/2023/10/18/world/herculaneum-scroll-vesuvius-ai-deciphers-scn/index.html', 'https://edition.cnn.com/2023/10/18/world/neanderthal-ancestry-dna-percentage-scn/index.html', 'https://edition.cnn.com/2023/10/19/tech/snapchat-user-growth/index.html', 'https://edition.cnn.com/2023/10/19/tech/crypto-firms-fraud-charges-new-york/index.html', 'https://edition.cnn.com/2023/10/18/tech/apple-pencil-usb-c/index.html', 'https://edition.cnn.com/2023/10/19/tech/eu-meta-tiktok-israel-content-disinformation/index.html', 'https://edition.cnn.com/2023/10/18/tech/us-china-chip-export-curbs-intl-hnk/index.html', 'https://edition.cnn.com/2023/10/19/tech/nokia-layoffs-cost-cutting-intl-hnk/index.html', 'https://edition.cnn.com/2023/10/16/tech/iphone-15-sales-china/index.html', 'https://edition.cnn.com/2023/09/22/sport/michael-jordan-grove-xxiii-golf-course-spt-spc-intl/index.html', 'https://edition.cnn.com/2023/10/18/sport/carbrook-bull-sharks-australia-golf-course-spt-spc-intl/index.html', 'https://edition.cnn.com/2022/10/25/golf/hornussen-switzerland-golf-baseball-farmers-spt-intl/index.html', 'https://edition.cnn.com/2023/10/22/entertainment/pedro-pascal-snl/index.html', 'https://edition.cnn.com/2023/10/18/world/herculaneum-scroll-vesuvius-ai-deciphers-scn/index.html', 'https://edition.cnn.com/2023/10/20/entertainment/idina-menzel-taye-diggs/index.html', 'https://edition.cnn.com/2023/08/15/world/woodland-trust-tree-of-the-year-uk-c2e-spc-scn/index.html', 'https://edition.cnn.com/2023/10/20/entertainment/lupita-nyongo-breakup/index.html', 'https://edition.cnn.com/2023/10/20/world/nikon-small-world-winners-2023-scn-intl-scli/index.html', 'https://edition.cnn.com/travel/united-airlines-economy-class-boarding-new-plan/index.html', 'https://edition.cnn.com/travel/article/three-year-cruise-postponed/index.html', 'https://edition.cnn.com/travel/article/etias-europe-tourist-taxes-explained/index.html']\n"
     ]
    }
   ],
   "source": [
    "# This code cell lists out article links from the main page\n",
    "mainpage_soup = get_soup(MAINPAGE)\n",
    "articles = get_article_links(mainpage_soup)\n",
    "print(articles)"
   ]
  },
  {
   "cell_type": "code",
   "execution_count": 8,
   "metadata": {},
   "outputs": [
    {
     "data": {
      "text/plain": [
       "' \\n      In the aftermath of the 2020 election, Tom Emmer, a leading Republican candidate to be speaker of the House, baselessly said there were “questionable” practices in the 2020 presidential election. \\n   \\n      Later, Emmer signed an amicus brief in support of a last-ditch Texas lawsuit seeking to throw out the results in key swing states.  \\n   \\n      Though he would vote to certify the results on January 6, 2021, the comments and actions show Emmer flirted with some of the same election denial rhetoric as far-right members of the Republican caucus. \\n   \\n      Speaking with the radio show for the far-right publication Breitbart News 12 days after the election, Emmer baselessly suggested that mail-in ballots might have “skewed” the election against Trump. \\n   \\n      “I think that you will see the courts, if nothing else, this president is making sure that he stays focused and his team stays focused on these questionable election practices,” Emmer said. “We’re gonna find out – if it’s accurate – how much they skewed the outcome of the election in Georgia and elsewhere.” \\n   \\n      “I had one of my colleagues telling me in Georgia that where we got voter ID we’re doing great, where we can’t reasonably identify the voter, we’re getting killed,” he added, saying he hoped the state would restrict vote by mail in the then-upcoming January Georgia Senate runoff elections. \\n   \\n      Emmer was quieter than many Republicans in the aftermath of the 2020 election. But in interviews and public comments, reviewed by CNN’s KFile ahead of the speakership vote, Emmer refused to say Biden won the election and bashed the press for calling the race.  \\n   \\n      Speaking to local news outlets in early December 2020 – after results had been certified in all swing states – Emmer attacked the press for calling the race for Joe Biden.  \\n   \\n      “Everybody has the right to count every vote. Right now, we’re in a process where the media wants to call the race, the media wants to create this situation that they’re the ones that determine when people are done with the process,” Emmer said. “It’s about making sure that everybody – people that voted for Joe Biden, people who voted for Donald Trump, or people who voted for somebody else – that they know every legitimate vote is counted and they have confidence in the outcome. \\n   \\n      “There’s a process,” Emmer added. “The process is the votes are cast, if there’s a question, there are recounts, there are signature verifications. This time across the country, mail-in ballots threw a whole new curveball into it. And then if you have specific areas where there’s more to be done, you do have the right to go to a court to have a difference of opinion result. That’s all following the process. It’ll be resolved soon.” \\n   \\n      Emmer later defended signing the amicus brief in support of the Texas lawsuit filed by Attorney General Ken Paxton to invalidate 62 Electoral votes in swing states won by Biden – which would have effectively thrown the election to Trump. The lawsuit was rejected by the US Supreme Court. \\n   \\n      “This brief asserts the democratic right of state legislatures to make appointments to the Electoral College was violated in several states,” Emmer said in a statement published in the local St. Cloud Times. “All legal votes should be counted and the process should be followed - the integrity of current and future elections depends on this premise and this suit is a part of that process.” \\n   \\n      Speaking at a forum on Dec. 17, 2020, Emmer acknowledged Biden’s win was certified by the Electoral College days earlier but said the process still had yet to play out and declined to call Biden president-elect when prompted. \\n   \\n      “The media would like to declare the ultimate end to this process. I think certain elected officials would like to declare the end of this process, but as someone who was in a recount himself 10 years ago, I know that we need to respect the process whether you agree with it or not,” Emmer said. “Because once it’s over you’ve got people that are going to be on one side or the other, and they’ve all got to be satisfied that our election was conducted in a fair and transparent manner.” \\n  '"
      ]
     },
     "execution_count": 8,
     "metadata": {},
     "output_type": "execute_result"
    }
   ],
   "source": [
    "# This code cell returns the news paragraphs inside a specific article. By changing the link to another\n",
    "# CNN article, the whole process should still work.\n",
    "ARTICLE = articles[1]\n",
    "article_soup = get_soup(ARTICLE)\n",
    "get_content(article_soup)"
   ]
  },
  {
   "cell_type": "code",
   "execution_count": 6,
   "metadata": {},
   "outputs": [
    {
     "data": {
      "text/plain": [
       "['Helen Regan',\n",
       " 'Kareem Khadder',\n",
       " 'Eyad Kourdi',\n",
       " 'Abeer Salman',\n",
       " 'Lauren Said-Moorhouse',\n",
       " 'Tara John']"
      ]
     },
     "execution_count": 6,
     "metadata": {},
     "output_type": "execute_result"
    }
   ],
   "source": [
    "# Below, the authors of a given article are given.\n",
    "get_authors(article_soup)"
   ]
  }
 ],
 "metadata": {
  "kernelspec": {
   "display_name": "web-scraper",
   "language": "python",
   "name": "python3"
  },
  "language_info": {
   "codemirror_mode": {
    "name": "ipython",
    "version": 3
   },
   "file_extension": ".py",
   "mimetype": "text/x-python",
   "name": "python",
   "nbconvert_exporter": "python",
   "pygments_lexer": "ipython3",
   "version": "3.11.6"
  }
 },
 "nbformat": 4,
 "nbformat_minor": 2
}
