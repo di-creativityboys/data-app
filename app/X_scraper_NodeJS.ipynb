{
 "cells": [
  {
   "cell_type": "code",
   "execution_count": null,
   "id": "ab74e1c4-85a2-410e-ba65-813db94cde92",
   "metadata": {},
   "outputs": [],
   "source": []
  },
  {
   "cell_type": "code",
   "execution_count": 1,
   "id": "04859153-c987-4819-b028-4a5c9e8fe33c",
   "metadata": {},
   "outputs": [
    {
     "ename": "SyntaxError",
     "evalue": "Cannot use import statement outside a module",
     "execution_count": 1,
     "output_type": "error",
     "traceback": [
      "evalmachine.<anonymous>:3",
      "import puppeteer",
      "^^^^^^",
      "",
      "SyntaxError: Cannot use import statement outside a module",
      "    at new Script (node:vm:100:7)",
      "    at createScript (node:vm:259:10)",
      "    at Object.runInThisContext (node:vm:307:10)",
      "    at run ([eval]:1020:15)",
      "    at onRunRequest ([eval]:864:18)",
      "    at onMessage ([eval]:828:13)",
      "    at process.emit (node:events:513:28)",
      "    at emit (node:internal/child_process:937:14)",
      "    at process.processTicksAndRejections (node:internal/process/task_queues:83:21)"
     ]
    }
   ],
   "source": [
    "// import puppeteer library\n",
    "//const puppeteer = require('puppeteer')\n",
    "import puppeteer\n",
    "async function run(){\n",
    "    // First, we must launch a browser instance\n",
    "    const browser = await puppeteer.launch({\n",
    "        // Headless option allows us to disable visible GUI, so the browser runs in the \"background\"\n",
    "        // for development lets keep this to true so we can see what's going on but in\n",
    "        // on a server we must set this to true\n",
    "        headless: false,\n",
    "        // This setting allows us to scrape non-https websites easier\n",
    "        ignoreHTTPSErrors: true,\n",
    "    })\n",
    "    // then we need to start a browser tab\n",
    "    let page = await browser.newPage();\n",
    "    // and tell it to go to some URL\n",
    "    await page.goto('http://httpbin.org/html', {\n",
    "        waitUntil: 'domcontentloaded',\n",
    "    });\n",
    "    // print html content of the website\n",
    "    console.log(await page.content());\n",
    "    // close everything\n",
    "    await page.close();\n",
    "    await browser.close();\n",
    "}\n",
    "\n",
    "run();"
   ]
  }
 ],
 "metadata": {
  "kernelspec": {
   "display_name": "JavaScript (Node.js)",
   "language": "javascript",
   "name": "javascript"
  },
  "language_info": {
   "file_extension": ".js",
   "mimetype": "application/javascript",
   "name": "javascript",
   "version": "18.16.0"
  }
 },
 "nbformat": 4,
 "nbformat_minor": 5
}
