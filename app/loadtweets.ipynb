{
 "cells": [
  {
   "cell_type": "code",
   "execution_count": 4,
   "metadata": {},
   "outputs": [
    {
     "name": "stdout",
     "output_type": "stream",
     "text": [
      "Defaulting to user installation because normal site-packages is not writeable\n",
      "Collecting ipynb\n",
      "  Downloading ipynb-0.5.1-py3-none-any.whl (6.9 kB)\n",
      "Installing collected packages: ipynb\n",
      "Successfully installed ipynb-0.5.1\n",
      "\n",
      "\u001b[1m[\u001b[0m\u001b[34;49mnotice\u001b[0m\u001b[1;39;49m]\u001b[0m\u001b[39;49m A new release of pip is available: \u001b[0m\u001b[31;49m23.2.1\u001b[0m\u001b[39;49m -> \u001b[0m\u001b[32;49m23.3.1\u001b[0m\n",
      "\u001b[1m[\u001b[0m\u001b[34;49mnotice\u001b[0m\u001b[1;39;49m]\u001b[0m\u001b[39;49m To update, run: \u001b[0m\u001b[32;49mpip install --upgrade pip\u001b[0m\n",
      "Note: you may need to restart the kernel to use updated packages.\n"
     ]
    }
   ],
   "source": [
    "%pip install ipynb"
   ]
  },
  {
   "cell_type": "code",
   "execution_count": 2,
   "metadata": {},
   "outputs": [],
   "source": [
    "from ipynb.fs.full.twscrape import *\n",
    "import pandas as pd"
   ]
  },
  {
   "cell_type": "code",
   "execution_count": 3,
   "metadata": {},
   "outputs": [
    {
     "name": "stderr",
     "output_type": "stream",
     "text": [
      "\u001b[32m2023-11-02 09:21:41.575\u001b[0m | \u001b[33m\u001b[1mWARNING \u001b[0m | \u001b[36mtwscrape.accounts_pool\u001b[0m:\u001b[36madd_account\u001b[0m:\u001b[36m76\u001b[0m - \u001b[33m\u001b[1mAccount BingBong2397074 already exists\u001b[0m\n",
      "\u001b[32m2023-11-02 09:21:41.604\u001b[0m | \u001b[33m\u001b[1mWARNING \u001b[0m | \u001b[36mtwscrape.accounts_pool\u001b[0m:\u001b[36madd_account\u001b[0m:\u001b[36m76\u001b[0m - \u001b[33m\u001b[1mAccount BBong20237297 already exists\u001b[0m\n",
      "\u001b[32m2023-11-02 09:21:41.674\u001b[0m | \u001b[33m\u001b[1mWARNING \u001b[0m | \u001b[36mtwscrape.accounts_pool\u001b[0m:\u001b[36mrelogin\u001b[0m:\u001b[36m164\u001b[0m - \u001b[33m\u001b[1mNo usernames provided\u001b[0m\n"
     ]
    },
    {
     "name": "stdout",
     "output_type": "stream",
     "text": [
      "user login: User(id=813286, id_str='813286', url='https://twitter.com/BarackObama', username='BarackObama', displayname='Barack Obama', rawDescription='Dad, husband, President, citizen.', created=datetime.datetime(2007, 3, 5, 22, 8, 25, tzinfo=datetime.timezone.utc), followersCount=132007275, friendsCount=549286, statusesCount=16941, favouritesCount=8, listedCount=215230, mediaCount=2587, location='Washington, DC', profileImageUrl='https://pbs.twimg.com/profile_images/1329647526807543809/2SGvnHYV_normal.jpg', profileBannerUrl='https://pbs.twimg.com/profile_banners/813286/1633800288', protected=None, verified=False, blue=True, blueType=None, descriptionLinks=[TextLink(url='http://obamabook.com', text='obamabook.com', tcourl='https://t.co/kHvnxozw8x')], _type='snscrape.modules.twitter.User') \n",
      "\n",
      "user id: 813286 \n",
      "\n",
      "[Tweet(id=1719072368524476556, id_str='1719072368524476556', url='https://twitter.com/BarackObama/status/1719072368524476556', date=datetime.datetime(2023, 10, 30, 19, 22, 46, tzinfo=datetime.timezone.utc), user=User(id=813286, id_str='813286', url='https://twitter.com/BarackObama', username='BarackObama', displayname='Barack Obama', rawDescription='Dad, husband, President, citizen.', created=datetime.datetime(2007, 3, 5, 22, 8, 25, tzinfo=datetime.timezone.utc), followersCount=132007275, friendsCount=549286, statusesCount=16941, favouritesCount=8, listedCount=215230, mediaCount=2587, location='Washington, DC', profileImageUrl='https://pbs.twimg.com/profile_images/1329647526807543809/2SGvnHYV_normal.jpg', profileBannerUrl='https://pbs.twimg.com/profile_banners/813286/1633800288', protected=None, verified=False, blue=True, blueType=None, descriptionLinks=[TextLink(url='http://obamabook.com', text='obamabook.com', tcourl='https://t.co/kHvnxozw8x')], _type='snscrape.modules.twitter.User'), lang='en', rawContent=\"Artificial Intelligence has the potential to change the way we work, learn, and create. I'm glad to see @POTUS Biden signing an executive order on AI designed to encourage innovation while avoiding some of the biggest risks.  https://t.co/GFU8KFdKgB\", replyCount=12264, retweetCount=13491, likeCount=79437, quoteCount=914, conversationId=1719072368524476556, hashtags=[], cashtags=[], mentionedUsers=[UserRef(id=1349149096909668363, username='POTUS', displayname='President Biden', _type='snscrape.modules.twitter.UserRef')], links=[TextLink(url='https://barackobama.medium.com/statement-on-the-biden-administrations-executive-order-on-artificial-intelligence-91a5ddac6238', text='barackobama.medium.com/statement-on-t…', tcourl='https://t.co/GFU8KFdKgB')], viewCount=9785675, retweetedTweet=None, quotedTweet=None, place=None, coordinates=None, inReplyToTweetId=None, inReplyToUser=None, source='<a href=\"https://mobile.twitter.com\" rel=\"nofollow\">Twitter Web App</a>', sourceUrl='https://mobile.twitter.com', sourceLabel='Twitter Web App', media=Media(photos=[], videos=[], animated=[]), _type='snscrape.modules.twitter.Tweet'), Tweet(id=1717655783742026061, id_str='1717655783742026061', url='https://twitter.com/BarackObama/status/1717655783742026061', date=datetime.datetime(2023, 10, 26, 21, 33, 46, tzinfo=datetime.timezone.utc), user=User(id=813286, id_str='813286', url='https://twitter.com/BarackObama', username='BarackObama', displayname='Barack Obama', rawDescription='Dad, husband, President, citizen.', created=datetime.datetime(2007, 3, 5, 22, 8, 25, tzinfo=datetime.timezone.utc), followersCount=132007275, friendsCount=549286, statusesCount=16941, favouritesCount=8, listedCount=215230, mediaCount=2587, location='Washington, DC', profileImageUrl='https://pbs.twimg.com/profile_images/1329647526807543809/2SGvnHYV_normal.jpg', profileBannerUrl='https://pbs.twimg.com/profile_banners/813286/1633800288', protected=None, verified=False, blue=True, blueType=None, descriptionLinks=[TextLink(url='http://obamabook.com', text='obamabook.com', tcourl='https://t.co/kHvnxozw8x')], _type='snscrape.modules.twitter.User'), lang='en', rawContent=\"There are important elections happening right now in states across the country. This Vote Early Day, make sure you're registered to vote at https://t.co/NKXRGNgbZX, vote early if you can, or make a plan to vote on Election Day, November 7th. https://t.co/erG2791n8L\", replyCount=12321, retweetCount=20998, likeCount=123083, quoteCount=1010, conversationId=1717655783742026061, hashtags=[], cashtags=[], mentionedUsers=[], links=[TextLink(url='http://IWillVote.com', text='IWillVote.com', tcourl='https://t.co/NKXRGNgbZX')], viewCount=12527775, retweetedTweet=None, quotedTweet=None, place=None, coordinates=None, inReplyToTweetId=None, inReplyToUser=None, source='<a href=\"http://twitter.com/download/iphone\" rel=\"nofollow\">Twitter for iPhone</a>', sourceUrl='http://twitter.com/download/iphone', sourceLabel='Twitter for iPhone', media=Media(photos=[MediaPhoto(url='https://pbs.twimg.com/media/F9ZW1ItWsAAbpw7.jpg')], videos=[], animated=[]), _type='snscrape.modules.twitter.Tweet'), Tweet(id=1716524464643375138, id_str='1716524464643375138', url='https://twitter.com/BarackObama/status/1716524464643375138', date=datetime.datetime(2023, 10, 23, 18, 38, 18, tzinfo=datetime.timezone.utc), user=User(id=813286, id_str='813286', url='https://twitter.com/BarackObama', username='BarackObama', displayname='Barack Obama', rawDescription='Dad, husband, President, citizen.', created=datetime.datetime(2007, 3, 5, 22, 8, 25, tzinfo=datetime.timezone.utc), followersCount=132007275, friendsCount=549286, statusesCount=16941, favouritesCount=8, listedCount=215230, mediaCount=2587, location='Washington, DC', profileImageUrl='https://pbs.twimg.com/profile_images/1329647526807543809/2SGvnHYV_normal.jpg', profileBannerUrl='https://pbs.twimg.com/profile_banners/813286/1633800288', protected=None, verified=False, blue=True, blueType=None, descriptionLinks=[TextLink(url='http://obamabook.com', text='obamabook.com', tcourl='https://t.co/kHvnxozw8x')], _type='snscrape.modules.twitter.User'), lang='en', rawContent='I wanted to share some thoughts on what’s happening right now in Israel and Gaza.\\n\\nhttps://t.co/fEaYWFisnN', replyCount=28401, retweetCount=19356, likeCount=80383, quoteCount=7948, conversationId=1716524464643375138, hashtags=[], cashtags=[], mentionedUsers=[], links=[TextLink(url='https://barackobama.medium.com/my-statement-on-israel-and-gaza-a6c397f09a30', text='barackobama.medium.com/my-statement-o…', tcourl='https://t.co/fEaYWFisnN')], viewCount=31568474, retweetedTweet=None, quotedTweet=None, place=None, coordinates=None, inReplyToTweetId=None, inReplyToUser=None, source='<a href=\"https://mobile.twitter.com\" rel=\"nofollow\">Twitter Web App</a>', sourceUrl='https://mobile.twitter.com', sourceLabel='Twitter Web App', media=Media(photos=[], videos=[], animated=[]), _type='snscrape.modules.twitter.Tweet'), Tweet(id=1716524468636409900, id_str='1716524468636409900', url='https://twitter.com/BarackObama/status/1716524468636409900', date=datetime.datetime(2023, 10, 23, 18, 38, 19, tzinfo=datetime.timezone.utc), user=User(id=813286, id_str='813286', url='https://twitter.com/BarackObama', username='BarackObama', displayname='Barack Obama', rawDescription='Dad, husband, President, citizen.', created=datetime.datetime(2007, 3, 5, 22, 8, 25, tzinfo=datetime.timezone.utc), followersCount=132007275, friendsCount=549286, statusesCount=16941, favouritesCount=8, listedCount=215230, mediaCount=2587, location='Washington, DC', profileImageUrl='https://pbs.twimg.com/profile_images/1329647526807543809/2SGvnHYV_normal.jpg', profileBannerUrl='https://pbs.twimg.com/profile_banners/813286/1633800288', protected=None, verified=False, blue=True, blueType=None, descriptionLinks=[TextLink(url='http://obamabook.com', text='obamabook.com', tcourl='https://t.co/kHvnxozw8x')], _type='snscrape.modules.twitter.User'), lang='en', rawContent='\"A Timeline of Israel and Palestine’s Complicated History\" by Nicole Narea\\n\\nhttps://t.co/7emP6gXodQ', replyCount=1069, retweetCount=880, likeCount=3670, quoteCount=110, conversationId=1716524464643375138, hashtags=[], cashtags=[], mentionedUsers=[], links=[TextLink(url='https://www.vox.com/world-politics/23921529/israel-palestine-timeline-gaza-hamas-war-conflict', text='vox.com/world-politics…', tcourl='https://t.co/7emP6gXodQ')], viewCount=1384274, retweetedTweet=None, quotedTweet=None, place=None, coordinates=None, inReplyToTweetId=1716524467336118688, inReplyToUser=UserRef(id=813286, username='BarackObama', displayname='Barack Obama', _type='snscrape.modules.twitter.UserRef'), source='<a href=\"https://mobile.twitter.com\" rel=\"nofollow\">Twitter Web App</a>', sourceUrl='https://mobile.twitter.com', sourceLabel='Twitter Web App', media=Media(photos=[], videos=[], animated=[]), _type='snscrape.modules.twitter.Tweet'), Tweet(id=1716524469945053611, id_str='1716524469945053611', url='https://twitter.com/BarackObama/status/1716524469945053611', date=datetime.datetime(2023, 10, 23, 18, 38, 19, tzinfo=datetime.timezone.utc), user=User(id=813286, id_str='813286', url='https://twitter.com/BarackObama', username='BarackObama', displayname='Barack Obama', rawDescription='Dad, husband, President, citizen.', created=datetime.datetime(2007, 3, 5, 22, 8, 25, tzinfo=datetime.timezone.utc), followersCount=132007275, friendsCount=549286, statusesCount=16941, favouritesCount=8, listedCount=215230, mediaCount=2587, location='Washington, DC', profileImageUrl='https://pbs.twimg.com/profile_images/1329647526807543809/2SGvnHYV_normal.jpg', profileBannerUrl='https://pbs.twimg.com/profile_banners/813286/1633800288', protected=None, verified=False, blue=True, blueType=None, descriptionLinks=[TextLink(url='http://obamabook.com', text='obamabook.com', tcourl='https://t.co/kHvnxozw8x')], _type='snscrape.modules.twitter.User'), lang='en', rawContent='\"Gaza: The Cost of Escalation\" by Ben Rhodes\\n\\nhttps://t.co/KtFYnT5YDa', replyCount=963, retweetCount=720, likeCount=3215, quoteCount=69, conversationId=1716524464643375138, hashtags=[], cashtags=[], mentionedUsers=[], links=[TextLink(url='https://www.nybooks.com/online/2023/10/18/gaza-the-cost-of-escalation/', text='nybooks.com/online/2023/10…', tcourl='https://t.co/KtFYnT5YDa')], viewCount=1347192, retweetedTweet=None, quotedTweet=None, place=None, coordinates=None, inReplyToTweetId=1716524468636409900, inReplyToUser=UserRef(id=813286, username='BarackObama', displayname='Barack Obama', _type='snscrape.modules.twitter.UserRef'), source='<a href=\"https://mobile.twitter.com\" rel=\"nofollow\">Twitter Web App</a>', sourceUrl='https://mobile.twitter.com', sourceLabel='Twitter Web App', media=Media(photos=[], videos=[], animated=[]), _type='snscrape.modules.twitter.Tweet'), Tweet(id=1715103480300364103, id_str='1715103480300364103', url='https://twitter.com/BarackObama/status/1715103480300364103', date=datetime.datetime(2023, 10, 19, 20, 31, 49, tzinfo=datetime.timezone.utc), user=User(id=813286, id_str='813286', url='https://twitter.com/BarackObama', username='BarackObama', displayname='Barack Obama', rawDescription='Dad, husband, President, citizen.', created=datetime.datetime(2007, 3, 5, 22, 8, 25, tzinfo=datetime.timezone.utc), followersCount=132007275, friendsCount=549286, statusesCount=16941, favouritesCount=8, listedCount=215230, mediaCount=2587, location='Washington, DC', profileImageUrl='https://pbs.twimg.com/profile_images/1329647526807543809/2SGvnHYV_normal.jpg', profileBannerUrl='https://pbs.twimg.com/profile_banners/813286/1633800288', protected=None, verified=False, blue=True, blueType=None, descriptionLinks=[TextLink(url='http://obamabook.com', text='obamabook.com', tcourl='https://t.co/kHvnxozw8x')], _type='snscrape.modules.twitter.User'), lang='en', rawContent='Ohio, there’s an important election happening right now. \\n\\nIf you want to protect abortion rights by making them part of your state Constitution, vote yes on Issue 1. \\n\\nVisit https://t.co/8ul6i1FASI and make your plan to vote before November 7th. https://t.co/RXICbBPgkh', replyCount=13887, retweetCount=19561, likeCount=69670, quoteCount=1036, conversationId=1715103480300364103, hashtags=[], cashtags=[], mentionedUsers=[], links=[TextLink(url='http://ohiodems.org/yeson1', text='ohiodems.org/yeson1', tcourl='https://t.co/8ul6i1FASI')], viewCount=9227452, retweetedTweet=None, quotedTweet=None, place=None, coordinates=None, inReplyToTweetId=None, inReplyToUser=None, source='<a href=\"https://mobile.twitter.com\" rel=\"nofollow\">Twitter Web App</a>', sourceUrl='https://mobile.twitter.com', sourceLabel='Twitter Web App', media=Media(photos=[MediaPhoto(url='https://pbs.twimg.com/media/F81E6m8W8AA2NmL.jpg')], videos=[], animated=[]), _type='snscrape.modules.twitter.Tweet'), Tweet(id=1715103481915212179, id_str='1715103481915212179', url='https://twitter.com/BarackObama/status/1715103481915212179', date=datetime.datetime(2023, 10, 19, 20, 31, 49, tzinfo=datetime.timezone.utc), user=User(id=813286, id_str='813286', url='https://twitter.com/BarackObama', username='BarackObama', displayname='Barack Obama', rawDescription='Dad, husband, President, citizen.', created=datetime.datetime(2007, 3, 5, 22, 8, 25, tzinfo=datetime.timezone.utc), followersCount=132007275, friendsCount=549286, statusesCount=16941, favouritesCount=8, listedCount=215230, mediaCount=2587, location='Washington, DC', profileImageUrl='https://pbs.twimg.com/profile_images/1329647526807543809/2SGvnHYV_normal.jpg', profileBannerUrl='https://pbs.twimg.com/profile_banners/813286/1633800288', protected=None, verified=False, blue=True, blueType=None, descriptionLinks=[TextLink(url='http://obamabook.com', text='obamabook.com', tcourl='https://t.co/kHvnxozw8x')], _type='snscrape.modules.twitter.User'), lang='en', rawContent='And if you’re looking for ways to get involved, join the @OHDems and make calls to remind folks to vote: https://t.co/jZXsNr668H', replyCount=797, retweetCount=767, likeCount=2507, quoteCount=57, conversationId=1715103480300364103, hashtags=[], cashtags=[], mentionedUsers=[UserRef(id=7392352, username='OHDems', displayname='Ohio Dems', _type='snscrape.modules.twitter.UserRef')], links=[TextLink(url='http://www.mobilize.us/ohdems/event/576407/', text='mobilize.us/ohdems/event/5…', tcourl='https://t.co/jZXsNr668H')], viewCount=779475, retweetedTweet=None, quotedTweet=None, place=None, coordinates=None, inReplyToTweetId=1715103480300364103, inReplyToUser=UserRef(id=813286, username='BarackObama', displayname='Barack Obama', _type='snscrape.modules.twitter.UserRef'), source='<a href=\"https://mobile.twitter.com\" rel=\"nofollow\">Twitter Web App</a>', sourceUrl='https://mobile.twitter.com', sourceLabel='Twitter Web App', media=Media(photos=[], videos=[], animated=[]), _type='snscrape.modules.twitter.Tweet'), Tweet(id=1714832306769186899, id_str='1714832306769186899', url='https://twitter.com/BarackObama/status/1714832306769186899', date=datetime.datetime(2023, 10, 19, 2, 34, 16, tzinfo=datetime.timezone.utc), user=User(id=813286, id_str='813286', url='https://twitter.com/BarackObama', username='BarackObama', displayname='Barack Obama', rawDescription='Dad, husband, President, citizen.', created=datetime.datetime(2007, 3, 5, 22, 8, 25, tzinfo=datetime.timezone.utc), followersCount=132007275, friendsCount=549286, statusesCount=16941, favouritesCount=8, listedCount=215230, mediaCount=2587, location='Washington, DC', profileImageUrl='https://pbs.twimg.com/profile_images/1329647526807543809/2SGvnHYV_normal.jpg', profileBannerUrl='https://pbs.twimg.com/profile_banners/813286/1633800288', protected=None, verified=False, blue=True, blueType=None, descriptionLinks=[TextLink(url='http://obamabook.com', text='obamabook.com', tcourl='https://t.co/kHvnxozw8x')], _type='snscrape.modules.twitter.User'), lang='en', rawContent='Congrats to our back-to-back champs, @LVAces!', replyCount=4859, retweetCount=14195, likeCount=173489, quoteCount=404, conversationId=1714832306769186899, hashtags=[], cashtags=[], mentionedUsers=[UserRef(id=920309065158397952, username='LVAces', displayname='Las Vegas Aces', _type='snscrape.modules.twitter.UserRef')], links=[], viewCount=28209959, retweetedTweet=None, quotedTweet=Tweet(id=1714829217626550779, id_str='1714829217626550779', url='https://twitter.com/LVAces/status/1714829217626550779', date=datetime.datetime(2023, 10, 19, 2, 22, tzinfo=datetime.timezone.utc), user=User(id=920309065158397952, id_str='920309065158397952', url='https://twitter.com/LVAces', username='LVAces', displayname='Las Vegas Aces', rawDescription='BACK-TO-BACK @WNBA CHAMPIONS\\n2022 & 2023 🏆🏆', created=datetime.datetime(2017, 10, 17, 15, 22, 34, tzinfo=datetime.timezone.utc), followersCount=107486, friendsCount=422, statusesCount=25000, favouritesCount=27197, listedCount=694, mediaCount=15389, location='Las Vegas, NV', profileImageUrl='https://pbs.twimg.com/profile_images/1714905982533275648/y_DXNTfA_normal.jpg', profileBannerUrl='https://pbs.twimg.com/profile_banners/920309065158397952/1686541092', protected=None, verified=False, blue=False, blueType='Business', descriptionLinks=[TextLink(url='http://lasvegasaces.com', text='lasvegasaces.com', tcourl='https://t.co/1466TlThwi')], _type='snscrape.modules.twitter.User'), lang='en', rawContent='🏆 𝗕𝗔𝗖𝗞-𝗧𝗢-𝗕𝗔𝗖𝗞 🏆\\n\\nThe Las Vegas Aces are your 2023 @WNBA Champions!\\n\\n#RaiseTheStakes https://t.co/jobnzWovzM', replyCount=1080, retweetCount=8359, likeCount=26640, quoteCount=1414, conversationId=1714829217626550779, hashtags=['RaiseTheStakes'], cashtags=[], mentionedUsers=[UserRef(id=17159397, username='WNBA', displayname='WNBA', _type='snscrape.modules.twitter.UserRef')], links=[], viewCount=34925334, retweetedTweet=None, quotedTweet=None, place=None, coordinates=None, inReplyToTweetId=None, inReplyToUser=None, source='<a href=\"http://twitter.com/download/iphone\" rel=\"nofollow\">Twitter for iPhone</a>', sourceUrl='http://twitter.com/download/iphone', sourceLabel='Twitter for iPhone', media=Media(photos=[MediaPhoto(url='https://pbs.twimg.com/media/F8xMFNtWMAAhwQA.jpg')], videos=[], animated=[]), _type='snscrape.modules.twitter.Tweet'), place=None, coordinates=None, inReplyToTweetId=None, inReplyToUser=None, source='<a href=\"http://twitter.com/download/iphone\" rel=\"nofollow\">Twitter for iPhone</a>', sourceUrl='http://twitter.com/download/iphone', sourceLabel='Twitter for iPhone', media=Media(photos=[], videos=[], animated=[]), _type='snscrape.modules.twitter.Tweet'), Tweet(id=1714829217626550779, id_str='1714829217626550779', url='https://twitter.com/LVAces/status/1714829217626550779', date=datetime.datetime(2023, 10, 19, 2, 22, tzinfo=datetime.timezone.utc), user=User(id=920309065158397952, id_str='920309065158397952', url='https://twitter.com/LVAces', username='LVAces', displayname='Las Vegas Aces', rawDescription='BACK-TO-BACK @WNBA CHAMPIONS\\n2022 & 2023 🏆🏆', created=datetime.datetime(2017, 10, 17, 15, 22, 34, tzinfo=datetime.timezone.utc), followersCount=107486, friendsCount=422, statusesCount=25000, favouritesCount=27197, listedCount=694, mediaCount=15389, location='Las Vegas, NV', profileImageUrl='https://pbs.twimg.com/profile_images/1714905982533275648/y_DXNTfA_normal.jpg', profileBannerUrl='https://pbs.twimg.com/profile_banners/920309065158397952/1686541092', protected=None, verified=False, blue=False, blueType='Business', descriptionLinks=[TextLink(url='http://lasvegasaces.com', text='lasvegasaces.com', tcourl='https://t.co/1466TlThwi')], _type='snscrape.modules.twitter.User'), lang='en', rawContent='🏆 𝗕𝗔𝗖𝗞-𝗧𝗢-𝗕𝗔𝗖𝗞 🏆\\n\\nThe Las Vegas Aces are your 2023 @WNBA Champions!\\n\\n#RaiseTheStakes https://t.co/jobnzWovzM', replyCount=1080, retweetCount=8359, likeCount=26640, quoteCount=1414, conversationId=1714829217626550779, hashtags=['RaiseTheStakes'], cashtags=[], mentionedUsers=[UserRef(id=17159397, username='WNBA', displayname='WNBA', _type='snscrape.modules.twitter.UserRef')], links=[], viewCount=34925334, retweetedTweet=None, quotedTweet=None, place=None, coordinates=None, inReplyToTweetId=None, inReplyToUser=None, source='<a href=\"http://twitter.com/download/iphone\" rel=\"nofollow\">Twitter for iPhone</a>', sourceUrl='http://twitter.com/download/iphone', sourceLabel='Twitter for iPhone', media=Media(photos=[MediaPhoto(url='https://pbs.twimg.com/media/F8xMFNtWMAAhwQA.jpg')], videos=[], animated=[]), _type='snscrape.modules.twitter.Tweet'), Tweet(id=1713975536572117464, id_str='1713975536572117464', url='https://twitter.com/BarackObama/status/1713975536572117464', date=datetime.datetime(2023, 10, 16, 17, 49, 46, tzinfo=datetime.timezone.utc), user=User(id=813286, id_str='813286', url='https://twitter.com/BarackObama', username='BarackObama', displayname='Barack Obama', rawDescription='Dad, husband, President, citizen.', created=datetime.datetime(2007, 3, 5, 22, 8, 25, tzinfo=datetime.timezone.utc), followersCount=132007275, friendsCount=549286, statusesCount=16941, favouritesCount=8, listedCount=215230, mediaCount=2587, location='Washington, DC', profileImageUrl='https://pbs.twimg.com/profile_images/1329647526807543809/2SGvnHYV_normal.jpg', profileBannerUrl='https://pbs.twimg.com/profile_banners/813286/1633800288', protected=None, verified=False, blue=True, blueType=None, descriptionLinks=[TextLink(url='http://obamabook.com', text='obamabook.com', tcourl='https://t.co/kHvnxozw8x')], _type='snscrape.modules.twitter.User'), lang='en', rawContent='RT @🚨Today is the last day to register to vote in Virginia for this upcoming election! 🚨 \\n\\nGet registered or confirm your registration at https://t.co/QTtJ4Y3FyQ. https://t.co/jMvbzbxXa9', replyCount=0, retweetCount=971, likeCount=0, quoteCount=0, conversationId=1713975536572117464, hashtags=[], cashtags=[], mentionedUsers=[UserRef(id=14377605, username='TheDemocrats', displayname='The Democrats', _type='snscrape.modules.twitter.UserRef')], links=[], viewCount=75, retweetedTweet=Tweet(id=1713913971802009922, id_str='1713913971802009922', url='https://twitter.com/TheDemocrats/status/1713913971802009922', date=datetime.datetime(2023, 10, 16, 13, 45, 8, tzinfo=datetime.timezone.utc), user=User(id=14377605, id_str='14377605', url='https://twitter.com/TheDemocrats', username='TheDemocrats', displayname='The Democrats', rawDescription='We’re fighting for a better, fairer, and brighter future for every American.', created=datetime.datetime(2008, 4, 13, 20, 23, 13, tzinfo=datetime.timezone.utc), followersCount=2387894, friendsCount=77, statusesCount=42071, favouritesCount=1288, listedCount=13167, mediaCount=12252, location='Washington, D.C.', profileImageUrl='https://pbs.twimg.com/profile_images/1535252901970317315/FrdN7_ry_normal.jpg', profileBannerUrl='https://pbs.twimg.com/profile_banners/14377605/1689609214', protected=None, verified=False, blue=True, blueType=None, descriptionLinks=[TextLink(url='http://democrats.org', text='democrats.org', tcourl='https://t.co/uyjMGErQPD')], _type='snscrape.modules.twitter.User'), lang='en', rawContent='🚨Today is the last day to register to vote in Virginia for this upcoming election! 🚨 \\n\\nGet registered or confirm your registration at https://t.co/QTtJ4Y3FyQ. https://t.co/jMvbzbxXa9', replyCount=851, retweetCount=971, likeCount=1969, quoteCount=53, conversationId=1713913971802009922, hashtags=[], cashtags=[], mentionedUsers=[], links=[TextLink(url='http://IWillVote.com/VA', text='IWillVote.com/VA', tcourl='https://t.co/QTtJ4Y3FyQ')], viewCount=1266500, retweetedTweet=None, quotedTweet=None, place=None, coordinates=None, inReplyToTweetId=None, inReplyToUser=None, source='<a href=\"https://sproutsocial.com\" rel=\"nofollow\">Sprout Social</a>', sourceUrl='https://sproutsocial.com', sourceLabel='Sprout Social', media=Media(photos=[MediaPhoto(url='https://pbs.twimg.com/media/F8kLqFFXcAAsDz-.jpg')], videos=[], animated=[]), _type='snscrape.modules.twitter.Tweet'), quotedTweet=None, place=None, coordinates=None, inReplyToTweetId=None, inReplyToUser=None, source='<a href=\"http://twitter.com/download/iphone\" rel=\"nofollow\">Twitter for iPhone</a>', sourceUrl='http://twitter.com/download/iphone', sourceLabel='Twitter for iPhone', media=Media(photos=[], videos=[], animated=[]), _type='snscrape.modules.twitter.Tweet'), Tweet(id=1713913971802009922, id_str='1713913971802009922', url='https://twitter.com/TheDemocrats/status/1713913971802009922', date=datetime.datetime(2023, 10, 16, 13, 45, 8, tzinfo=datetime.timezone.utc), user=User(id=14377605, id_str='14377605', url='https://twitter.com/TheDemocrats', username='TheDemocrats', displayname='The Democrats', rawDescription='We’re fighting for a better, fairer, and brighter future for every American.', created=datetime.datetime(2008, 4, 13, 20, 23, 13, tzinfo=datetime.timezone.utc), followersCount=2387894, friendsCount=77, statusesCount=42071, favouritesCount=1288, listedCount=13167, mediaCount=12252, location='Washington, D.C.', profileImageUrl='https://pbs.twimg.com/profile_images/1535252901970317315/FrdN7_ry_normal.jpg', profileBannerUrl='https://pbs.twimg.com/profile_banners/14377605/1689609214', protected=None, verified=False, blue=True, blueType=None, descriptionLinks=[TextLink(url='http://democrats.org', text='democrats.org', tcourl='https://t.co/uyjMGErQPD')], _type='snscrape.modules.twitter.User'), lang='en', rawContent='🚨Today is the last day to register to vote in Virginia for this upcoming election! 🚨 \\n\\nGet registered or confirm your registration at https://t.co/QTtJ4Y3FyQ. https://t.co/jMvbzbxXa9', replyCount=851, retweetCount=971, likeCount=1969, quoteCount=53, conversationId=1713913971802009922, hashtags=[], cashtags=[], mentionedUsers=[], links=[TextLink(url='http://IWillVote.com/VA', text='IWillVote.com/VA', tcourl='https://t.co/QTtJ4Y3FyQ')], viewCount=1266500, retweetedTweet=None, quotedTweet=None, place=None, coordinates=None, inReplyToTweetId=None, inReplyToUser=None, source='<a href=\"https://sproutsocial.com\" rel=\"nofollow\">Sprout Social</a>', sourceUrl='https://sproutsocial.com', sourceLabel='Sprout Social', media=Media(photos=[MediaPhoto(url='https://pbs.twimg.com/media/F8kLqFFXcAAsDz-.jpg')], videos=[], animated=[]), _type='snscrape.modules.twitter.Tweet'), Tweet(id=1711487698555322579, id_str='1711487698555322579', url='https://twitter.com/BarackObama/status/1711487698555322579', date=datetime.datetime(2023, 10, 9, 21, 3, 59, tzinfo=datetime.timezone.utc), user=User(id=813286, id_str='813286', url='https://twitter.com/BarackObama', username='BarackObama', displayname='Barack Obama', rawDescription='Dad, husband, President, citizen.', created=datetime.datetime(2007, 3, 5, 22, 8, 25, tzinfo=datetime.timezone.utc), followersCount=132007275, friendsCount=549286, statusesCount=16941, favouritesCount=8, listedCount=215230, mediaCount=2587, location='Washington, DC', profileImageUrl='https://pbs.twimg.com/profile_images/1329647526807543809/2SGvnHYV_normal.jpg', profileBannerUrl='https://pbs.twimg.com/profile_banners/813286/1633800288', protected=None, verified=False, blue=True, blueType=None, descriptionLinks=[TextLink(url='http://obamabook.com', text='obamabook.com', tcourl='https://t.co/kHvnxozw8x')], _type='snscrape.modules.twitter.User'), lang='en', rawContent='All Americans should be horrified and outraged by the brazen terrorist attacks on Israel and the slaughter of innocent civilians. We grieve for those who died, pray for the safe return of those who’ve been\\xa0held hostage, and stand squarely alongside our ally, Israel,\\xa0as it dismantles Hamas. As we support\\xa0Israel’s\\xa0right to defend itself against terror,\\xa0we must keep striving for a just and lasting peace for Israelis and Palestinians alike.', replyCount=66431, retweetCount=47990, likeCount=417310, quoteCount=16152, conversationId=1711487698555322579, hashtags=[], cashtags=[], mentionedUsers=[], links=[], viewCount=73229774, retweetedTweet=None, quotedTweet=None, place=None, coordinates=None, inReplyToTweetId=None, inReplyToUser=None, source='<a href=\"http://twitter.com/download/iphone\" rel=\"nofollow\">Twitter for iPhone</a>', sourceUrl='http://twitter.com/download/iphone', sourceLabel='Twitter for iPhone', media=Media(photos=[], videos=[], animated=[]), _type='snscrape.modules.twitter.Tweet'), Tweet(id=1710664327777108129, id_str='1710664327777108129', url='https://twitter.com/BarackObama/status/1710664327777108129', date=datetime.datetime(2023, 10, 7, 14, 32, 13, tzinfo=datetime.timezone.utc), user=User(id=813286, id_str='813286', url='https://twitter.com/BarackObama', username='BarackObama', displayname='Barack Obama', rawDescription='Dad, husband, President, citizen.', created=datetime.datetime(2007, 3, 5, 22, 8, 25, tzinfo=datetime.timezone.utc), followersCount=132007275, friendsCount=549286, statusesCount=16941, favouritesCount=8, listedCount=215230, mediaCount=2587, location='Washington, DC', profileImageUrl='https://pbs.twimg.com/profile_images/1329647526807543809/2SGvnHYV_normal.jpg', profileBannerUrl='https://pbs.twimg.com/profile_banners/813286/1633800288', protected=None, verified=False, blue=True, blueType=None, descriptionLinks=[TextLink(url='http://obamabook.com', text='obamabook.com', tcourl='https://t.co/kHvnxozw8x')], _type='snscrape.modules.twitter.User'), lang='en', rawContent='For decades, Narges Mohammadi has been a vocal\\xa0advocate for\\xa0women and girls in Iran.\\xa0This @NobelPrize is a well-deserved recognition of her courage, and the hope that she represents—not only for the women in Iran, but for women fighting repression and violence around the world.', replyCount=9529, retweetCount=21490, likeCount=136327, quoteCount=1107, conversationId=1710664327777108129, hashtags=[], cashtags=[], mentionedUsers=[UserRef(id=16465385, username='NobelPrize', displayname='The Nobel Prize', _type='snscrape.modules.twitter.UserRef')], links=[], viewCount=25066888, retweetedTweet=None, quotedTweet=Tweet(id=1710218490299170927, id_str='1710218490299170927', url='https://twitter.com/NobelPrize/status/1710218490299170927', date=datetime.datetime(2023, 10, 6, 9, 0, 37, tzinfo=datetime.timezone.utc), user=User(id=16465385, id_str='16465385', url='https://twitter.com/NobelPrize', username='NobelPrize', displayname='The Nobel Prize', rawDescription='The official Twitter feed of the Nobel Prize @NobelPrize #NobelPrize', created=datetime.datetime(2008, 9, 26, 8, 47, 58, tzinfo=datetime.timezone.utc), followersCount=1130526, friendsCount=508, statusesCount=15385, favouritesCount=1692, listedCount=5827, mediaCount=10208, location='Stockholm, Sweden', profileImageUrl='https://pbs.twimg.com/profile_images/1029729528548139009/fVPd0EwX_normal.jpg', profileBannerUrl='https://pbs.twimg.com/profile_banners/16465385/1696924232', protected=None, verified=False, blue=True, blueType=None, descriptionLinks=[TextLink(url='http://nobelprize.org', text='nobelprize.org', tcourl='https://t.co/m577HIID0a')], _type='snscrape.modules.twitter.User'), lang='en', rawContent='BREAKING NEWS\\nThe Norwegian Nobel Committee has decided to award the 2023 #NobelPeacePrize to Narges Mohammadi for her fight against the oppression of women in Iran and her fight to promote human rights and freedom for all.\\n\\n#NobelPrize https://t.co/2fyzoYkHyf', replyCount=3193, retweetCount=24877, likeCount=75282, quoteCount=3498, conversationId=1710218490299170927, hashtags=['NobelPeacePrize', 'NobelPrize'], cashtags=[], mentionedUsers=[], links=[], viewCount=34207247, retweetedTweet=None, quotedTweet=None, place=None, coordinates=None, inReplyToTweetId=None, inReplyToUser=None, source='<a href=\"https://mobile.twitter.com\" rel=\"nofollow\">Twitter Web App</a>', sourceUrl='https://mobile.twitter.com', sourceLabel='Twitter Web App', media=Media(photos=[MediaPhoto(url='https://pbs.twimg.com/media/F7vqXLaXwAAm3lu.jpg')], videos=[], animated=[]), _type='snscrape.modules.twitter.Tweet'), place=None, coordinates=None, inReplyToTweetId=None, inReplyToUser=None, source='<a href=\"http://twitter.com/download/iphone\" rel=\"nofollow\">Twitter for iPhone</a>', sourceUrl='http://twitter.com/download/iphone', sourceLabel='Twitter for iPhone', media=Media(photos=[], videos=[], animated=[]), _type='snscrape.modules.twitter.Tweet'), Tweet(id=1710218490299170927, id_str='1710218490299170927', url='https://twitter.com/NobelPrize/status/1710218490299170927', date=datetime.datetime(2023, 10, 6, 9, 0, 37, tzinfo=datetime.timezone.utc), user=User(id=16465385, id_str='16465385', url='https://twitter.com/NobelPrize', username='NobelPrize', displayname='The Nobel Prize', rawDescription='The official Twitter feed of the Nobel Prize @NobelPrize #NobelPrize', created=datetime.datetime(2008, 9, 26, 8, 47, 58, tzinfo=datetime.timezone.utc), followersCount=1130526, friendsCount=508, statusesCount=15385, favouritesCount=1692, listedCount=5827, mediaCount=10208, location='Stockholm, Sweden', profileImageUrl='https://pbs.twimg.com/profile_images/1029729528548139009/fVPd0EwX_normal.jpg', profileBannerUrl='https://pbs.twimg.com/profile_banners/16465385/1696924232', protected=None, verified=False, blue=True, blueType=None, descriptionLinks=[TextLink(url='http://nobelprize.org', text='nobelprize.org', tcourl='https://t.co/m577HIID0a')], _type='snscrape.modules.twitter.User'), lang='en', rawContent='BREAKING NEWS\\nThe Norwegian Nobel Committee has decided to award the 2023 #NobelPeacePrize to Narges Mohammadi for her fight against the oppression of women in Iran and her fight to promote human rights and freedom for all.\\n\\n#NobelPrize https://t.co/2fyzoYkHyf', replyCount=3193, retweetCount=24877, likeCount=75282, quoteCount=3498, conversationId=1710218490299170927, hashtags=['NobelPeacePrize', 'NobelPrize'], cashtags=[], mentionedUsers=[], links=[], viewCount=34207247, retweetedTweet=None, quotedTweet=None, place=None, coordinates=None, inReplyToTweetId=None, inReplyToUser=None, source='<a href=\"https://mobile.twitter.com\" rel=\"nofollow\">Twitter Web App</a>', sourceUrl='https://mobile.twitter.com', sourceLabel='Twitter Web App', media=Media(photos=[MediaPhoto(url='https://pbs.twimg.com/media/F7vqXLaXwAAm3lu.jpg')], videos=[], animated=[]), _type='snscrape.modules.twitter.Tweet'), Tweet(id=1710396552076771670, id_str='1710396552076771670', url='https://twitter.com/BarackObama/status/1710396552076771670', date=datetime.datetime(2023, 10, 6, 20, 48, 10, tzinfo=datetime.timezone.utc), user=User(id=813286, id_str='813286', url='https://twitter.com/BarackObama', username='BarackObama', displayname='Barack Obama', rawDescription='Dad, husband, President, citizen.', created=datetime.datetime(2007, 3, 5, 22, 8, 25, tzinfo=datetime.timezone.utc), followersCount=132007275, friendsCount=549286, statusesCount=16941, favouritesCount=8, listedCount=215230, mediaCount=2587, location='Washington, DC', profileImageUrl='https://pbs.twimg.com/profile_images/1329647526807543809/2SGvnHYV_normal.jpg', profileBannerUrl='https://pbs.twimg.com/profile_banners/813286/1633800288', protected=None, verified=False, blue=True, blueType=None, descriptionLinks=[TextLink(url='http://obamabook.com', text='obamabook.com', tcourl='https://t.co/kHvnxozw8x')], _type='snscrape.modules.twitter.User'), lang='en', rawContent='Alabama has a new, fairer congressional map that gives Black voters an equal opportunity to elect a candidate of their choice.\\xa0\\n\\nThis is a historic win for voting rights and democracy, and it happened thanks to the hard work of Black voters, advocates, and organizations like @RedistrictFdn.', replyCount=11328, retweetCount=25793, likeCount=200163, quoteCount=1235, conversationId=1710396552076771670, hashtags=[], cashtags=[], mentionedUsers=[], links=[], viewCount=22101550, retweetedTweet=None, quotedTweet=None, place=None, coordinates=None, inReplyToTweetId=None, inReplyToUser=None, source='<a href=\"http://twitter.com/download/iphone\" rel=\"nofollow\">Twitter for iPhone</a>', sourceUrl='http://twitter.com/download/iphone', sourceLabel='Twitter for iPhone', media=Media(photos=[MediaPhoto(url='https://pbs.twimg.com/media/F7yMmP0WEAAWTzF.jpg'), MediaPhoto(url='https://pbs.twimg.com/media/F7yMmPxWEAA3i3R.jpg')], videos=[], animated=[]), _type='snscrape.modules.twitter.Tweet'), Tweet(id=1710328548781596898, id_str='1710328548781596898', url='https://twitter.com/BarackObama/status/1710328548781596898', date=datetime.datetime(2023, 10, 6, 16, 17, 57, tzinfo=datetime.timezone.utc), user=User(id=813286, id_str='813286', url='https://twitter.com/BarackObama', username='BarackObama', displayname='Barack Obama', rawDescription='Dad, husband, President, citizen.', created=datetime.datetime(2007, 3, 5, 22, 8, 25, tzinfo=datetime.timezone.utc), followersCount=132007275, friendsCount=549286, statusesCount=16941, favouritesCount=8, listedCount=215230, mediaCount=2587, location='Washington, DC', profileImageUrl='https://pbs.twimg.com/profile_images/1329647526807543809/2SGvnHYV_normal.jpg', profileBannerUrl='https://pbs.twimg.com/profile_banners/813286/1633800288', protected=None, verified=False, blue=True, blueType=None, descriptionLinks=[TextLink(url='http://obamabook.com', text='obamabook.com', tcourl='https://t.co/kHvnxozw8x')], _type='snscrape.modules.twitter.User'), lang='en', rawContent=\"RT @This year’s #DemocracyForum will bring together industry trailblazers, young leaders, democracy experts, and President @BarackObama to discuss how we can strengthen our trust in institutions and the information we consume. \\n\\nLearn more about the trending topics we'll cover:\", replyCount=0, retweetCount=413, likeCount=0, quoteCount=0, conversationId=1710328548781596898, hashtags=['DemocracyForum'], cashtags=[], mentionedUsers=[UserRef(id=2293315159, username='ObamaFoundation', displayname='The Obama Foundation', _type='snscrape.modules.twitter.UserRef')], links=[], viewCount=117, retweetedTweet=Tweet(id=1710320455935050126, id_str='1710320455935050126', url='https://twitter.com/ObamaFoundation/status/1710320455935050126', date=datetime.datetime(2023, 10, 6, 15, 45, 47, tzinfo=datetime.timezone.utc), user=User(id=2293315159, id_str='2293315159', url='https://twitter.com/ObamaFoundation', username='ObamaFoundation', displayname='The Obama Foundation', rawDescription='Our mission is to inspire people to take action, empower them to change their world for the better, and connect them so they can achieve more together.', created=datetime.datetime(2014, 1, 15, 20, 2, 36, tzinfo=datetime.timezone.utc), followersCount=1108021, friendsCount=88, statusesCount=3341, favouritesCount=966, listedCount=3144, mediaCount=1726, location='', profileImageUrl='https://pbs.twimg.com/profile_images/1213134508964425728/D2ZX7SLU_normal.jpg', profileBannerUrl='https://pbs.twimg.com/profile_banners/2293315159/1572892194', protected=None, verified=False, blue=True, blueType='Business', descriptionLinks=[], _type='snscrape.modules.twitter.User'), lang='en', rawContent=\"This year’s #DemocracyForum will bring together industry trailblazers, young leaders, democracy experts, and President @BarackObama to discuss how we can strengthen our trust in institutions and the information we consume. \\n\\nLearn more about the trending topics we'll cover:\", replyCount=487, retweetCount=413, likeCount=1686, quoteCount=23, conversationId=1710320455935050126, hashtags=['DemocracyForum'], cashtags=[], mentionedUsers=[UserRef(id=813286, username='BarackObama', displayname='Barack Obama', _type='snscrape.modules.twitter.UserRef')], links=[], viewCount=1138374, retweetedTweet=None, quotedTweet=None, place=None, coordinates=None, inReplyToTweetId=None, inReplyToUser=None, source='<a href=\"https://twitter.com\" rel=\"nofollow\">Twitter for Advertisers</a>', sourceUrl='https://twitter.com', sourceLabel='Twitter for Advertisers', media=Media(photos=[], videos=[], animated=[]), _type='snscrape.modules.twitter.Tweet'), quotedTweet=None, place=None, coordinates=None, inReplyToTweetId=None, inReplyToUser=None, source='<a href=\"https://mobile.twitter.com\" rel=\"nofollow\">Twitter Web App</a>', sourceUrl='https://mobile.twitter.com', sourceLabel='Twitter Web App', media=Media(photos=[], videos=[], animated=[]), _type='snscrape.modules.twitter.Tweet'), Tweet(id=1710320455935050126, id_str='1710320455935050126', url='https://twitter.com/ObamaFoundation/status/1710320455935050126', date=datetime.datetime(2023, 10, 6, 15, 45, 47, tzinfo=datetime.timezone.utc), user=User(id=2293315159, id_str='2293315159', url='https://twitter.com/ObamaFoundation', username='ObamaFoundation', displayname='The Obama Foundation', rawDescription='Our mission is to inspire people to take action, empower them to change their world for the better, and connect them so they can achieve more together.', created=datetime.datetime(2014, 1, 15, 20, 2, 36, tzinfo=datetime.timezone.utc), followersCount=1108021, friendsCount=88, statusesCount=3341, favouritesCount=966, listedCount=3144, mediaCount=1726, location='', profileImageUrl='https://pbs.twimg.com/profile_images/1213134508964425728/D2ZX7SLU_normal.jpg', profileBannerUrl='https://pbs.twimg.com/profile_banners/2293315159/1572892194', protected=None, verified=False, blue=True, blueType='Business', descriptionLinks=[], _type='snscrape.modules.twitter.User'), lang='en', rawContent=\"This year’s #DemocracyForum will bring together industry trailblazers, young leaders, democracy experts, and President @BarackObama to discuss how we can strengthen our trust in institutions and the information we consume. \\n\\nLearn more about the trending topics we'll cover:\", replyCount=487, retweetCount=413, likeCount=1686, quoteCount=23, conversationId=1710320455935050126, hashtags=['DemocracyForum'], cashtags=[], mentionedUsers=[UserRef(id=813286, username='BarackObama', displayname='Barack Obama', _type='snscrape.modules.twitter.UserRef')], links=[], viewCount=1138374, retweetedTweet=None, quotedTweet=None, place=None, coordinates=None, inReplyToTweetId=None, inReplyToUser=None, source='<a href=\"https://twitter.com\" rel=\"nofollow\">Twitter for Advertisers</a>', sourceUrl='https://twitter.com', sourceLabel='Twitter for Advertisers', media=Media(photos=[], videos=[], animated=[]), _type='snscrape.modules.twitter.Tweet'), Tweet(id=1710327900375814347, id_str='1710327900375814347', url='https://twitter.com/BarackObama/status/1710327900375814347', date=datetime.datetime(2023, 10, 6, 16, 15, 22, tzinfo=datetime.timezone.utc), user=User(id=813286, id_str='813286', url='https://twitter.com/BarackObama', username='BarackObama', displayname='Barack Obama', rawDescription='Dad, husband, President, citizen.', created=datetime.datetime(2007, 3, 5, 22, 8, 25, tzinfo=datetime.timezone.utc), followersCount=132007275, friendsCount=549286, statusesCount=16941, favouritesCount=8, listedCount=215230, mediaCount=2587, location='Washington, DC', profileImageUrl='https://pbs.twimg.com/profile_images/1329647526807543809/2SGvnHYV_normal.jpg', profileBannerUrl='https://pbs.twimg.com/profile_banners/813286/1633800288', protected=None, verified=False, blue=True, blueType=None, descriptionLinks=[TextLink(url='http://obamabook.com', text='obamabook.com', tcourl='https://t.co/kHvnxozw8x')], _type='snscrape.modules.twitter.User'), lang='en', rawContent='On November 3, I’ll be joining the @ObamaFoundation’s 2023 #DemocracyForum. \\n\\nWe’ll be bringing together leaders and experts from around the world to explore the most important issues facing democracy—from how we can rebuild trust in our institutions, to the future of AI and the way we consume information.\\n\\nLearn more about this year’s Democracy Forum: https://t.co/AlqJQ8ClfN', replyCount=10766, retweetCount=10568, likeCount=65431, quoteCount=742, conversationId=1710327900375814347, hashtags=['DemocracyForum'], cashtags=[], mentionedUsers=[UserRef(id=2293315159, username='ObamaFoundation', displayname='The Obama Foundation', _type='snscrape.modules.twitter.UserRef')], links=[TextLink(url='http://www.obama.org/democracy-forum-2023/', text='obama.org/democracy-foru…', tcourl='https://t.co/AlqJQ8ClfN')], viewCount=10296799, retweetedTweet=None, quotedTweet=None, place=None, coordinates=None, inReplyToTweetId=None, inReplyToUser=None, source='<a href=\"https://mobile.twitter.com\" rel=\"nofollow\">Twitter Web App</a>', sourceUrl='https://mobile.twitter.com', sourceLabel='Twitter Web App', media=Media(photos=[MediaPhoto(url='https://pbs.twimg.com/media/F7xM_H7WkAAm87r.jpg')], videos=[], animated=[]), _type='snscrape.modules.twitter.Tweet'), Tweet(id=1710304150813127092, id_str='1710304150813127092', url='https://twitter.com/BarackObama/status/1710304150813127092', date=datetime.datetime(2023, 10, 6, 14, 41, tzinfo=datetime.timezone.utc), user=User(id=813286, id_str='813286', url='https://twitter.com/BarackObama', username='BarackObama', displayname='Barack Obama', rawDescription='Dad, husband, President, citizen.', created=datetime.datetime(2007, 3, 5, 22, 8, 25, tzinfo=datetime.timezone.utc), followersCount=132007275, friendsCount=549286, statusesCount=16941, favouritesCount=8, listedCount=215230, mediaCount=2587, location='Washington, DC', profileImageUrl='https://pbs.twimg.com/profile_images/1329647526807543809/2SGvnHYV_normal.jpg', profileBannerUrl='https://pbs.twimg.com/profile_banners/813286/1633800288', protected=None, verified=False, blue=True, blueType=None, descriptionLinks=[TextLink(url='http://obamabook.com', text='obamabook.com', tcourl='https://t.co/kHvnxozw8x')], _type='snscrape.modules.twitter.User'), lang='en', rawContent='In Chicago, Dick Butkus was football. Thinking of his family today, and all the Bears fans who loved watching one of the best to ever play the game.', replyCount=4367, retweetCount=14597, likeCount=173465, quoteCount=581, conversationId=1710304150813127092, hashtags=[], cashtags=[], mentionedUsers=[], links=[], viewCount=40875775, retweetedTweet=None, quotedTweet=Tweet(id=1710063847359287777, id_str='1710063847359287777', url='https://twitter.com/ChicagoBears/status/1710063847359287777', date=datetime.datetime(2023, 10, 5, 22, 46, 7, tzinfo=datetime.timezone.utc), user=User(id=47964412, id_str='47964412', url='https://twitter.com/ChicagoBears', username='ChicagoBears', displayname='Chicago Bears', rawDescription='🐻⬇️', created=datetime.datetime(2009, 6, 17, 13, 46, 23, tzinfo=datetime.timezone.utc), followersCount=2057584, friendsCount=392, statusesCount=61615, favouritesCount=12725, listedCount=10280, mediaCount=25330, location='Chicago, IL', profileImageUrl='https://pbs.twimg.com/profile_images/1714266937247596544/J3SCMRIO_normal.jpg', profileBannerUrl='https://pbs.twimg.com/profile_banners/47964412/1698011170', protected=None, verified=False, blue=True, blueType='Business', descriptionLinks=[TextLink(url='https://linktr.ee/Chicagobears', text='linktr.ee/Chicagobears', tcourl='https://t.co/wRwjYg2RGB')], _type='snscrape.modules.twitter.User'), lang='en', rawContent='Dick Butkus was a legend who embodied what it means to be a Chicago Bear. Our hearts go out to his family and friends. https://t.co/8UEVuuZLwi', replyCount=1067, retweetCount=8478, likeCount=38866, quoteCount=1724, conversationId=1710063847359287777, hashtags=[], cashtags=[], mentionedUsers=[], links=[], viewCount=44174149, retweetedTweet=None, quotedTweet=None, place=None, coordinates=None, inReplyToTweetId=None, inReplyToUser=None, source='<a href=\"https://twitter.com\" rel=\"nofollow\">Twitter for Advertisers</a>', sourceUrl='https://twitter.com', sourceLabel='Twitter for Advertisers', media=Media(photos=[MediaPhoto(url='https://pbs.twimg.com/media/F7tdOQEXQAARgTi.png')], videos=[], animated=[]), _type='snscrape.modules.twitter.Tweet'), place=None, coordinates=None, inReplyToTweetId=None, inReplyToUser=None, source='<a href=\"http://twitter.com/download/iphone\" rel=\"nofollow\">Twitter for iPhone</a>', sourceUrl='http://twitter.com/download/iphone', sourceLabel='Twitter for iPhone', media=Media(photos=[], videos=[], animated=[]), _type='snscrape.modules.twitter.Tweet'), Tweet(id=1710063847359287777, id_str='1710063847359287777', url='https://twitter.com/ChicagoBears/status/1710063847359287777', date=datetime.datetime(2023, 10, 5, 22, 46, 7, tzinfo=datetime.timezone.utc), user=User(id=47964412, id_str='47964412', url='https://twitter.com/ChicagoBears', username='ChicagoBears', displayname='Chicago Bears', rawDescription='🐻⬇️', created=datetime.datetime(2009, 6, 17, 13, 46, 23, tzinfo=datetime.timezone.utc), followersCount=2057584, friendsCount=392, statusesCount=61615, favouritesCount=12725, listedCount=10280, mediaCount=25330, location='Chicago, IL', profileImageUrl='https://pbs.twimg.com/profile_images/1714266937247596544/J3SCMRIO_normal.jpg', profileBannerUrl='https://pbs.twimg.com/profile_banners/47964412/1698011170', protected=None, verified=False, blue=True, blueType='Business', descriptionLinks=[TextLink(url='https://linktr.ee/Chicagobears', text='linktr.ee/Chicagobears', tcourl='https://t.co/wRwjYg2RGB')], _type='snscrape.modules.twitter.User'), lang='en', rawContent='Dick Butkus was a legend who embodied what it means to be a Chicago Bear. Our hearts go out to his family and friends. https://t.co/8UEVuuZLwi', replyCount=1067, retweetCount=8478, likeCount=38866, quoteCount=1724, conversationId=1710063847359287777, hashtags=[], cashtags=[], mentionedUsers=[], links=[], viewCount=44174149, retweetedTweet=None, quotedTweet=None, place=None, coordinates=None, inReplyToTweetId=None, inReplyToUser=None, source='<a href=\"https://twitter.com\" rel=\"nofollow\">Twitter for Advertisers</a>', sourceUrl='https://twitter.com', sourceLabel='Twitter for Advertisers', media=Media(photos=[MediaPhoto(url='https://pbs.twimg.com/media/F7tdOQEXQAARgTi.png')], videos=[], animated=[]), _type='snscrape.modules.twitter.Tweet'), Tweet(id=1709215172105994505, id_str='1709215172105994505', url='https://twitter.com/BarackObama/status/1709215172105994505', date=datetime.datetime(2023, 10, 3, 14, 33, 47, tzinfo=datetime.timezone.utc), user=User(id=813286, id_str='813286', url='https://twitter.com/BarackObama', username='BarackObama', displayname='Barack Obama', rawDescription='Dad, husband, President, citizen.', created=datetime.datetime(2007, 3, 5, 22, 8, 25, tzinfo=datetime.timezone.utc), followersCount=132007275, friendsCount=549286, statusesCount=16941, favouritesCount=8, listedCount=215230, mediaCount=2587, location='Washington, DC', profileImageUrl='https://pbs.twimg.com/profile_images/1329647526807543809/2SGvnHYV_normal.jpg', profileBannerUrl='https://pbs.twimg.com/profile_banners/813286/1633800288', protected=None, verified=False, blue=True, blueType=None, descriptionLinks=[TextLink(url='http://obamabook.com', text='obamabook.com', tcourl='https://t.co/kHvnxozw8x')], _type='snscrape.modules.twitter.User'), lang='en', rawContent=\"Happy anniversary, sweetheart! @MichelleObama, you're brilliant, kind, funny, and beautiful—and I'm lucky to call you mine. https://t.co/Ak147b5zDJ\", replyCount=41282, retweetCount=66209, likeCount=1275737, quoteCount=7130, conversationId=1709215172105994505, hashtags=[], cashtags=[], mentionedUsers=[UserRef(id=409486555, username='MichelleObama', displayname='Michelle Obama', _type='snscrape.modules.twitter.UserRef')], links=[], viewCount=61026716, retweetedTweet=None, quotedTweet=None, place=None, coordinates=None, inReplyToTweetId=None, inReplyToUser=None, source='<a href=\"http://twitter.com/download/iphone\" rel=\"nofollow\">Twitter for iPhone</a>', sourceUrl='http://twitter.com/download/iphone', sourceLabel='Twitter for iPhone', media=Media(photos=[MediaPhoto(url='https://pbs.twimg.com/media/F7haG2NWAAAWPym.jpg')], videos=[], animated=[]), _type='snscrape.modules.twitter.Tweet'), Tweet(id=1708470634739540297, id_str='1708470634739540297', url='https://twitter.com/BarackObama/status/1708470634739540297', date=datetime.datetime(2023, 10, 1, 13, 15, 15, tzinfo=datetime.timezone.utc), user=User(id=813286, id_str='813286', url='https://twitter.com/BarackObama', username='BarackObama', displayname='Barack Obama', rawDescription='Dad, husband, President, citizen.', created=datetime.datetime(2007, 3, 5, 22, 8, 25, tzinfo=datetime.timezone.utc), followersCount=132007275, friendsCount=549286, statusesCount=16941, favouritesCount=8, listedCount=215230, mediaCount=2587, location='Washington, DC', profileImageUrl='https://pbs.twimg.com/profile_images/1329647526807543809/2SGvnHYV_normal.jpg', profileBannerUrl='https://pbs.twimg.com/profile_banners/813286/1633800288', protected=None, verified=False, blue=True, blueType=None, descriptionLinks=[TextLink(url='http://obamabook.com', text='obamabook.com', tcourl='https://t.co/kHvnxozw8x')], _type='snscrape.modules.twitter.User'), lang='en', rawContent='Happy 99th birthday, President Carter! You’ve inspired so many people around the world with your leadership, character, and commitment to service. Michelle and I hope you have a wonderful birthday and send our best wishes to you and Rosalynn. https://t.co/a4WaKeVM9e', replyCount=12361, retweetCount=46329, likeCount=498107, quoteCount=2421, conversationId=1708470634739540297, hashtags=[], cashtags=[], mentionedUsers=[], links=[], viewCount=29043990, retweetedTweet=None, quotedTweet=None, place=None, coordinates=None, inReplyToTweetId=None, inReplyToUser=None, source='<a href=\"http://twitter.com/download/iphone\" rel=\"nofollow\">Twitter for iPhone</a>', sourceUrl='http://twitter.com/download/iphone', sourceLabel='Twitter for iPhone', media=Media(photos=[MediaPhoto(url='https://pbs.twimg.com/media/F7W0_LdXEAMcHKE.jpg')], videos=[], animated=[]), _type='snscrape.modules.twitter.Tweet'), Tweet(id=1707783159813755343, id_str='1707783159813755343', url='https://twitter.com/BarackObama/status/1707783159813755343', date=datetime.datetime(2023, 9, 29, 15, 43, 29, tzinfo=datetime.timezone.utc), user=User(id=813286, id_str='813286', url='https://twitter.com/BarackObama', username='BarackObama', displayname='Barack Obama', rawDescription='Dad, husband, President, citizen.', created=datetime.datetime(2007, 3, 5, 22, 8, 25, tzinfo=datetime.timezone.utc), followersCount=132007275, friendsCount=549286, statusesCount=16941, favouritesCount=8, listedCount=215230, mediaCount=2587, location='Washington, DC', profileImageUrl='https://pbs.twimg.com/profile_images/1329647526807543809/2SGvnHYV_normal.jpg', profileBannerUrl='https://pbs.twimg.com/profile_banners/813286/1633800288', protected=None, verified=False, blue=True, blueType=None, descriptionLinks=[TextLink(url='http://obamabook.com', text='obamabook.com', tcourl='https://t.co/kHvnxozw8x')], _type='snscrape.modules.twitter.User'), lang='en', rawContent='Dianne Feinstein will be rightly remembered as a trailblazer—the first woman to serve as mayor of San Francisco and the first woman elected to the Senate from California. But once she broke those barriers and walked through those doors, she got to work.\\n\\nI first got to know Dianne in the Senate, where she was a fierce advocate for gun safety measures and civil rights. Later, when I was president, I came to rely on her as a trusted partner in the fight to guarantee affordable healthcare and economic opportunity for everyone.\\n\\nThe best politicians get into public service because they care about this country and the people they represent. That was certainly true of Dianne Feinstein, and all of us are better for it. Today Michelle and I are thinking of her daughter, Katherine, and everyone who knew and loved her.', replyCount=14023, retweetCount=20712, likeCount=176320, quoteCount=1303, conversationId=1707783159813755343, hashtags=[], cashtags=[], mentionedUsers=[], links=[], viewCount=22886146, retweetedTweet=None, quotedTweet=None, place=None, coordinates=None, inReplyToTweetId=None, inReplyToUser=None, source='<a href=\"https://mobile.twitter.com\" rel=\"nofollow\">Twitter Web App</a>', sourceUrl='https://mobile.twitter.com', sourceLabel='Twitter Web App', media=Media(photos=[], videos=[], animated=[]), _type='snscrape.modules.twitter.Tweet')]\n",
      "This is tweet number 1 :\n",
      "Artificial Intelligence has the potential to change the way we work, learn, and create. I'm glad to see @POTUS Biden signing an executive order on AI designed to encourage innovation while avoiding some of the biggest risks.  https://t.co/GFU8KFdKgB \n",
      "\n",
      "This is tweet number 2 :\n",
      "There are important elections happening right now in states across the country. This Vote Early Day, make sure you're registered to vote at https://t.co/NKXRGNgbZX, vote early if you can, or make a plan to vote on Election Day, November 7th. https://t.co/erG2791n8L \n",
      "\n",
      "This is tweet number 3 :\n",
      "I wanted to share some thoughts on what’s happening right now in Israel and Gaza.\n",
      "\n",
      "https://t.co/fEaYWFisnN \n",
      "\n",
      "This is tweet number 4 :\n",
      "\"A Timeline of Israel and Palestine’s Complicated History\" by Nicole Narea\n",
      "\n",
      "https://t.co/7emP6gXodQ \n",
      "\n",
      "This is tweet number 5 :\n",
      "\"Gaza: The Cost of Escalation\" by Ben Rhodes\n",
      "\n",
      "https://t.co/KtFYnT5YDa \n",
      "\n",
      "This is tweet number 6 :\n",
      "Ohio, there’s an important election happening right now. \n",
      "\n",
      "If you want to protect abortion rights by making them part of your state Constitution, vote yes on Issue 1. \n",
      "\n",
      "Visit https://t.co/8ul6i1FASI and make your plan to vote before November 7th. https://t.co/RXICbBPgkh \n",
      "\n",
      "This is tweet number 7 :\n",
      "And if you’re looking for ways to get involved, join the @OHDems and make calls to remind folks to vote: https://t.co/jZXsNr668H \n",
      "\n",
      "This is tweet number 8 :\n",
      "Congrats to our back-to-back champs, @LVAces! \n",
      "\n",
      "This is tweet number 9 :\n",
      "🏆 𝗕𝗔𝗖𝗞-𝗧𝗢-𝗕𝗔𝗖𝗞 🏆\n",
      "\n",
      "The Las Vegas Aces are your 2023 @WNBA Champions!\n",
      "\n",
      "#RaiseTheStakes https://t.co/jobnzWovzM \n",
      "\n",
      "This is tweet number 10 :\n",
      "RT @🚨Today is the last day to register to vote in Virginia for this upcoming election! 🚨 \n",
      "\n",
      "Get registered or confirm your registration at https://t.co/QTtJ4Y3FyQ. https://t.co/jMvbzbxXa9 \n",
      "\n",
      "This is tweet number 11 :\n",
      "🚨Today is the last day to register to vote in Virginia for this upcoming election! 🚨 \n",
      "\n",
      "Get registered or confirm your registration at https://t.co/QTtJ4Y3FyQ. https://t.co/jMvbzbxXa9 \n",
      "\n",
      "This is tweet number 12 :\n",
      "All Americans should be horrified and outraged by the brazen terrorist attacks on Israel and the slaughter of innocent civilians. We grieve for those who died, pray for the safe return of those who’ve been held hostage, and stand squarely alongside our ally, Israel, as it dismantles Hamas. As we support Israel’s right to defend itself against terror, we must keep striving for a just and lasting peace for Israelis and Palestinians alike. \n",
      "\n",
      "This is tweet number 13 :\n",
      "For decades, Narges Mohammadi has been a vocal advocate for women and girls in Iran. This @NobelPrize is a well-deserved recognition of her courage, and the hope that she represents—not only for the women in Iran, but for women fighting repression and violence around the world. \n",
      "\n",
      "This is tweet number 14 :\n",
      "BREAKING NEWS\n",
      "The Norwegian Nobel Committee has decided to award the 2023 #NobelPeacePrize to Narges Mohammadi for her fight against the oppression of women in Iran and her fight to promote human rights and freedom for all.\n",
      "\n",
      "#NobelPrize https://t.co/2fyzoYkHyf \n",
      "\n",
      "This is tweet number 15 :\n",
      "Alabama has a new, fairer congressional map that gives Black voters an equal opportunity to elect a candidate of their choice. \n",
      "\n",
      "This is a historic win for voting rights and democracy, and it happened thanks to the hard work of Black voters, advocates, and organizations like @RedistrictFdn. \n",
      "\n",
      "This is tweet number 16 :\n",
      "RT @This year’s #DemocracyForum will bring together industry trailblazers, young leaders, democracy experts, and President @BarackObama to discuss how we can strengthen our trust in institutions and the information we consume. \n",
      "\n",
      "Learn more about the trending topics we'll cover: \n",
      "\n",
      "This is tweet number 17 :\n",
      "This year’s #DemocracyForum will bring together industry trailblazers, young leaders, democracy experts, and President @BarackObama to discuss how we can strengthen our trust in institutions and the information we consume. \n",
      "\n",
      "Learn more about the trending topics we'll cover: \n",
      "\n",
      "This is tweet number 18 :\n",
      "On November 3, I’ll be joining the @ObamaFoundation’s 2023 #DemocracyForum. \n",
      "\n",
      "We’ll be bringing together leaders and experts from around the world to explore the most important issues facing democracy—from how we can rebuild trust in our institutions, to the future of AI and the way we consume information.\n",
      "\n",
      "Learn more about this year’s Democracy Forum: https://t.co/AlqJQ8ClfN \n",
      "\n",
      "This is tweet number 19 :\n",
      "In Chicago, Dick Butkus was football. Thinking of his family today, and all the Bears fans who loved watching one of the best to ever play the game. \n",
      "\n",
      "This is tweet number 20 :\n",
      "Dick Butkus was a legend who embodied what it means to be a Chicago Bear. Our hearts go out to his family and friends. https://t.co/8UEVuuZLwi \n",
      "\n",
      "This is tweet number 21 :\n",
      "Happy anniversary, sweetheart! @MichelleObama, you're brilliant, kind, funny, and beautiful—and I'm lucky to call you mine. https://t.co/Ak147b5zDJ \n",
      "\n",
      "This is tweet number 22 :\n",
      "Happy 99th birthday, President Carter! You’ve inspired so many people around the world with your leadership, character, and commitment to service. Michelle and I hope you have a wonderful birthday and send our best wishes to you and Rosalynn. https://t.co/a4WaKeVM9e \n",
      "\n",
      "This is tweet number 23 :\n",
      "Dianne Feinstein will be rightly remembered as a trailblazer—the first woman to serve as mayor of San Francisco and the first woman elected to the Senate from California. But once she broke those barriers and walked through those doors, she got to work.\n",
      "\n",
      "I first got to know Dianne in the Senate, where she was a fierce advocate for gun safety measures and civil rights. Later, when I was president, I came to rely on her as a trusted partner in the fight to guarantee affordable healthcare and economic opportunity for everyone.\n",
      "\n",
      "The best politicians get into public service because they care about this country and the people they represent. That was certainly true of Dianne Feinstein, and all of us are better for it. Today Michelle and I are thinking of her daughter, Katherine, and everyone who knew and loved her. \n",
      "\n"
     ]
    }
   ],
   "source": [
    "user_name = input(\"Input the username: \")\n",
    "limit = int(input(\"Input the amount of tweets to get: \"))\n",
    "result = await gettweets(user_name, limit)\n",
    "##print(result)"
   ]
  },
  {
   "cell_type": "code",
   "execution_count": 5,
   "metadata": {},
   "outputs": [],
   "source": [
    "##type(result)"
   ]
  },
  {
   "cell_type": "code",
   "execution_count": 4,
   "metadata": {},
   "outputs": [],
   "source": [
    "df_tweets = pd.DataFrame(result)"
   ]
  },
  {
   "cell_type": "code",
   "execution_count": 6,
   "metadata": {},
   "outputs": [],
   "source": [
    "##df_tweets.head()"
   ]
  },
  {
   "cell_type": "code",
   "execution_count": 7,
   "metadata": {},
   "outputs": [],
   "source": [
    "##for column in df_tweets.columns:\n",
    "##    print(column, \" \", type(column))"
   ]
  },
  {
   "cell_type": "code",
   "execution_count": 8,
   "metadata": {},
   "outputs": [],
   "source": [
    "## avoid sql keywords\n",
    "df_tweets.rename(columns={'url': 'tweet_url', 'date': 'publish_date','user': 'tweet_user'}, inplace=True)"
   ]
  },
  {
   "cell_type": "code",
   "execution_count": 9,
   "metadata": {},
   "outputs": [],
   "source": [
    "##df_tweets.head()"
   ]
  },
  {
   "cell_type": "code",
   "execution_count": 6,
   "metadata": {},
   "outputs": [
    {
     "name": "stdout",
     "output_type": "stream",
     "text": [
      "Defaulting to user installation because normal site-packages is not writeable\n",
      "Collecting psycopg2\n",
      "  Downloading psycopg2-2.9.9.tar.gz (384 kB)\n",
      "\u001b[2K     \u001b[90m━━━━━━━━━━━━━━━━━━━━━━━━━━━━━━━━━━━━━\u001b[0m \u001b[32m384.9/384.9 kB\u001b[0m \u001b[31m443.3 kB/s\u001b[0m eta \u001b[36m0:00:00\u001b[0m00:01\u001b[0m00:01\u001b[0m\n",
      "\u001b[?25h  Preparing metadata (setup.py) ... \u001b[?25ldone\n",
      "\u001b[?25hBuilding wheels for collected packages: psycopg2\n",
      "  Building wheel for psycopg2 (setup.py) ... \u001b[?25ldone\n",
      "\u001b[?25h  Created wheel for psycopg2: filename=psycopg2-2.9.9-cp311-cp311-linux_x86_64.whl size=490641 sha256=a869bde106c9a165068760604aee6e63dad7ea2bb9a16a8cbd7765e35acca3d7\n",
      "  Stored in directory: /home/vscode/.cache/pip/wheels/ab/34/b9/78ebef1b3220b4840ee482461e738566c3c9165d2b5c914f51\n",
      "Successfully built psycopg2\n",
      "Installing collected packages: psycopg2\n",
      "Successfully installed psycopg2-2.9.9\n",
      "\n",
      "\u001b[1m[\u001b[0m\u001b[34;49mnotice\u001b[0m\u001b[1;39;49m]\u001b[0m\u001b[39;49m A new release of pip is available: \u001b[0m\u001b[31;49m23.2.1\u001b[0m\u001b[39;49m -> \u001b[0m\u001b[32;49m23.3.1\u001b[0m\n",
      "\u001b[1m[\u001b[0m\u001b[34;49mnotice\u001b[0m\u001b[1;39;49m]\u001b[0m\u001b[39;49m To update, run: \u001b[0m\u001b[32;49mpip install --upgrade pip\u001b[0m\n",
      "Note: you may need to restart the kernel to use updated packages.\n"
     ]
    }
   ],
   "source": [
    "%pip install psycopg2"
   ]
  },
  {
   "cell_type": "code",
   "execution_count": 10,
   "metadata": {},
   "outputs": [],
   "source": [
    "import psycopg2"
   ]
  },
  {
   "cell_type": "code",
   "execution_count": 11,
   "metadata": {},
   "outputs": [],
   "source": [
    "conn = psycopg2.connect(dbname=\"postgres\",user=\"postgres\", password=\"postgres\", port=\"5432\", host=\"localhost\")\n",
    "conn.autocommit = True\n",
    "cursor = conn.cursor()"
   ]
  },
  {
   "cell_type": "code",
   "execution_count": 14,
   "metadata": {},
   "outputs": [
    {
     "name": "stdout",
     "output_type": "stream",
     "text": [
      "Tweet already in database. Tweet ID:  1719072368524476556\n",
      "Tweet already in database. Tweet ID:  1717655783742026061\n",
      "Tweet already in database. Tweet ID:  1716524464643375138\n",
      "Tweet already in database. Tweet ID:  1716524468636409900\n",
      "Tweet already in database. Tweet ID:  1716524469945053611\n",
      "Tweet already in database. Tweet ID:  1715103480300364103\n",
      "Tweet already in database. Tweet ID:  1715103481915212179\n",
      "Tweet already in database. Tweet ID:  1714832306769186899\n",
      "Tweet already in database. Tweet ID:  1714829217626550779\n",
      "Tweet already in database. Tweet ID:  1713975536572117464\n",
      "Tweet already in database. Tweet ID:  1713913971802009922\n",
      "Tweet already in database. Tweet ID:  1711487698555322579\n",
      "Tweet already in database. Tweet ID:  1710664327777108129\n",
      "Tweet already in database. Tweet ID:  1710218490299170927\n",
      "Tweet already in database. Tweet ID:  1710396552076771670\n",
      "Tweet already in database. Tweet ID:  1710328548781596898\n",
      "Tweet already in database. Tweet ID:  1710320455935050126\n",
      "Tweet already in database. Tweet ID:  1710327900375814347\n",
      "Tweet already in database. Tweet ID:  1710304150813127092\n",
      "Tweet already in database. Tweet ID:  1710063847359287777\n",
      "Tweet already in database. Tweet ID:  1709215172105994505\n",
      "Tweet already in database. Tweet ID:  1708470634739540297\n",
      "Tweet already in database. Tweet ID:  1707783159813755343\n"
     ]
    }
   ],
   "source": [
    "for index, row in df_tweets.iterrows():\n",
    "    try:\n",
    "        cursor.execute('''INSERT INTO social_media.Tweets (\n",
    "                            id,\n",
    "                            id_str,\n",
    "                            tweet_url,\n",
    "                            publish_date,\n",
    "                            tweet_user,\n",
    "                            lang,\n",
    "                            rawcontent,\n",
    "                            replycount,\n",
    "                            retweetcount,\n",
    "                            likecount,\n",
    "                            quotecount,\n",
    "                            conversationid,\n",
    "                            hashtags,\n",
    "                            cashtags,\n",
    "                            mentionedusers,\n",
    "                            links,\n",
    "                            viewcount,\n",
    "                            retweetedtweet,\n",
    "                            quotedtweet,\n",
    "                            place,\n",
    "                            coordinates,\n",
    "                            inreplytotweetid,\n",
    "                            inreplytouser,\n",
    "                            source,\n",
    "                            sourceurl,\n",
    "                            sourcelabel,\n",
    "                            media,\n",
    "                            _type\n",
    "                        )\n",
    "                        VALUES (%s, %s, %s, %s, %s, %s, %s, %s,%s, %s, %s, %s, %s, %s, %s, %s,%s, %s, %s, %s, %s, %s, %s, %s, %s, %s, %s, %s);''', \n",
    "                       (row.id,\n",
    "                        row.id_str,\n",
    "                        row.tweet_url,\n",
    "                        row.publish_date,\n",
    "                        str(row.tweet_user),\n",
    "                        row.lang,\n",
    "                        row.rawContent,\n",
    "                        row.replyCount,\n",
    "                        row.retweetCount,\n",
    "                        row.likeCount,\n",
    "                        row.quoteCount,\n",
    "                        row.conversationId,\n",
    "                        str(row.hashtags),\n",
    "                        str(row.cashtags),\n",
    "                        str(row.mentionedUsers),\n",
    "                        str(row.links),\n",
    "                        row.viewCount,\n",
    "                        str(row.retweetedTweet),\n",
    "                        str(row.quotedTweet),\n",
    "                        str(row.place),\n",
    "                        str(row.coordinates),\n",
    "                        str(row.inReplyToTweetId),\n",
    "                        str(row.inReplyToUser),\n",
    "                        str(row.source),\n",
    "                        str(row.sourceUrl),\n",
    "                        str(row.sourceLabel),\n",
    "                        str(row.media),\n",
    "                        str(row._type)\n",
    "                       )\n",
    "        )\n",
    "        \n",
    "    except Exception:\n",
    "        print('Tweet already in database. Tweet ID: ', row.id)\n",
    "\n",
    "## ToDo extract only username from tweet_user!!!!!"
   ]
  }
 ],
 "metadata": {
  "kernelspec": {
   "display_name": "Python 3",
   "language": "python",
   "name": "python3"
  },
  "language_info": {
   "codemirror_mode": {
    "name": "ipython",
    "version": 3
   },
   "file_extension": ".py",
   "mimetype": "text/x-python",
   "name": "python",
   "nbconvert_exporter": "python",
   "pygments_lexer": "ipython3",
   "version": "3.11.6"
  }
 },
 "nbformat": 4,
 "nbformat_minor": 2
}
