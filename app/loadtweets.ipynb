{
 "cells": [
  {
   "cell_type": "code",
   "execution_count": 4,
   "metadata": {},
   "outputs": [
    {
     "name": "stdout",
     "output_type": "stream",
     "text": [
      "Defaulting to user installation because normal site-packages is not writeable\n",
      "Collecting ipynb\n",
      "  Downloading ipynb-0.5.1-py3-none-any.whl (6.9 kB)\n",
      "Installing collected packages: ipynb\n",
      "Successfully installed ipynb-0.5.1\n",
      "\n",
      "\u001b[1m[\u001b[0m\u001b[34;49mnotice\u001b[0m\u001b[1;39;49m]\u001b[0m\u001b[39;49m A new release of pip is available: \u001b[0m\u001b[31;49m23.2.1\u001b[0m\u001b[39;49m -> \u001b[0m\u001b[32;49m23.3.1\u001b[0m\n",
      "\u001b[1m[\u001b[0m\u001b[34;49mnotice\u001b[0m\u001b[1;39;49m]\u001b[0m\u001b[39;49m To update, run: \u001b[0m\u001b[32;49mpip install --upgrade pip\u001b[0m\n",
      "Note: you may need to restart the kernel to use updated packages.\n"
     ]
    }
   ],
   "source": [
    "%pip install ipynb"
   ]
  },
  {
   "cell_type": "code",
   "execution_count": 2,
   "metadata": {},
   "outputs": [],
   "source": [
    "from ipynb.fs.full.twscrape import *\n",
    "import pandas as pd"
   ]
  },
  {
   "cell_type": "code",
   "execution_count": 12,
   "metadata": {},
   "outputs": [
    {
     "name": "stderr",
     "output_type": "stream",
     "text": [
      "\u001b[32m2023-11-02 13:52:04.376\u001b[0m | \u001b[33m\u001b[1mWARNING \u001b[0m | \u001b[36mtwscrape.accounts_pool\u001b[0m:\u001b[36madd_account\u001b[0m:\u001b[36m76\u001b[0m - \u001b[33m\u001b[1mAccount BingBong2397074 already exists\u001b[0m\n",
      "\u001b[32m2023-11-02 13:52:04.380\u001b[0m | \u001b[33m\u001b[1mWARNING \u001b[0m | \u001b[36mtwscrape.accounts_pool\u001b[0m:\u001b[36madd_account\u001b[0m:\u001b[36m76\u001b[0m - \u001b[33m\u001b[1mAccount BBong20237297 already exists\u001b[0m\n",
      "\u001b[32m2023-11-02 13:52:04.386\u001b[0m | \u001b[33m\u001b[1mWARNING \u001b[0m | \u001b[36mtwscrape.accounts_pool\u001b[0m:\u001b[36mrelogin\u001b[0m:\u001b[36m164\u001b[0m - \u001b[33m\u001b[1mNo usernames provided\u001b[0m\n"
     ]
    },
    {
     "name": "stdout",
     "output_type": "stream",
     "text": [
      "user login: User(id=25073877, id_str='25073877', url='https://twitter.com/realDonaldTrump', username='realDonaldTrump', displayname='Donald J. Trump', rawDescription='45th President of the United States of America🇺🇸', created=datetime.datetime(2009, 3, 18, 13, 46, 38, tzinfo=datetime.timezone.utc), followersCount=87490801, friendsCount=51, statusesCount=59120, favouritesCount=0, listedCount=112963, mediaCount=4967, location='', profileImageUrl='https://pbs.twimg.com/profile_images/874276197357596672/kUuht00m_normal.jpg', profileBannerUrl='https://pbs.twimg.com/profile_banners/25073877/1604214583', protected=None, verified=False, blue=True, blueType=None, descriptionLinks=[TextLink(url='http://DonaldJTrump.com', text='DonaldJTrump.com', tcourl='https://t.co/mjKdTvQzae')], _type='snscrape.modules.twitter.User') \n",
      "\n",
      "user id: 25073877 \n",
      "\n"
     ]
    },
    {
     "name": "stderr",
     "output_type": "stream",
     "text": [
      "\u001b[32m2023-11-02 13:52:05.511\u001b[0m | \u001b[1mINFO    \u001b[0m | \u001b[36mtwscrape.accounts_pool\u001b[0m:\u001b[36mget_for_queue_or_wait\u001b[0m:\u001b[36m260\u001b[0m - \u001b[1mNo account available for queue \"UserTweets\". Next available at 13:57:11\u001b[0m\n"
     ]
    },
    {
     "ename": "CancelledError",
     "evalue": "",
     "output_type": "error",
     "traceback": [
      "\u001b[1;31m---------------------------------------------------------------------------\u001b[0m",
      "\u001b[1;31mCancelledError\u001b[0m                            Traceback (most recent call last)",
      "\u001b[1;32mc:\\Users\\Danii\\Desktop\\repos\\data-app\\app\\loadtweets.ipynb Cell 3\u001b[0m line \u001b[0;36m3\n\u001b[0;32m      <a href='vscode-notebook-cell:/c%3A/Users/Danii/Desktop/repos/data-app/app/loadtweets.ipynb#X21sZmlsZQ%3D%3D?line=0'>1</a>\u001b[0m user_name \u001b[39m=\u001b[39m \u001b[39minput\u001b[39m(\u001b[39m\"\u001b[39m\u001b[39mInput the username: \u001b[39m\u001b[39m\"\u001b[39m)\n\u001b[0;32m      <a href='vscode-notebook-cell:/c%3A/Users/Danii/Desktop/repos/data-app/app/loadtweets.ipynb#X21sZmlsZQ%3D%3D?line=1'>2</a>\u001b[0m limit \u001b[39m=\u001b[39m \u001b[39mint\u001b[39m(\u001b[39minput\u001b[39m(\u001b[39m\"\u001b[39m\u001b[39mInput the amount of tweets to get: \u001b[39m\u001b[39m\"\u001b[39m))\n\u001b[1;32m----> <a href='vscode-notebook-cell:/c%3A/Users/Danii/Desktop/repos/data-app/app/loadtweets.ipynb#X21sZmlsZQ%3D%3D?line=2'>3</a>\u001b[0m result \u001b[39m=\u001b[39m \u001b[39mawait\u001b[39;00m gettweets(user_name, limit)\n\u001b[0;32m      <a href='vscode-notebook-cell:/c%3A/Users/Danii/Desktop/repos/data-app/app/loadtweets.ipynb#X21sZmlsZQ%3D%3D?line=3'>4</a>\u001b[0m \u001b[39m##print(result)\u001b[39;00m\n",
      "File \u001b[1;32mc:\\Users\\Danii\\Desktop\\repos\\data-app\\app\\twscrape.ipynb:26\u001b[0m, in \u001b[0;36mgettweets\u001b[1;34m(user_login, limit)\u001b[0m\n\u001b[0;32m      1\u001b[0m {\n\u001b[0;32m      2\u001b[0m  \u001b[39m\"\u001b[39m\u001b[39mcells\u001b[39m\u001b[39m\"\u001b[39m: [\n\u001b[0;32m      3\u001b[0m   {\n\u001b[0;32m      4\u001b[0m    \u001b[39m\"\u001b[39m\u001b[39mcell_type\u001b[39m\u001b[39m\"\u001b[39m: \u001b[39m\"\u001b[39m\u001b[39mcode\u001b[39m\u001b[39m\"\u001b[39m,\n\u001b[0;32m      5\u001b[0m    \u001b[39m\"\u001b[39m\u001b[39mexecution_count\u001b[39m\u001b[39m\"\u001b[39m: \u001b[39m1\u001b[39m,\n\u001b[0;32m      6\u001b[0m    \u001b[39m\"\u001b[39m\u001b[39mmetadata\u001b[39m\u001b[39m\"\u001b[39m: {},\n\u001b[0;32m      7\u001b[0m    \u001b[39m\"\u001b[39m\u001b[39moutputs\u001b[39m\u001b[39m\"\u001b[39m: [],\n\u001b[0;32m      8\u001b[0m    \u001b[39m\"\u001b[39m\u001b[39msource\u001b[39m\u001b[39m\"\u001b[39m: [\n\u001b[0;32m      9\u001b[0m     \u001b[39m\"\u001b[39m\u001b[39mimport asyncio\u001b[39m\u001b[39m\\n\u001b[39;00m\u001b[39m\"\u001b[39m,\n\u001b[0;32m     10\u001b[0m     \u001b[39m\"\u001b[39m\u001b[39mimport brotli\u001b[39m\u001b[39m\\n\u001b[39;00m\u001b[39m\"\u001b[39m,\n\u001b[0;32m     11\u001b[0m     \u001b[39m\"\u001b[39m\u001b[39mfrom twscrape import API, gather\u001b[39m\u001b[39m\\n\u001b[39;00m\u001b[39m\"\u001b[39m,\n\u001b[0;32m     12\u001b[0m     \u001b[39m\"\u001b[39m\u001b[39mfrom twscrape.logger import set_log_level\u001b[39m\u001b[39m\\n\u001b[39;00m\u001b[39m\"\u001b[39m,\n\u001b[0;32m     13\u001b[0m     \u001b[39m\"\u001b[39m\u001b[39m\\n\u001b[39;00m\u001b[39m\"\u001b[39m,\n\u001b[0;32m     14\u001b[0m     \u001b[39m\"\u001b[39m\u001b[39masync def gettweets(user_login, limit):\u001b[39m\u001b[39m\\n\u001b[39;00m\u001b[39m\"\u001b[39m,\n\u001b[0;32m     15\u001b[0m     \u001b[39m\"\u001b[39m\u001b[39m    api = API()  # or API(\u001b[39m\u001b[39m\\\"\u001b[39;00m\u001b[39mpath-to.db\u001b[39m\u001b[39m\\\"\u001b[39;00m\u001b[39m) - default is `accounts.db`\u001b[39m\u001b[39m\\n\u001b[39;00m\u001b[39m\"\u001b[39m,\n\u001b[0;32m     16\u001b[0m     \u001b[39m\"\u001b[39m\u001b[39m    # ADD ACCOUNTS \u001b[39m\u001b[39m\\n\u001b[39;00m\u001b[39m\"\u001b[39m,\n\u001b[0;32m     17\u001b[0m     \u001b[39m\"\u001b[39m\u001b[39m    await api.pool.add_account(\u001b[39m\u001b[39m\\\"\u001b[39;00m\u001b[39mBingBong2397074\u001b[39m\u001b[39m\\\"\u001b[39;00m\u001b[39m, \u001b[39m\u001b[39m\\\"\u001b[39;00m\u001b[39mBingBong\u001b[39m\u001b[39m\\\"\u001b[39;00m\u001b[39m, \u001b[39m\u001b[39m\\\"\u001b[39;00m\u001b[39mtwitterscrapertest@rambler.ua\u001b[39m\u001b[39m\\\"\u001b[39;00m\u001b[39m, \u001b[39m\u001b[39m\\\"\u001b[39;00m\u001b[39mBingBong2397074\u001b[39m\u001b[39m\\\"\u001b[39;00m\u001b[39m)\u001b[39m\u001b[39m\\n\u001b[39;00m\u001b[39m\"\u001b[39m,\n\u001b[0;32m     18\u001b[0m     \u001b[39m\"\u001b[39m\u001b[39m    await api.pool.add_account(\u001b[39m\u001b[39m\\\"\u001b[39;00m\u001b[39mBBong20237297\u001b[39m\u001b[39m\\\"\u001b[39;00m\u001b[39m, \u001b[39m\u001b[39m\\\"\u001b[39;00m\u001b[39mBingBong\u001b[39m\u001b[39m\\\"\u001b[39;00m\u001b[39m, \u001b[39m\u001b[39m\\\"\u001b[39;00m\u001b[39mtwitterscrapertest@rambler.ua\u001b[39m\u001b[39m\\\"\u001b[39;00m\u001b[39m, \u001b[39m\u001b[39m\\\"\u001b[39;00m\u001b[39mBingBong2397074\u001b[39m\u001b[39m\\\"\u001b[39;00m\u001b[39m)\u001b[39m\u001b[39m\\n\u001b[39;00m\u001b[39m\"\u001b[39m,\n\u001b[0;32m     19\u001b[0m     \u001b[39m\"\u001b[39m\u001b[39m    await api.pool.login_all()\u001b[39m\u001b[39m\\n\u001b[39;00m\u001b[39m\"\u001b[39m,\n\u001b[0;32m     20\u001b[0m     \u001b[39m\"\u001b[39m\u001b[39m    await api.pool.relogin_failed()\u001b[39m\u001b[39m\\n\u001b[39;00m\u001b[39m\"\u001b[39m,\n\u001b[0;32m     21\u001b[0m     \u001b[39m\"\u001b[39m\u001b[39m    await api.pool.reset_locks()\u001b[39m\u001b[39m\\n\u001b[39;00m\u001b[39m\"\u001b[39m,\n\u001b[0;32m     22\u001b[0m     \u001b[39m\"\u001b[39m\u001b[39m    \u001b[39m\u001b[39m\\n\u001b[39;00m\u001b[39m\"\u001b[39m,\n\u001b[0;32m     23\u001b[0m     \u001b[39m\"\u001b[39m\u001b[39m    #get user by login\u001b[39m\u001b[39m\\n\u001b[39;00m\u001b[39m\"\u001b[39m,\n\u001b[0;32m     24\u001b[0m     \u001b[39m\"\u001b[39m\u001b[39m    user_login = await api.user_by_login(user_login)  # User\u001b[39m\u001b[39m\\n\u001b[39;00m\u001b[39m\"\u001b[39m,\n\u001b[0;32m     25\u001b[0m     \u001b[39m\"\u001b[39m\u001b[39m    print(\u001b[39m\u001b[39m\\\"\u001b[39;00m\u001b[39muser login:\u001b[39m\u001b[39m\\\"\u001b[39;00m\u001b[39m, user_login, \u001b[39m\u001b[39m\\\"\u001b[39;00m\u001b[39m\\\\\u001b[39;00m\u001b[39mn\u001b[39m\u001b[39m\\\"\u001b[39;00m\u001b[39m)\u001b[39m\u001b[39m\\n\u001b[39;00m\u001b[39m\"\u001b[39m,\n\u001b[1;32m---> 26\u001b[0m     \u001b[39m\"\u001b[39m\u001b[39m    # user info\u001b[39m\u001b[39m\\n\u001b[39;00m\u001b[39m\"\u001b[39m,\n\u001b[0;32m     27\u001b[0m     \u001b[39m\"\u001b[39m\u001b[39m    user_id = user_login.id\u001b[39m\u001b[39m\\n\u001b[39;00m\u001b[39m\"\u001b[39m,\n\u001b[0;32m     28\u001b[0m     \u001b[39m\"\u001b[39m\u001b[39m    print(\u001b[39m\u001b[39m\\\"\u001b[39;00m\u001b[39muser id:\u001b[39m\u001b[39m\\\"\u001b[39;00m\u001b[39m, user_id, \u001b[39m\u001b[39m\\\"\u001b[39;00m\u001b[39m\\\\\u001b[39;00m\u001b[39mn\u001b[39m\u001b[39m\\\"\u001b[39;00m\u001b[39m)\u001b[39m\u001b[39m\\n\u001b[39;00m\u001b[39m\"\u001b[39m,\n\u001b[0;32m     29\u001b[0m     \u001b[39m\"\u001b[39m\u001b[39m    out = await gather(api.user_tweets(user_id, limit))  # list[Tweet]\u001b[39m\u001b[39m\\n\u001b[39;00m\u001b[39m\"\u001b[39m,\n\u001b[0;32m     30\u001b[0m     \u001b[39m\"\u001b[39m\u001b[39m    print(out) # - print the actual response \u001b[39m\u001b[39m\\n\u001b[39;00m\u001b[39m\"\u001b[39m,\n\u001b[0;32m     31\u001b[0m     \u001b[39m\"\u001b[39m\u001b[39m    # change log level, default info\u001b[39m\u001b[39m\\n\u001b[39;00m\u001b[39m\"\u001b[39m,\n\u001b[0;32m     32\u001b[0m     \u001b[39m\"\u001b[39m\u001b[39m    set_log_level(\u001b[39m\u001b[39m\\\"\u001b[39;00m\u001b[39mDEBUG\u001b[39m\u001b[39m\\\"\u001b[39;00m\u001b[39m)\u001b[39m\u001b[39m\\n\u001b[39;00m\u001b[39m\"\u001b[39m,\n\u001b[0;32m     33\u001b[0m     \u001b[39m\"\u001b[39m\u001b[39m    tweetno = 1\u001b[39m\u001b[39m\\n\u001b[39;00m\u001b[39m\"\u001b[39m,\n\u001b[0;32m     34\u001b[0m     \u001b[39m\"\u001b[39m\u001b[39m    for tweet in out:\u001b[39m\u001b[39m\\n\u001b[39;00m\u001b[39m\"\u001b[39m,\n\u001b[0;32m     35\u001b[0m     \u001b[39m\"\u001b[39m\u001b[39m        print(\u001b[39m\u001b[39m\\\"\u001b[39;00m\u001b[39mThis is tweet number\u001b[39m\u001b[39m\\\"\u001b[39;00m\u001b[39m, tweetno, \u001b[39m\u001b[39m\\\"\u001b[39;00m\u001b[39m:\u001b[39m\u001b[39m\\\"\u001b[39;00m\u001b[39m)\u001b[39m\u001b[39m\\n\u001b[39;00m\u001b[39m\"\u001b[39m,\n\u001b[0;32m     36\u001b[0m     \u001b[39m\"\u001b[39m\u001b[39m        tweetno += 1\u001b[39m\u001b[39m\\n\u001b[39;00m\u001b[39m\"\u001b[39m,\n\u001b[0;32m     37\u001b[0m     \u001b[39m\"\u001b[39m\u001b[39m        print(tweet.rawContent, \u001b[39m\u001b[39m\\\"\u001b[39;00m\u001b[39m\\\\\u001b[39;00m\u001b[39mn\u001b[39m\u001b[39m\\\"\u001b[39;00m\u001b[39m)\u001b[39m\u001b[39m\\n\u001b[39;00m\u001b[39m\"\u001b[39m,\n\u001b[0;32m     38\u001b[0m     \u001b[39m\"\u001b[39m\u001b[39m    return out\u001b[39m\u001b[39m\\n\u001b[39;00m\u001b[39m\"\u001b[39m,\n\u001b[0;32m     39\u001b[0m     \u001b[39m\"\u001b[39m\u001b[39m\\n\u001b[39;00m\u001b[39m\"\u001b[39m,\n\u001b[0;32m     40\u001b[0m     \u001b[39m\"\u001b[39m\u001b[39masync def main():\u001b[39m\u001b[39m\\n\u001b[39;00m\u001b[39m\"\u001b[39m,\n\u001b[0;32m     41\u001b[0m     \u001b[39m\"\u001b[39m\u001b[39m    user_name = input(\u001b[39m\u001b[39m\\\"\u001b[39;00m\u001b[39mInput the username: \u001b[39m\u001b[39m\\\"\u001b[39;00m\u001b[39m)\u001b[39m\u001b[39m\\n\u001b[39;00m\u001b[39m\"\u001b[39m,\n\u001b[0;32m     42\u001b[0m     \u001b[39m\"\u001b[39m\u001b[39m    result = await gettweets(user_name)\u001b[39m\u001b[39m\\n\u001b[39;00m\u001b[39m\"\u001b[39m,\n\u001b[0;32m     43\u001b[0m     \u001b[39m\"\u001b[39m\u001b[39m    print(\u001b[39m\u001b[39m\\\"\u001b[39;00m\u001b[39mTesting the output \u001b[39m\u001b[39m\\\\\u001b[39;00m\u001b[39mn\u001b[39m\u001b[39m\\\"\u001b[39;00m\u001b[39m, result)\u001b[39m\u001b[39m\\n\u001b[39;00m\u001b[39m\"\u001b[39m,\n\u001b[0;32m     44\u001b[0m     \u001b[39m\"\u001b[39m\u001b[39m    #the function should take in the number of tweets (default value = 100) and username, and it returns the list with the dic-s \u001b[39m\u001b[39m\\n\u001b[39;00m\u001b[39m\"\u001b[39m,\n\u001b[0;32m     45\u001b[0m     \u001b[39m\"\u001b[39m\u001b[39m    \u001b[39m\u001b[39m\\n\u001b[39;00m\u001b[39m\"\u001b[39m,\n\u001b[0;32m     46\u001b[0m     \u001b[39m\"\u001b[39m\u001b[39m##await main()\u001b[39m\u001b[39m\"\u001b[39m\n\u001b[0;32m     47\u001b[0m    ]\n\u001b[0;32m     48\u001b[0m   },\n\u001b[0;32m     49\u001b[0m   {\n\u001b[0;32m     50\u001b[0m    \u001b[39m\"\u001b[39m\u001b[39mcell_type\u001b[39m\u001b[39m\"\u001b[39m: \u001b[39m\"\u001b[39m\u001b[39mcode\u001b[39m\u001b[39m\"\u001b[39m,\n\u001b[0;32m     51\u001b[0m    \u001b[39m\"\u001b[39m\u001b[39mexecution_count\u001b[39m\u001b[39m\"\u001b[39m: null,\n\u001b[0;32m     52\u001b[0m    \u001b[39m\"\u001b[39m\u001b[39mmetadata\u001b[39m\u001b[39m\"\u001b[39m: {},\n\u001b[0;32m     53\u001b[0m    \u001b[39m\"\u001b[39m\u001b[39moutputs\u001b[39m\u001b[39m\"\u001b[39m: [],\n\u001b[0;32m     54\u001b[0m    \u001b[39m\"\u001b[39m\u001b[39msource\u001b[39m\u001b[39m\"\u001b[39m: []\n\u001b[0;32m     55\u001b[0m   }\n\u001b[0;32m     56\u001b[0m  ],\n\u001b[0;32m     57\u001b[0m  \u001b[39m\"\u001b[39m\u001b[39mmetadata\u001b[39m\u001b[39m\"\u001b[39m: {\n\u001b[0;32m     58\u001b[0m   \u001b[39m\"\u001b[39m\u001b[39mkernelspec\u001b[39m\u001b[39m\"\u001b[39m: {\n\u001b[0;32m     59\u001b[0m    \u001b[39m\"\u001b[39m\u001b[39mdisplay_name\u001b[39m\u001b[39m\"\u001b[39m: \u001b[39m\"\u001b[39m\u001b[39mbase\u001b[39m\u001b[39m\"\u001b[39m,\n\u001b[0;32m     60\u001b[0m    \u001b[39m\"\u001b[39m\u001b[39mlanguage\u001b[39m\u001b[39m\"\u001b[39m: \u001b[39m\"\u001b[39m\u001b[39mpython\u001b[39m\u001b[39m\"\u001b[39m,\n\u001b[0;32m     61\u001b[0m    \u001b[39m\"\u001b[39m\u001b[39mname\u001b[39m\u001b[39m\"\u001b[39m: \u001b[39m\"\u001b[39m\u001b[39mpython3\u001b[39m\u001b[39m\"\u001b[39m\n\u001b[0;32m     62\u001b[0m   },\n\u001b[0;32m     63\u001b[0m   \u001b[39m\"\u001b[39m\u001b[39mlanguage_info\u001b[39m\u001b[39m\"\u001b[39m: {\n\u001b[0;32m     64\u001b[0m    \u001b[39m\"\u001b[39m\u001b[39mcodemirror_mode\u001b[39m\u001b[39m\"\u001b[39m: {\n\u001b[0;32m     65\u001b[0m     \u001b[39m\"\u001b[39m\u001b[39mname\u001b[39m\u001b[39m\"\u001b[39m: \u001b[39m\"\u001b[39m\u001b[39mipython\u001b[39m\u001b[39m\"\u001b[39m,\n\u001b[0;32m     66\u001b[0m     \u001b[39m\"\u001b[39m\u001b[39mversion\u001b[39m\u001b[39m\"\u001b[39m: \u001b[39m3\u001b[39m\n\u001b[0;32m     67\u001b[0m    },\n\u001b[0;32m     68\u001b[0m    \u001b[39m\"\u001b[39m\u001b[39mfile_extension\u001b[39m\u001b[39m\"\u001b[39m: \u001b[39m\"\u001b[39m\u001b[39m.py\u001b[39m\u001b[39m\"\u001b[39m,\n\u001b[0;32m     69\u001b[0m    \u001b[39m\"\u001b[39m\u001b[39mmimetype\u001b[39m\u001b[39m\"\u001b[39m: \u001b[39m\"\u001b[39m\u001b[39mtext/x-python\u001b[39m\u001b[39m\"\u001b[39m,\n\u001b[0;32m     70\u001b[0m    \u001b[39m\"\u001b[39m\u001b[39mname\u001b[39m\u001b[39m\"\u001b[39m: \u001b[39m\"\u001b[39m\u001b[39mpython\u001b[39m\u001b[39m\"\u001b[39m,\n\u001b[0;32m     71\u001b[0m    \u001b[39m\"\u001b[39m\u001b[39mnbconvert_exporter\u001b[39m\u001b[39m\"\u001b[39m: \u001b[39m\"\u001b[39m\u001b[39mpython\u001b[39m\u001b[39m\"\u001b[39m,\n\u001b[0;32m     72\u001b[0m    \u001b[39m\"\u001b[39m\u001b[39mpygments_lexer\u001b[39m\u001b[39m\"\u001b[39m: \u001b[39m\"\u001b[39m\u001b[39mipython3\u001b[39m\u001b[39m\"\u001b[39m,\n\u001b[0;32m     73\u001b[0m    \u001b[39m\"\u001b[39m\u001b[39mversion\u001b[39m\u001b[39m\"\u001b[39m: \u001b[39m\"\u001b[39m\u001b[39m3.11.5\u001b[39m\u001b[39m\"\u001b[39m\n\u001b[0;32m     74\u001b[0m   }\n\u001b[0;32m     75\u001b[0m  },\n\u001b[0;32m     76\u001b[0m  \u001b[39m\"\u001b[39m\u001b[39mnbformat\u001b[39m\u001b[39m\"\u001b[39m: \u001b[39m4\u001b[39m,\n\u001b[0;32m     77\u001b[0m  \u001b[39m\"\u001b[39m\u001b[39mnbformat_minor\u001b[39m\u001b[39m\"\u001b[39m: \u001b[39m2\u001b[39m\n\u001b[0;32m     78\u001b[0m }\n",
      "File \u001b[1;32mc:\\Users\\Danii\\anaconda3\\Lib\\site-packages\\twscrape\\utils.py:16\u001b[0m, in \u001b[0;36mgather\u001b[1;34m(gen)\u001b[0m\n\u001b[0;32m     14\u001b[0m \u001b[39masync\u001b[39;00m \u001b[39mdef\u001b[39;00m \u001b[39mgather\u001b[39m(gen: AsyncGenerator[T, \u001b[39mNone\u001b[39;00m]) \u001b[39m-\u001b[39m\u001b[39m>\u001b[39m \u001b[39mlist\u001b[39m[T]:\n\u001b[0;32m     15\u001b[0m     items \u001b[39m=\u001b[39m []\n\u001b[1;32m---> 16\u001b[0m     \u001b[39masync\u001b[39;00m \u001b[39mfor\u001b[39;00m x \u001b[39min\u001b[39;00m gen:\n\u001b[0;32m     17\u001b[0m         items\u001b[39m.\u001b[39mappend(x)\n\u001b[0;32m     18\u001b[0m     \u001b[39mreturn\u001b[39;00m items\n",
      "File \u001b[1;32mc:\\Users\\Danii\\anaconda3\\Lib\\site-packages\\twscrape\\api.py:238\u001b[0m, in \u001b[0;36mAPI.user_tweets\u001b[1;34m(self, uid, limit, kv)\u001b[0m\n\u001b[0;32m    237\u001b[0m \u001b[39masync\u001b[39;00m \u001b[39mdef\u001b[39;00m \u001b[39muser_tweets\u001b[39m(\u001b[39mself\u001b[39m, uid: \u001b[39mint\u001b[39m, limit\u001b[39m=\u001b[39m\u001b[39m-\u001b[39m\u001b[39m1\u001b[39m, kv\u001b[39m=\u001b[39m\u001b[39mNone\u001b[39;00m):\n\u001b[1;32m--> 238\u001b[0m     \u001b[39masync\u001b[39;00m \u001b[39mfor\u001b[39;00m rep \u001b[39min\u001b[39;00m \u001b[39mself\u001b[39m\u001b[39m.\u001b[39muser_tweets_raw(uid, limit\u001b[39m=\u001b[39mlimit, kv\u001b[39m=\u001b[39mkv):\n\u001b[0;32m    239\u001b[0m         \u001b[39mfor\u001b[39;00m x \u001b[39min\u001b[39;00m parse_tweets(rep\u001b[39m.\u001b[39mjson(), limit):\n\u001b[0;32m    240\u001b[0m             \u001b[39myield\u001b[39;00m x\n",
      "File \u001b[1;32mc:\\Users\\Danii\\anaconda3\\Lib\\site-packages\\twscrape\\api.py:234\u001b[0m, in \u001b[0;36mAPI.user_tweets_raw\u001b[1;34m(self, uid, limit, kv)\u001b[0m\n\u001b[0;32m    224\u001b[0m op \u001b[39m=\u001b[39m OP_UserTweets\n\u001b[0;32m    225\u001b[0m kv \u001b[39m=\u001b[39m {\n\u001b[0;32m    226\u001b[0m     \u001b[39m\"\u001b[39m\u001b[39muserId\u001b[39m\u001b[39m\"\u001b[39m: \u001b[39mstr\u001b[39m(uid),\n\u001b[0;32m    227\u001b[0m     \u001b[39m\"\u001b[39m\u001b[39mcount\u001b[39m\u001b[39m\"\u001b[39m: \u001b[39m40\u001b[39m,\n\u001b[1;32m   (...)\u001b[0m\n\u001b[0;32m    232\u001b[0m     \u001b[39m*\u001b[39m\u001b[39m*\u001b[39m(kv \u001b[39mor\u001b[39;00m {}),\n\u001b[0;32m    233\u001b[0m }\n\u001b[1;32m--> 234\u001b[0m \u001b[39masync\u001b[39;00m \u001b[39mfor\u001b[39;00m x \u001b[39min\u001b[39;00m \u001b[39mself\u001b[39m\u001b[39m.\u001b[39m_gql_items(op, kv, limit\u001b[39m=\u001b[39mlimit):\n\u001b[0;32m    235\u001b[0m     \u001b[39myield\u001b[39;00m x\n",
      "File \u001b[1;32mc:\\Users\\Danii\\anaconda3\\Lib\\site-packages\\twscrape\\api.py:62\u001b[0m, in \u001b[0;36mAPI._gql_items\u001b[1;34m(self, op, kv, ft, limit)\u001b[0m\n\u001b[0;32m     59\u001b[0m \u001b[39mif\u001b[39;00m queue \u001b[39min\u001b[39;00m (\u001b[39m\"\u001b[39m\u001b[39mSearchTimeline\u001b[39m\u001b[39m\"\u001b[39m, \u001b[39m\"\u001b[39m\u001b[39mListLatestTweetsTimeline\u001b[39m\u001b[39m\"\u001b[39m):\n\u001b[0;32m     60\u001b[0m     params[\u001b[39m\"\u001b[39m\u001b[39mfieldToggles\u001b[39m\u001b[39m\"\u001b[39m] \u001b[39m=\u001b[39m {\u001b[39m\"\u001b[39m\u001b[39mwithArticleRichContentState\u001b[39m\u001b[39m\"\u001b[39m: \u001b[39mFalse\u001b[39;00m}\n\u001b[1;32m---> 62\u001b[0m rep \u001b[39m=\u001b[39m \u001b[39mawait\u001b[39;00m client\u001b[39m.\u001b[39mget(\u001b[39mf\u001b[39m\u001b[39m\"\u001b[39m\u001b[39m{\u001b[39;00mGQL_URL\u001b[39m}\u001b[39;00m\u001b[39m/\u001b[39m\u001b[39m{\u001b[39;00mop\u001b[39m}\u001b[39;00m\u001b[39m\"\u001b[39m, params\u001b[39m=\u001b[39mencode_params(params))\n\u001b[0;32m     63\u001b[0m obj \u001b[39m=\u001b[39m rep\u001b[39m.\u001b[39mjson()\n\u001b[0;32m     65\u001b[0m entries \u001b[39m=\u001b[39m get_by_path(obj, \u001b[39m\"\u001b[39m\u001b[39mentries\u001b[39m\u001b[39m\"\u001b[39m) \u001b[39mor\u001b[39;00m []\n",
      "File \u001b[1;32mc:\\Users\\Danii\\anaconda3\\Lib\\site-packages\\twscrape\\queue_client.py:175\u001b[0m, in \u001b[0;36mQueueClient.get\u001b[1;34m(self, url, params)\u001b[0m\n\u001b[0;32m    174\u001b[0m \u001b[39masync\u001b[39;00m \u001b[39mdef\u001b[39;00m \u001b[39mget\u001b[39m(\u001b[39mself\u001b[39m, url: \u001b[39mstr\u001b[39m, params: ReqParams \u001b[39m=\u001b[39m \u001b[39mNone\u001b[39;00m):\n\u001b[1;32m--> 175\u001b[0m     \u001b[39mreturn\u001b[39;00m \u001b[39mawait\u001b[39;00m \u001b[39mself\u001b[39m\u001b[39m.\u001b[39mreq(\u001b[39m\"\u001b[39m\u001b[39mGET\u001b[39m\u001b[39m\"\u001b[39m, url, params\u001b[39m=\u001b[39mparams)\n",
      "File \u001b[1;32mc:\\Users\\Danii\\anaconda3\\Lib\\site-packages\\twscrape\\queue_client.py:180\u001b[0m, in \u001b[0;36mQueueClient.req\u001b[1;34m(self, method, url, params)\u001b[0m\n\u001b[0;32m    178\u001b[0m retry_count \u001b[39m=\u001b[39m \u001b[39m0\u001b[39m\n\u001b[0;32m    179\u001b[0m \u001b[39mwhile\u001b[39;00m \u001b[39mTrue\u001b[39;00m:\n\u001b[1;32m--> 180\u001b[0m     ctx \u001b[39m=\u001b[39m \u001b[39mawait\u001b[39;00m \u001b[39mself\u001b[39m\u001b[39m.\u001b[39m_get_ctx()\n\u001b[0;32m    182\u001b[0m     \u001b[39mtry\u001b[39;00m:\n\u001b[0;32m    183\u001b[0m         rep \u001b[39m=\u001b[39m \u001b[39mawait\u001b[39;00m ctx\u001b[39m.\u001b[39mclt\u001b[39m.\u001b[39mrequest(method, url, params\u001b[39m=\u001b[39mparams)\n",
      "File \u001b[1;32mc:\\Users\\Danii\\anaconda3\\Lib\\site-packages\\twscrape\\queue_client.py:116\u001b[0m, in \u001b[0;36mQueueClient._get_ctx\u001b[1;34m(self)\u001b[0m\n\u001b[0;32m    113\u001b[0m \u001b[39mif\u001b[39;00m \u001b[39mself\u001b[39m\u001b[39m.\u001b[39mctx:\n\u001b[0;32m    114\u001b[0m     \u001b[39mreturn\u001b[39;00m \u001b[39mself\u001b[39m\u001b[39m.\u001b[39mctx\n\u001b[1;32m--> 116\u001b[0m acc \u001b[39m=\u001b[39m \u001b[39mawait\u001b[39;00m \u001b[39mself\u001b[39m\u001b[39m.\u001b[39mpool\u001b[39m.\u001b[39mget_for_queue_or_wait(\u001b[39mself\u001b[39m\u001b[39m.\u001b[39mqueue)\n\u001b[0;32m    117\u001b[0m clt \u001b[39m=\u001b[39m acc\u001b[39m.\u001b[39mmake_client()\n\u001b[0;32m    118\u001b[0m \u001b[39mself\u001b[39m\u001b[39m.\u001b[39mctx \u001b[39m=\u001b[39m Ctx(acc, clt)\n",
      "File \u001b[1;32mc:\\Users\\Danii\\anaconda3\\Lib\\site-packages\\twscrape\\accounts_pool.py:262\u001b[0m, in \u001b[0;36mAccountsPool.get_for_queue_or_wait\u001b[1;34m(self, queue)\u001b[0m\n\u001b[0;32m    260\u001b[0m         logger\u001b[39m.\u001b[39minfo(msg)\n\u001b[0;32m    261\u001b[0m         msg_shown \u001b[39m=\u001b[39m \u001b[39mTrue\u001b[39;00m\n\u001b[1;32m--> 262\u001b[0m     \u001b[39mawait\u001b[39;00m asyncio\u001b[39m.\u001b[39msleep(\u001b[39m5\u001b[39m)\n\u001b[0;32m    263\u001b[0m     \u001b[39mcontinue\u001b[39;00m\n\u001b[0;32m    264\u001b[0m \u001b[39melse\u001b[39;00m:\n",
      "File \u001b[1;32mc:\\Users\\Danii\\anaconda3\\Lib\\asyncio\\tasks.py:639\u001b[0m, in \u001b[0;36msleep\u001b[1;34m(delay, result)\u001b[0m\n\u001b[0;32m    635\u001b[0m h \u001b[39m=\u001b[39m loop\u001b[39m.\u001b[39mcall_later(delay,\n\u001b[0;32m    636\u001b[0m                     futures\u001b[39m.\u001b[39m_set_result_unless_cancelled,\n\u001b[0;32m    637\u001b[0m                     future, result)\n\u001b[0;32m    638\u001b[0m \u001b[39mtry\u001b[39;00m:\n\u001b[1;32m--> 639\u001b[0m     \u001b[39mreturn\u001b[39;00m \u001b[39mawait\u001b[39;00m future\n\u001b[0;32m    640\u001b[0m \u001b[39mfinally\u001b[39;00m:\n\u001b[0;32m    641\u001b[0m     h\u001b[39m.\u001b[39mcancel()\n",
      "\u001b[1;31mCancelledError\u001b[0m: "
     ]
    }
   ],
   "source": [
    "user_name = input(\"Input the username: \")\n",
    "limit = int(input(\"Input the amount of tweets to get: \"))\n",
    "result = await gettweets(user_name, limit)\n",
    "##print(result)"
   ]
  },
  {
   "cell_type": "code",
   "execution_count": 5,
   "metadata": {},
   "outputs": [],
   "source": [
    "##type(result)"
   ]
  },
  {
   "cell_type": "code",
   "execution_count": 4,
   "metadata": {},
   "outputs": [],
   "source": [
    "df_tweets = pd.DataFrame(result)"
   ]
  },
  {
   "cell_type": "code",
   "execution_count": 6,
   "metadata": {},
   "outputs": [],
   "source": [
    "##df_tweets.head()"
   ]
  },
  {
   "cell_type": "code",
   "execution_count": 7,
   "metadata": {},
   "outputs": [],
   "source": [
    "##for column in df_tweets.columns:\n",
    "##    print(column, \" \", type(column))"
   ]
  },
  {
   "cell_type": "code",
   "execution_count": 8,
   "metadata": {},
   "outputs": [],
   "source": [
    "## avoid sql keywords\n",
    "df_tweets.rename(columns={'url': 'tweet_url', 'date': 'publish_date','user': 'tweet_user'}, inplace=True)"
   ]
  },
  {
   "cell_type": "code",
   "execution_count": 9,
   "metadata": {},
   "outputs": [],
   "source": [
    "##df_tweets.head()"
   ]
  },
  {
   "cell_type": "code",
   "execution_count": 6,
   "metadata": {},
   "outputs": [
    {
     "name": "stdout",
     "output_type": "stream",
     "text": [
      "Defaulting to user installation because normal site-packages is not writeable\n",
      "Collecting psycopg2\n",
      "  Downloading psycopg2-2.9.9.tar.gz (384 kB)\n",
      "\u001b[2K     \u001b[90m━━━━━━━━━━━━━━━━━━━━━━━━━━━━━━━━━━━━━\u001b[0m \u001b[32m384.9/384.9 kB\u001b[0m \u001b[31m443.3 kB/s\u001b[0m eta \u001b[36m0:00:00\u001b[0m00:01\u001b[0m00:01\u001b[0m\n",
      "\u001b[?25h  Preparing metadata (setup.py) ... \u001b[?25ldone\n",
      "\u001b[?25hBuilding wheels for collected packages: psycopg2\n",
      "  Building wheel for psycopg2 (setup.py) ... \u001b[?25ldone\n",
      "\u001b[?25h  Created wheel for psycopg2: filename=psycopg2-2.9.9-cp311-cp311-linux_x86_64.whl size=490641 sha256=a869bde106c9a165068760604aee6e63dad7ea2bb9a16a8cbd7765e35acca3d7\n",
      "  Stored in directory: /home/vscode/.cache/pip/wheels/ab/34/b9/78ebef1b3220b4840ee482461e738566c3c9165d2b5c914f51\n",
      "Successfully built psycopg2\n",
      "Installing collected packages: psycopg2\n",
      "Successfully installed psycopg2-2.9.9\n",
      "\n",
      "\u001b[1m[\u001b[0m\u001b[34;49mnotice\u001b[0m\u001b[1;39;49m]\u001b[0m\u001b[39;49m A new release of pip is available: \u001b[0m\u001b[31;49m23.2.1\u001b[0m\u001b[39;49m -> \u001b[0m\u001b[32;49m23.3.1\u001b[0m\n",
      "\u001b[1m[\u001b[0m\u001b[34;49mnotice\u001b[0m\u001b[1;39;49m]\u001b[0m\u001b[39;49m To update, run: \u001b[0m\u001b[32;49mpip install --upgrade pip\u001b[0m\n",
      "Note: you may need to restart the kernel to use updated packages.\n"
     ]
    }
   ],
   "source": [
    "%pip install psycopg2"
   ]
  },
  {
   "cell_type": "code",
   "execution_count": 10,
   "metadata": {},
   "outputs": [],
   "source": [
    "import psycopg2"
   ]
  },
  {
   "cell_type": "code",
   "execution_count": 11,
   "metadata": {},
   "outputs": [],
   "source": [
    "conn = psycopg2.connect(dbname=\"postgres\",user=\"postgres\", password=\"postgres\", port=\"5432\", host=\"localhost\")\n",
    "conn.autocommit = True\n",
    "cursor = conn.cursor()"
   ]
  },
  {
   "cell_type": "code",
   "execution_count": 14,
   "metadata": {},
   "outputs": [
    {
     "name": "stdout",
     "output_type": "stream",
     "text": [
      "Tweet already in database. Tweet ID:  1719072368524476556\n",
      "Tweet already in database. Tweet ID:  1717655783742026061\n",
      "Tweet already in database. Tweet ID:  1716524464643375138\n",
      "Tweet already in database. Tweet ID:  1716524468636409900\n",
      "Tweet already in database. Tweet ID:  1716524469945053611\n",
      "Tweet already in database. Tweet ID:  1715103480300364103\n",
      "Tweet already in database. Tweet ID:  1715103481915212179\n",
      "Tweet already in database. Tweet ID:  1714832306769186899\n",
      "Tweet already in database. Tweet ID:  1714829217626550779\n",
      "Tweet already in database. Tweet ID:  1713975536572117464\n",
      "Tweet already in database. Tweet ID:  1713913971802009922\n",
      "Tweet already in database. Tweet ID:  1711487698555322579\n",
      "Tweet already in database. Tweet ID:  1710664327777108129\n",
      "Tweet already in database. Tweet ID:  1710218490299170927\n",
      "Tweet already in database. Tweet ID:  1710396552076771670\n",
      "Tweet already in database. Tweet ID:  1710328548781596898\n",
      "Tweet already in database. Tweet ID:  1710320455935050126\n",
      "Tweet already in database. Tweet ID:  1710327900375814347\n",
      "Tweet already in database. Tweet ID:  1710304150813127092\n",
      "Tweet already in database. Tweet ID:  1710063847359287777\n",
      "Tweet already in database. Tweet ID:  1709215172105994505\n",
      "Tweet already in database. Tweet ID:  1708470634739540297\n",
      "Tweet already in database. Tweet ID:  1707783159813755343\n"
     ]
    }
   ],
   "source": [
    "for index, row in df_tweets.iterrows():\n",
    "    try:\n",
    "        cursor.execute('''INSERT INTO social_media.Tweets (\n",
    "                            id,\n",
    "                            id_str,\n",
    "                            tweet_url,\n",
    "                            publish_date,\n",
    "                            tweet_user,\n",
    "                            lang,\n",
    "                            rawcontent,\n",
    "                            replycount,\n",
    "                            retweetcount,\n",
    "                            likecount,\n",
    "                            quotecount,\n",
    "                            conversationid,\n",
    "                            hashtags,\n",
    "                            cashtags,\n",
    "                            mentionedusers,\n",
    "                            links,\n",
    "                            viewcount,\n",
    "                            retweetedtweet,\n",
    "                            quotedtweet,\n",
    "                            place,\n",
    "                            coordinates,\n",
    "                            inreplytotweetid,\n",
    "                            inreplytouser,\n",
    "                            source,\n",
    "                            sourceurl,\n",
    "                            sourcelabel,\n",
    "                            media,\n",
    "                            _type\n",
    "                        )\n",
    "                        VALUES (%s, %s, %s, %s, %s, %s, %s, %s,%s, %s, %s, %s, %s, %s, %s, %s,%s, %s, %s, %s, %s, %s, %s, %s, %s, %s, %s, %s);''', \n",
    "                       (row.id,\n",
    "                        row.id_str,\n",
    "                        row.tweet_url,\n",
    "                        row.publish_date,\n",
    "                        str(row.tweet_user),\n",
    "                        row.lang,\n",
    "                        row.rawContent,\n",
    "                        row.replyCount,\n",
    "                        row.retweetCount,\n",
    "                        row.likeCount,\n",
    "                        row.quoteCount,\n",
    "                        row.conversationId,\n",
    "                        str(row.hashtags),\n",
    "                        str(row.cashtags),\n",
    "                        str(row.mentionedUsers),\n",
    "                        str(row.links),\n",
    "                        row.viewCount,\n",
    "                        str(row.retweetedTweet),\n",
    "                        str(row.quotedTweet),\n",
    "                        str(row.place),\n",
    "                        str(row.coordinates),\n",
    "                        str(row.inReplyToTweetId),\n",
    "                        str(row.inReplyToUser),\n",
    "                        str(row.source),\n",
    "                        str(row.sourceUrl),\n",
    "                        str(row.sourceLabel),\n",
    "                        str(row.media),\n",
    "                        str(row._type)\n",
    "                       )\n",
    "        )\n",
    "        \n",
    "    except Exception:\n",
    "        print('Tweet already in database. Tweet ID: ', row.id)\n",
    "\n",
    "## ToDo extract only username from tweet_user!!!!!"
   ]
  }
 ],
 "metadata": {
  "kernelspec": {
   "display_name": "Python 3",
   "language": "python",
   "name": "python3"
  },
  "language_info": {
   "codemirror_mode": {
    "name": "ipython",
    "version": 3
   },
   "file_extension": ".py",
   "mimetype": "text/x-python",
   "name": "python",
   "nbconvert_exporter": "python",
   "pygments_lexer": "ipython3",
   "version": "3.11.5"
  }
 },
 "nbformat": 4,
 "nbformat_minor": 2
}
