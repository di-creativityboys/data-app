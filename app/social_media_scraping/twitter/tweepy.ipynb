{
 "cells": [
  {
   "cell_type": "code",
   "execution_count": 1,
   "metadata": {},
   "outputs": [
    {
     "name": "stdout",
     "output_type": "stream",
     "text": [
      "Collecting tweepy\n",
      "  Downloading tweepy-4.14.0-py3-none-any.whl (98 kB)\n",
      "     ---------------------------------------- 0.0/98.5 kB ? eta -:--:--\n",
      "     ---- ----------------------------------- 10.2/98.5 kB ? eta -:--:--\n",
      "     ----------- -------------------------- 30.7/98.5 kB 435.7 kB/s eta 0:00:01\n",
      "     ----------- -------------------------- 30.7/98.5 kB 435.7 kB/s eta 0:00:01\n",
      "     --------------- ---------------------- 41.0/98.5 kB 196.9 kB/s eta 0:00:01\n",
      "     --------------- ---------------------- 41.0/98.5 kB 196.9 kB/s eta 0:00:01\n",
      "     -------------------------------------- 98.5/98.5 kB 353.1 kB/s eta 0:00:00\n",
      "Requirement already satisfied: oauthlib<4,>=3.2.0 in c:\\users\\danii\\anaconda3\\lib\\site-packages (from tweepy) (3.2.2)\n",
      "Requirement already satisfied: requests<3,>=2.27.0 in c:\\users\\danii\\anaconda3\\lib\\site-packages (from tweepy) (2.31.0)\n",
      "Requirement already satisfied: requests-oauthlib<2,>=1.2.0 in c:\\users\\danii\\anaconda3\\lib\\site-packages (from tweepy) (1.3.1)\n",
      "Requirement already satisfied: charset-normalizer<4,>=2 in c:\\users\\danii\\anaconda3\\lib\\site-packages (from requests<3,>=2.27.0->tweepy) (2.0.4)\n",
      "Requirement already satisfied: idna<4,>=2.5 in c:\\users\\danii\\anaconda3\\lib\\site-packages (from requests<3,>=2.27.0->tweepy) (3.4)\n",
      "Requirement already satisfied: urllib3<3,>=1.21.1 in c:\\users\\danii\\anaconda3\\lib\\site-packages (from requests<3,>=2.27.0->tweepy) (1.26.16)\n",
      "Requirement already satisfied: certifi>=2017.4.17 in c:\\users\\danii\\anaconda3\\lib\\site-packages (from requests<3,>=2.27.0->tweepy) (2023.7.22)\n",
      "Installing collected packages: tweepy\n",
      "Successfully installed tweepy-4.14.0\n",
      "Note: you may need to restart the kernel to use updated packages.\n"
     ]
    }
   ],
   "source": [
    "pip install tweepy"
   ]
  },
  {
   "cell_type": "code",
   "execution_count": 4,
   "metadata": {},
   "outputs": [],
   "source": [
    "import tweepy\n",
    "\n",
    "# Your app's bearer token can be found under the Authentication Tokens section\n",
    "# of the Keys and Tokens tab of your app, under the\n",
    "# Twitter Developer Portal Projects & Apps page at\n",
    "# https://developer.twitter.com/en/portal/projects-and-apps\n",
    "bearer_token = \"AAAAAAAAAAAAAAAAAAAAAEwBrAEAAAAApCxylAsb7QHHl036ZVfpBgCTzjc%3DVlvWB14WqMidgIaIuoPWldLdrA66oEiUcNOdz8QlhrVXlo5dsQ\"\n",
    "\n",
    "# Your app's API/consumer key and secret can be found under the Consumer Keys\n",
    "# section of the Keys and Tokens tab of your app, under the\n",
    "# Twitter Developer Portal Projects & Apps page at\n",
    "# https://developer.twitter.com/en/portal/projects-and-apps\n",
    "consumer_key = \"uC22Dsn8SBXK0zUEa3N7qOQCB\"\n",
    "consumer_secret = \"dFGGNuHU353jWzpQvW1kNQsnTvyjt4hZ9zEq0CZ0eJ1l5871q9\"\n",
    "\n",
    "# Your account's (the app owner's account's) access token and secret for your\n",
    "# app can be found under the Authentication Tokens section of the\n",
    "# Keys and Tokens tab of your app, under the\n",
    "# Twitter Developer Portal Projects & Apps page at\n",
    "# https://developer.twitter.com/en/portal/projects-and-apps\n",
    "access_token = \"1722599919104499712-eTx0A2DVWqhsPsMjF0jLs6HNgSziOF\"\n",
    "access_token_secret = \"ii3AIaTO1ccyQjzhuIS8iRqsFZqxpa3GDvoHy19hKEp7o\"\n",
    "\n",
    "# You can authenticate as your app with just your bearer token\n",
    "client = tweepy.Client(bearer_token=bearer_token)\n",
    "\n",
    "# You can provide the consumer key and secret with the access token and access\n",
    "# token secret to authenticate as a user\n",
    "client = tweepy.Client(\n",
    "    consumer_key=consumer_key, consumer_secret=consumer_secret,\n",
    "    access_token=access_token, access_token_secret=access_token_secret\n",
    ")\n"
   ]
  },
  {
   "cell_type": "code",
   "execution_count": 5,
   "metadata": {},
   "outputs": [
    {
     "name": "stdout",
     "output_type": "stream",
     "text": [
      "https://twitter.com/user/status/1724050861163257889\n"
     ]
    }
   ],
   "source": [
    "# Create Tweet\n",
    "\n",
    "# The app and the corresponding credentials must have the Write permission\n",
    "\n",
    "# Check the App permissions section of the Settings tab of your app, under the\n",
    "# Twitter Developer Portal Projects & Apps page at\n",
    "# https://developer.twitter.com/en/portal/projects-and-apps\n",
    "\n",
    "# Make sure to reauthorize your app / regenerate your access token and secret \n",
    "# after setting the Write permission\n",
    "\n",
    "response = client.create_tweet(\n",
    "    text=\"This Tweet was Tweeted using Tweepy and Twitter API v2!\"\n",
    ")\n",
    "print(f\"https://twitter.com/user/status/{response.data['id']}\")\n"
   ]
  }
 ],
 "metadata": {
  "kernelspec": {
   "display_name": "base",
   "language": "python",
   "name": "python3"
  },
  "language_info": {
   "codemirror_mode": {
    "name": "ipython",
    "version": 3
   },
   "file_extension": ".py",
   "mimetype": "text/x-python",
   "name": "python",
   "nbconvert_exporter": "python",
   "pygments_lexer": "ipython3",
   "version": "3.11.5"
  }
 },
 "nbformat": 4,
 "nbformat_minor": 2
}
