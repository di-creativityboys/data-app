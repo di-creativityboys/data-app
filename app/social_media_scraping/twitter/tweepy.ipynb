{
 "cells": [
  {
   "cell_type": "code",
   "execution_count": null,
   "metadata": {},
   "outputs": [],
   "source": [
    "pip install tweepy"
   ]
  },
  {
   "cell_type": "code",
   "execution_count": 4,
   "metadata": {},
   "outputs": [],
   "source": [
    "import tweepy\n",
    "\n",
    "# Your app's bearer token can be found under the Authentication Tokens section\n",
    "# of the Keys and Tokens tab of your app, under the\n",
    "# Twitter Developer Portal Projects & Apps page at\n",
    "# https://developer.twitter.com/en/portal/projects-and-apps\n",
    "bearer_token = \"AAAAAAAAAAAAAAAAAAAAAEwBrAEAAAAApCxylAsb7QHHl036ZVfpBgCTzjc%3DVlvWB14WqMidgIaIuoPWldLdrA66oEiUcNOdz8QlhrVXlo5dsQ\"\n",
    "\n",
    "# Your app's API/consumer key and secret can be found under the Consumer Keys\n",
    "# section of the Keys and Tokens tab of your app, under the\n",
    "# Twitter Developer Portal Projects & Apps page at\n",
    "# https://developer.twitter.com/en/portal/projects-and-apps\n",
    "consumer_key = \"uC22Dsn8SBXK0zUEa3N7qOQCB\"\n",
    "consumer_secret = \"dFGGNuHU353jWzpQvW1kNQsnTvyjt4hZ9zEq0CZ0eJ1l5871q9\"\n",
    "\n",
    "# Your account's (the app owner's account's) access token and secret for your\n",
    "# app can be found under the Authentication Tokens section of the\n",
    "# Keys and Tokens tab of your app, under the\n",
    "# Twitter Developer Portal Projects & Apps page at\n",
    "# https://developer.twitter.com/en/portal/projects-and-apps\n",
    "access_token = \"1722599919104499712-eTx0A2DVWqhsPsMjF0jLs6HNgSziOF\"\n",
    "access_token_secret = \"ii3AIaTO1ccyQjzhuIS8iRqsFZqxpa3GDvoHy19hKEp7o\"\n",
    "\n",
    "# You can authenticate as your app with just your bearer token\n",
    "client = tweepy.Client(bearer_token=bearer_token)\n",
    "\n",
    "# You can provide the consumer key and secret with the access token and access\n",
    "# token secret to authenticate as a user\n",
    "client = tweepy.Client(\n",
    "    consumer_key=consumer_key, consumer_secret=consumer_secret,\n",
    "    access_token=access_token, access_token_secret=access_token_secret\n",
    ")\n"
   ]
  },
  {
   "cell_type": "code",
   "execution_count": 5,
   "metadata": {},
   "outputs": [
    {
     "name": "stdout",
     "output_type": "stream",
     "text": [
      "https://twitter.com/user/status/1724050861163257889\n"
     ]
    }
   ],
   "source": [
    "# Create Tweet\n",
    "\n",
    "# The app and the corresponding credentials must have the Write permission\n",
    "\n",
    "# Check the App permissions section of the Settings tab of your app, under the\n",
    "# Twitter Developer Portal Projects & Apps page at\n",
    "# https://developer.twitter.com/en/portal/projects-and-apps\n",
    "\n",
    "# Make sure to reauthorize your app / regenerate your access token and secret \n",
    "# after setting the Write permission\n",
    "\n",
    "response = client.create_tweet(\n",
    "    text=\"This Tweet was Tweeted using Tweepy and Twitter API v2!\"\n",
    ")\n",
    "print(f\"https://twitter.com/user/status/{response.data['id']}\")\n"
   ]
  }
 ],
 "metadata": {
  "kernelspec": {
   "display_name": "base",
   "language": "python",
   "name": "python3"
  },
  "language_info": {
   "codemirror_mode": {
    "name": "ipython",
    "version": 3
   },
   "file_extension": ".py",
   "mimetype": "text/x-python",
   "name": "python",
   "nbconvert_exporter": "python",
   "pygments_lexer": "ipython3",
   "version": "3.11.5"
  }
 },
 "nbformat": 4,
 "nbformat_minor": 2
}
