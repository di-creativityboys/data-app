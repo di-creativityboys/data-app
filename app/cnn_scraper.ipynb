{
 "cells": [
  {
   "cell_type": "markdown",
   "metadata": {},
   "source": [
    "##### This part implements an entire workflow which scrapes the news articles."
   ]
  },
  {
   "cell_type": "code",
   "execution_count": 102,
   "metadata": {},
   "outputs": [
    {
     "data": {
      "text/plain": [
       "'\\nGet all articles from the mainpage\\n\\nFrom the articles, get everything you can get your hands on.\\n\\nTurn the article to dictionary form\\n'"
      ]
     },
     "execution_count": 102,
     "metadata": {},
     "output_type": "execute_result"
    }
   ],
   "source": [
    "# ToDos for 27.10.2002\n",
    "\"\"\"\n",
    "Get all articles from the mainpage\n",
    "\n",
    "From the articles, get everything you can get your hands on.\n",
    "\n",
    "Turn the article to dictionary form\n",
    "\"\"\""
   ]
  },
  {
   "cell_type": "code",
   "execution_count": 103,
   "metadata": {},
   "outputs": [],
   "source": [
    "from bs4 import BeautifulSoup, Tag, NavigableString\n",
    "import requests\n",
    "from typing import List\n",
    "from datetime import datetime"
   ]
  },
  {
   "cell_type": "code",
   "execution_count": 104,
   "metadata": {},
   "outputs": [],
   "source": [
    "MAINPAGE = \"edition.cnn.com\"\n",
    "HTTPS_SUFFIX = \"https://\"\n",
    "MAINPAGE_LINK = f\"{HTTPS_SUFFIX}{MAINPAGE}\""
   ]
  },
  {
   "cell_type": "code",
   "execution_count": 105,
   "metadata": {},
   "outputs": [],
   "source": [
    "class Image():\n",
    "    def __init__(self, url : str, description : str):\n",
    "        self.url = url\n",
    "        self.description = description\n",
    "\n",
    "    def __str__(self):\n",
    "        return f'Photo description: {self.description}'\n",
    "\n",
    "class Article():\n",
    "    def __init__(self, headline : str, contents : str, authors : str, date : str, read_time : str, url : str, image : Image):\n",
    "        self.headline = headline\n",
    "        self.contents = contents\n",
    "        self.authors = authors\n",
    "        self.date = date\n",
    "        self.read_time = read_time\n",
    "        self.url = url\n",
    "        self.image = image\n",
    "\n",
    "\n",
    "        self.timestamp = datetime.now()\n",
    "\n",
    "    \n",
    "    def __str__(self):\n",
    "        string : str = \"\"\n",
    "        return f\"{self.headline}  by {self.authors}  {self.read_time}\\n {self.contents} \\n\""
   ]
  },
  {
   "cell_type": "code",
   "execution_count": 106,
   "metadata": {},
   "outputs": [],
   "source": [
    "def get_soup(url : str)-> BeautifulSoup:\n",
    "    article = requests.get(url).text\n",
    "    if article:\n",
    "        return BeautifulSoup(article)\n",
    "    else:\n",
    "        print(\"Error fetching the soup object\")\n",
    "\n",
    "def get_content(article_soup : BeautifulSoup):\n",
    "    paragraphs = [paragraph.text for paragraph in article_soup.find_all(is_paragraph)]\n",
    "    string = \"\"\n",
    "    for paragraph in paragraphs:\n",
    "        string = f\"{string} {paragraph}\"\n",
    "    return string\n",
    "\n",
    "def get_article_links(mainpage_soup : BeautifulSoup) -> list:\n",
    "    results = mainpage_soup.find_all(name=\"a\", attrs={\"data-link-type\" : \"article\"})\n",
    "    results = [f'{MAINPAGE_LINK}{result.attrs[\"href\"]}' for result in results]\n",
    "    print(results)\n",
    "    return results\n",
    "\n",
    "def get_headline(article_soup : BeautifulSoup):\n",
    "    return article_soup.find(\"h1\").text\n",
    "\n",
    "def get_authors(article_soup : BeautifulSoup):\n",
    "    author_tags = article_soup.find_all(is_author)\n",
    "    names = [tag.string for tag in author_tags]\n",
    "    return names\n",
    "\n",
    "def get_date(article_soup : BeautifulSoup):\n",
    "    date_tag = article_soup.find(is_date)\n",
    "    date_string = date_tag.text\n",
    "    date = extract_date_from_string(date_string)\n",
    "    return date # this slicing is done in order to just get the parts of the string which are relevant for us\n",
    "\n",
    "def get_read_time(article_soup : BeautifulSoup):\n",
    "    # a read time of 0 is used to signify an article whose reading time could not be fetched.\n",
    "    read_time_tag = article_soup.find(\"div\", attrs={\"class\" : [\"headline__sub-description\"]})  #[15:28] the slicing caused an error so I removed it for testing purposes\n",
    "    if read_time_tag is None:\n",
    "        return \"\"\n",
    "    read_time : int = extract_read_time_from_string(read_time_tag.text)\n",
    "    return read_time\n",
    "\n",
    "def get_image(article_soup : BeautifulSoup) -> Image:\n",
    "    image_tag = article_soup.find(is_image)\n",
    "    if image_tag is not None:\n",
    "        return Image(url=image_tag['src'], description=image_tag['alt']) # modify this\n",
    "    else:\n",
    "        return Image(\"\", \"\")\n",
    "\n",
    "def is_paragraph(tag : Tag) -> bool:\n",
    "    return tag.has_attr(\"data-component-name\") and tag.name == \"p\"\n",
    "\n",
    "def is_author(tag : Tag) -> bool:\n",
    "    return tag.get_attribute_list(\"class\")[0] == \"byline__name\"\n",
    "\n",
    "def is_date(tag : Tag):\n",
    "    return tag.get_attribute_list(\"class\")[0] == \"timestamp\"\n",
    "\n",
    "def is_image(tag : Tag) -> bool:\n",
    "    return tag.has_attr(\"src\") and tag.has_attr(\"alt\") and tag.name == \"img\"\n",
    "\n",
    "def extract_read_time_from_string(read_time_string : str) -> int:\n",
    "    # returns 0 if the read_time integer cannot be successfully extracted\n",
    "    read_time = 0\n",
    "    for character in read_time_string:\n",
    "        try:\n",
    "            read_time =  int(character)\n",
    "        except:\n",
    "            pass\n",
    "    return read_time\n",
    "\n",
    "def extract_date_from_string(date_string : str):\n",
    "    # returns 0 if no date could be extracted\n",
    "    date = 0\n",
    "    for i in range(0, len(date_string)+1):\n",
    "        for j in range(i, len(date_string)+1):\n",
    "            try:\n",
    "                date = datetime.strptime(date_string[i:j], \"%B %d, %Y\")\n",
    "                break\n",
    "            except:\n",
    "                pass\n",
    "    return date\n",
    "\n",
    "def create_article_from_link(link : str) ->Article:\n",
    "    article_soup = get_soup(link)\n",
    "    headline = get_headline(article_soup)\n",
    "    content = get_content(article_soup)\n",
    "    author = get_authors(article_soup)\n",
    "    date = get_date(article_soup)\n",
    "    read_time = get_read_time(article_soup)\n",
    "    url = link\n",
    "    image = get_image(article_soup)\n",
    "\n",
    "    return Article(headline, content, author, date, read_time, url, image)"
   ]
  },
  {
   "cell_type": "code",
   "execution_count": 109,
   "metadata": {},
   "outputs": [
    {
     "name": "stdout",
     "output_type": "stream",
     "text": [
      "['https://edition.cnn.com/2023/11/02/middleeast/israel-gaza-hamas-war-jabalya-camp-strike-intl-hnk/index.html', 'https://edition.cnn.com/2023/11/01/politics/donald-trump-jr-fraud-trial/index.html', 'https://edition.cnn.com/2023/11/01/africa/king-charles-kenya-colonial-suffering-intl/index.html', 'https://edition.cnn.com/2023/10/30/sport/enhanced-games-olympics-doping-spt-intl/index.html', 'https://edition.cnn.com/style/taiwan-beigan-power-plant-matsu-biennial-hnk-intl/index.html', 'https://edition.cnn.com/travel/article/jet-stream-flights-speed-of-sound/index.html', 'https://edition.cnn.com/2023/11/01/world/11-01-2023-collins-dictionary-ai-word-of-the-year-scli-intl-scn/index.html', 'https://edition.cnn.com/2023/11/02/middleeast/israel-gaza-hamas-war-jabalya-camp-strike-intl-hnk/index.html', 'https://edition.cnn.com/2023/11/01/middleeast/rafah-crossing-gaza-egypt-explainer-intl/index.html', 'https://edition.cnn.com/2023/11/02/tech/china-maps-baidu-amap-israel-intl-hnk/index.html', 'https://edition.cnn.com/2023/11/01/opinions/israel-flawed-strategy-defeating-hamas-pape/index.html', 'https://edition.cnn.com/2023/11/01/middleeast/qatar-mediation-israel-hamas-intl/index.html', 'https://edition.cnn.com/2023/11/01/politics/donald-trump-jr-fraud-trial/index.html', 'https://edition.cnn.com/2023/11/01/politics/donald-trump-jr-fraud-trial/index.html', 'https://edition.cnn.com/2023/11/01/politics/florida-hearing-trump-mar-a-lago-documents-trial/index.html', 'https://edition.cnn.com/2023/11/01/politics/mike-johnson-risky-gambit-israel/index.html', 'https://edition.cnn.com/2023/11/02/weather/storm-ciaran-france-uk-electricity-northwestern-europe-climate-gbr-intl/index.html', 'https://edition.cnn.com/2023/11/02/weather/storm-ciaran-france-uk-electricity-northwestern-europe-climate-gbr-intl/index.html', 'https://edition.cnn.com/2023/11/02/us/un-adaptation-gap-report-climate-change-finance/index.html', 'https://edition.cnn.com/2023/11/01/australia/australian-poison-mushroom-arrest-intl-hnk/index.html', 'https://edition.cnn.com/2023/11/02/politics/trump-verbal-slip-ups/index.html', 'https://edition.cnn.com/2023/11/02/world/hawaii-akikiki-honeycreeper-extinction-c2e-spc-scn-intl/index.html', 'https://edition.cnn.com/2023/11/01/us/pilot-shooting-threat-indictment/index.html', 'https://edition.cnn.com/2023/11/01/investing/munger-interview-buffett-japan-investment-intl-hnk/index.html', 'https://edition.cnn.com/2023/11/01/opinions/dagestan-antisemitism-rise-israel-ghitis/index.html', 'https://edition.cnn.com/2023/11/01/asia/blackpinks-lisa-suspension-weibo-hnk-intl/index.html', 'https://edition.cnn.com/2023/11/01/asia/blackpinks-lisa-suspension-weibo-hnk-intl/index.html', 'https://edition.cnn.com/2023/11/01/europe/italy-giorgia-meloni-ukraine-fatigue-russia-prank-call-intl/index.html', 'https://edition.cnn.com/2023/11/02/health/hormone-replacement-dementia-wellness/index.html', 'https://edition.cnn.com/2023/11/02/sport/lebron-james-lakers-clippers-james-harden-spt-intl/index.html', 'https://edition.cnn.com/2023/11/02/sport/bayern-munich-saarbrucken-german-cup-spt-intl/index.html', 'https://edition.cnn.com/2023/11/02/health/older-adults-specialists-kff-health-news/index.html', 'https://edition.cnn.com/travel/article/jet-stream-flights-speed-of-sound/index.html', 'https://edition.cnn.com/travel/article/jet-stream-flights-speed-of-sound/index.html', 'https://edition.cnn.com/travel/tarantula-car-accident-death-valley-national-park/index.html', 'https://edition.cnn.com/travel/tarantula-car-accident-death-valley-national-park/index.html', 'https://edition.cnn.com/style/taiwan-beigan-power-plant-matsu-biennial-hnk-intl/index.html', 'https://edition.cnn.com/style/taiwan-beigan-power-plant-matsu-biennial-hnk-intl/index.html', 'https://edition.cnn.com/2023/11/02/tech/uber-lyft-settlements-new-york-attorney-general/index.html', 'https://edition.cnn.com/2023/11/02/tech/uber-lyft-settlements-new-york-attorney-general/index.html', 'https://edition.cnn.com/travel/doha-international-cruise-terminal-qatar/index.html', 'https://edition.cnn.com/travel/doha-international-cruise-terminal-qatar/index.html', 'https://edition.cnn.com/travel/day-of-the-dead-traditions-explained-cec/index.html', 'https://edition.cnn.com/travel/day-of-the-dead-traditions-explained-cec/index.html', 'https://edition.cnn.com/travel/article/worlds-oldest-airlines/index.html', 'https://edition.cnn.com/travel/article/worlds-oldest-airlines/index.html', 'https://edition.cnn.com/furniture-design-cardboard-artist-cop28/index.html', 'https://edition.cnn.com/furniture-design-cardboard-artist-cop28/index.html', 'https://edition.cnn.com/2023/11/01/world/nasa-lucy-mission-dinkinesh-flyby-scn/index.html', 'https://edition.cnn.com/2023/11/01/world/nasa-lucy-mission-dinkinesh-flyby-scn/index.html', 'https://edition.cnn.com/2023/11/01/health/mobile-phone-sperm-count-wellness/index.html', 'https://edition.cnn.com/2023/11/01/health/mobile-phone-sperm-count-wellness/index.html', 'https://edition.cnn.com/travel/laos-buffalo-dairy-luang-prabang-cmd/index.html', 'https://edition.cnn.com/travel/laos-buffalo-dairy-luang-prabang-cmd/index.html', 'https://edition.cnn.com/style/guitar-maker-mushrooms-biomaterials-rosenkrantz-spc/index.html', 'https://edition.cnn.com/style/guitar-maker-mushrooms-biomaterials-rosenkrantz-spc/index.html', 'https://edition.cnn.com/style/best-celebrity-halloween-costumes-2023/index.html', 'https://edition.cnn.com/style/best-celebrity-halloween-costumes-2023/index.html', 'https://edition.cnn.com/2023/11/01/world/cats-have-276-facial-expressions-intl-scli-scn/index.html', 'https://edition.cnn.com/2023/11/01/world/cats-have-276-facial-expressions-intl-scli-scn/index.html', 'https://edition.cnn.com/2023/11/01/tech/apple-ai-upgrades/index.html', 'https://edition.cnn.com/2023/11/01/tech/apple-ai-upgrades/index.html', 'https://edition.cnn.com/2023/11/01/economy/what-to-expect-from-todays-fed-meeting/index.html', 'https://edition.cnn.com/2023/11/01/economy/what-to-expect-from-todays-fed-meeting/index.html', 'https://edition.cnn.com/2023/11/01/investing/bankman-fried-lied-to-you-prosecutors-tell-jury/index.html', 'https://edition.cnn.com/2023/11/01/media/disney-hulu-comcast/index.html', 'https://edition.cnn.com/2023/10/30/business/germany-economy-q3-gdp/index.html', 'https://edition.cnn.com/2023/10/30/business/gm-uaw-tentative-agreement/index.html', 'https://edition.cnn.com/2023/10/30/business/hsbc-q3-results-earnings-report-intl-hnk/index.html', 'https://edition.cnn.com/travel/fontainebleau-hotel-las-vegas/index.html', 'https://edition.cnn.com/travel/fontainebleau-hotel-las-vegas/index.html', 'https://edition.cnn.com/travel/cassadaga-florida-spiritualist-camp-mediums/index.html', 'https://edition.cnn.com/2023/10/26/travel/why-this-us-couple-swapped-california-for-spain/index.html', 'https://edition.cnn.com/travel/article/chance-encounters-prague-roommates/index.html', 'https://edition.cnn.com/2023/10/24/travel/trinity-site-visitors-oppenheimer-cec/index.html', 'https://edition.cnn.com/travel/cambodia-siem-reap-airport-angkor-wat/index.html', 'https://edition.cnn.com/2023/10/30/sport/enhanced-games-olympics-doping-spt-intl/index.html', 'https://edition.cnn.com/2023/10/30/sport/enhanced-games-olympics-doping-spt-intl/index.html', 'https://edition.cnn.com/2023/10/29/sport/fisher-stevens-david-beckham-documentary-spt-intl/index.html', 'https://edition.cnn.com/2023/10/27/sport/norway-ingebrigtsen-family-abuse-running-spt-intl/index.html', 'https://edition.cnn.com/2023/10/29/sport/wta-finals-preview-spt-intl/index.html', 'https://edition.cnn.com/2023/10/28/sport/victor-wembanyama-spurs-win-spt-intl/index.html', 'https://edition.cnn.com/style/david-shrigley-pulped-fiction-tan/index.html', 'https://edition.cnn.com/style/david-shrigley-pulped-fiction-tan/index.html', 'https://edition.cnn.com/style/phoebe-philo-designer-debut-collection/index.html', 'https://edition.cnn.com/style/phillip-lim-nyfw-fashion-interview-september-issues/index.html', 'https://edition.cnn.com/2023/10/30/style/claude-monet-painting-auction-intl-scli/index.html', 'https://edition.cnn.com/style/egypts-pyramids-host-breathtaking-new-art-exhibit/index.html', 'https://edition.cnn.com/style/halloween-costumes-new-york-subway-seymour-licht/index.html', 'https://edition.cnn.com/2023/11/01/opinions/israel-flawed-strategy-defeating-hamas-pape/index.html', 'https://edition.cnn.com/2023/11/01/opinions/israel-flawed-strategy-defeating-hamas-pape/index.html', 'https://edition.cnn.com/2023/11/01/opinions/dagestan-antisemitism-rise-israel-ghitis/index.html', 'https://edition.cnn.com/2023/10/30/opinions/hamas-underground-tunnels-richemond-barak-bergen/index.html', 'https://edition.cnn.com/2023/11/01/opinions/cornell-student-antisemitism-israel-gaza-palestinians-levin/index.html', 'https://edition.cnn.com/2023/10/29/opinions/matthew-perry-friends-appreciation-obeidallah/index.html', 'https://edition.cnn.com/2023/10/29/opinions/opinion-my-country-abolished-the-death-penalty-so-can-yours-tsakhia/index.html', 'https://edition.cnn.com/2023/10/30/politics/israel-aid-congress-senate/index.html', 'https://edition.cnn.com/2023/10/30/politics/israel-aid-congress-senate/index.html', 'https://edition.cnn.com/2023/10/30/politics/man-charged-threats-fulton-county-trump/index.html', 'https://edition.cnn.com/2023/10/30/politics/republican-party-2020-election-denialism/index.html', 'https://edition.cnn.com/2023/10/29/politics/tommy-tuberville-military-nominations-middle-east/index.html', 'https://edition.cnn.com/2023/10/28/politics/biden-reelection-worries-dean-phillips/index.html', 'https://edition.cnn.com/2023/10/27/politics/us-attorney-biden-bribery-tip-scrutiny/index.html', 'https://edition.cnn.com/2023/11/01/health/stress-rash-cause-treatment-explained-wellness/index.html', 'https://edition.cnn.com/2023/11/01/health/stress-rash-cause-treatment-explained-wellness/index.html', 'https://edition.cnn.com/2023/11/01/health/working-with-adhd-personal-essay-wellness-cec/index.html', 'https://edition.cnn.com/2023/10/30/health/slow-wave-sleep-loss-dementia-risk-wellness/index.html', 'https://edition.cnn.com/2023/10/31/health/compassion-fatigue-wellness/index.html', 'https://edition.cnn.com/2023/10/27/world/earth-core-helium-leak-scn/index.html', 'https://edition.cnn.com/2023/10/25/world/roman-forts-spy-satellite-photos-scn/index.html', 'https://edition.cnn.com/2023/10/19/tech/snapchat-user-growth/index.html', 'https://edition.cnn.com/2023/10/19/tech/snapchat-user-growth/index.html', 'https://edition.cnn.com/2023/10/19/tech/crypto-firms-fraud-charges-new-york/index.html', 'https://edition.cnn.com/2023/10/18/tech/apple-pencil-usb-c/index.html', 'https://edition.cnn.com/2023/10/19/tech/eu-meta-tiktok-israel-content-disinformation/index.html', 'https://edition.cnn.com/2023/10/18/tech/us-china-chip-export-curbs-intl-hnk/index.html', 'https://edition.cnn.com/2023/10/19/tech/nokia-layoffs-cost-cutting-intl-hnk/index.html', 'https://edition.cnn.com/2023/10/16/tech/iphone-15-sales-china/index.html', 'https://edition.cnn.com/2023/09/22/sport/michael-jordan-grove-xxiii-golf-course-spt-spc-intl/index.html', 'https://edition.cnn.com/2023/09/22/sport/michael-jordan-grove-xxiii-golf-course-spt-spc-intl/index.html', 'https://edition.cnn.com/2023/10/18/sport/carbrook-bull-sharks-australia-golf-course-spt-spc-intl/index.html', 'https://edition.cnn.com/2023/10/18/sport/carbrook-bull-sharks-australia-golf-course-spt-spc-intl/index.html', 'https://edition.cnn.com/2022/10/25/golf/hornussen-switzerland-golf-baseball-farmers-spt-intl/index.html', 'https://edition.cnn.com/2022/10/25/golf/hornussen-switzerland-golf-baseball-farmers-spt-intl/index.html', 'https://edition.cnn.com/2023/10/23/world/west-antarctic-ice-melt-climate/index.html', 'https://edition.cnn.com/2023/10/23/world/west-antarctic-ice-melt-climate/index.html', 'https://edition.cnn.com/2023/10/30/entertainment/taylor-swift-breaks-spotify-record/index.html', 'https://edition.cnn.com/2023/10/30/asia/hong-kong-jeff-wilson-firearms-charge-acquitted-intl-hnk/index.html', 'https://edition.cnn.com/2023/10/30/us/us-weekend-mass-shootings-halloween/index.html', 'https://edition.cnn.com/2023/10/30/style/bust-scotland-sale-intl-scli/index.html', 'https://edition.cnn.com/2023/10/28/entertainment/arnold-schwarzenegger-sylvester-stallone-derail-each-other/index.html', 'https://edition.cnn.com/2023/10/29/maine-shooting-robert-card-investigation/index.html', 'https://edition.cnn.com/2023/10/30/entertainment/ice-spice-turns-heads-in-a-racy-betty-boop-halloween-costume/index.html', 'https://edition.cnn.com/2023/10/30/china/china-xiangshan-forum-security-russia-united-states-intl-hnk/index.html', 'https://edition.cnn.com/2023/10/29/us/cornell-university-antisemetic-threats-online-investigation/index.html']\n"
     ]
    }
   ],
   "source": [
    "mainpage_soup = get_soup(MAINPAGE_LINK)\n",
    "links = get_article_links(mainpage_soup)\n"
   ]
  },
  {
   "cell_type": "code",
   "execution_count": 110,
   "metadata": {},
   "outputs": [],
   "source": [
    "articles = [create_article_from_link(link) for link in links.copy()]\n",
    "#articles"
   ]
  },
  {
   "cell_type": "code",
   "execution_count": null,
   "metadata": {},
   "outputs": [],
   "source": [
    "# Please work please work please work please work please work please work please work \n",
    "article_dicts = [article.__dict__ for article in articles]"
   ]
  },
  {
   "cell_type": "markdown",
   "metadata": {},
   "source": [
    "##### This is where I try to connect to the postgres database and execute the insert statements"
   ]
  },
  {
   "cell_type": "code",
   "execution_count": null,
   "metadata": {},
   "outputs": [
    {
     "name": "stdout",
     "output_type": "stream",
     "text": [
      "Defaulting to user installation because normal site-packages is not writeable\n",
      "Requirement already satisfied: psycopg2 in /home/vscode/.local/lib/python3.11/site-packages (2.9.9)\n",
      "\n",
      "\u001b[1m[\u001b[0m\u001b[34;49mnotice\u001b[0m\u001b[1;39;49m]\u001b[0m\u001b[39;49m A new release of pip is available: \u001b[0m\u001b[31;49m23.2.1\u001b[0m\u001b[39;49m -> \u001b[0m\u001b[32;49m23.3.1\u001b[0m\n",
      "\u001b[1m[\u001b[0m\u001b[34;49mnotice\u001b[0m\u001b[1;39;49m]\u001b[0m\u001b[39;49m To update, run: \u001b[0m\u001b[32;49mpip install --upgrade pip\u001b[0m\n",
      "Note: you may need to restart the kernel to use updated packages.\n"
     ]
    }
   ],
   "source": [
    "%pip install psycopg2"
   ]
  },
  {
   "cell_type": "code",
   "execution_count": null,
   "metadata": {},
   "outputs": [],
   "source": [
    "import psycopg2"
   ]
  },
  {
   "cell_type": "code",
   "execution_count": null,
   "metadata": {},
   "outputs": [],
   "source": [
    "conn = psycopg2.connect(dbname=\"postgres\",user=\"postgres\", password=\"postgres\", port=\"5432\", host=\"localhost\")\n",
    "conn.autocommit = True\n",
    "cursor = conn.cursor()"
   ]
  },
  {
   "cell_type": "code",
   "execution_count": null,
   "metadata": {},
   "outputs": [
    {
     "name": "stdout",
     "output_type": "stream",
     "text": [
      "Duplicate detected, skipping to next article.\n",
      "Duplicate detected, skipping to next article.\n",
      "Duplicate detected, skipping to next article.\n",
      "Duplicate detected, skipping to next article.\n",
      "Duplicate detected, skipping to next article.\n",
      "Duplicate detected, skipping to next article.\n",
      "Duplicate detected, skipping to next article.\n",
      "Duplicate detected, skipping to next article.\n",
      "Duplicate detected, skipping to next article.\n",
      "Duplicate detected, skipping to next article.\n",
      "Duplicate detected, skipping to next article.\n",
      "Duplicate detected, skipping to next article.\n",
      "Duplicate detected, skipping to next article.\n",
      "Duplicate detected, skipping to next article.\n",
      "Duplicate detected, skipping to next article.\n",
      "Duplicate detected, skipping to next article.\n",
      "Duplicate detected, skipping to next article.\n",
      "Duplicate detected, skipping to next article.\n",
      "Duplicate detected, skipping to next article.\n",
      "Duplicate detected, skipping to next article.\n",
      "Duplicate detected, skipping to next article.\n",
      "Duplicate detected, skipping to next article.\n",
      "Duplicate detected, skipping to next article.\n",
      "Duplicate detected, skipping to next article.\n",
      "Duplicate detected, skipping to next article.\n",
      "Duplicate detected, skipping to next article.\n",
      "Duplicate detected, skipping to next article.\n",
      "Duplicate detected, skipping to next article.\n",
      "Duplicate detected, skipping to next article.\n",
      "Duplicate detected, skipping to next article.\n",
      "Duplicate detected, skipping to next article.\n",
      "Duplicate detected, skipping to next article.\n",
      "Duplicate detected, skipping to next article.\n",
      "Duplicate detected, skipping to next article.\n",
      "Duplicate detected, skipping to next article.\n",
      "Duplicate detected, skipping to next article.\n",
      "Duplicate detected, skipping to next article.\n",
      "Duplicate detected, skipping to next article.\n"
     ]
    }
   ],
   "source": [
    "for article_dictionary in article_dicts:\n",
    "    try:\n",
    "        cursor.execute('''INSERT INTO Articles(URLId, Headline, Contents, Authors, UploadDate, ReadTime, ImageURL, ImageDescription, ScrapingTimeStamp) \n",
    "                       VALUES (%s, %s, %s, %s, %s, %s, %s, %s, %s);''', \n",
    "                       (article_dictionary[\"url\"][8:], \n",
    "                       article_dictionary[\"headline\"], \n",
    "                       article_dictionary[\"contents\"], \n",
    "                       article_dictionary[\"authors\"], \n",
    "                       article_dictionary[\"date\"], \n",
    "                       article_dictionary[\"read_time\"], \n",
    "                       article_dictionary[\"image\"].url[8:], \n",
    "                       article_dictionary[\"image\"].description, \n",
    "                       article_dictionary[\"timestamp\"])\n",
    "                       )\n",
    "        \n",
    "    except Exception:\n",
    "        print(\"Duplicate detected, skipping to next article.\")"
   ]
  },
  {
   "cell_type": "code",
   "execution_count": null,
   "metadata": {},
   "outputs": [
    {
     "data": {
      "text/plain": [
       "'\\nNotes: The urls are saved without the https:// prefix, seeing as I got an error while doing so.\\nAll textual datatypes have been saved as text, so that has to be done better in the future. Best solution is to convert\\nthe attributes.\\nThe execute statement does not check whether a record is present in the table or not.\\nThe solution I can think of now is to export the data of the database into a json format.\\nAfter that, each time the program is started, the URLIDs are extracted and compared against\\nthe news that are scraped and the articles found in both are removed from the scraped articles.\\nThis ensures that the articles added to the database are the new ones.\\n'"
      ]
     },
     "execution_count": 55,
     "metadata": {},
     "output_type": "execute_result"
    }
   ],
   "source": [
    "'''\n",
    "Notes: The urls are saved without the https:// prefix, seeing as I got an error while doing so.\n",
    "All textual datatypes have been saved as text, so that has to be done better in the future. Best solution is to convert\n",
    "the attributes.\n",
    "The execute statement does not check whether a record is present in the table or not.\n",
    "The solution I can think of now is to export the data of the database into a json format.\n",
    "After that, each time the program is started, the URLIDs are extracted and compared against\n",
    "the news that are scraped and the articles found in both are removed from the scraped articles.\n",
    "This ensures that the articles added to the database are the new ones.\n",
    "'''"
   ]
  }
 ],
 "metadata": {
  "kernelspec": {
   "display_name": "web-scraper",
   "language": "python",
   "name": "python3"
  },
  "language_info": {
   "codemirror_mode": {
    "name": "ipython",
    "version": 3
   },
   "file_extension": ".py",
   "mimetype": "text/x-python",
   "name": "python",
   "nbconvert_exporter": "python",
   "pygments_lexer": "ipython3",
   "version": "3.11.0"
  }
 },
 "nbformat": 4,
 "nbformat_minor": 2
}
