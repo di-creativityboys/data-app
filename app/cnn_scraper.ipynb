{
 "cells": [
  {
   "cell_type": "code",
   "execution_count": 93,
   "metadata": {},
   "outputs": [],
   "source": [
    "from bs4 import BeautifulSoup, Tag, NavigableString\n",
    "import requests"
   ]
  },
  {
   "cell_type": "code",
   "execution_count": 94,
   "metadata": {},
   "outputs": [],
   "source": [
    "CNN_NEWS = \"https://edition.cnn.com/world\" # this url directs to the world news section \n",
    "MAINPAGE = \"https://edition.cnn.com\""
   ]
  },
  {
   "cell_type": "code",
   "execution_count": 95,
   "metadata": {},
   "outputs": [],
   "source": [
    "def get_soup(url : str)-> BeautifulSoup:\n",
    "    article = requests.get(url).text\n",
    "    return BeautifulSoup(article)\n",
    "\n",
    "def get_content(article_soup : BeautifulSoup):\n",
    "    paragraphs = [paragraph.text for paragraph in article_soup.find_all(is_paragraph)]\n",
    "    string = \"\"\n",
    "    for paragraph in paragraphs:\n",
    "        string = f\"{string} {paragraph}\"\n",
    "    return string\n",
    "\n",
    "'''def get_news(article_url : str) -> str:\n",
    "    article_soup = get_soup(article_url)\n",
    "    return get_content(article_soup)'''\n",
    "\n",
    "def is_article(tag) -> bool:\n",
    "    return tag.has_attr(\"data-open-link\") and tag.has_attr(\"data-word-count\")\n",
    "\n",
    "\n",
    "def get_article_links(article_soup : BeautifulSoup):\n",
    "    results = article_soup.find_all(is_article)\n",
    "    results_list = list(results)\n",
    "    results_list = [f\"{MAINPAGE}{result.attrs['data-open-link']}\" for result in results]\n",
    "    '''for result in results:\n",
    "        #print(dir(result))\n",
    "        print(f\"{MAINPAGE}{result.attrs['data-open-link']}\")'''\n",
    "    return results_list\n",
    "\n",
    "def get_headline(article_soup : BeautifulSoup):\n",
    "    return article_soup.find(\"h1\").text\n",
    "\n",
    "def is_paragraph(tag : Tag) -> bool:\n",
    "    return tag.has_attr(\"data-component-name\") and tag.name == \"p\"\n",
    "\n",
    "def is_author(tag : Tag) -> bool:\n",
    "    return tag.get_attribute_list(\"class\")[0] == \"byline__name\"\n",
    "\n",
    "def get_authors(article_soup : BeautifulSoup):\n",
    "    author_tags = article_soup.find_all(is_author)\n",
    "    names = [tag.string for tag in author_tags]\n",
    "    return names\n",
    "\n",
    "def is_date(tag : Tag):\n",
    "    return tag.get_attribute_list(\"class\")[0] == \"timestamp\"\n",
    "\n",
    "def get_date(article_soup : BeautifulSoup):\n",
    "    date_tag = article_soup.find(is_date)\n",
    "    return date_tag.text[19:52] # this slicing is done in order to just get the parts of the string which are relevant for us\n",
    "\n",
    "def get_read_time(article_soup : BeautifulSoup):\n",
    "    read_time_string = article_soup.find_all(\"div\", attrs={\"class\" : [\"headline__sub-description\"]})[0].text[15:28]\n",
    "    return read_time_string # the slice just returns the string with the read time, it shouldn't have two digits though"
   ]
  },
  {
   "cell_type": "code",
   "execution_count": 96,
   "metadata": {},
   "outputs": [],
   "source": [
    "class Article():\n",
    "    def __init__(self, headline, contents, authors, date, read_time):\n",
    "        self.headline = headline\n",
    "        self.contents = contents\n",
    "        self.authors = authors\n",
    "        self.date = date\n",
    "        self.read_time = read_time\n",
    "    \n",
    "    def __str__(self):\n",
    "        string : str = \"\"\n",
    "        return f\"{self.headline}  by {self.authors} \\n {self.contents} \\n\""
   ]
  },
  {
   "cell_type": "code",
   "execution_count": 97,
   "metadata": {},
   "outputs": [
    {
     "name": "stdout",
     "output_type": "stream",
     "text": [
      "['https://edition.cnn.com/2023/10/24/middleeast/israel-hamas-gaza-war-tuesday-intl-hnk/index.html', 'https://edition.cnn.com/2023/10/23/politics/tom-emmer-2020-election-kfile/index.html', 'https://edition.cnn.com/2023/10/24/politics/paul-whelan-blinken-cnn-interview/index.html', 'https://edition.cnn.com/2023/10/24/energy/iea-oil-gas-coal-demand-peak-2030/index.html', 'https://edition.cnn.com/2023/10/24/us/tyonna-major-us-gun-deaths-gdpr/index.html', 'https://edition.cnn.com/2023/10/24/health/lonely-adults-gallup-poll-wellness/index.html', 'https://edition.cnn.com/2023/10/24/business-food/sand-to-green-desert-morocco-spc-intl/index.html', 'https://edition.cnn.com/2023/10/23/world/apollo-17-moon-age-crystals-scn/index.html', 'https://edition.cnn.com/2023/10/24/middleeast/israel-hostages-freed-lifshitz-cooper-intl-hnk/index.html', 'https://edition.cnn.com/2023/10/24/middleeast/israel-hamas-gaza-war-tuesday-intl-hnk/index.html', 'https://edition.cnn.com/2023/10/23/middleeast/gaza-hospitals-doctors-disaster-intl-hnk/index.html', 'https://edition.cnn.com/2023/10/23/politics/iranian-militias-israel-hamas/index.html', 'https://edition.cnn.com/2023/10/24/politics/speakership-nightmare-republicans/index.html', 'https://edition.cnn.com/2023/10/24/politics/trump-january-6-case-first-amendment/index.html', 'https://edition.cnn.com/2023/10/24/politics/michael-cohen-donald-trump/index.html', 'https://edition.cnn.com/2023/10/24/china/china-names-new-defense-minister-intl-hnk/index.html', 'https://edition.cnn.com/2023/10/24/politics/paul-whelan-blinken-cnn-interview/index.html', 'https://edition.cnn.com/2023/10/24/asia/hong-kong-us-politician-charged-over-gun-intl-hnk/index.html', 'https://edition.cnn.com/2023/10/24/energy/iea-oil-gas-coal-demand-peak-2030/index.html', 'https://edition.cnn.com/2023/10/24/africa/nigeria-paramilitary-raids-gay-party-intl/index.html', 'https://edition.cnn.com/2023/10/24/us/alaska-airlines-disruption-off-duty-pilot-tuesday/index.html', 'https://edition.cnn.com/2023/10/24/europe/bobi-oldest-ever-dog-dies-intl-scli/index.html', 'https://edition.cnn.com/2023/10/24/investing/bitcoin-price/index.html', 'https://edition.cnn.com/2023/10/23/entertainment/jeremy-renner-accident-health/index.html', 'https://edition.cnn.com/2023/10/24/investing/premarket-stocks-trading/index.html', 'https://edition.cnn.com/2023/10/24/middleeast/sweden-nato-turkey-parliament-intl-hnk/index.html', 'https://edition.cnn.com/2023/10/24/us/tyonna-major-us-gun-deaths-gdpr/index.html', 'https://edition.cnn.com/2023/10/24/health/lonely-adults-gallup-poll-wellness/index.html', 'https://edition.cnn.com/travel/article/jetblue-plane-tipped-jfk/index.html', 'https://edition.cnn.com/world/africa/pabra-new-beans-africa-spc/index.html', 'https://edition.cnn.com/2023/10/23/world/apollo-17-moon-age-crystals-scn/index.html', 'https://edition.cnn.com/2023/10/24/investing/saudi-davos-in-the-desert-jamie-dimon/index.html', 'https://edition.cnn.com/2023/10/24/business/rebecca-pearce-risk-taker/index.html', 'https://edition.cnn.com/2023/10/23/tech/google-maps-waze-israel-traffic-data/index.html', 'https://edition.cnn.com/2023/10/23/entertainment/dwayne-johnson-wax-figure/index.html', 'https://edition.cnn.com/2023/10/23/media/wpp-groupm-china-executive-terminated-intl-hnk/index.html', 'https://edition.cnn.com/2023/10/24/health/influenza-vaccine-flu-covid-winter-wellness/index.html', 'https://edition.cnn.com/travel/southwest-father-son-pilot-childhood-photo-recreated/index.html', 'https://edition.cnn.com/2023/10/24/tech/sony-playstation-access-controller-gaming-disabilities/index.html', 'https://edition.cnn.com/2023/10/24/business-food/sand-to-green-desert-morocco-spc-intl/index.html', 'https://edition.cnn.com/2023/10/23/entertainment/pink-overdose/index.html', 'https://edition.cnn.com/2023/10/23/sport/jamaica-womens-boycott-world-cup-spt-intl/index.html', 'https://edition.cnn.com/2023/10/23/entertainment/squid-game-the-challenge-trailer/index.html', 'https://edition.cnn.com/2023/10/22/opinions/hollywood-actors-movies-strike-talks-sag-aftra-barakchian/index.html', 'https://edition.cnn.com/2023/10/22/economy/stocks-week-ahead-q3-gdp/index.html', 'https://edition.cnn.com/2023/10/19/business/moodys-israel-credit-rating-potential-downgrade/index.html', 'https://edition.cnn.com/2023/10/21/economy/consumer-spending-winter-outlook/index.html', 'https://edition.cnn.com/2023/10/20/homes/housing-market-challenges/index.html', 'https://edition.cnn.com/2023/10/20/business/upenn-dick-wolf-liz-magill/index.html', 'https://edition.cnn.com/travel/hong-kong-cheap-eats-local-markets/index.html', 'https://edition.cnn.com/travel/chance-encounters-andrea-lewis-teenage-summer-romance-reunited/index.html', 'https://edition.cnn.com/travel/matild-palace-budapest/index.html', 'https://edition.cnn.com/travel/article/easyjet-flight-canceled-defecation-incident/index.html', 'https://edition.cnn.com/travel/what-you-need-to-know-about-europes-bedbug-panic-wellness/index.html', 'https://edition.cnn.com/travel/texas-woman-buys-italy-house-us-too-expensive/index.html', 'https://edition.cnn.com/travel/airbus-overhead-airspace-l-bins/index.html', 'https://edition.cnn.com/2023/10/23/sport/tributes-bobby-charlton-spt-intl/index.html', 'https://edition.cnn.com/2023/10/23/sport/jamaica-womens-boycott-world-cup-spt-intl/index.html', 'https://edition.cnn.com/2023/10/22/sport/ilia-malinin-personal-best-skate-america-spt-intl/index.html', 'https://edition.cnn.com/2023/10/20/sport/chiamaka-nnadozie-nigeria-goalkeeper-paris-spt-intl/index.html', 'https://edition.cnn.com/2023/09/20/sport/saudi-arabia-soccer-spl-bin-salman-intl-spt-cmd-dg/index.html', 'https://edition.cnn.com/style/pixy-liao-extreme-relationship-selfies/index.html', 'https://edition.cnn.com/2023/10/20/style/medemblik-stolen-paintings-returned-arthur-brand-tan/index.html', 'https://edition.cnn.com/style/julia-fox-dry-cleaning-bag-lotw/index.html', 'https://edition.cnn.com/style/queer-san-francisco-photos-chloe-sherman-renegades/index.html', 'https://edition.cnn.com/style/bacteria-jacket-polybion-ganni-scn-climate-spc-intl/index.html', 'https://edition.cnn.com/style/sydney-opera-house-competition-designs/index.html', 'https://edition.cnn.com/2023/10/19/opinions/palestinian-american-family-gaza-fears-almadhoun/index.html', 'https://edition.cnn.com/2023/10/18/opinions/israel-palestinians-hamas-gaza-college-student-protests-hemmer/index.html', 'https://edition.cnn.com/2023/10/18/opinions/zelensky-israel-palestine-ukraine-russia-ghitis/index.html', 'https://edition.cnn.com/2023/10/17/opinions/israel-military-strategy-after-hamas-moulton/index.html', 'https://edition.cnn.com/2023/10/16/opinions/gaza-israel-urban-warfare-civilians-kapila/index.html', 'https://edition.cnn.com/2023/10/16/opinions/israel-hamas-gaza-palestinians-oppose-terror-mohammed/index.html', 'https://edition.cnn.com/2023/10/22/politics/senate-race-rankings-october-elections/index.html', 'https://edition.cnn.com/2023/10/22/opinions/biden-channels-his-inner-fdr-opinion-column-galant/index.html', 'https://edition.cnn.com/2023/10/21/politics/chesebro-powell-plea-deals-trump-takeaways/index.html', 'https://edition.cnn.com/2023/10/22/politics/redistricting-states-maps-house-control/index.html', 'https://edition.cnn.com/2023/10/22/politics/biden-student-loan-forgiveness-supreme-court/index.html', 'https://edition.cnn.com/2023/10/20/politics/kenneth-chesebro-georgia-election-subversion/index.html', 'https://edition.cnn.com/2023/10/22/world/mountain-chicken-frog-endangered-chytrid-disease-scn/index.html', 'https://edition.cnn.com/2023/10/23/health/raising-boys-to-be-good-men-wellness/index.html', 'https://edition.cnn.com/2023/10/19/world/distant-ancient-fast-radio-burst-scn/index.html', 'https://edition.cnn.com/2023/10/22/health/kitchen-organization-food-relationship-wellness/index.html', 'https://edition.cnn.com/2023/10/18/world/herculaneum-scroll-vesuvius-ai-deciphers-scn/index.html', 'https://edition.cnn.com/2023/10/18/world/neanderthal-ancestry-dna-percentage-scn/index.html', 'https://edition.cnn.com/2023/10/19/tech/snapchat-user-growth/index.html', 'https://edition.cnn.com/2023/10/19/tech/crypto-firms-fraud-charges-new-york/index.html', 'https://edition.cnn.com/2023/10/18/tech/apple-pencil-usb-c/index.html', 'https://edition.cnn.com/2023/10/19/tech/eu-meta-tiktok-israel-content-disinformation/index.html', 'https://edition.cnn.com/2023/10/18/tech/us-china-chip-export-curbs-intl-hnk/index.html', 'https://edition.cnn.com/2023/10/19/tech/nokia-layoffs-cost-cutting-intl-hnk/index.html', 'https://edition.cnn.com/2023/10/16/tech/iphone-15-sales-china/index.html', 'https://edition.cnn.com/2023/09/22/sport/michael-jordan-grove-xxiii-golf-course-spt-spc-intl/index.html', 'https://edition.cnn.com/2023/10/18/sport/carbrook-bull-sharks-australia-golf-course-spt-spc-intl/index.html', 'https://edition.cnn.com/2022/10/25/golf/hornussen-switzerland-golf-baseball-farmers-spt-intl/index.html', 'https://edition.cnn.com/2023/10/22/entertainment/pedro-pascal-snl/index.html', 'https://edition.cnn.com/2023/10/18/world/herculaneum-scroll-vesuvius-ai-deciphers-scn/index.html', 'https://edition.cnn.com/2023/10/20/entertainment/idina-menzel-taye-diggs/index.html', 'https://edition.cnn.com/2023/08/15/world/woodland-trust-tree-of-the-year-uk-c2e-spc-scn/index.html', 'https://edition.cnn.com/2023/10/20/entertainment/lupita-nyongo-breakup/index.html', 'https://edition.cnn.com/2023/10/20/world/nikon-small-world-winners-2023-scn-intl-scli/index.html', 'https://edition.cnn.com/travel/united-airlines-economy-class-boarding-new-plan/index.html', 'https://edition.cnn.com/travel/article/three-year-cruise-postponed/index.html', 'https://edition.cnn.com/travel/article/etias-europe-tourist-taxes-explained/index.html']\n"
     ]
    }
   ],
   "source": [
    "# This code cell lists out article links from the main page\n",
    "mainpage_soup = get_soup(MAINPAGE)\n",
    "articles = get_article_links(mainpage_soup)\n",
    "print(articles)"
   ]
  },
  {
   "cell_type": "code",
   "execution_count": 98,
   "metadata": {},
   "outputs": [
    {
     "data": {
      "text/plain": [
       "' \\n      Global demand for oil, natural gas and coal — and the carbon pollution they generate — are expected to peak later this decade, according to a new report by the International Energy Agency.\\n   \\n      Driving the shift will be the “phenomenal rise” of clean sources of energy, the Paris-based agency said in its annual World Energy Outlook report, published Tuesday. \\n   \\n      The agency said it expects there to be nearly 10 times as many electric cars on the road globally by the end of the decade, and for renewables to account for almost half of the global energy mix, up from 30% today. \\n   \\n      Slowing growth in China will also depress demand for fossil fuels. The world’s second biggest economy — and largest energy consumer — has reached an “inflection point,” the IEA said, with its total energy demand set to peak around the middle of the decade. China is also becoming a “clean energy powerhouse,” and accounted for more than half of electric vehicle sales worldwide last year. \\n   \\n      “The transition to clean energy is happening worldwide and it’s unstoppable. It’s not a question of ‘if’, it’s just a matter of ‘how soon’ — and the sooner the better for all of us,” IEA Executive Director Fatih Birol said in a statement. \\n   \\n      The IEA report challenges calls by the Organization of the Petroleum Exporting Countries (OPEC) — a group of the world’s major oil producing nations — for trillions of dollars of new investment into the sector between now and 2045 to prevent a spike in energy prices. \\n   \\n      And it stands in sharp contrast to moves in recent days by America’s biggest oil and gas companies — ExxonMobil (XOM) and Chevron (CVX) — to double down on the future of US shale production by acquiring smaller rivals Pioneer (PXD) and Hess (HES) in deals valued at $60 billion and $53 billion respectively. \\n   \\n      “The end of the growth era for fossil fuels does not mean an end to fossil fuel investment, but it undercuts the rationale for any increase in spending,” the agency said in its report. \\n   \\n      In the near term, oil prices could be driven much higher by the war triggered by the brutal attack by Hamas on Israel on October 7. Brent crude, the global benchmark, has gained nearly 7% since then.\\n   \\n      Birol said that the conflict could rock oil markets, 50 years after the world was plunged into an energy crisis by an Arab oil embargo triggered by the 1973 Yom Kippur war.\\n   \\n      “We are today facing a major geopolitical crisis in the Middle East that could shock oil markets once again and deeply, because many oil producing countries are in that region,” Birol told reporters. \\n   \\n      “This comes on top of the insecurity that we had in the natural gas markets… after the invasion of Ukraine by Russia,” he added. \\n   \\n      Despite the accelerating shift to renewables, and lasting changes to consumption patterns in countries such as China, the IEA — which monitors energy trends for the world’s richest economies — warned that more needed to be done if the world is to stand a chance of limiting global warming to 1.5 degrees Celsius.\\n   \\n      “Based on today’s policy settings, global emissions would remain high enough to push up global average temperatures by around 2.4 degrees Celsius this century,” it said.\\n   \\n      Scientists consider warming of 1.5 degrees a threshold beyond which extreme heat, floods, droughts, wildfires, and food and water shortages will have an even greater impact on life as we know it. This year’s summer in the Northern Hemisphere was the world’s hottest on record, according to the European Union’s Copernicus Climate Change Service.\\n  '"
      ]
     },
     "execution_count": 98,
     "metadata": {},
     "output_type": "execute_result"
    }
   ],
   "source": [
    "# This code cell returns the news paragraphs inside a specific article. By changing the link to another\n",
    "# CNN article, the whole process should still work.\n",
    "ARTICLE = articles[3]\n",
    "article_soup = get_soup(ARTICLE)\n",
    "get_content(article_soup)"
   ]
  },
  {
   "cell_type": "code",
   "execution_count": 99,
   "metadata": {},
   "outputs": [
    {
     "data": {
      "text/plain": [
       "['Anna Cooban']"
      ]
     },
     "execution_count": 99,
     "metadata": {},
     "output_type": "execute_result"
    }
   ],
   "source": [
    "# Below, the authors of a given article are given.\n",
    "get_authors(article_soup)"
   ]
  },
  {
   "cell_type": "code",
   "execution_count": 100,
   "metadata": {},
   "outputs": [],
   "source": [
    "date_string = get_date(article_soup)"
   ]
  },
  {
   "cell_type": "code",
   "execution_count": 101,
   "metadata": {},
   "outputs": [
    {
     "data": {
      "text/plain": [
       "'5:56 AM EDT, Tue October 24, 2023'"
      ]
     },
     "execution_count": 101,
     "metadata": {},
     "output_type": "execute_result"
    }
   ],
   "source": [
    "date_string"
   ]
  },
  {
   "cell_type": "code",
   "execution_count": 102,
   "metadata": {},
   "outputs": [
    {
     "data": {
      "text/plain": [
       "'3 minute read'"
      ]
     },
     "execution_count": 102,
     "metadata": {},
     "output_type": "execute_result"
    }
   ],
   "source": [
    "get_read_time(article_soup)"
   ]
  },
  {
   "cell_type": "code",
   "execution_count": 104,
   "metadata": {},
   "outputs": [],
   "source": [
    "headline = get_headline(article_soup)\n",
    "contents = get_content(article_soup)\n",
    "authors = get_authors(article_soup)\n",
    "date = get_date(article_soup)\n",
    "read_time = get_read_time(article_soup)\n",
    "\n",
    "article = Article(headline, contents, authors, date, read_time)"
   ]
  },
  {
   "cell_type": "code",
   "execution_count": 106,
   "metadata": {},
   "outputs": [
    {
     "name": "stdout",
     "output_type": "stream",
     "text": [
      "\n",
      "      ‘Unstoppable’ energy transition means demand for oil, gas, and coal set to peak by 2030\n",
      "      by ['Anna Cooban'] \n",
      "  \n",
      "      Global demand for oil, natural gas and coal — and the carbon pollution they generate — are expected to peak later this decade, according to a new report by the International Energy Agency.\n",
      "   \n",
      "      Driving the shift will be the “phenomenal rise” of clean sources of energy, the Paris-based agency said in its annual World Energy Outlook report, published Tuesday. \n",
      "   \n",
      "      The agency said it expects there to be nearly 10 times as many electric cars on the road globally by the end of the decade, and for renewables to account for almost half of the global energy mix, up from 30% today. \n",
      "   \n",
      "      Slowing growth in China will also depress demand for fossil fuels. The world’s second biggest economy — and largest energy consumer — has reached an “inflection point,” the IEA said, with its total energy demand set to peak around the middle of the decade. China is also becoming a “clean energy powerhouse,” and accounted for more than half of electric vehicle sales worldwide last year. \n",
      "   \n",
      "      “The transition to clean energy is happening worldwide and it’s unstoppable. It’s not a question of ‘if’, it’s just a matter of ‘how soon’ — and the sooner the better for all of us,” IEA Executive Director Fatih Birol said in a statement. \n",
      "   \n",
      "      The IEA report challenges calls by the Organization of the Petroleum Exporting Countries (OPEC) — a group of the world’s major oil producing nations — for trillions of dollars of new investment into the sector between now and 2045 to prevent a spike in energy prices. \n",
      "   \n",
      "      And it stands in sharp contrast to moves in recent days by America’s biggest oil and gas companies — ExxonMobil (XOM) and Chevron (CVX) — to double down on the future of US shale production by acquiring smaller rivals Pioneer (PXD) and Hess (HES) in deals valued at $60 billion and $53 billion respectively. \n",
      "   \n",
      "      “The end of the growth era for fossil fuels does not mean an end to fossil fuel investment, but it undercuts the rationale for any increase in spending,” the agency said in its report. \n",
      "   \n",
      "      In the near term, oil prices could be driven much higher by the war triggered by the brutal attack by Hamas on Israel on October 7. Brent crude, the global benchmark, has gained nearly 7% since then.\n",
      "   \n",
      "      Birol said that the conflict could rock oil markets, 50 years after the world was plunged into an energy crisis by an Arab oil embargo triggered by the 1973 Yom Kippur war.\n",
      "   \n",
      "      “We are today facing a major geopolitical crisis in the Middle East that could shock oil markets once again and deeply, because many oil producing countries are in that region,” Birol told reporters. \n",
      "   \n",
      "      “This comes on top of the insecurity that we had in the natural gas markets… after the invasion of Ukraine by Russia,” he added. \n",
      "   \n",
      "      Despite the accelerating shift to renewables, and lasting changes to consumption patterns in countries such as China, the IEA — which monitors energy trends for the world’s richest economies — warned that more needed to be done if the world is to stand a chance of limiting global warming to 1.5 degrees Celsius.\n",
      "   \n",
      "      “Based on today’s policy settings, global emissions would remain high enough to push up global average temperatures by around 2.4 degrees Celsius this century,” it said.\n",
      "   \n",
      "      Scientists consider warming of 1.5 degrees a threshold beyond which extreme heat, floods, droughts, wildfires, and food and water shortages will have an even greater impact on life as we know it. This year’s summer in the Northern Hemisphere was the world’s hottest on record, according to the European Union’s Copernicus Climate Change Service.\n",
      "   \n",
      "\n"
     ]
    }
   ],
   "source": [
    "print(article)"
   ]
  }
 ],
 "metadata": {
  "kernelspec": {
   "display_name": "web-scraper",
   "language": "python",
   "name": "python3"
  },
  "language_info": {
   "codemirror_mode": {
    "name": "ipython",
    "version": 3
   },
   "file_extension": ".py",
   "mimetype": "text/x-python",
   "name": "python",
   "nbconvert_exporter": "python",
   "pygments_lexer": "ipython3",
   "version": "3.11.6"
  }
 },
 "nbformat": 4,
 "nbformat_minor": 2
}
