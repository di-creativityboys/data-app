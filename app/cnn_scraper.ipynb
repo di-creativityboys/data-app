{
 "cells": [
  {
   "cell_type": "code",
   "execution_count": 2,
   "metadata": {},
   "outputs": [
    {
     "name": "stdout",
     "output_type": "stream",
     "text": [
      "Collecting bs4\n",
      "  Downloading bs4-0.0.1.tar.gz (1.1 kB)\n",
      "  Installing build dependencies: started\n",
      "  Installing build dependencies: finished with status 'done'\n",
      "  Getting requirements to build wheel: started\n",
      "  Getting requirements to build wheel: finished with status 'done'\n",
      "  Preparing metadata (pyproject.toml): started\n",
      "  Preparing metadata (pyproject.toml): finished with status 'done'\n",
      "Collecting requests\n",
      "  Downloading requests-2.31.0-py3-none-any.whl.metadata (4.6 kB)\n",
      "Collecting beautifulsoup4 (from bs4)\n",
      "  Downloading beautifulsoup4-4.12.2-py3-none-any.whl (142 kB)\n",
      "     ---------------------------------------- 0.0/143.0 kB ? eta -:--:--\n",
      "     -------------------------------------- 143.0/143.0 kB 2.8 MB/s eta 0:00:00\n",
      "Collecting charset-normalizer<4,>=2 (from requests)\n",
      "  Downloading charset_normalizer-3.3.1-cp311-cp311-win_amd64.whl.metadata (33 kB)\n",
      "Collecting idna<4,>=2.5 (from requests)\n",
      "  Downloading idna-3.4-py3-none-any.whl (61 kB)\n",
      "     ---------------------------------------- 0.0/61.5 kB ? eta -:--:--\n",
      "     ---------------------------------------- 61.5/61.5 kB 3.2 MB/s eta 0:00:00\n",
      "Collecting urllib3<3,>=1.21.1 (from requests)\n",
      "  Downloading urllib3-2.0.7-py3-none-any.whl.metadata (6.6 kB)\n",
      "Collecting certifi>=2017.4.17 (from requests)\n",
      "  Downloading certifi-2023.7.22-py3-none-any.whl.metadata (2.2 kB)\n",
      "Collecting soupsieve>1.2 (from beautifulsoup4->bs4)\n",
      "  Downloading soupsieve-2.5-py3-none-any.whl.metadata (4.7 kB)\n",
      "Downloading requests-2.31.0-py3-none-any.whl (62 kB)\n",
      "   ---------------------------------------- 0.0/62.6 kB ? eta -:--:--\n",
      "   ---------------------------------------- 62.6/62.6 kB 1.6 MB/s eta 0:00:00\n",
      "Downloading certifi-2023.7.22-py3-none-any.whl (158 kB)\n",
      "   ---------------------------------------- 0.0/158.3 kB ? eta -:--:--\n",
      "   -------------------------------------- - 153.6/158.3 kB 9.0 MB/s eta 0:00:01\n",
      "   ---------------------------------------- 158.3/158.3 kB 3.2 MB/s eta 0:00:00\n",
      "Downloading charset_normalizer-3.3.1-cp311-cp311-win_amd64.whl (98 kB)\n",
      "   ---------------------------------------- 0.0/98.3 kB ? eta -:--:--\n",
      "   ---------------------------------------- 98.3/98.3 kB 2.8 MB/s eta 0:00:00\n",
      "Downloading urllib3-2.0.7-py3-none-any.whl (124 kB)\n",
      "   ---------------------------------------- 0.0/124.2 kB ? eta -:--:--\n",
      "   ---------------------------------------- 124.2/124.2 kB 3.7 MB/s eta 0:00:00\n",
      "Downloading soupsieve-2.5-py3-none-any.whl (36 kB)\n",
      "Building wheels for collected packages: bs4\n",
      "  Building wheel for bs4 (pyproject.toml): started\n",
      "  Building wheel for bs4 (pyproject.toml): finished with status 'done'\n",
      "  Created wheel for bs4: filename=bs4-0.0.1-py3-none-any.whl size=1265 sha256=a1a482a30ef96a4fc5eef4b23e33d1346f288321043d528218fc4fa19f47d7ac\n",
      "  Stored in directory: c:\\users\\lenovo\\appdata\\local\\pip\\cache\\wheels\\d4\\c8\\5b\\b5be9c20e5e4503d04a6eac8a3cd5c2393505c29f02bea0960\n",
      "Successfully built bs4\n",
      "Installing collected packages: urllib3, soupsieve, idna, charset-normalizer, certifi, requests, beautifulsoup4, bs4\n",
      "Successfully installed beautifulsoup4-4.12.2 bs4-0.0.1 certifi-2023.7.22 charset-normalizer-3.3.1 idna-3.4 requests-2.31.0 soupsieve-2.5 urllib3-2.0.7\n"
     ]
    }
   ],
   "source": [
    "!pip install bs4 requests"
   ]
  },
  {
   "cell_type": "code",
   "execution_count": 3,
   "metadata": {},
   "outputs": [],
   "source": [
    "from bs4 import BeautifulSoup, Tag, NavigableString\n",
    "import requests"
   ]
  },
  {
   "cell_type": "code",
   "execution_count": 4,
   "metadata": {},
   "outputs": [],
   "source": [
    "CNN_NEWS = \"https://edition.cnn.com/world\" # this url directs to the world news section \n",
    "MAINPAGE = \"https://edition.cnn.com\""
   ]
  },
  {
   "cell_type": "code",
   "execution_count": 5,
   "metadata": {},
   "outputs": [],
   "source": [
    "def get_soup(url : str)-> BeautifulSoup:\n",
    "    article = requests.get(url).text\n",
    "    return BeautifulSoup(article)\n",
    "\n",
    "def get_content(article_soup : BeautifulSoup):\n",
    "    paragraphs = [paragraph.text for paragraph in article_soup.find_all(is_paragraph)]\n",
    "    string = \"\"\n",
    "    for paragraph in paragraphs:\n",
    "        string = f\"{string} {paragraph}\"\n",
    "    return string\n",
    "\n",
    "'''def get_news(article_url : str) -> str:\n",
    "    article_soup = get_soup(article_url)\n",
    "    return get_content(article_soup)'''\n",
    "\n",
    "def is_article(tag) -> bool:\n",
    "    return tag.has_attr(\"data-open-link\") and tag.has_attr(\"data-word-count\")\n",
    "\n",
    "\n",
    "def get_article_links(article_soup : BeautifulSoup):\n",
    "    results = article_soup.find_all(is_article)\n",
    "    results_list = list(results)\n",
    "    results_list = [f\"{MAINPAGE}{result.attrs['data-open-link']}\" for result in results]\n",
    "    '''for result in results:\n",
    "        #print(dir(result))\n",
    "        print(f\"{MAINPAGE}{result.attrs['data-open-link']}\")'''\n",
    "    return results_list\n",
    "\n",
    "def get_headline(article_soup : BeautifulSoup):\n",
    "    return article_soup.find(\"h1\").text\n",
    "\n",
    "def is_paragraph(tag : Tag) -> bool:\n",
    "    return tag.has_attr(\"data-component-name\") and tag.name == \"p\"\n",
    "\n",
    "def is_author(tag : Tag) -> bool:\n",
    "    return tag.get_attribute_list(\"class\")[0] == \"byline__name\"\n",
    "\n",
    "def get_authors(article_soup : BeautifulSoup):\n",
    "    author_tags = article_soup.find_all(is_author)\n",
    "    names = [tag.string for tag in author_tags]\n",
    "    return names\n",
    "\n",
    "def is_date(tag : Tag):\n",
    "    return tag.get_attribute_list(\"class\")[0] == \"timestamp\"\n",
    "\n",
    "def get_date(article_soup : BeautifulSoup):\n",
    "    date_tag = article_soup.find(is_date)\n",
    "    return date_tag.text[19:52] # this slicing is done in order to just get the parts of the string which are relevant for us\n",
    "\n",
    "def get_read_time(article_soup : BeautifulSoup):\n",
    "    read_time_string = article_soup.find_all(\"div\", attrs={\"class\" : [\"headline__sub-description\"]})[0].text[15:28]\n",
    "    return read_time_string # the slice just returns the string with the read time, it shouldn't have two digits though"
   ]
  },
  {
   "cell_type": "code",
   "execution_count": 6,
   "metadata": {},
   "outputs": [],
   "source": [
    "class Article():\n",
    "    def __init__(self, headline, contents, authors, date, read_time):\n",
    "        self.headline = headline\n",
    "        self.contents = contents\n",
    "        self.authors = authors\n",
    "        self.date = date\n",
    "        self.read_time = read_time\n",
    "    \n",
    "    def __str__(self):\n",
    "        string : str = \"\"\n",
    "        return f\"{self.headline}  by {self.authors}  {self.read_time}\\n {self.contents} \\n\""
   ]
  },
  {
   "cell_type": "code",
   "execution_count": 7,
   "metadata": {},
   "outputs": [
    {
     "name": "stdout",
     "output_type": "stream",
     "text": [
      "['https://edition.cnn.com/israel-gaza-hamas-war-thursday-intl-hnk/index.html', 'https://edition.cnn.com/2023/10/26/us/lewiston-maine-shootings-thursday/index.html', 'https://edition.cnn.com/2023/10/24/weather/hurricane-otis-acapulco-mexico/index.html', 'https://edition.cnn.com/2023/10/25/politics/trump-former-aides-turn-against-him/index.html', 'https://edition.cnn.com/2023/10/26/asia/china-shenzhou-17-launch-youngest-crew-scn-intl-hnk/index.html', 'https://edition.cnn.com/2023/10/26/asia/japan-transgender-sterilization-ruling-lgbtq-intl-hnk/index.html', 'https://edition.cnn.com/2023/10/25/sport/tiger-woods-liv-golf-intl-spt-shipnuck-book/index.html', 'https://edition.cnn.com/israel-gaza-hamas-war-thursday-intl-hnk/index.html', 'https://edition.cnn.com/2023/10/26/middleeast/israel-hamas-war-ground-offensive-gaza-intl/index.html', 'https://edition.cnn.com/2023/10/25/middleeast/al-jazeera-journalists-family-killed-in-gaza-strike-says-al-jazeera/index.html', 'https://edition.cnn.com/2023/10/26/middleeast/israel-military-trap-hamas-battle-analysis-intl-hnk/index.html', 'https://edition.cnn.com/2023/10/25/middleeast/satellite-images-gaza-destruction/index.html', 'https://edition.cnn.com/2023/10/26/politics/trump-legal-system-rules-2024/index.html', 'https://edition.cnn.com/2023/10/25/politics/donald-trump-michael-cohen-inside-the-courtroom/index.html', 'https://edition.cnn.com/2023/10/25/politics/mike-johnson-speaker-nominee/index.html', 'https://edition.cnn.com/2023/10/25/politics/what-michael-cohen-said-about-his-testimony-and-why-it-matters-in-the-trump-fraud-trial/index.html', 'https://edition.cnn.com/2023/10/26/asia/china-shenzhou-17-launch-youngest-crew-scn-intl-hnk/index.html', 'https://edition.cnn.com/2023/10/25/politics/house-speaker-vote-republicans/index.html', 'https://edition.cnn.com/2023/10/26/business/sam-bankman-fried-trial-testimony/index.html', 'https://edition.cnn.com/2023/10/26/china/hong-kong-cash-payout-birth-rate-intl-hnk/index.html', 'https://edition.cnn.com/2023/10/26/weather/hurricane-otis-acapulco-mexico-impact-thursday/index.html', 'https://edition.cnn.com/2023/10/26/asia/japan-transgender-sterilization-ruling-lgbtq-intl-hnk/index.html', 'https://edition.cnn.com/2023/10/25/world/ancient-landscape-antarctica-climate-scn/index.html', 'https://edition.cnn.com/newsom-xi-meeting-us-china-intl-hnk/index.html', 'https://edition.cnn.com/2023/10/26/business/how-country-garden-became-the-new-face-of-chinas-spiraling-property-crisis/index.html', 'https://edition.cnn.com/2023/10/25/world/webb-kilonova-gamma-ray-burst-elements-scn/index.html', 'https://edition.cnn.com/2023/10/26/sport/victor-wembanyama-nba-debut-spurs-mavericks-spt-intl/index.html', 'https://edition.cnn.com/travel/article/chance-encounters-prague-roommates/index.html', 'https://edition.cnn.com/travel/article/bologna-garisenda-tower/index.html', 'https://edition.cnn.com/style/delali-ayivi-following-footsteps-togo-first-photographers/index.html', 'https://edition.cnn.com/2023/10/24/middleeast/queen-rania-jordan-amanpour-interview-intl/index.html', 'https://edition.cnn.com/stellantis-china-startup-ev-deal-intl-hnk/index.html', 'https://edition.cnn.com/2023/10/26/sport/gianni-infantino-end-proceedings-swiss-prosecutors-fifa-spt-intl/index.html', 'https://edition.cnn.com/2023/10/26/sport/manchester-city-vs-young-boys-ucl-spt-intl/index.html', 'https://edition.cnn.com/2023/10/26/investing/premarket-stocks-trading/index.html', 'https://edition.cnn.com/travel/article/australian-cuisine-expats/index.html', 'https://edition.cnn.com/style/article/maggie-smith-loewe-fashion-campaign-intl-scli/index.html', 'https://edition.cnn.com/style/cher-cleopatra-halloween-remember-when/index.html', 'https://edition.cnn.com/travel/fontainebleau-hotel-las-vegas/index.html', 'https://edition.cnn.com/2023/10/25/world/roman-forts-spy-satellite-photos-scn/index.html', 'https://edition.cnn.com/2023/10/26/sport/wta-finals-history-tennis-spt-intl/index.html', 'https://edition.cnn.com/travel/atlanta-michelin-star-restaurants/index.html', 'https://edition.cnn.com/2023/10/22/opinions/hollywood-actors-movies-strike-talks-sag-aftra-barakchian/index.html', 'https://edition.cnn.com/2023/10/24/tech/anti-israel-messages-google-maps-rafah-border-crossing/index.html', 'https://edition.cnn.com/2023/10/22/economy/stocks-week-ahead-q3-gdp/index.html', 'https://edition.cnn.com/2023/10/19/business/moodys-israel-credit-rating-potential-downgrade/index.html', 'https://edition.cnn.com/2023/10/21/economy/consumer-spending-winter-outlook/index.html', 'https://edition.cnn.com/2023/10/20/homes/housing-market-challenges/index.html', 'https://edition.cnn.com/travel/cambodia-siem-reap-airport-angkor-wat/index.html', 'https://edition.cnn.com/travel/hong-kong-cheap-eats-local-markets/index.html', 'https://edition.cnn.com/travel/southwest-father-son-pilot-childhood-photo-recreated/index.html', 'https://edition.cnn.com/travel/american-airports-post-security-passes/index.html', 'https://edition.cnn.com/travel/chance-encounters-andrea-lewis-teenage-summer-romance-reunited/index.html', 'https://edition.cnn.com/travel/motion-sickness-prevention-scn/index.html', 'https://edition.cnn.com/travel/matild-palace-budapest/index.html', 'https://edition.cnn.com/2023/10/25/sport/tiger-woods-liv-golf-intl-spt-shipnuck-book/index.html', 'https://edition.cnn.com/2023/10/25/sport/nhl-pride-tape-ban-social-causes-spt-intl/index.html', 'https://edition.cnn.com/2023/10/25/sport/nuggets-lakers-suns-warriors-opening-night-nba-spt-intl/index.html', 'https://edition.cnn.com/2023/10/23/sport/marc-guiu-barcelona-spt-intl/index.html', 'https://edition.cnn.com/2023/10/23/sport/jamaica-womens-boycott-world-cup-spt-intl/index.html', 'https://edition.cnn.com/style/filipino-american-fashion-barong-history/index.html', 'https://edition.cnn.com/style/barcelona-opera-house-intimacy-director/index.html', 'https://edition.cnn.com/style/pixy-liao-extreme-relationship-selfies/index.html', 'https://edition.cnn.com/style/julia-fox-dry-cleaning-bag-lotw/index.html', 'https://edition.cnn.com/style/bacteria-jacket-polybion-ganni-scn-climate-spc-intl/index.html', 'https://edition.cnn.com/style/sydney-opera-house-competition-designs/index.html', 'https://edition.cnn.com/2023/10/19/opinions/palestinian-american-family-gaza-fears-almadhoun/index.html', 'https://edition.cnn.com/2023/10/18/opinions/israel-palestinians-hamas-gaza-college-student-protests-hemmer/index.html', 'https://edition.cnn.com/2023/10/18/opinions/zelensky-israel-palestine-ukraine-russia-ghitis/index.html', 'https://edition.cnn.com/2023/10/17/opinions/israel-military-strategy-after-hamas-moulton/index.html', 'https://edition.cnn.com/2023/10/16/opinions/gaza-israel-urban-warfare-civilians-kapila/index.html', 'https://edition.cnn.com/2023/10/16/opinions/israel-hamas-gaza-palestinians-oppose-terror-mohammed/index.html', 'https://edition.cnn.com/2023/10/24/politics/jenna-ellis-fulton-county/index.html', 'https://edition.cnn.com/2023/10/22/politics/senate-race-rankings-october-elections/index.html', 'https://edition.cnn.com/2023/10/22/opinions/biden-channels-his-inner-fdr-opinion-column-galant/index.html', 'https://edition.cnn.com/2023/10/21/politics/chesebro-powell-plea-deals-trump-takeaways/index.html', 'https://edition.cnn.com/2023/10/22/politics/redistricting-states-maps-house-control/index.html', 'https://edition.cnn.com/2023/10/20/politics/kenneth-chesebro-georgia-election-subversion/index.html', 'https://edition.cnn.com/style/brazil-amazon-face-carvings-scn/index.html', 'https://edition.cnn.com/2023/10/23/world/apollo-17-moon-age-crystals-scn/index.html', 'https://edition.cnn.com/2023/10/24/health/lonely-adults-gallup-poll-wellness/index.html', 'https://edition.cnn.com/2023/10/24/health/influenza-vaccine-flu-covid-winter-wellness/index.html', 'https://edition.cnn.com/2023/10/23/health/raising-boys-to-be-good-men-wellness/index.html', 'https://edition.cnn.com/2023/10/19/world/distant-ancient-fast-radio-burst-scn/index.html', 'https://edition.cnn.com/2023/10/19/tech/snapchat-user-growth/index.html', 'https://edition.cnn.com/2023/10/19/tech/crypto-firms-fraud-charges-new-york/index.html', 'https://edition.cnn.com/2023/10/18/tech/apple-pencil-usb-c/index.html', 'https://edition.cnn.com/2023/10/19/tech/eu-meta-tiktok-israel-content-disinformation/index.html', 'https://edition.cnn.com/2023/10/18/tech/us-china-chip-export-curbs-intl-hnk/index.html', 'https://edition.cnn.com/2023/10/19/tech/nokia-layoffs-cost-cutting-intl-hnk/index.html', 'https://edition.cnn.com/2023/10/16/tech/iphone-15-sales-china/index.html', 'https://edition.cnn.com/2023/09/22/sport/michael-jordan-grove-xxiii-golf-course-spt-spc-intl/index.html', 'https://edition.cnn.com/2023/10/18/sport/carbrook-bull-sharks-australia-golf-course-spt-spc-intl/index.html', 'https://edition.cnn.com/2022/10/25/golf/hornussen-switzerland-golf-baseball-farmers-spt-intl/index.html', 'https://edition.cnn.com/2023/10/22/entertainment/pedro-pascal-snl/index.html', 'https://edition.cnn.com/2023/10/18/world/herculaneum-scroll-vesuvius-ai-deciphers-scn/index.html', 'https://edition.cnn.com/2023/10/20/entertainment/idina-menzel-taye-diggs/index.html', 'https://edition.cnn.com/2023/08/15/world/woodland-trust-tree-of-the-year-uk-c2e-spc-scn/index.html', 'https://edition.cnn.com/2023/10/20/entertainment/lupita-nyongo-breakup/index.html', 'https://edition.cnn.com/2023/10/20/world/nikon-small-world-winners-2023-scn-intl-scli/index.html', 'https://edition.cnn.com/travel/united-airlines-economy-class-boarding-new-plan/index.html', 'https://edition.cnn.com/travel/article/three-year-cruise-postponed/index.html', 'https://edition.cnn.com/travel/article/etias-europe-tourist-taxes-explained/index.html']\n"
     ]
    }
   ],
   "source": [
    "# This code cell lists out article links from the main page\n",
    "mainpage_soup = get_soup(MAINPAGE)\n",
    "articles = get_article_links(mainpage_soup)\n",
    "print(articles)"
   ]
  },
  {
   "cell_type": "code",
   "execution_count": 8,
   "metadata": {},
   "outputs": [
    {
     "data": {
      "text/plain": [
       "' \\nDonald Trump’s wealth, power and fame acted like a magnet for new associates keen to enter his orbit. But now, key figures who sought a share of his reflected glory are turning against him to save themselves.\\n   \\n      The ex-president absorbed a trio of blows Tuesday that worsened his legal peril and underscored how the 2024 election – in which he is the front-runner for the GOP nomination – will play out in the courts rather than traditional voting battlegrounds.\\n   \\n      In the most significant development, ABC News reported that Trump’s former chief of staff, Mark Meadows, had met federal prosecutors multiple times and had categorically undermined the ex-president’s narrative about a stolen election. Meadows was the gatekeeper to the Oval Office in the critical days when Trump was allegedly plotting to steal the 2020 election after voters rejected his bid for a second term. CNN has reached out to Meadows’ attorney for comment.\\n   \\n      In another damaging twist, former Trump lawyer Jenna Ellis, who blanketed television networks after President Joe Biden’s victory to falsely claim he was elected because of fraud, reached a plea deal with Georgia prosecutors. Ellis on Tuesday tearfully confessed to the felony of aiding and abetting false statements that she and other lawyers told Peach State lawmakers. She was the third former Trump acolyte to agree to testify against the ex-president and others this week. The election subversion prosecution brought by Fulton County District Attorney Fani Willis is now following the classic playbook of a racketeering case wherein smaller fish are peeled away for reduced sentences to secure their testimony against the alleged kingpin.\\n   \\n      “If I knew then what I knew now, I would have declined to represent Donald Trump in these post-election challenges. I look back on this experience with deep remorse,” Ellis said.\\n   \\n      Ellis was a comparatively junior figure in Trump’s schemes to overthrow the election, although there is reason to believe she was in critical meetings of interest to prosecutors. Her guilty plea also looks like terrible news for former New York Mayor Rudy Giuliani, who also served as a Trump lawyer after the election and with whom Ellis worked closely. \\n   \\n      Her repudiation of her own behavior marks an ominous omen for Trump because it shows that while falsehoods about election fraud are still a potent political force in the GOP and conservative media, it’s the truth that matters in court. Under the legal system, the former president could face a level of accountability that the US political system, which is still buckling under his influence, can’t match.\\n   \\n      One of Trump’s former associates was feeling no remorse when he arrived in court in New York on Tuesday seeking to undermine another Trump legal defense. The former president’s longtime fixer, Michael Cohen, came face to face with his ex-boss for the first time in five years when he took the stand in a civil trial in which prosecutors are seeking to end Trump’s ability to do business in the state. Cohen has already gone to jail for tax fraud, making false statements to Congress and campaign finance violations – some of which were linked to his work for Trump before he launched his political career. Cohen once vowed to take a bullet for his former boss but has left no doubt that he’s been itching to testify against him for many months. While his own conviction raises credibility issues about his testimony, Cohen implicated Trump on Tuesday, saying his former boss directed him to inflate his net worth on financial statements. \\n   \\n      “Heck of a reunion,” Cohen told reporters after testifying under Trump’s gaze.\\n   \\n      Each of Tuesday’s legal dramas threatened to undermine Trump’s position in separate cases, to which he has pleaded not guilty, and emphasized how the Republican front-runner’s bid to recapture the White House will be shadowed by his criminal liability. \\n   \\n      And for someone who has the exaggerated sense of loyalty harbored by Trump – albeit one that mostly goes one way – the spectacle of three former associates turning against him will be especially irksome. \\n   \\n      While the crush of legal cases bearing down on him hasn’t diminished his dominance in the GOP presidential race, there are increasing signs that the courtroom pressure is beginning to grate on a former president who, in a lifetime of business, personal and political scrapes, has made an art form of dodging accountability.\\n   \\n      In a rage-filled stream of consciousness on his Truth Social network on Tuesday night, Trump lashed out at the ABC report about Meadows.\\n   \\n      “I don’t think Mark Meadows would lie about the Rigged and Stollen 2020 Presidential Election merely for getting IMMUNITY against Prosecution (PERSECUTION!),” the former president wrote. \\n   \\n      “Some people would make that deal, but they are weaklings and cowards, and so bad for the future our Failing Nation. I don’t think that Mark Meadows is one of them, but who really knows? MAKE AMERICA GREAT AGAIN!!!”\\n   \\n      This came only a day after Trump absurdly compared himself to Nelson Mandela, who spent 27 years in prison – much of it in a tiny cell on Robben Island – enduring forced labor in a quarry for opposing the racist apartheid system in South Africa. After his release, the Nobel Peace Prize winner remade his divided nation as president and became a symbol of unity, humility, racial healing and forgiveness – qualities rarely shown by Trump. \\n   \\n      “I don’t mind being Nelson Mandela, because I’m doing it for a reason,” the ex-president told supporters in New Hampshire. \\n   \\n      Trump’s persecution complex is revealing, however. The former president is portraying himself as a bulwark against a government that he claims is weaponized against him and his supporters. The idea that he is a political martyr who is being unfairly targeted by the Biden administration – despite 91 charges across his four criminal indictments – may be his only credible campaign tactic. After all, he may be a convicted felon by Election Day in less than 13 months. While that prospect doesn’t seem to faze Republican primary voters, it may be a serious vulnerability among a broader electorate.\\n   \\n      Legal watchers in Washington have speculated for months about the activity of Meadows, a former North Carolina congressman who became the last chief of staff of Trump’s turbulent White House term. \\n   \\n      During his testimony before a federal grand jury, Meadows was also asked about efforts to overturn the election as well as Trump’s handling of classified documents, CNN previously reported.\\n   \\n      But if, as ABC News has reported, he has been granted immunity by special counsel Jack Smith and met federal prosecutors multiple times, that qualifies for the over-used term of “bombshell.” \\n \\n      Meadows is also a key figure in the Fulton County, Georgia, probe, where he made a failed effort to have his case elevated to federal court after unsuccessfully arguing his actions at the behest of Trump’s election thwarting effort fell under his official duties. \\n   \\n      Meadows, who met Smith’s team at least three times this year, told investigators he did not believe the election was stolen and that Trump was being “dishonest” in claiming victory shortly after polls closed in 2020, according to ABC. \\n   \\n      The agreement is the first publicly known in the special counsel’s investigation into the events around January 6, 2021. The exact terms of Meadows’ deal with prosecutors are not clear, but often such agreements allow a person with valuable information about an investigation immunity from prosecution in exchange for fully cooperating. \\n   \\n      The reported details of Meadows’ testimony could be hugely damaging for Trump because a fundamental plank of the ex-president’s defense relies on the notion that he sincerely believed that the election was stolen and that his actions were not therefore criminal because they were an exercise of his right to free speech.\\n   \\n      It has long been the case that while those around Trump in business and politics often find themselves slipping deep into legal trouble, he skips free. The apparent decisions of Meadows, Ellis and Cohen – together with the mass of legal threats now facing the former president – suggest that charmed life is about to meet its biggest challenge yet.\\n  '"
      ]
     },
     "execution_count": 8,
     "metadata": {},
     "output_type": "execute_result"
    }
   ],
   "source": [
    "# This code cell returns the news paragraphs inside a specific article. By changing the link to another\n",
    "# CNN article, the whole process should still work.\n",
    "ARTICLE = articles[3]\n",
    "article_soup = get_soup(ARTICLE)\n",
    "get_content(article_soup)"
   ]
  },
  {
   "cell_type": "code",
   "execution_count": 9,
   "metadata": {},
   "outputs": [
    {
     "data": {
      "text/plain": [
       "['Stephen Collinson']"
      ]
     },
     "execution_count": 9,
     "metadata": {},
     "output_type": "execute_result"
    }
   ],
   "source": [
    "# Below, the authors of a given article are given.\n",
    "get_authors(article_soup)"
   ]
  },
  {
   "cell_type": "code",
   "execution_count": 10,
   "metadata": {},
   "outputs": [],
   "source": [
    "date_string = get_date(article_soup)"
   ]
  },
  {
   "cell_type": "code",
   "execution_count": 11,
   "metadata": {},
   "outputs": [
    {
     "data": {
      "text/plain": [
       "'6:59 AM EDT, Wed October 25, 2023'"
      ]
     },
     "execution_count": 11,
     "metadata": {},
     "output_type": "execute_result"
    }
   ],
   "source": [
    "date_string"
   ]
  },
  {
   "cell_type": "code",
   "execution_count": 12,
   "metadata": {},
   "outputs": [
    {
     "data": {
      "text/plain": [
       "'6 minute read'"
      ]
     },
     "execution_count": 12,
     "metadata": {},
     "output_type": "execute_result"
    }
   ],
   "source": [
    "get_read_time(article_soup)"
   ]
  },
  {
   "cell_type": "code",
   "execution_count": 13,
   "metadata": {},
   "outputs": [],
   "source": [
    "headline = get_headline(article_soup)\n",
    "contents = get_content(article_soup)\n",
    "authors = get_authors(article_soup)\n",
    "date = get_date(article_soup)\n",
    "read_time = get_read_time(article_soup)\n",
    "\n",
    "article = Article(headline, contents, authors, date, read_time)"
   ]
  },
  {
   "cell_type": "code",
   "execution_count": 14,
   "metadata": {},
   "outputs": [
    {
     "name": "stdout",
     "output_type": "stream",
     "text": [
      "\n",
      "      Trump rages as former acolytes turn against him under legal heat\n",
      "      by ['Stephen Collinson']  6 minute read\n",
      "  \n",
      "Donald Trump’s wealth, power and fame acted like a magnet for new associates keen to enter his orbit. But now, key figures who sought a share of his reflected glory are turning against him to save themselves.\n",
      "   \n",
      "      The ex-president absorbed a trio of blows Tuesday that worsened his legal peril and underscored how the 2024 election – in which he is the front-runner for the GOP nomination – will play out in the courts rather than traditional voting battlegrounds.\n",
      "   \n",
      "      In the most significant development, ABC News reported that Trump’s former chief of staff, Mark Meadows, had met federal prosecutors multiple times and had categorically undermined the ex-president’s narrative about a stolen election. Meadows was the gatekeeper to the Oval Office in the critical days when Trump was allegedly plotting to steal the 2020 election after voters rejected his bid for a second term. CNN has reached out to Meadows’ attorney for comment.\n",
      "   \n",
      "      In another damaging twist, former Trump lawyer Jenna Ellis, who blanketed television networks after President Joe Biden’s victory to falsely claim he was elected because of fraud, reached a plea deal with Georgia prosecutors. Ellis on Tuesday tearfully confessed to the felony of aiding and abetting false statements that she and other lawyers told Peach State lawmakers. She was the third former Trump acolyte to agree to testify against the ex-president and others this week. The election subversion prosecution brought by Fulton County District Attorney Fani Willis is now following the classic playbook of a racketeering case wherein smaller fish are peeled away for reduced sentences to secure their testimony against the alleged kingpin.\n",
      "   \n",
      "      “If I knew then what I knew now, I would have declined to represent Donald Trump in these post-election challenges. I look back on this experience with deep remorse,” Ellis said.\n",
      "   \n",
      "      Ellis was a comparatively junior figure in Trump’s schemes to overthrow the election, although there is reason to believe she was in critical meetings of interest to prosecutors. Her guilty plea also looks like terrible news for former New York Mayor Rudy Giuliani, who also served as a Trump lawyer after the election and with whom Ellis worked closely. \n",
      "   \n",
      "      Her repudiation of her own behavior marks an ominous omen for Trump because it shows that while falsehoods about election fraud are still a potent political force in the GOP and conservative media, it’s the truth that matters in court. Under the legal system, the former president could face a level of accountability that the US political system, which is still buckling under his influence, can’t match.\n",
      "   \n",
      "      One of Trump’s former associates was feeling no remorse when he arrived in court in New York on Tuesday seeking to undermine another Trump legal defense. The former president’s longtime fixer, Michael Cohen, came face to face with his ex-boss for the first time in five years when he took the stand in a civil trial in which prosecutors are seeking to end Trump’s ability to do business in the state. Cohen has already gone to jail for tax fraud, making false statements to Congress and campaign finance violations – some of which were linked to his work for Trump before he launched his political career. Cohen once vowed to take a bullet for his former boss but has left no doubt that he’s been itching to testify against him for many months. While his own conviction raises credibility issues about his testimony, Cohen implicated Trump on Tuesday, saying his former boss directed him to inflate his net worth on financial statements. \n",
      "   \n",
      "      “Heck of a reunion,” Cohen told reporters after testifying under Trump’s gaze.\n",
      "   \n",
      "      Each of Tuesday’s legal dramas threatened to undermine Trump’s position in separate cases, to which he has pleaded not guilty, and emphasized how the Republican front-runner’s bid to recapture the White House will be shadowed by his criminal liability. \n",
      "   \n",
      "      And for someone who has the exaggerated sense of loyalty harbored by Trump – albeit one that mostly goes one way – the spectacle of three former associates turning against him will be especially irksome. \n",
      "   \n",
      "      While the crush of legal cases bearing down on him hasn’t diminished his dominance in the GOP presidential race, there are increasing signs that the courtroom pressure is beginning to grate on a former president who, in a lifetime of business, personal and political scrapes, has made an art form of dodging accountability.\n",
      "   \n",
      "      In a rage-filled stream of consciousness on his Truth Social network on Tuesday night, Trump lashed out at the ABC report about Meadows.\n",
      "   \n",
      "      “I don’t think Mark Meadows would lie about the Rigged and Stollen 2020 Presidential Election merely for getting IMMUNITY against Prosecution (PERSECUTION!),” the former president wrote. \n",
      "   \n",
      "      “Some people would make that deal, but they are weaklings and cowards, and so bad for the future our Failing Nation. I don’t think that Mark Meadows is one of them, but who really knows? MAKE AMERICA GREAT AGAIN!!!”\n",
      "   \n",
      "      This came only a day after Trump absurdly compared himself to Nelson Mandela, who spent 27 years in prison – much of it in a tiny cell on Robben Island – enduring forced labor in a quarry for opposing the racist apartheid system in South Africa. After his release, the Nobel Peace Prize winner remade his divided nation as president and became a symbol of unity, humility, racial healing and forgiveness – qualities rarely shown by Trump. \n",
      "   \n",
      "      “I don’t mind being Nelson Mandela, because I’m doing it for a reason,” the ex-president told supporters in New Hampshire. \n",
      "   \n",
      "      Trump’s persecution complex is revealing, however. The former president is portraying himself as a bulwark against a government that he claims is weaponized against him and his supporters. The idea that he is a political martyr who is being unfairly targeted by the Biden administration – despite 91 charges across his four criminal indictments – may be his only credible campaign tactic. After all, he may be a convicted felon by Election Day in less than 13 months. While that prospect doesn’t seem to faze Republican primary voters, it may be a serious vulnerability among a broader electorate.\n",
      "   \n",
      "      Legal watchers in Washington have speculated for months about the activity of Meadows, a former North Carolina congressman who became the last chief of staff of Trump’s turbulent White House term. \n",
      "   \n",
      "      During his testimony before a federal grand jury, Meadows was also asked about efforts to overturn the election as well as Trump’s handling of classified documents, CNN previously reported.\n",
      "   \n",
      "      But if, as ABC News has reported, he has been granted immunity by special counsel Jack Smith and met federal prosecutors multiple times, that qualifies for the over-used term of “bombshell.” \n",
      " \n",
      "      Meadows is also a key figure in the Fulton County, Georgia, probe, where he made a failed effort to have his case elevated to federal court after unsuccessfully arguing his actions at the behest of Trump’s election thwarting effort fell under his official duties. \n",
      "   \n",
      "      Meadows, who met Smith’s team at least three times this year, told investigators he did not believe the election was stolen and that Trump was being “dishonest” in claiming victory shortly after polls closed in 2020, according to ABC. \n",
      "   \n",
      "      The agreement is the first publicly known in the special counsel’s investigation into the events around January 6, 2021. The exact terms of Meadows’ deal with prosecutors are not clear, but often such agreements allow a person with valuable information about an investigation immunity from prosecution in exchange for fully cooperating. \n",
      "   \n",
      "      The reported details of Meadows’ testimony could be hugely damaging for Trump because a fundamental plank of the ex-president’s defense relies on the notion that he sincerely believed that the election was stolen and that his actions were not therefore criminal because they were an exercise of his right to free speech.\n",
      "   \n",
      "      It has long been the case that while those around Trump in business and politics often find themselves slipping deep into legal trouble, he skips free. The apparent decisions of Meadows, Ellis and Cohen – together with the mass of legal threats now facing the former president – suggest that charmed life is about to meet its biggest challenge yet.\n",
      "   \n",
      "\n"
     ]
    }
   ],
   "source": [
    "print(article)"
   ]
  }
 ],
 "metadata": {
  "kernelspec": {
   "display_name": "web-scraper",
   "language": "python",
   "name": "python3"
  },
  "language_info": {
   "codemirror_mode": {
    "name": "ipython",
    "version": 3
   },
   "file_extension": ".py",
   "mimetype": "text/x-python",
   "name": "python",
   "nbconvert_exporter": "python",
   "pygments_lexer": "ipython3",
   "version": "3.11.0"
  }
 },
 "nbformat": 4,
 "nbformat_minor": 2
}
