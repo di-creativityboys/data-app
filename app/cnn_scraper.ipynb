{
 "cells": [
  {
   "cell_type": "markdown",
   "metadata": {},
   "source": [
    "##### This notebook implements an entire workflow which scrapes the news articles."
   ]
  },
  {
   "cell_type": "code",
   "execution_count": 60,
   "metadata": {},
   "outputs": [
    {
     "data": {
      "text/plain": [
       "'\\nGet all articles from the mainpage\\n\\nFrom the articles, get everything you can get your hands on.\\n\\nTurn the article to dictionary form\\n'"
      ]
     },
     "execution_count": 60,
     "metadata": {},
     "output_type": "execute_result"
    }
   ],
   "source": [
    "# ToDos for 27.10.2002\n",
    "\"\"\"\n",
    "Get all articles from the mainpage\n",
    "\n",
    "From the articles, get everything you can get your hands on.\n",
    "\n",
    "Turn the article to dictionary form\n",
    "\"\"\""
   ]
  },
  {
   "cell_type": "code",
   "execution_count": 61,
   "metadata": {},
   "outputs": [],
   "source": [
    "from bs4 import BeautifulSoup, Tag, NavigableString\n",
    "import requests\n",
    "from typing import List"
   ]
  },
  {
   "cell_type": "code",
   "execution_count": 62,
   "metadata": {},
   "outputs": [],
   "source": [
    "CNN_NEWS = \"https://edition.cnn.com/world\" # this url directs to the world news section \n",
    "MAINPAGE = \"https://edition.cnn.com\""
   ]
  },
  {
   "cell_type": "code",
   "execution_count": 63,
   "metadata": {},
   "outputs": [],
   "source": [
    "def get_soup(url : str)-> BeautifulSoup:\n",
    "    article = requests.get(url).text\n",
    "    return BeautifulSoup(article)\n",
    "\n",
    "def get_content(article_soup : BeautifulSoup):\n",
    "    paragraphs = [paragraph.text for paragraph in article_soup.find_all(is_paragraph)]\n",
    "    string = \"\"\n",
    "    for paragraph in paragraphs:\n",
    "        string = f\"{string} {paragraph}\"\n",
    "    return string\n",
    "\n",
    "def get_article_links(mainpage_soup : BeautifulSoup) -> list:\n",
    "    results = mainpage_soup.find_all(name=\"a\", attrs={\"data-link-type\" : \"article\"})\n",
    "    results = [f'{MAINPAGE}{result.attrs[\"href\"]}' for result in results] \n",
    "    return results\n",
    "\n",
    "def get_headline(article_soup : BeautifulSoup):\n",
    "    return article_soup.find(\"h1\").text\n",
    "\n",
    "def is_paragraph(tag : Tag) -> bool:\n",
    "    return tag.has_attr(\"data-component-name\") and tag.name == \"p\"\n",
    "\n",
    "def is_author(tag : Tag) -> bool:\n",
    "    return tag.get_attribute_list(\"class\")[0] == \"byline__name\"\n",
    "\n",
    "def get_authors(article_soup : BeautifulSoup):\n",
    "    author_tags = article_soup.find_all(is_author)\n",
    "    names = [tag.string for tag in author_tags]\n",
    "    return names\n",
    "\n",
    "def is_date(tag : Tag):\n",
    "    return tag.get_attribute_list(\"class\")[0] == \"timestamp\"\n",
    "\n",
    "def get_date(article_soup : BeautifulSoup):\n",
    "    date_tag = article_soup.find(is_date)\n",
    "    return date_tag.text[19:52] # this slicing is done in order to just get the parts of the string which are relevant for us\n",
    "\n",
    "def get_read_time(article_soup : BeautifulSoup):\n",
    "    read_time_string = article_soup.find_all(\"div\", attrs={\"class\" : [\"headline__sub-description\"]})[0].text[15:28]\n",
    "    return read_time_string # the slice just returns the string with the read time, it shouldn't have two digits though"
   ]
  },
  {
   "cell_type": "code",
   "execution_count": 64,
   "metadata": {},
   "outputs": [],
   "source": [
    "class Article():\n",
    "    def __init__(self, headline, contents, authors, date, read_time):\n",
    "        self.headline = headline\n",
    "        self.contents = contents\n",
    "        self.authors = authors\n",
    "        self.date = date\n",
    "        self.read_time = read_time\n",
    "    \n",
    "    def __str__(self):\n",
    "        string : str = \"\"\n",
    "        return f\"{self.headline}  by {self.authors}  {self.read_time}\\n {self.contents} \\n\"\n",
    "    \n",
    "def create_article_from_link(link : str) ->Article:\n",
    "    article_soup = get_soup(link)\n",
    "    headline = get_headline(article_soup)\n",
    "    content = get_content(article_soup)\n",
    "    author = get_authors(article_soup)\n",
    "    date = get_date(article_soup)\n",
    "    read_time = get_read_time(article_soup)\n",
    "\n",
    "    return Article(headline, content, author, date, read_time)"
   ]
  },
  {
   "cell_type": "code",
   "execution_count": 65,
   "metadata": {},
   "outputs": [],
   "source": [
    "mainpage_soup = get_soup(MAINPAGE)\n",
    "links = get_article_links(mainpage_soup)"
   ]
  },
  {
   "cell_type": "code",
   "execution_count": 73,
   "metadata": {},
   "outputs": [
    {
     "data": {
      "text/plain": [
       "{'headline': '\\n      Former Chinese Premier Li Keqiang dead at 68: state media\\n    ',\n",
       " 'contents': ' \\n  Editor’s Note: Sign up for CNN’s Meanwhile in China newsletter which explores what you need to know about the country’s rise and how it impacts the world.\\n \\n      Former Chinese Premier Li Keqiang, once seen as a reform-minded contender to the country’s top leadership role, died of a sudden heart attack early Friday in Shanghai, state media reported.\\n   \\n      He was 68 years old.\\n   \\n      Li, who was nominally China’s No. 2 leader until late last year, served as the country’s premier – traditionally in charge of the economy – for a decade from 2013 to March this year under strongman leader Xi Jinping.\\n   \\n      During his time in the role, Li navigated the world’s second-largest economy through a challenging period of rising technology and trade tensions with the United States, mounting government debt and unemployment, and the Covid-19 pandemic.\\n   \\n      In his final year in power, the economist by training had been a strong voice warning of challenges to China’s economy amid widespread Covid-19 lockdowns, while backing efforts to boost employment and maintain economic stability.\\n   \\n      Li, known to use his English language skills on occasion in appearances outside the mainland, was also seen as representing a different approach to China’s ties with the world, at a time when the country’s relations with the West have grown increasingly strained.\\n   \\n      “China and the United States have common interests,” Li said in response to CNN’s question at his annual press conference in March 2021. “The two countries need to put more energy on their common ground and expand converging interests.”\\n   \\n      As the news of Li’s death broke Friday morning, social media users circulated a line from Li’s yearly address to China’s rubber stamp parliament in 2022, where he pledged that, “No matter how the international environment may change, China will keep the course of wider openness.”\\n   \\n      Li, a highly educated technocrat with degrees in law and economics, was considered friendly to the private sector. He was also seen to have a diverging policy stance from Xi, who has tightened the ruling Chinese Communist Party’s control over the economy.\\n   \\n      Li oversaw much of China’s efforts to prop up economic growth during his decade-long tenure and remained a supporter of the global integration of China’s economy, even as he found himself increasingly sidelined by Xi.\\n   \\n      As international doubts grew in recent years over Beijing’s resolve to continue the “reform and opening” policy, Li had repeatedly told foreign corporate executives and local officials that such economic development remained the party’s priority.\\n   \\n      During the country’s Covid lockdowns, he held meetings instructing various government departments to clear logistical hurdles for foreign companies to resume production.\\n   \\n      “(Li) was the only member of the Politburo Standing Committee to have openly advocated for the continuation of (former leader) Deng Xiaoping’s open-door policy, which ran counter to the instincts of Xi Jinping,” said Willy Lam, a senior fellow at the Jamestown Foundation think tank in the US, pointing to Xi’s inclination toward state-controlled measures.\\n   \\n      Li is also remembered for his focus on addressing societal ills – with social media users on Friday also pointing to his comments noting that 600 million people in China – or roughly 40% of the population – still had a monthly income of 1,000 yuan ($137).\\n   \\n      Those remarks, made during the premier’s annual press conference in 2020, served as a reminder of China’s ongoing struggle to lift people out of poverty, even as Xi hailed China’s efforts in this regard as a point of national pride.\\n   \\n      During the pandemic, where Beijing’s policies brought large swathes of the country to a halt, Li called local officials to “earnestly” implement policies to stabilize the economy and support small businesses and employment.\\n   \\n      He was also the highest level official to visit Wuhan in January 2020, when the city was under lockdown and battling a surge of infections in the world’s first known Covid-19 outbreak.\\n   \\n      Some of Li’s efforts to bolster the economy appeared to underscore his rift with Xi, and the premier was widely seen as lacking power relative to many of his predecessors.\\n   \\n      When the premier called for the revival of street stalls as a way to jump start growth and fix a spiraling jobs crisis, his proposal met with criticism from a number of state media outlets.\\n   \\n      The backlash from party mouthpieces sparked speculation of conflict between the two most senior party figures over how to stimulate the economy amid strict pandemic controls.\\n   \\n      Li is widely seen as a protege of Xi’s predecessor, Hu Jintao, who presided over an era of rapid growth in China from 2002 to 2012. The men shared economic sensibilities and rose to power through the Communist Party’s Youth League, once seen as a training ground for future leaders.\\n   \\n      The faction was known for producing reform-minded leaders hailing from humble family backgrounds, but its influence is believed to have been crushed by Xi since he came to power.\\n   \\n      The relationship between Li and Hu was in the spotlight last year when the former top leader was unexpectedly led out of the closing ceremony of the October 2022 Communist Party Congress, where Xi further consolidated power.\\n   \\n      In a moment of drama during a usually highly choreographed event, Hu was escorted from the room, pausing on his way out to pat a stony-faced Li on the shoulder, who nodded and turned to watch the former leader depart. State media later suggested Hu left due to health issues.\\n   \\n      Under Hu, Li was named to the party’s top leadership body, the Politburo Standing Committee, in 2007.\\n   \\n      He previously held key roles as party chief in industrial Liaoning province and was provincial leader of Henan, an agricultural base.\\n   \\n      Born in Anhui, Li spent his late teens doing manual labor with the Dongling Production Brigade in the eastern province during the Cultural Revolution, a decade-long social and political upheaval launched by late Chinese leader Mao Zedong.\\n   \\n      Li was among the first batch of students to sit the college entrance exam after it was reinstated following the end of the Cultural Revolution. In 1978, he enrolled at the prestigious Peking University, where he studied law and later obtained a doctorate in economics.\\n   \\n      Unlike Xi, Li is not considered one of China’s princelings hailing from a prominent party family. He held positions in the Communist Youth League Central Committee during the 1980s and ’90s.\\n   \\n      His time in the top echelons of the party ended last October, when he was not named to its Central Committee during a twice-a-decade leadership reshuffle that saw Xi surround himself with key allies.\\n   \\n      Then 67, Li was one year short of the unofficial retirement age for senior Chinese Communist Party leaders.\\n   \\n      He was succeeded as premier earlier this year by former Shanghai party chief and Xi loyalist Li Qiang.\\n   \\n      Alfred Wu, an associate professor at the Lee Kuan Yew School of Public Policy at the National University of Singapore, said that Li’s exit from power meant that there were not many reform-minded senior cadres left in the leadership.\\n   \\n      “This is the hard reality we are going to face. China has departed from the future that Li’s vision had represented,” he said.\\n  ',\n",
       " 'authors': ['Simone McCarthy', 'Laura He', 'Steven Jiang'],\n",
       " 'date': '4:46 AM EDT, Fri October 27, 2023',\n",
       " 'read_time': '6 minute read'}"
      ]
     },
     "execution_count": 73,
     "metadata": {},
     "output_type": "execute_result"
    }
   ],
   "source": [
    "#articles : List[Article] = [create_article_from_link(link) for link in links]\n",
    "\n",
    "article = create_article_from_link(links[2])\n",
    "\n",
    "article.__dict__\n"
   ]
  }
 ],
 "metadata": {
  "kernelspec": {
   "display_name": "web-scraper",
   "language": "python",
   "name": "python3"
  },
  "language_info": {
   "codemirror_mode": {
    "name": "ipython",
    "version": 3
   },
   "file_extension": ".py",
   "mimetype": "text/x-python",
   "name": "python",
   "nbconvert_exporter": "python",
   "pygments_lexer": "ipython3",
   "version": "3.11.0"
  }
 },
 "nbformat": 4,
 "nbformat_minor": 2
}
