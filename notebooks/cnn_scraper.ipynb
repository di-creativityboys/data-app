{
 "cells": [
  {
   "cell_type": "markdown",
   "metadata": {},
   "source": [
    "##### This part implements an entire workflow which scrapes the news articles."
   ]
  },
  {
   "cell_type": "code",
   "execution_count": 2,
   "metadata": {},
   "outputs": [
    {
     "data": {
      "text/plain": [
       "'\\nGet all articles from the mainpage\\n\\nFrom the articles, get everything you can get your hands on.\\n\\nTurn the article to dictionary form\\n'"
      ]
     },
     "execution_count": 2,
     "metadata": {},
     "output_type": "execute_result"
    }
   ],
   "source": [
    "# ToDos for 27.10.2002\n",
    "\"\"\"\n",
    "Get all articles from the mainpage\n",
    "\n",
    "From the articles, get everything you can get your hands on.\n",
    "\n",
    "Turn the article to dictionary form\n",
    "\"\"\""
   ]
  },
  {
   "cell_type": "code",
   "execution_count": 3,
   "metadata": {},
   "outputs": [],
   "source": [
    "from bs4 import BeautifulSoup, Tag, NavigableString\n",
    "import requests\n",
    "from typing import List\n",
    "from datetime import datetime"
   ]
  },
  {
   "cell_type": "code",
   "execution_count": 4,
   "metadata": {},
   "outputs": [],
   "source": [
    "MAINPAGE = \"edition.cnn.com\"\n",
    "HTTPS_SUFFIX = \"https://\"\n",
    "MAINPAGE_LINK = f\"{HTTPS_SUFFIX}{MAINPAGE}\""
   ]
  },
  {
   "cell_type": "code",
   "execution_count": 5,
   "metadata": {},
   "outputs": [],
   "source": [
    "class Image():\n",
    "    def __init__(self, url : str, description : str):\n",
    "        self.url = url\n",
    "        self.description = description\n",
    "\n",
    "    def __str__(self):\n",
    "        return f'Photo description: {self.description}'\n",
    "\n",
    "class Article():\n",
    "    def __init__(self, headline : str, contents : str, authors : str, date : str, read_time : str, url : str, image : Image):\n",
    "        self.headline = headline\n",
    "        self.contents = contents\n",
    "        self.authors = authors\n",
    "        self.date = date\n",
    "        self.read_time = read_time\n",
    "        self.url = url\n",
    "        self.image = image\n",
    "\n",
    "\n",
    "        self.timestamp = datetime.now()\n",
    "\n",
    "    \n",
    "    def __str__(self):\n",
    "        string : str = \"\"\n",
    "        return f\"{self.headline}  by {self.authors}  {self.read_time}\\n {self.contents} \\n\""
   ]
  },
  {
   "cell_type": "code",
   "execution_count": 6,
   "metadata": {},
   "outputs": [],
   "source": [
    "def get_soup(url : str)-> BeautifulSoup:\n",
    "    article = requests.get(url).text\n",
    "    if article:\n",
    "        return BeautifulSoup(article)\n",
    "    else:\n",
    "        print(\"Error fetching the soup object\")\n",
    "\n",
    "def get_content(article_soup : BeautifulSoup):\n",
    "    paragraphs = [paragraph.text for paragraph in article_soup.find_all(is_paragraph)]\n",
    "    string = \"\"\n",
    "    for paragraph in paragraphs:\n",
    "        string = f\"{string} {paragraph}\"\n",
    "    return string\n",
    "\n",
    "def get_article_links(mainpage_soup : BeautifulSoup) -> list:\n",
    "    results = mainpage_soup.find_all(name=\"a\", attrs={\"data-link-type\" : \"article\"})\n",
    "    results = [f'{MAINPAGE_LINK}{result.attrs[\"href\"]}' for result in results]\n",
    "    print(results)\n",
    "    return results\n",
    "\n",
    "def get_headline(article_soup : BeautifulSoup):\n",
    "    return article_soup.find(\"h1\").text\n",
    "\n",
    "def get_authors(article_soup : BeautifulSoup):\n",
    "    author_tags = article_soup.find_all(is_author)\n",
    "    names = [tag.string for tag in author_tags]\n",
    "    return names\n",
    "\n",
    "def get_date(article_soup : BeautifulSoup):\n",
    "    date_tag = article_soup.find(is_date)\n",
    "    date_string = date_tag.text\n",
    "    date = extract_date_from_string(date_string)\n",
    "    return date\n",
    "\n",
    "def get_read_time(article_soup : BeautifulSoup):\n",
    "    # a read time of 0 is used to signify an article whose reading time could not be fetched.\n",
    "    read_time_tag = article_soup.find(\"div\", attrs={\"class\" : [\"headline__sub-description\"]})  #[15:28] the slicing caused an error so I removed it for testing purposes\n",
    "    if read_time_tag is None:\n",
    "        return \"\"\n",
    "    read_time : int = extract_read_time_from_string(read_time_tag.text)\n",
    "    return read_time\n",
    "\n",
    "def get_image(article_soup : BeautifulSoup) -> Image:\n",
    "    image_tag = article_soup.find(is_image)\n",
    "    if image_tag is not None:\n",
    "        return Image(url=image_tag['src'], description=image_tag['alt']) # modify this\n",
    "    else:\n",
    "        return Image(\"\", \"\")\n",
    "\n",
    "def is_paragraph(tag : Tag) -> bool:\n",
    "    return tag.has_attr(\"data-component-name\") and tag.name == \"p\"\n",
    "\n",
    "def is_author(tag : Tag) -> bool:\n",
    "    return tag.get_attribute_list(\"class\")[0] == \"byline__name\"\n",
    "\n",
    "def is_date(tag : Tag):\n",
    "    return tag.get_attribute_list(\"class\")[0] == \"timestamp\"\n",
    "\n",
    "def is_image(tag : Tag) -> bool:\n",
    "    return tag.has_attr(\"src\") and tag.has_attr(\"alt\") and tag.name == \"img\"\n",
    "\n",
    "def extract_read_time_from_string(read_time_string : str) -> int:\n",
    "    # returns 0 if the read_time integer cannot be successfully extracted\n",
    "    read_time = 0\n",
    "    for character in read_time_string:\n",
    "        try:\n",
    "            read_time =  int(character)\n",
    "        except:\n",
    "            pass\n",
    "    return read_time\n",
    "\n",
    "def extract_date_from_string(date_string : str):\n",
    "    # returns 0 if no date could be extracted\n",
    "    # python function to remove white spaces in front of word\n",
    "    # FIX\n",
    "    date = 0\n",
    "    for i in range(0, len(date_string)+1):\n",
    "        for j in range(i, len(date_string)+1):\n",
    "            try:\n",
    "                date = datetime.strptime(date_string[i:j], \"%B %d, %Y\")\n",
    "                break\n",
    "            except:\n",
    "                pass\n",
    "    return date\n",
    "\n",
    "def create_article_from_link(link : str) ->Article:\n",
    "    article_soup = get_soup(link)\n",
    "    headline = get_headline(article_soup)\n",
    "    content = get_content(article_soup)\n",
    "    author = get_authors(article_soup)\n",
    "    date = get_date(article_soup)\n",
    "    read_time = get_read_time(article_soup)\n",
    "    url = link\n",
    "    image = get_image(article_soup)\n",
    "\n",
    "    return Article(headline, content, author, date, read_time, url, image)"
   ]
  },
  {
   "cell_type": "code",
   "execution_count": 7,
   "metadata": {},
   "outputs": [
    {
     "name": "stdout",
     "output_type": "stream",
     "text": [
      "['https://edition.cnn.com/2023/11/05/europe/zelensky-ukraine-stalemate-criticism-intl/index.html', 'https://edition.cnn.com/2023/11/05/middleeast/israel-strikes-gaza-women-children-health-crisis-mime-intl/index.html', 'https://edition.cnn.com/2023/11/05/africa/gabon-demands-rare-african-mask-back-after-sale-intl/index.html', 'https://edition.cnn.com/2023/11/04/australia/australia-domestic-violence-5-deaths-10-days-intl-hnk/index.html', 'https://edition.cnn.com/travel/article/guy-fawkes-bonfire-night/index.html', 'https://edition.cnn.com/2023/11/05/sport/coco-gauff-jessica-pegula-wta-finals-spt-intl/index.html', 'https://edition.cnn.com/2023/11/05/sport/jayson-tatum-franchise-history-boston-celtics-spt-intl/index.html', 'https://edition.cnn.com/2023/11/05/politics/blinken-makes-unannounced-visit-to-iraq/index.html', 'https://edition.cnn.com/2023/11/05/middleeast/israel-strikes-gaza-women-children-health-crisis-mime-intl/index.html', 'https://edition.cnn.com/2023/11/05/middleeast/blast-at-al-maghazi-refugee-camp-in-central-gaza-kills-dozens/index.html', 'https://edition.cnn.com/2023/11/05/middleeast/palestinians-israel-fear-arrest-gaza-intl-cmd/index.html', 'https://edition.cnn.com/2023/11/04/politics/muslim-americans-biden-michigan/index.html', 'https://edition.cnn.com/2023/11/05/tech/nvidia-amd-ceos-taiwan-intl-hnk/index.html', 'https://edition.cnn.com/2023/11/05/tech/nvidia-amd-ceos-taiwan-intl-hnk/index.html', 'https://edition.cnn.com/2023/10/18/tech/taiwan-foxconn-nvidia-ai-ev-hnk-intl/index.html', 'https://edition.cnn.com/2023/11/05/europe/zelensky-ukraine-stalemate-criticism-intl/index.html', 'https://edition.cnn.com/2023/11/05/europe/zelensky-ukraine-stalemate-criticism-intl/index.html', 'https://edition.cnn.com/2023/11/04/australia/australia-domestic-violence-5-deaths-10-days-intl-hnk/index.html', 'https://edition.cnn.com/2023/11/04/australia/australia-domestic-violence-5-deaths-10-days-intl-hnk/index.html', 'https://edition.cnn.com/2023/11/04/politics/trump-trials-what-matters/index.html', 'https://edition.cnn.com/2023/11/05/politics/election-worker-resignations-2024-elections/index.html', 'https://edition.cnn.com/world-bank-loss-damage-climate-cop28-intl/index.html', 'https://edition.cnn.com/2023/11/05/us/galveston-texas-shooting-motorcycle-rally/index.html', 'https://edition.cnn.com/2023/11/05/us/robert-card-lewiston-shooting-maine-yellow-flag-law/index.html', 'https://edition.cnn.com/2023/11/04/europe/hamburg-airport-family-hostage-crisis/index.html', 'https://edition.cnn.com/2023/11/03/africa/king-charles-kenya-royal-newsletter-scli-gbr-cmd-intl/index.html', 'https://edition.cnn.com/2023/11/05/entertainment/barbra-streisand-james-brolin-my-name-is-barbra/index.html', 'https://edition.cnn.com/2023/11/05/entertainment/barbra-streisand-james-brolin-my-name-is-barbra/index.html', 'https://edition.cnn.com/2023/11/05/world/southern-taurid-meteor-shower-november-fireball-scn/index.html', 'https://edition.cnn.com/2023/11/03/asia/nepal-earthquake-northwest-hnk-intl/index.html', 'https://edition.cnn.com/2023/11/04/media/actors-strike-best-final-offer/index.html', 'https://edition.cnn.com/2023/11/03/asia/canada-china-helicopter-interception-south-china-sea-hnk-intl/index.html', 'https://edition.cnn.com/travel/heartsong-lodge-dollywood-dolly-parton/index.html', 'https://edition.cnn.com/travel/heartsong-lodge-dollywood-dolly-parton/index.html', 'https://edition.cnn.com/2023/11/05/africa/gabon-demands-rare-african-mask-back-after-sale-intl/index.html', 'https://edition.cnn.com/2023/11/05/africa/gabon-demands-rare-african-mask-back-after-sale-intl/index.html', 'https://edition.cnn.com/travel/tarantula-car-accident-death-valley-national-park/index.html', 'https://edition.cnn.com/travel/tarantula-car-accident-death-valley-national-park/index.html', 'https://edition.cnn.com/2023/11/05/business/extravagant-holiday-gifts-neiman-marcus-2023/index.html', 'https://edition.cnn.com/2023/11/05/business/extravagant-holiday-gifts-neiman-marcus-2023/index.html', 'https://edition.cnn.com/2023/11/04/sport/isabeau-levito-grand-prix-de-france-spt-intl/index.html', 'https://edition.cnn.com/2023/11/04/sport/isabeau-levito-grand-prix-de-france-spt-intl/index.html', 'https://edition.cnn.com/2023/11/05/entertainment/taylor-swifts-1989-no-1/index.html', 'https://edition.cnn.com/2023/11/05/entertainment/taylor-swifts-1989-no-1/index.html', 'https://edition.cnn.com/2023/11/05/sport/coco-gauff-jessica-pegula-wta-finals-spt-intl/index.html', 'https://edition.cnn.com/2023/11/05/sport/coco-gauff-jessica-pegula-wta-finals-spt-intl/index.html', 'https://edition.cnn.com/2023/11/05/sport/jayson-tatum-franchise-history-boston-celtics-spt-intl/index.html', 'https://edition.cnn.com/2023/11/05/sport/jayson-tatum-franchise-history-boston-celtics-spt-intl/index.html', 'https://edition.cnn.com/2023/11/05/us/white-christian-evangelicals-blake-cec/index.html', 'https://edition.cnn.com/2023/11/05/us/white-christian-evangelicals-blake-cec/index.html', 'https://edition.cnn.com/travel/travel-news-bear-tarantula-encounters/index.html', 'https://edition.cnn.com/travel/travel-news-bear-tarantula-encounters/index.html', 'https://edition.cnn.com/2023/11/04/sport/new-york-city-marathon-spt-intl/index.html', 'https://edition.cnn.com/2023/11/04/sport/new-york-city-marathon-spt-intl/index.html', 'https://edition.cnn.com/2023/11/04/business/crypto-industry-bankman-fried-guilty/index.html', 'https://edition.cnn.com/2023/11/04/business/crypto-industry-bankman-fried-guilty/index.html', 'https://edition.cnn.com/2023/11/04/entertainment/the-marvels-superhero-movies-gen-v-invincible/index.html', 'https://edition.cnn.com/2023/11/04/entertainment/the-marvels-superhero-movies-gen-v-invincible/index.html', 'https://edition.cnn.com/2023/11/01/economy/what-to-expect-from-todays-fed-meeting/index.html', 'https://edition.cnn.com/2023/11/01/economy/what-to-expect-from-todays-fed-meeting/index.html', 'https://edition.cnn.com/2023/11/01/investing/bankman-fried-lied-to-you-prosecutors-tell-jury/index.html', 'https://edition.cnn.com/2023/11/01/media/disney-hulu-comcast/index.html', 'https://edition.cnn.com/2023/10/30/business/germany-economy-q3-gdp/index.html', 'https://edition.cnn.com/2023/10/30/business/gm-uaw-tentative-agreement/index.html', 'https://edition.cnn.com/2023/10/30/business/hsbc-q3-results-earnings-report-intl-hnk/index.html', 'https://edition.cnn.com/travel/lonely-planets-top-places-to-go-in-2024/index.html', 'https://edition.cnn.com/travel/lonely-planets-top-places-to-go-in-2024/index.html', 'https://edition.cnn.com/travel/article/jet-stream-flights-speed-of-sound/index.html', 'https://edition.cnn.com/travel/article/azores-whalewatching/index.html', 'https://edition.cnn.com/travel/article/space-toilet-space-perspective-scn/index.html', 'https://edition.cnn.com/travel/worlds-best-cheese-awards-2023-norway/index.html', 'https://edition.cnn.com/travel/long-haul-low-cost-airlines-what-to-know/index.html', 'https://edition.cnn.com/2023/11/05/sport/fans-tribute-adam-johnson-spt-intl/index.html', 'https://edition.cnn.com/2023/11/05/sport/fans-tribute-adam-johnson-spt-intl/index.html', 'https://edition.cnn.com/2023/11/05/sport/jayson-tatum-franchise-history-boston-celtics-spt-intl/index.html', 'https://edition.cnn.com/2023/11/04/sport/isabeau-levito-grand-prix-de-france-spt-intl/index.html', 'https://edition.cnn.com/2023/11/03/sport/sepahan-punished-al-ittihad-bust-soleimani-iran-saudi-spt-intl/index.html', 'https://edition.cnn.com/2023/10/30/style/chengdu-science-fiction-museum-hnk-spc-intl/index.html', 'https://edition.cnn.com/2023/10/30/style/chengdu-science-fiction-museum-hnk-spc-intl/index.html', 'https://edition.cnn.com/style/best-celebrity-halloween-costumes-2023/index.html', 'https://edition.cnn.com/style/david-shrigley-pulped-fiction-tan/index.html', 'https://edition.cnn.com/style/guitar-maker-mushrooms-biomaterials-rosenkrantz-spc/index.html', 'https://edition.cnn.com/furniture-design-cardboard-artist-cop28/index.html', 'https://edition.cnn.com/style/phoebe-philo-designer-debut-collection/index.html', 'https://edition.cnn.com/2023/11/03/opinions/gaza-children-birthday-party-abushaban/index.html', 'https://edition.cnn.com/2023/11/03/opinions/gaza-children-birthday-party-abushaban/index.html', 'https://edition.cnn.com/2023/11/01/opinions/israel-flawed-strategy-defeating-hamas-pape/index.html', 'https://edition.cnn.com/2023/11/02/opinions/matthew-perry-friends-escape-chandler-bing-thomas/index.html', 'https://edition.cnn.com/2023/11/01/opinions/dagestan-antisemitism-rise-israel-ghitis/index.html', 'https://edition.cnn.com/2023/10/30/opinions/hamas-underground-tunnels-richemond-barak-bergen/index.html', 'https://edition.cnn.com/2023/11/03/opinions/uncertainty-is-good-for-you-jackson/index.html', 'https://edition.cnn.com/2023/10/29/opinions/opinion-my-country-abolished-the-death-penalty-so-can-yours-tsakhia/index.html', 'https://edition.cnn.com/2023/10/30/politics/israel-aid-congress-senate/index.html', 'https://edition.cnn.com/2023/10/30/politics/israel-aid-congress-senate/index.html', 'https://edition.cnn.com/2023/10/30/politics/man-charged-threats-fulton-county-trump/index.html', 'https://edition.cnn.com/2023/10/30/politics/republican-party-2020-election-denialism/index.html', 'https://edition.cnn.com/2023/10/29/politics/tommy-tuberville-military-nominations-middle-east/index.html', 'https://edition.cnn.com/2023/10/28/politics/biden-reelection-worries-dean-phillips/index.html', 'https://edition.cnn.com/2023/10/27/politics/us-attorney-biden-bribery-tip-scrutiny/index.html', 'https://edition.cnn.com/2023/11/03/world/earth-moon-theia-collision-llvps-scn/index.html', 'https://edition.cnn.com/2023/11/03/world/earth-moon-theia-collision-llvps-scn/index.html', 'https://edition.cnn.com/2023/11/02/health/staying-sober-matthew-perry-wellness/index.html', 'https://edition.cnn.com/2023/11/02/health/lung-cancer-prevention-smoking-wellness/index.html', 'https://edition.cnn.com/2023/11/03/health/retro-walking-backward-exercise-wellness/index.html', 'https://edition.cnn.com/2023/11/02/health/bipolar-disorder-explained-wellness/index.html', 'https://edition.cnn.com/2023/11/02/world/starfish-head-body-plan-scn/index.html', 'https://edition.cnn.com/2023/10/19/tech/snapchat-user-growth/index.html', 'https://edition.cnn.com/2023/10/19/tech/snapchat-user-growth/index.html', 'https://edition.cnn.com/2023/10/19/tech/crypto-firms-fraud-charges-new-york/index.html', 'https://edition.cnn.com/2023/10/18/tech/apple-pencil-usb-c/index.html', 'https://edition.cnn.com/2023/10/19/tech/eu-meta-tiktok-israel-content-disinformation/index.html', 'https://edition.cnn.com/2023/10/18/tech/us-china-chip-export-curbs-intl-hnk/index.html', 'https://edition.cnn.com/2023/10/19/tech/nokia-layoffs-cost-cutting-intl-hnk/index.html', 'https://edition.cnn.com/2023/10/16/tech/iphone-15-sales-china/index.html', 'https://edition.cnn.com/2023/09/22/sport/michael-jordan-grove-xxiii-golf-course-spt-spc-intl/index.html', 'https://edition.cnn.com/2023/09/22/sport/michael-jordan-grove-xxiii-golf-course-spt-spc-intl/index.html', 'https://edition.cnn.com/2023/10/18/sport/carbrook-bull-sharks-australia-golf-course-spt-spc-intl/index.html', 'https://edition.cnn.com/2023/10/18/sport/carbrook-bull-sharks-australia-golf-course-spt-spc-intl/index.html', 'https://edition.cnn.com/2022/10/25/golf/hornussen-switzerland-golf-baseball-farmers-spt-intl/index.html', 'https://edition.cnn.com/2022/10/25/golf/hornussen-switzerland-golf-baseball-farmers-spt-intl/index.html', 'https://edition.cnn.com/2023/10/23/world/west-antarctic-ice-melt-climate/index.html', 'https://edition.cnn.com/2023/10/23/world/west-antarctic-ice-melt-climate/index.html', 'https://edition.cnn.com/2023/10/30/entertainment/taylor-swift-breaks-spotify-record/index.html', 'https://edition.cnn.com/2023/10/30/asia/hong-kong-jeff-wilson-firearms-charge-acquitted-intl-hnk/index.html', 'https://edition.cnn.com/2023/10/30/us/us-weekend-mass-shootings-halloween/index.html', 'https://edition.cnn.com/2023/10/30/style/bust-scotland-sale-intl-scli/index.html', 'https://edition.cnn.com/2023/10/28/entertainment/arnold-schwarzenegger-sylvester-stallone-derail-each-other/index.html', 'https://edition.cnn.com/2023/10/29/maine-shooting-robert-card-investigation/index.html', 'https://edition.cnn.com/2023/10/30/entertainment/ice-spice-turns-heads-in-a-racy-betty-boop-halloween-costume/index.html', 'https://edition.cnn.com/2023/10/30/china/china-xiangshan-forum-security-russia-united-states-intl-hnk/index.html', 'https://edition.cnn.com/2023/10/29/us/cornell-university-antisemetic-threats-online-investigation/index.html']\n"
     ]
    }
   ],
   "source": [
    "mainpage_soup = get_soup(MAINPAGE_LINK)\n",
    "links = get_article_links(mainpage_soup)"
   ]
  },
  {
   "cell_type": "code",
   "execution_count": 8,
   "metadata": {},
   "outputs": [],
   "source": [
    "articles = [create_article_from_link(link) for link in links.copy()]\n",
    "#delay scraping intensity to not get banned"
   ]
  },
  {
   "cell_type": "code",
   "execution_count": 9,
   "metadata": {},
   "outputs": [],
   "source": [
    "# Please work please work please work please work please work please work please work \n",
    "article_dicts = [article.__dict__ for article in articles]"
   ]
  },
  {
   "cell_type": "markdown",
   "metadata": {},
   "source": [
    "##### This is where I try to connect to the postgres database and execute the insert statements"
   ]
  },
  {
   "cell_type": "code",
   "execution_count": 11,
   "metadata": {},
   "outputs": [
    {
     "name": "stdout",
     "output_type": "stream",
     "text": [
      "Collecting psycopg2\n",
      "  Downloading psycopg2-2.9.9-cp311-cp311-win_amd64.whl.metadata (4.5 kB)\n",
      "Downloading psycopg2-2.9.9-cp311-cp311-win_amd64.whl (1.2 MB)\n",
      "   ---------------------------------------- 0.0/1.2 MB ? eta -:--:--\n",
      "   -- ------------------------------------- 0.1/1.2 MB 1.7 MB/s eta 0:00:01\n",
      "   ------- -------------------------------- 0.2/1.2 MB 3.5 MB/s eta 0:00:01\n",
      "   ------------------- -------------------- 0.6/1.2 MB 4.4 MB/s eta 0:00:01\n",
      "   ---------------------------------------  1.2/1.2 MB 7.4 MB/s eta 0:00:01\n",
      "   ---------------------------------------  1.2/1.2 MB 7.4 MB/s eta 0:00:01\n",
      "   ---------------------------------------- 1.2/1.2 MB 4.9 MB/s eta 0:00:00\n",
      "Installing collected packages: psycopg2\n",
      "Successfully installed psycopg2-2.9.9\n",
      "Note: you may need to restart the kernel to use updated packages.\n"
     ]
    }
   ],
   "source": [
    "%pip install psycopg2"
   ]
  },
  {
   "cell_type": "code",
   "execution_count": 18,
   "metadata": {},
   "outputs": [],
   "source": [
    "import psycopg2"
   ]
  },
  {
   "cell_type": "code",
   "execution_count": 19,
   "metadata": {},
   "outputs": [
    {
     "ename": "OperationalError",
     "evalue": "connection to server at \"localhost\" (::1), port 5432 failed: FATAL:  password authentication failed for user \"postgres\"\n",
     "output_type": "error",
     "traceback": [
      "\u001b[1;31m---------------------------------------------------------------------------\u001b[0m",
      "\u001b[1;31mOperationalError\u001b[0m                          Traceback (most recent call last)",
      "\u001b[1;32mc:\\Users\\lenovo\\Desktop\\Studium\\WWU\\Informations Systems Development Track\\Data Integration\\data-app\\notebooks\\cnn_scraper.ipynb Cell 13\u001b[0m line \u001b[0;36m1\n\u001b[1;32m----> <a href='vscode-notebook-cell:/c%3A/Users/lenovo/Desktop/Studium/WWU/Informations%20Systems%20Development%20Track/Data%20Integration/data-app/notebooks/cnn_scraper.ipynb#X15sZmlsZQ%3D%3D?line=0'>1</a>\u001b[0m conn \u001b[39m=\u001b[39m psycopg2\u001b[39m.\u001b[39;49mconnect(dbname\u001b[39m=\u001b[39;49m\u001b[39m\"\u001b[39;49m\u001b[39mpostgres\u001b[39;49m\u001b[39m\"\u001b[39;49m,user\u001b[39m=\u001b[39;49m\u001b[39m\"\u001b[39;49m\u001b[39mpostgres\u001b[39;49m\u001b[39m\"\u001b[39;49m, password\u001b[39m=\u001b[39;49m\u001b[39m\"\u001b[39;49m\u001b[39mpostgres\u001b[39;49m\u001b[39m\"\u001b[39;49m, port\u001b[39m=\u001b[39;49m\u001b[39m\"\u001b[39;49m\u001b[39m5432\u001b[39;49m\u001b[39m\"\u001b[39;49m, host\u001b[39m=\u001b[39;49m\u001b[39m\"\u001b[39;49m\u001b[39mlocalhost\u001b[39;49m\u001b[39m\"\u001b[39;49m)\n\u001b[0;32m      <a href='vscode-notebook-cell:/c%3A/Users/lenovo/Desktop/Studium/WWU/Informations%20Systems%20Development%20Track/Data%20Integration/data-app/notebooks/cnn_scraper.ipynb#X15sZmlsZQ%3D%3D?line=1'>2</a>\u001b[0m conn\u001b[39m.\u001b[39mautocommit \u001b[39m=\u001b[39m \u001b[39mTrue\u001b[39;00m\n\u001b[0;32m      <a href='vscode-notebook-cell:/c%3A/Users/lenovo/Desktop/Studium/WWU/Informations%20Systems%20Development%20Track/Data%20Integration/data-app/notebooks/cnn_scraper.ipynb#X15sZmlsZQ%3D%3D?line=2'>3</a>\u001b[0m cursor \u001b[39m=\u001b[39m conn\u001b[39m.\u001b[39mcursor()\n",
      "File \u001b[1;32mc:\\Users\\lenovo\\envs\\news_scraper\\Lib\\site-packages\\psycopg2\\__init__.py:122\u001b[0m, in \u001b[0;36mconnect\u001b[1;34m(dsn, connection_factory, cursor_factory, **kwargs)\u001b[0m\n\u001b[0;32m    119\u001b[0m     kwasync[\u001b[39m'\u001b[39m\u001b[39masync_\u001b[39m\u001b[39m'\u001b[39m] \u001b[39m=\u001b[39m kwargs\u001b[39m.\u001b[39mpop(\u001b[39m'\u001b[39m\u001b[39masync_\u001b[39m\u001b[39m'\u001b[39m)\n\u001b[0;32m    121\u001b[0m dsn \u001b[39m=\u001b[39m _ext\u001b[39m.\u001b[39mmake_dsn(dsn, \u001b[39m*\u001b[39m\u001b[39m*\u001b[39mkwargs)\n\u001b[1;32m--> 122\u001b[0m conn \u001b[39m=\u001b[39m _connect(dsn, connection_factory\u001b[39m=\u001b[39;49mconnection_factory, \u001b[39m*\u001b[39;49m\u001b[39m*\u001b[39;49mkwasync)\n\u001b[0;32m    123\u001b[0m \u001b[39mif\u001b[39;00m cursor_factory \u001b[39mis\u001b[39;00m \u001b[39mnot\u001b[39;00m \u001b[39mNone\u001b[39;00m:\n\u001b[0;32m    124\u001b[0m     conn\u001b[39m.\u001b[39mcursor_factory \u001b[39m=\u001b[39m cursor_factory\n",
      "\u001b[1;31mOperationalError\u001b[0m: connection to server at \"localhost\" (::1), port 5432 failed: FATAL:  password authentication failed for user \"postgres\"\n"
     ]
    }
   ],
   "source": [
    "conn = psycopg2.connect(dbname=\"postgres\",user=\"postgres\", password=\"postgres\", port=\"5432\", host=\"localhost\")\n",
    "conn.autocommit = True\n",
    "cursor = conn.cursor()"
   ]
  },
  {
   "cell_type": "code",
   "execution_count": null,
   "metadata": {},
   "outputs": [
    {
     "name": "stdout",
     "output_type": "stream",
     "text": [
      "Duplicate detected, skipping to next article.\n",
      "Duplicate detected, skipping to next article.\n",
      "Duplicate detected, skipping to next article.\n",
      "Duplicate detected, skipping to next article.\n",
      "Duplicate detected, skipping to next article.\n",
      "Duplicate detected, skipping to next article.\n",
      "Duplicate detected, skipping to next article.\n",
      "Duplicate detected, skipping to next article.\n",
      "Duplicate detected, skipping to next article.\n",
      "Duplicate detected, skipping to next article.\n",
      "Duplicate detected, skipping to next article.\n",
      "Duplicate detected, skipping to next article.\n",
      "Duplicate detected, skipping to next article.\n",
      "Duplicate detected, skipping to next article.\n",
      "Duplicate detected, skipping to next article.\n",
      "Duplicate detected, skipping to next article.\n",
      "Duplicate detected, skipping to next article.\n",
      "Duplicate detected, skipping to next article.\n",
      "Duplicate detected, skipping to next article.\n",
      "Duplicate detected, skipping to next article.\n",
      "Duplicate detected, skipping to next article.\n",
      "Duplicate detected, skipping to next article.\n",
      "Duplicate detected, skipping to next article.\n",
      "Duplicate detected, skipping to next article.\n",
      "Duplicate detected, skipping to next article.\n",
      "Duplicate detected, skipping to next article.\n",
      "Duplicate detected, skipping to next article.\n",
      "Duplicate detected, skipping to next article.\n",
      "Duplicate detected, skipping to next article.\n",
      "Duplicate detected, skipping to next article.\n",
      "Duplicate detected, skipping to next article.\n",
      "Duplicate detected, skipping to next article.\n",
      "Duplicate detected, skipping to next article.\n",
      "Duplicate detected, skipping to next article.\n",
      "Duplicate detected, skipping to next article.\n",
      "Duplicate detected, skipping to next article.\n",
      "Duplicate detected, skipping to next article.\n",
      "Duplicate detected, skipping to next article.\n"
     ]
    }
   ],
   "source": [
    "for article_dictionary in article_dicts:\n",
    "    try:\n",
    "        cursor.execute('''INSERT INTO Articles(URLId, Headline, Contents, Authors, UploadDate, ReadTime, ImageURL, ImageDescription, ScrapingTimeStamp) \n",
    "                       VALUES (%s, %s, %s, %s, %s, %s, %s, %s, %s);''', \n",
    "                       (article_dictionary[\"url\"][8:], \n",
    "                       article_dictionary[\"headline\"], \n",
    "                       article_dictionary[\"contents\"], \n",
    "                       article_dictionary[\"authors\"], \n",
    "                       article_dictionary[\"date\"], \n",
    "                       article_dictionary[\"read_time\"], \n",
    "                       article_dictionary[\"image\"].url[8:], \n",
    "                       article_dictionary[\"image\"].description, \n",
    "                       article_dictionary[\"timestamp\"])\n",
    "                       )\n",
    "        \n",
    "    except Exception as ex:\n",
    "        print(\"Duplicate detected, skipping to next article.\" + str(ex))"
   ]
  },
  {
   "cell_type": "code",
   "execution_count": null,
   "metadata": {},
   "outputs": [
    {
     "data": {
      "text/plain": [
       "'\\nNotes: The urls are saved without the https:// prefix, seeing as I got an error while doing so.\\nAll textual datatypes have been saved as text, so that has to be done better in the future. Best solution is to convert\\nthe attributes.\\nThe execute statement does not check whether a record is present in the table or not.\\nThe solution I can think of now is to export the data of the database into a json format.\\nAfter that, each time the program is started, the URLIDs are extracted and compared against\\nthe news that are scraped and the articles found in both are removed from the scraped articles.\\nThis ensures that the articles added to the database are the new ones.\\n'"
      ]
     },
     "execution_count": 55,
     "metadata": {},
     "output_type": "execute_result"
    }
   ],
   "source": [
    "'''\n",
    "Notes: The urls are saved without the https:// prefix, seeing as I got an error while doing so.\n",
    "All textual datatypes have been saved as text, so that has to be done better in the future. Best solution is to convert\n",
    "the attributes.\n",
    "The execute statement does not check whether a record is present in the table or not.\n",
    "The solution I can think of now is to export the data of the database into a json format.\n",
    "After that, each time the program is started, the URLIDs are extracted and compared against\n",
    "the news that are scraped and the articles found in both are removed from the scraped articles.\n",
    "This ensures that the articles added to the database are the new ones.\n",
    "'''"
   ]
  }
 ],
 "metadata": {
  "kernelspec": {
   "display_name": "web-scraper",
   "language": "python",
   "name": "python3"
  },
  "language_info": {
   "codemirror_mode": {
    "name": "ipython",
    "version": 3
   },
   "file_extension": ".py",
   "mimetype": "text/x-python",
   "name": "python",
   "nbconvert_exporter": "python",
   "pygments_lexer": "ipython3",
   "version": "3.11.0"
  }
 },
 "nbformat": 4,
 "nbformat_minor": 2
}
