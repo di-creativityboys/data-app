{
 "cells": [
  {
   "cell_type": "markdown",
   "metadata": {},
   "source": [
    "##### This part implements an entire workflow which scrapes the news articles."
   ]
  },
  {
   "cell_type": "code",
   "execution_count": 40,
   "metadata": {},
   "outputs": [
    {
     "data": {
      "text/plain": [
       "'\\nGet all articles from the mainpage\\n\\nFrom the articles, get everything you can get your hands on.\\n\\nTurn the article to dictionary form\\n'"
      ]
     },
     "execution_count": 40,
     "metadata": {},
     "output_type": "execute_result"
    }
   ],
   "source": [
    "# ToDos for 27.10.2002\n",
    "\"\"\"\n",
    "Get all articles from the mainpage\n",
    "\n",
    "From the articles, get everything you can get your hands on.\n",
    "\n",
    "Turn the article to dictionary form\n",
    "\"\"\""
   ]
  },
  {
   "cell_type": "code",
   "execution_count": 41,
   "metadata": {},
   "outputs": [],
   "source": [
    "from bs4 import BeautifulSoup, Tag, NavigableString\n",
    "import requests\n",
    "from typing import List\n",
    "from datetime import datetime"
   ]
  },
  {
   "cell_type": "code",
   "execution_count": 42,
   "metadata": {},
   "outputs": [],
   "source": [
    "MAINPAGE = \"edition.cnn.com\"\n",
    "HTTPS_SUFFIX = \"https://\"\n",
    "MAINPAGE_LINK = f\"{HTTPS_SUFFIX}{MAINPAGE}\""
   ]
  },
  {
   "cell_type": "code",
   "execution_count": 43,
   "metadata": {},
   "outputs": [],
   "source": [
    "class Image():\n",
    "    def __init__(self, url : str, description : str):\n",
    "        self.url = url\n",
    "        self.description = description\n",
    "\n",
    "    def __str__(self):\n",
    "        return f'Photo description: {self.description}'\n",
    "\n",
    "class Article():\n",
    "    def __init__(self, headline : str, contents : str, authors : List[str], date : datetime, read_time : int, url : str, image : Image):\n",
    "        self.headline = headline\n",
    "        self.contents = contents\n",
    "        self.authors = authors\n",
    "        self.date = date\n",
    "        self.read_time = read_time\n",
    "        self.url = url\n",
    "        self.image = image\n",
    "\n",
    "\n",
    "        self.timestamp = datetime.now()\n",
    "\n",
    "    \n",
    "    def __str__(self):\n",
    "        string : str = \"\"\n",
    "        return f\"{self.headline}  by {self.authors}  {self.read_time}\\n {self.contents} \\n\""
   ]
  },
  {
   "cell_type": "code",
   "execution_count": 44,
   "metadata": {},
   "outputs": [],
   "source": [
    "def get_soup(url : str)-> BeautifulSoup | None:\n",
    "    article = requests.get(url).text\n",
    "    if article:\n",
    "        return BeautifulSoup(article)\n",
    "    else:\n",
    "        print(\"Error fetching the soup object\")\n",
    "\n",
    "def get_content(article_soup : BeautifulSoup):\n",
    "    paragraphs = [paragraph.text for paragraph in article_soup.find_all(is_paragraph)]\n",
    "    string = \"\"\n",
    "    for paragraph in paragraphs:\n",
    "        string = f\"{string} {paragraph}\"\n",
    "    return string\n",
    "\n",
    "def get_article_links(mainpage_soup : BeautifulSoup) -> list:\n",
    "    results = mainpage_soup.find_all(name=\"a\", attrs={\"data-link-type\" : \"article\"})\n",
    "    results = [f'{MAINPAGE_LINK}{result.attrs[\"href\"]}' for result in results]\n",
    "    print(results)\n",
    "    return results\n",
    "\n",
    "def get_headline(article_soup : BeautifulSoup):\n",
    "    return article_soup.find(\"h1\").text\n",
    "\n",
    "def get_authors(article_soup : BeautifulSoup) -> List[str]:\n",
    "    author_tags = article_soup.find_all(is_author)\n",
    "    names = [tag.string for tag in author_tags]\n",
    "    return names\n",
    "\n",
    "def get_date(article_soup : BeautifulSoup):\n",
    "    date_tag = article_soup.find(is_date)\n",
    "    date_string = date_tag.text\n",
    "    date = extract_date_from_string(date_string)\n",
    "    return date\n",
    "\n",
    "def get_read_time(article_soup : BeautifulSoup):\n",
    "    # a read time of 0 is used to signify an article whose reading time could not be fetched.\n",
    "    read_time_tag = article_soup.find(\"div\", attrs={\"class\" : [\"headline__sub-description\"]})  #[15:28] the slicing caused an error so I removed it for testing purposes\n",
    "    if read_time_tag is None:\n",
    "        return \"\"\n",
    "    read_time : int = extract_read_time_from_string(read_time_tag.text)\n",
    "    return read_time\n",
    "\n",
    "def get_image(article_soup : BeautifulSoup) -> Image:\n",
    "    image_tag = article_soup.find(is_image)\n",
    "    if image_tag is not None:\n",
    "        return Image(url=image_tag['src'], description=image_tag['alt']) # modify this\n",
    "    else:\n",
    "        return Image(\"\", \"\")\n",
    "\n",
    "def is_paragraph(tag : Tag) -> bool:\n",
    "    return tag.has_attr(\"data-component-name\") and tag.name == \"p\"\n",
    "\n",
    "def is_author(tag : Tag) -> bool:\n",
    "    return tag.get_attribute_list(\"class\")[0] == \"byline__name\"\n",
    "\n",
    "def is_date(tag : Tag):\n",
    "    return tag.get_attribute_list(\"class\")[0] == \"timestamp\"\n",
    "\n",
    "def is_image(tag : Tag) -> bool:\n",
    "    return tag.has_attr(\"src\") and tag.has_attr(\"alt\") and tag.name == \"img\"\n",
    "\n",
    "def extract_read_time_from_string(read_time_string : str) -> int:\n",
    "    # returns 0 if the read_time integer cannot be successfully extracted\n",
    "    read_time = 0\n",
    "    for character in read_time_string:\n",
    "        try:\n",
    "            read_time =  int(character)\n",
    "        except:\n",
    "            pass\n",
    "    return read_time\n",
    "\n",
    "def extract_date_from_string(date_string : str):\n",
    "    # returns 0 if no date could be extracted\n",
    "    # python function to remove white spaces in front of word\n",
    "    # FIX\n",
    "    date = 0\n",
    "    for i in range(0, len(date_string)+1):\n",
    "        for j in range(i, len(date_string)+1):\n",
    "            try:\n",
    "                date = datetime.strptime(date_string[i:j], \"%B %d, %Y\")\n",
    "                break\n",
    "            except:\n",
    "                pass\n",
    "    return date\n",
    "\n",
    "def create_article_from_link(link : str) ->Article:\n",
    "    article_soup = get_soup(link)\n",
    "    headline = get_headline(article_soup)\n",
    "    content = get_content(article_soup)\n",
    "    author = get_authors(article_soup)\n",
    "    date = get_date(article_soup)\n",
    "    read_time = get_read_time(article_soup)\n",
    "    url = link\n",
    "    image = get_image(article_soup)\n",
    "\n",
    "    return Article(headline, content, author, date, read_time, url, image)"
   ]
  },
  {
   "cell_type": "code",
   "execution_count": 45,
   "metadata": {},
   "outputs": [
    {
     "name": "stdout",
     "output_type": "stream",
     "text": [
      "['https://edition.cnn.com/2023/11/06/europe/ukraine-zelensky-trump-invitation-intl/index.html', 'https://edition.cnn.com/2023/11/06/politics/takeaways-trump-engoron-testimony-fraud-trial/index.html', 'https://edition.cnn.com/2023/11/06/business/wework-bankruptcy/index.html', 'https://edition.cnn.com/2023/11/06/africa/african-elephant-deaths-zimbabwe-scn/index.html', 'https://edition.cnn.com/travel/national-geographic-travel-cool-list-2024/index.html', 'https://edition.cnn.com/2023/11/06/entertainment/evan-ellingson-death/index.html', 'https://edition.cnn.com/2023/11/06/world/great-sphinx-giza-nature-scn/index.html', 'https://edition.cnn.com/world/gaza-graveyard-for-children-un-chief-warns-intl-hnk/index.html', 'https://edition.cnn.com/2023/11/06/middleeast/gaza-10k-deaths-intl/index.html', 'https://edition.cnn.com/2023/11/06/middleeast/gaza-workers-allege-abuse/index.html', 'https://edition.cnn.com/2023/11/06/opinions/iran-hamas-proxy-battle-israel-bergen/index.html', 'https://edition.cnn.com/2023/11/07/middleeast/israel-mood-gaza-war-intl-cmd/index.html', 'https://edition.cnn.com/2023/11/07/middleeast/israel-mood-gaza-war-intl-cmd/index.html', 'https://edition.cnn.com/2023/11/06/politics/takeaways-trump-engoron-testimony-fraud-trial/index.html', 'https://edition.cnn.com/2023/11/06/politics/takeaways-trump-engoron-testimony-fraud-trial/index.html', 'https://edition.cnn.com/2023/11/07/politics/trumps-day-in-court-paints-a-dark-preview-of-the-national-ordeal-ahead/index.html', 'https://edition.cnn.com/2023/11/05/us/white-christian-evangelicals-blake-cec/index.html', 'https://edition.cnn.com/2023/11/06/business/wework-bankruptcy/index.html', 'https://edition.cnn.com/2023/11/07/politics/biden-administration-asia-china-israel-hamas-war/index.html', 'https://edition.cnn.com/2023/11/06/entertainment/evan-ellingson-death/index.html', 'https://edition.cnn.com/2023/11/06/europe/ukraine-zelensky-trump-invitation-intl/index.html', 'https://edition.cnn.com/2023/11/06/entertainment/priscilla-presley-reveals-why-she-never-remarried-after-elvis/index.html', 'https://edition.cnn.com/2023/11/06/africa/african-elephant-deaths-zimbabwe-scn/index.html', 'https://edition.cnn.com/2023/11/06/africa/african-elephant-deaths-zimbabwe-scn/index.html', 'https://edition.cnn.com/2023/11/07/business/china-bri-developing-countries-overdue-debt-intl-hnk/index.html', 'https://edition.cnn.com/2023/11/06/world/great-sphinx-giza-nature-scn/index.html', 'https://edition.cnn.com/2023/11/06/africa/mrbeast-100-wells-africa-intl-scli/index.html', 'https://edition.cnn.com/travel/article/air-canada-rodney-hodgins-wheelchair/index.html', 'https://edition.cnn.com/travel/national-geographic-travel-cool-list-2024/index.html', 'https://edition.cnn.com/travel/national-geographic-travel-cool-list-2024/index.html', 'https://edition.cnn.com/2023/11/06/style/diver-ancient-coins-sardinia-scn-intl-scli/index.html', 'https://edition.cnn.com/2023/11/06/style/diver-ancient-coins-sardinia-scn-intl-scli/index.html', 'https://edition.cnn.com/2023/11/06/entertainment/black-panther-stuntman-children-crash/index.html', 'https://edition.cnn.com/2023/11/06/entertainment/black-panther-stuntman-children-crash/index.html', 'https://edition.cnn.com/2023/11/06/sport/triathlon-athlete-death-australia-spt-intl/index.html', 'https://edition.cnn.com/2023/11/06/sport/triathlon-athlete-death-australia-spt-intl/index.html', 'https://edition.cnn.com/2023/11/06/sport/luiz-diaz-father-kidnapping-liverpool-spt-intl/index.html', 'https://edition.cnn.com/2023/11/06/sport/luiz-diaz-father-kidnapping-liverpool-spt-intl/index.html', 'https://edition.cnn.com/style/revolve-collection-ai-fashion-week-clothes/index.html', 'https://edition.cnn.com/style/revolve-collection-ai-fashion-week-clothes/index.html', 'https://edition.cnn.com/2023/11/06/entertainment/kourtney-kardashian-travis-barker-baby/index.html', 'https://edition.cnn.com/2023/11/06/entertainment/kourtney-kardashian-travis-barker-baby/index.html', 'https://edition.cnn.com/2023/11/07/business/ubs-loss-credit-suisse/index.html', 'https://edition.cnn.com/2023/11/07/business/ubs-loss-credit-suisse/index.html', 'https://edition.cnn.com/style/thailand-robot-building-renovation-bangkok/index.html', 'https://edition.cnn.com/style/thailand-robot-building-renovation-bangkok/index.html', 'https://edition.cnn.com/2023/11/06/style/just-stop-oil-rokeby-venus-intl-scli-gbr/index.html', 'https://edition.cnn.com/2023/11/06/style/just-stop-oil-rokeby-venus-intl-scli-gbr/index.html', 'https://edition.cnn.com/2023/11/06/entertainment/taylor-swift-brittany-mahomes-squad/index.html', 'https://edition.cnn.com/2023/11/06/entertainment/taylor-swift-brittany-mahomes-squad/index.html', 'https://edition.cnn.com/travel/shiniuzhai-hunan-china-cliffside-convenience-store-intl-hnk/index.html', 'https://edition.cnn.com/travel/shiniuzhai-hunan-china-cliffside-convenience-store-intl-hnk/index.html', 'https://edition.cnn.com/style/rachel-zegler-mcqueen-dress-hunger-games-premiere/index.html', 'https://edition.cnn.com/style/rachel-zegler-mcqueen-dress-hunger-games-premiere/index.html', 'https://edition.cnn.com/travel/nature-conservancy-photo-contest-winners-scn-spc/index.html', 'https://edition.cnn.com/travel/nature-conservancy-photo-contest-winners-scn-spc/index.html', 'https://edition.cnn.com/2023/11/06/asia/philippines-radio-host-juan-jumalon-killed-intl-hnk/index.html', 'https://edition.cnn.com/2023/11/06/asia/philippines-radio-host-juan-jumalon-killed-intl-hnk/index.html', 'https://edition.cnn.com/2023/11/06/business/starbucks-wages-union/index.html', 'https://edition.cnn.com/2023/11/06/business/starbucks-wages-union/index.html', 'https://edition.cnn.com/2023/11/06/business/harvard-antisemitism-israel-ackman-funding-letter/index.html', 'https://edition.cnn.com/business/tech/fornite-og-breaks-records/index.html', 'https://edition.cnn.com/2023/11/06/food/heinz-pickle-ketchup-launch/index.html', 'https://edition.cnn.com/travel/lonely-planets-top-places-to-go-in-2024/index.html', 'https://edition.cnn.com/travel/lonely-planets-top-places-to-go-in-2024/index.html', 'https://edition.cnn.com/travel/article/jet-stream-flights-speed-of-sound/index.html', 'https://edition.cnn.com/travel/article/azores-whalewatching/index.html', 'https://edition.cnn.com/travel/article/space-toilet-space-perspective-scn/index.html', 'https://edition.cnn.com/2023/11/03/sport/super-shoes-marathon-running-spt-intl/index.html', 'https://edition.cnn.com/2023/11/03/sport/super-shoes-marathon-running-spt-intl/index.html', 'https://edition.cnn.com/2023/11/05/sport/fans-tribute-adam-johnson-spt-intl/index.html', 'https://edition.cnn.com/2023/11/05/sport/jayson-tatum-franchise-history-boston-celtics-spt-intl/index.html', 'https://edition.cnn.com/2023/11/04/sport/isabeau-levito-grand-prix-de-france-spt-intl/index.html', 'https://edition.cnn.com/2023/11/03/sport/sepahan-punished-al-ittihad-bust-soleimani-iran-saudi-spt-intl/index.html', 'https://edition.cnn.com/style/sharon-stone-paintings-art-exhibition-interview/index.html', 'https://edition.cnn.com/style/sharon-stone-paintings-art-exhibition-interview/index.html', 'https://edition.cnn.com/style/nepal-itumbaha-monastery-treasures-repatriation-rubin-museum/index.html', 'https://edition.cnn.com/style/kim-kardashian-skims-swarovski-crystals-lotw/index.html', 'https://edition.cnn.com/style/bleu-royal-diamond-christies-auction/index.html', 'https://edition.cnn.com/furniture-design-cardboard-artist-cop28/index.html', 'https://edition.cnn.com/style/priscilla-elvis-sofia-coppola-film-costumes/index.html', 'https://edition.cnn.com/2023/11/03/opinions/gaza-children-birthday-party-abushaban/index.html', 'https://edition.cnn.com/2023/11/03/opinions/gaza-children-birthday-party-abushaban/index.html', 'https://edition.cnn.com/2023/11/01/opinions/israel-flawed-strategy-defeating-hamas-pape/index.html', 'https://edition.cnn.com/2023/11/02/opinions/matthew-perry-friends-escape-chandler-bing-thomas/index.html', 'https://edition.cnn.com/2023/11/01/opinions/dagestan-antisemitism-rise-israel-ghitis/index.html', 'https://edition.cnn.com/2023/10/30/opinions/hamas-underground-tunnels-richemond-barak-bergen/index.html', 'https://edition.cnn.com/2023/11/06/opinions/elections-tuesday-ohio-abortion-kentucky-virginia-mississippi-avlon/index.html', 'https://edition.cnn.com/2023/11/06/opinions/elections-tuesday-ohio-abortion-kentucky-virginia-mississippi-avlon/index.html', 'https://edition.cnn.com/2023/11/06/politics/texas-defendant-gun-law-supreme-court/index.html', 'https://edition.cnn.com/2023/11/06/politics/alito-prelogar-supreme-court-analysis/index.html', 'https://edition.cnn.com/2023/11/06/politics/impeachment-inquiry-house-republicans/index.html', 'https://edition.cnn.com/2023/11/05/politics/trump-leads-biden-in-key-swing-states-new-polling-finds/index.html', 'https://edition.cnn.com/2023/11/05/politics/mike-johnson-social-security-medicare/index.html', 'https://edition.cnn.com/2023/11/03/world/lucy-dinkinesh-binary-pair-scn/index.html', 'https://edition.cnn.com/2023/11/03/world/lucy-dinkinesh-binary-pair-scn/index.html', 'https://edition.cnn.com/2023/11/03/world/earth-moon-theia-collision-llvps-scn/index.html', 'https://edition.cnn.com/2023/11/03/health/retro-walking-backward-exercise-wellness/index.html', 'https://edition.cnn.com/2023/11/02/health/staying-sober-matthew-perry-wellness/index.html', 'https://edition.cnn.com/2023/11/02/health/bipolar-disorder-explained-wellness/index.html', 'https://edition.cnn.com/2023/11/03/world/ice-maiden-juanita-facial-reconstruction-scn/index.html', 'https://edition.cnn.com/2023/11/02/world/starfish-head-body-plan-scn/index.html', 'https://edition.cnn.com/2023/11/06/tech/grok-elon-musk-ai-chatbot-x-twitter/index.html', 'https://edition.cnn.com/2023/11/06/tech/grok-elon-musk-ai-chatbot-x-twitter/index.html', 'https://edition.cnn.com/2023/11/06/tech/openai-chatgpt-sam-altman-updates/index.html', 'https://edition.cnn.com/2023/10/19/tech/snapchat-user-growth/index.html', 'https://edition.cnn.com/2023/10/18/tech/apple-pencil-usb-c/index.html', 'https://edition.cnn.com/2023/10/19/tech/eu-meta-tiktok-israel-content-disinformation/index.html', 'https://edition.cnn.com/2023/10/18/tech/us-china-chip-export-curbs-intl-hnk/index.html', 'https://edition.cnn.com/2023/09/22/sport/michael-jordan-grove-xxiii-golf-course-spt-spc-intl/index.html', 'https://edition.cnn.com/2023/09/22/sport/michael-jordan-grove-xxiii-golf-course-spt-spc-intl/index.html', 'https://edition.cnn.com/2023/10/18/sport/carbrook-bull-sharks-australia-golf-course-spt-spc-intl/index.html', 'https://edition.cnn.com/2023/10/18/sport/carbrook-bull-sharks-australia-golf-course-spt-spc-intl/index.html', 'https://edition.cnn.com/2022/10/25/golf/hornussen-switzerland-golf-baseball-farmers-spt-intl/index.html', 'https://edition.cnn.com/2022/10/25/golf/hornussen-switzerland-golf-baseball-farmers-spt-intl/index.html', 'https://edition.cnn.com/2023/11/06/china/china-blames-canada-close-intercepts-scs-intl-hnk/index.html', 'https://edition.cnn.com/2023/11/06/china/china-blames-canada-close-intercepts-scs-intl-hnk/index.html', 'https://edition.cnn.com/2023/11/06/us/nashville-investigation-shooter-online-writings/index.html', 'https://edition.cnn.com/travel/martha-stewart-farm-guesthouse-rental/index.html', 'https://edition.cnn.com/2023/11/06/sport/caster-semenya-totestosterone-limits-world-athletics-spt-intl/index.html', 'https://edition.cnn.com/travel/heartsong-lodge-dollywood-dolly-parton/index.html', 'https://edition.cnn.com/2023/11/05/us/robert-card-lewiston-shooting-maine-yellow-flag-law/index.html', 'https://edition.cnn.com/2023/11/03/asia/canada-china-helicopter-interception-south-china-sea-hnk-intl/index.html', 'https://edition.cnn.com/2023/11/02/world/hawaii-akikiki-honeycreeper-extinction-c2e-spc-scn-intl/index.html', 'https://edition.cnn.com/2023/11/06/us/american-jews-guns-antisemitism/index.html']\n"
     ]
    }
   ],
   "source": [
    "mainpage_soup = get_soup(MAINPAGE_LINK)\n",
    "links = get_article_links(mainpage_soup)"
   ]
  },
  {
   "cell_type": "code",
   "execution_count": 46,
   "metadata": {},
   "outputs": [],
   "source": [
    "articles = [create_article_from_link(link) for link in links.copy()]\n",
    "#delay scraping intensity to not get banned"
   ]
  },
  {
   "cell_type": "code",
   "execution_count": 47,
   "metadata": {},
   "outputs": [],
   "source": [
    "# Please work please work please work please work please work please work please work \n",
    "article_dicts = [article.__dict__ for article in new_articles]"
   ]
  },
  {
   "cell_type": "markdown",
   "metadata": {},
   "source": [
    "##### This is where I try to connect to the postgres database and execute the insert statements"
   ]
  },
  {
   "cell_type": "code",
   "execution_count": 48,
   "metadata": {},
   "outputs": [
    {
     "name": "stdout",
     "output_type": "stream",
     "text": [
      "Defaulting to user installation because normal site-packages is not writeable\n",
      "Requirement already satisfied: psycopg2 in /usr/local/lib/python3.11/site-packages (2.9.9)\n",
      "\n",
      "\u001b[1m[\u001b[0m\u001b[34;49mnotice\u001b[0m\u001b[1;39;49m]\u001b[0m\u001b[39;49m A new release of pip is available: \u001b[0m\u001b[31;49m23.2.1\u001b[0m\u001b[39;49m -> \u001b[0m\u001b[32;49m23.3.1\u001b[0m\n",
      "\u001b[1m[\u001b[0m\u001b[34;49mnotice\u001b[0m\u001b[1;39;49m]\u001b[0m\u001b[39;49m To update, run: \u001b[0m\u001b[32;49mpip install --upgrade pip\u001b[0m\n",
      "Note: you may need to restart the kernel to use updated packages.\n"
     ]
    }
   ],
   "source": [
    "%pip install psycopg2"
   ]
  },
  {
   "cell_type": "code",
   "execution_count": 49,
   "metadata": {},
   "outputs": [],
   "source": [
    "import psycopg2, pandas as pd"
   ]
  },
  {
   "cell_type": "code",
   "execution_count": 50,
   "metadata": {},
   "outputs": [],
   "source": [
    "conn = psycopg2.connect(dbname=\"postgres\",user=\"postgres\", password=\"postgres\", port=\"5432\", host=\"localhost\")\n",
    "conn.autocommit = True\n",
    "cursor = conn.cursor()"
   ]
  },
  {
   "cell_type": "code",
   "execution_count": 55,
   "metadata": {},
   "outputs": [
    {
     "name": "stdout",
     "output_type": "stream",
     "text": [
      "Count of old articles: 0\n"
     ]
    },
    {
     "name": "stderr",
     "output_type": "stream",
     "text": [
      "/tmp/ipykernel_1516/3942988115.py:3: UserWarning: pandas only supports SQLAlchemy connectable (engine/connection) or database string URI or sqlite3 DBAPI2 connection. Other DBAPI2 objects are not tested. Please consider using SQLAlchemy.\n",
      "  articles_already_present = pd.read_sql(sql=\"SELECT * FROM Articles\", con=conn)\n"
     ]
    }
   ],
   "source": [
    "def filter_articles(articles : List[Article]) -> List[Article]:\n",
    "    new_articles = []\n",
    "    articles_already_present = pd.read_sql(sql=\"SELECT * FROM Articles\", con=conn)\n",
    "    urls_of_old_articles = list(articles_already_present[\"urlid\"])\n",
    "    count_of_old_articles = 0\n",
    "    for article in articles:\n",
    "        if article.url[8:] not in urls_of_old_articles:\n",
    "            new_articles.append(article)\n",
    "        else:\n",
    "            count_of_old_articles = count_of_old_articles + 1\n",
    "    print(f\"Count of old articles: {count_of_old_articles}\")\n",
    "    return new_articles\n",
    "\n",
    "new_articles = filter_articles(articles)"
   ]
  },
  {
   "cell_type": "code",
   "execution_count": 56,
   "metadata": {},
   "outputs": [],
   "source": [
    "article_dicts = [article.__dict__ for article in new_articles] # this dictionary only contains the articles that are not in the database already"
   ]
  },
  {
   "cell_type": "code",
   "execution_count": 58,
   "metadata": {},
   "outputs": [
    {
     "name": "stdout",
     "output_type": "stream",
     "text": [
      "Duplicate detected, skipping to next article.value too long for type character varying(200)\n",
      "\n",
      "Duplicate detected, skipping to next article.duplicate key value violates unique constraint \"primary_key\"\n",
      "DETAIL:  Key (urlid)=(edition.cnn.com/2023/11/07/middleeast/israel-mood-gaza-war-intl-cmd/index.html) already exists.\n",
      "\n",
      "Duplicate detected, skipping to next article.duplicate key value violates unique constraint \"primary_key\"\n",
      "DETAIL:  Key (urlid)=(edition.cnn.com/2023/11/06/politics/takeaways-trump-engoron-testimony-fraud-trial/index.html) already exists.\n",
      "\n",
      "Duplicate detected, skipping to next article.duplicate key value violates unique constraint \"primary_key\"\n",
      "DETAIL:  Key (urlid)=(edition.cnn.com/2023/11/06/politics/takeaways-trump-engoron-testimony-fraud-trial/index.html) already exists.\n",
      "\n",
      "Duplicate detected, skipping to next article.duplicate key value violates unique constraint \"primary_key\"\n",
      "DETAIL:  Key (urlid)=(edition.cnn.com/2023/11/06/business/wework-bankruptcy/index.html) already exists.\n",
      "\n",
      "Duplicate detected, skipping to next article.duplicate key value violates unique constraint \"primary_key\"\n",
      "DETAIL:  Key (urlid)=(edition.cnn.com/2023/11/06/entertainment/evan-ellingson-death/index.html) already exists.\n",
      "\n",
      "Duplicate detected, skipping to next article.duplicate key value violates unique constraint \"primary_key\"\n",
      "DETAIL:  Key (urlid)=(edition.cnn.com/2023/11/06/europe/ukraine-zelensky-trump-invitation-intl/index.html) already exists.\n",
      "\n",
      "Duplicate detected, skipping to next article.value too long for type character varying(200)\n",
      "\n",
      "Duplicate detected, skipping to next article.duplicate key value violates unique constraint \"primary_key\"\n",
      "DETAIL:  Key (urlid)=(edition.cnn.com/2023/11/06/africa/african-elephant-deaths-zimbabwe-scn/index.html) already exists.\n",
      "\n",
      "Duplicate detected, skipping to next article.duplicate key value violates unique constraint \"primary_key\"\n",
      "DETAIL:  Key (urlid)=(edition.cnn.com/2023/11/06/africa/african-elephant-deaths-zimbabwe-scn/index.html) already exists.\n",
      "\n",
      "Duplicate detected, skipping to next article.duplicate key value violates unique constraint \"primary_key\"\n",
      "DETAIL:  Key (urlid)=(edition.cnn.com/2023/11/06/world/great-sphinx-giza-nature-scn/index.html) already exists.\n",
      "\n",
      "Duplicate detected, skipping to next article.duplicate key value violates unique constraint \"primary_key\"\n",
      "DETAIL:  Key (urlid)=(edition.cnn.com/travel/national-geographic-travel-cool-list-2024/index.html) already exists.\n",
      "\n",
      "Duplicate detected, skipping to next article.duplicate key value violates unique constraint \"primary_key\"\n",
      "DETAIL:  Key (urlid)=(edition.cnn.com/travel/national-geographic-travel-cool-list-2024/index.html) already exists.\n",
      "\n",
      "Duplicate detected, skipping to next article.duplicate key value violates unique constraint \"primary_key\"\n",
      "DETAIL:  Key (urlid)=(edition.cnn.com/2023/11/06/style/diver-ancient-coins-sardinia-scn-intl-scli/index.html) already exists.\n",
      "\n",
      "Duplicate detected, skipping to next article.duplicate key value violates unique constraint \"primary_key\"\n",
      "DETAIL:  Key (urlid)=(edition.cnn.com/2023/11/06/entertainment/black-panther-stuntman-children-crash/index.html) already exists.\n",
      "\n",
      "Duplicate detected, skipping to next article.value too long for type character varying(200)\n",
      "\n",
      "Duplicate detected, skipping to next article.value too long for type character varying(200)\n",
      "\n",
      "Duplicate detected, skipping to next article.value too long for type character varying(200)\n",
      "\n",
      "Duplicate detected, skipping to next article.value too long for type character varying(200)\n",
      "\n",
      "Duplicate detected, skipping to next article.duplicate key value violates unique constraint \"primary_key\"\n",
      "DETAIL:  Key (urlid)=(edition.cnn.com/style/revolve-collection-ai-fashion-week-clothes/index.html) already exists.\n",
      "\n",
      "Duplicate detected, skipping to next article.duplicate key value violates unique constraint \"primary_key\"\n",
      "DETAIL:  Key (urlid)=(edition.cnn.com/2023/11/06/entertainment/kourtney-kardashian-travis-barker-baby/index.html) already exists.\n",
      "\n",
      "Duplicate detected, skipping to next article.duplicate key value violates unique constraint \"primary_key\"\n",
      "DETAIL:  Key (urlid)=(edition.cnn.com/2023/11/07/business/ubs-loss-credit-suisse/index.html) already exists.\n",
      "\n",
      "Duplicate detected, skipping to next article.duplicate key value violates unique constraint \"primary_key\"\n",
      "DETAIL:  Key (urlid)=(edition.cnn.com/style/thailand-robot-building-renovation-bangkok/index.html) already exists.\n",
      "\n",
      "Duplicate detected, skipping to next article.duplicate key value violates unique constraint \"primary_key\"\n",
      "DETAIL:  Key (urlid)=(edition.cnn.com/2023/11/06/style/just-stop-oil-rokeby-venus-intl-scli-gbr/index.html) already exists.\n",
      "\n",
      "Duplicate detected, skipping to next article.duplicate key value violates unique constraint \"primary_key\"\n",
      "DETAIL:  Key (urlid)=(edition.cnn.com/2023/11/06/entertainment/taylor-swift-brittany-mahomes-squad/index.html) already exists.\n",
      "\n",
      "Duplicate detected, skipping to next article.duplicate key value violates unique constraint \"primary_key\"\n",
      "DETAIL:  Key (urlid)=(edition.cnn.com/travel/shiniuzhai-hunan-china-cliffside-convenience-store-intl-hnk/index.html) already exists.\n",
      "\n",
      "Duplicate detected, skipping to next article.duplicate key value violates unique constraint \"primary_key\"\n",
      "DETAIL:  Key (urlid)=(edition.cnn.com/style/rachel-zegler-mcqueen-dress-hunger-games-premiere/index.html) already exists.\n",
      "\n",
      "Duplicate detected, skipping to next article.duplicate key value violates unique constraint \"primary_key\"\n",
      "DETAIL:  Key (urlid)=(edition.cnn.com/travel/nature-conservancy-photo-contest-winners-scn-spc/index.html) already exists.\n",
      "\n",
      "Duplicate detected, skipping to next article.duplicate key value violates unique constraint \"primary_key\"\n",
      "DETAIL:  Key (urlid)=(edition.cnn.com/2023/11/06/asia/philippines-radio-host-juan-jumalon-killed-intl-hnk/index.html) already exists.\n",
      "\n",
      "Duplicate detected, skipping to next article.duplicate key value violates unique constraint \"primary_key\"\n",
      "DETAIL:  Key (urlid)=(edition.cnn.com/2023/11/06/business/starbucks-wages-union/index.html) already exists.\n",
      "\n",
      "Duplicate detected, skipping to next article.invalid input syntax for type integer: \"\"\n",
      "LINE 136: ...reen O''Hare'], '2023-10-31T00:00:00'::timestamp, '', 'media...\n",
      "                                                               ^\n",
      "\n",
      "Duplicate detected, skipping to next article.invalid input syntax for type integer: \"\"\n",
      "LINE 136: ...reen O''Hare'], '2023-10-31T00:00:00'::timestamp, '', 'media...\n",
      "                                                               ^\n",
      "\n",
      "Duplicate detected, skipping to next article.invalid input syntax for type integer: \"\"\n",
      "LINE 46: ...cesca Street'], '2023-10-31T00:00:00'::timestamp, '', 'media...\n",
      "                                                              ^\n",
      "\n",
      "Duplicate detected, skipping to next article.value too long for type character varying(200)\n",
      "\n",
      "Duplicate detected, skipping to next article.value too long for type character varying(200)\n",
      "\n",
      "Duplicate detected, skipping to next article.value too long for type character varying(200)\n",
      "\n",
      "Duplicate detected, skipping to next article.value too long for type character varying(200)\n",
      "\n",
      "Duplicate detected, skipping to next article.value too long for type character varying(200)\n",
      "\n",
      "Duplicate detected, skipping to next article.value too long for type character varying(200)\n",
      "\n",
      "Duplicate detected, skipping to next article.duplicate key value violates unique constraint \"primary_key\"\n",
      "DETAIL:  Key (urlid)=(edition.cnn.com/style/sharon-stone-paintings-art-exhibition-interview/index.html) already exists.\n",
      "\n",
      "Duplicate detected, skipping to next article.value too long for type character varying(200)\n",
      "\n",
      "Duplicate detected, skipping to next article.duplicate key value violates unique constraint \"primary_key\"\n",
      "DETAIL:  Key (urlid)=(edition.cnn.com/2023/11/03/opinions/gaza-children-birthday-party-abushaban/index.html) already exists.\n",
      "\n",
      "Duplicate detected, skipping to next article.invalid input syntax for type integer: \"\"\n",
      "LINE 94: ...Peter Bergen'], '2023-10-30T00:00:00'::timestamp, '', 'media...\n",
      "                                                              ^\n",
      "\n",
      "Duplicate detected, skipping to next article.duplicate key value violates unique constraint \"primary_key\"\n",
      "DETAIL:  Key (urlid)=(edition.cnn.com/2023/11/06/opinions/elections-tuesday-ohio-abortion-kentucky-virginia-mississippi-avlon/index.html) already exists.\n",
      "\n",
      "Duplicate detected, skipping to next article.duplicate key value violates unique constraint \"primary_key\"\n",
      "DETAIL:  Key (urlid)=(edition.cnn.com/2023/11/03/world/lucy-dinkinesh-binary-pair-scn/index.html) already exists.\n",
      "\n",
      "Duplicate detected, skipping to next article.duplicate key value violates unique constraint \"primary_key\"\n",
      "DETAIL:  Key (urlid)=(edition.cnn.com/2023/11/06/tech/grok-elon-musk-ai-chatbot-x-twitter/index.html) already exists.\n",
      "\n",
      "Duplicate detected, skipping to next article.invalid input syntax for type integer: \"\"\n",
      "LINE 60: ...'Clare Duffy'], '2023-10-19T00:00:00'::timestamp, '', 'media...\n",
      "                                                              ^\n",
      "\n",
      "Duplicate detected, skipping to next article.invalid input syntax for type integer: \"\"\n",
      "LINE 22: ...Murphy Kelly'], '2023-10-18T00:00:00'::timestamp, '', 'media...\n",
      "                                                              ^\n",
      "\n",
      "Duplicate detected, skipping to next article.invalid input syntax for type integer: \"\"\n",
      "LINE 26: ...'Anna Cooban'], '2023-10-19T00:00:00'::timestamp, '', 'media...\n",
      "                                                              ^\n",
      "\n",
      "Duplicate detected, skipping to next article.invalid input syntax for type integer: \"\"\n",
      "LINE 68: ...ayla Tausche'], '2023-10-18T00:00:00'::timestamp, '', 'media...\n",
      "                                                              ^\n",
      "\n",
      "Duplicate detected, skipping to next article.invalid input syntax for type integer: \"\"\n",
      "LINE 104: ...Jack Bantock'], '2023-09-22T00:00:00'::timestamp, '', 'media...\n",
      "                                                               ^\n",
      "\n",
      "Duplicate detected, skipping to next article.invalid input syntax for type integer: \"\"\n",
      "LINE 104: ...Jack Bantock'], '2023-09-22T00:00:00'::timestamp, '', 'media...\n",
      "                                                               ^\n",
      "\n",
      "Duplicate detected, skipping to next article.invalid input syntax for type integer: \"\"\n",
      "LINE 94: ...Jack Bantock'], '2023-10-18T00:00:00'::timestamp, '', 'media...\n",
      "                                                              ^\n",
      "\n",
      "Duplicate detected, skipping to next article.invalid input syntax for type integer: \"\"\n",
      "LINE 94: ...Jack Bantock'], '2023-10-18T00:00:00'::timestamp, '', 'media...\n",
      "                                                              ^\n",
      "\n",
      "Duplicate detected, skipping to next article.invalid input syntax for type integer: \"\"\n",
      "LINE 50: ...Jack Bantock'], '2022-10-25T00:00:00'::timestamp, '', 'media...\n",
      "                                                              ^\n",
      "\n",
      "Duplicate detected, skipping to next article.invalid input syntax for type integer: \"\"\n",
      "LINE 50: ...Jack Bantock'], '2022-10-25T00:00:00'::timestamp, '', 'media...\n",
      "                                                              ^\n",
      "\n",
      "Duplicate detected, skipping to next article.duplicate key value violates unique constraint \"primary_key\"\n",
      "DETAIL:  Key (urlid)=(edition.cnn.com/2023/11/06/china/china-blames-canada-close-intercepts-scs-intl-hnk/index.html) already exists.\n",
      "\n"
     ]
    }
   ],
   "source": [
    "for article_dictionary in article_dicts:\n",
    "    try:\n",
    "        cursor.execute('''INSERT INTO Articles(urlId, headline, contents, authors, uploadDate, readTime, imageURL, imageDescription, scrapingTimeStamp) \n",
    "                       VALUES (%s, %s, %s, %s, %s, %s, %s, %s, %s);''', \n",
    "                       (article_dictionary[\"url\"][8:], \n",
    "                       article_dictionary[\"headline\"], \n",
    "                       article_dictionary[\"contents\"], \n",
    "                       article_dictionary[\"authors\"], \n",
    "                       article_dictionary[\"date\"], \n",
    "                       article_dictionary[\"read_time\"], \n",
    "                       article_dictionary[\"image\"].url[8:], \n",
    "                       article_dictionary[\"image\"].description, \n",
    "                       article_dictionary[\"timestamp\"])\n",
    "                       )\n",
    "        \n",
    "    except Exception as ex:\n",
    "        print(\"Duplicate detected, skipping to next article.\" + str(ex))"
   ]
  },
  {
   "cell_type": "code",
   "execution_count": 54,
   "metadata": {},
   "outputs": [
    {
     "data": {
      "text/plain": [
       "'\\nNotes: The urls are saved without the https:// prefix, seeing as I got an error while doing so.\\nAll textual datatypes have been saved as text, so that has to be done better in the future. Best solution is to convert\\nthe attributes.\\nThe execute statement does not check whether a record is present in the table or not.\\nThe solution I can think of now is to export the data of the database into a json format.\\nAfter that, each time the program is started, the URLIDs are extracted and compared against\\nthe news that are scraped and the articles found in both are removed from the scraped articles.\\nThis ensures that the articles added to the database are the new ones.\\n'"
      ]
     },
     "execution_count": 54,
     "metadata": {},
     "output_type": "execute_result"
    }
   ],
   "source": [
    "'''\n",
    "Notes: The urls are saved without the https:// prefix, seeing as I got an error while doing so.\n",
    "All textual datatypes have been saved as text, so that has to be done better in the future. Best solution is to convert\n",
    "the attributes.\n",
    "The execute statement does not check whether a record is present in the table or not.\n",
    "The solution I can think of now is to export the data of the database into a json format.\n",
    "After that, each time the program is started, the URLIDs are extracted and compared against\n",
    "the news that are scraped and the articles found in both are removed from the scraped articles.\n",
    "This ensures that the articles added to the database are the new ones.\n",
    "'''"
   ]
  }
 ],
 "metadata": {
  "kernelspec": {
   "display_name": "web-scraper",
   "language": "python",
   "name": "python3"
  },
  "language_info": {
   "codemirror_mode": {
    "name": "ipython",
    "version": 3
   },
   "file_extension": ".py",
   "mimetype": "text/x-python",
   "name": "python",
   "nbconvert_exporter": "python",
   "pygments_lexer": "ipython3",
   "version": "3.11.0"
  }
 },
 "nbformat": 4,
 "nbformat_minor": 2
}
