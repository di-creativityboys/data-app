{
 "cells": [
  {
   "cell_type": "code",
   "execution_count": 360,
   "metadata": {},
   "outputs": [],
   "source": [
    "from selenium import webdriver\n",
    "from selenium.webdriver.chrome.options import Options\n",
    "from selenium.webdriver.chrome.service import Service\n",
    "from webdriver_manager.chrome import ChromeDriverManager\n",
    "from selenium.webdriver.common.by import By\n",
    "import time\n"
   ]
  },
  {
   "cell_type": "code",
   "execution_count": 361,
   "metadata": {},
   "outputs": [
    {
     "name": "stdout",
     "output_type": "stream",
     "text": [
      "Barack Obama (@BarackObama) / X\n"
     ]
    }
   ],
   "source": [
    "options = Options()\n",
    "options.add_argument('--headless')\n",
    "options.add_argument('--no-sandbox')\n",
    "options.add_argument('--disable-dev-shm-usage')\n",
    "driver = webdriver.Chrome(service=Service(ChromeDriverManager().install()), options=options)\n",
    "\n",
    " \n",
    "driver.get(\"https://twitter.com/BarackObama\")\n",
    "time.sleep(5)\n",
    "print(driver.title)"
   ]
  },
  {
   "cell_type": "code",
   "execution_count": 362,
   "metadata": {},
   "outputs": [],
   "source": [
    "\n",
    "# find all tweet elements\n",
    "\n",
    "#gets the text from the tweets of the current scroll page\n",
    "def get_tweetText(elements):\n",
    " contents=[]\n",
    " # get tweet text\n",
    " for element in elements:\n",
    "    try:\n",
    "     div_element = element.find_element(By.CSS_SELECTOR, '[data-testid=\"tweetText\"]')\n",
    "     contents.append(div_element.text)\n",
    "    except:\n",
    "     contents.append(None)\n",
    " return contents"
   ]
  },
  {
   "cell_type": "code",
   "execution_count": 363,
   "metadata": {},
   "outputs": [],
   "source": [
    "# find all tweet elements\n",
    "#gets the text from the tweets of the current scroll page\n",
    "def get_tweetDate(elements):\n",
    " tweets_dates=[]\n",
    " # get tweet date\n",
    " for element in elements:\n",
    "    try:\n",
    "     div_element = element.find_element(By.TAG_NAME, 'time')\n",
    "     tweets_dates.append(div_element.text)\n",
    "    except:\n",
    "      tweets_dates.append(None)\n",
    " return tweets_dates\n",
    "\n"
   ]
  },
  {
   "cell_type": "code",
   "execution_count": 364,
   "metadata": {},
   "outputs": [],
   "source": [
    "#elements = driver.find_elements(By.CSS_SELECTOR, '[data-testid=\"cellInnerDiv\"]')#get divs of the elements\n",
    "\n",
    "def get_icons(elements):\n",
    " tweets_comments=[]\n",
    " tweets_shares=[]\n",
    " tweets_likes=[]\n",
    " # get tweet date\n",
    " for element in elements:\n",
    "    try:\n",
    "     div_elements = element.find_elements(By.CSS_SELECTOR, '[data-testid=\"app-text-transition-container\"]')\n",
    "     tweets_comments.append(div_elements[0].text)\n",
    "     tweets_shares.append(div_elements[1].text)\n",
    "     tweets_likes.append(div_elements[2].text)\n",
    "\n",
    "    except:\n",
    "      tweets_comments.append(None)\n",
    "      tweets_shares.append(None)\n",
    "      tweets_likes.append(None)\n",
    "\n",
    " return tweets_comments,tweets_shares,tweets_likes\n",
    "\n",
    "#test1,test2,test3=get_icons(elements)\n",
    "#print(test1,test2,test3)"
   ]
  },
  {
   "cell_type": "code",
   "execution_count": 365,
   "metadata": {},
   "outputs": [
    {
     "name": "stdout",
     "output_type": "stream",
     "text": [
      "{0: {'content': '\"No one is born hating another person because of the color of his skin or his background or his religion...\"', 'date': 'Aug 13, 2017', 'comment': '62K', 'share': '1.4M', 'likes': '3.8M'}, 1: {'content': 'Kobe was a legend on the court and just getting started in what would have been just as meaningful a second act. To lose Gianna is even more heartbreaking to us as parents. Michelle and I send love and prayers to Vanessa and the entire Bryant family on an unthinkable day.', 'date': 'Jan 26, 2020', 'comment': '14K', 'share': '586K', 'likes': '3.5M'}, 2: {'content': 'Congratulations to my friend, President \\n@JoeBiden\\n! This is your time.', 'date': 'Jan 20, 2021', 'comment': '18K', 'share': '290K', 'likes': '2.5M'}, 3: {'content': 'In every scene, you are my star, \\n@MichelleObama\\n! Happy birthday, baby!', 'date': 'Jan 17, 2020', 'comment': '37K', 'share': '383K', 'likes': '2.4M'}, 4: {'content': \"John McCain is an American hero & one of the bravest fighters I've ever known. Cancer doesn't know what it's up against. Give it hell, John.\", 'date': 'Jul 20, 2017', 'comment': '24K', 'share': '337K', 'likes': '1.6M'}, 5: {'content': 'ME:  Joe, about halfway through the speech, I’m gonna wish you a happy birth--\\nBIDEN:  IT’S MY BIRTHDAY!\\nME:  Joe.\\n \\nHappy birthday to \\n@JoeBiden\\n, my brother and the best vice president anybody could have.', 'date': 'Nov 20, 2017', 'comment': '20K', 'share': '425K', 'likes': '1.6M'}, 6: {'content': 'My statement on the death of George Floyd:', 'date': 'May 29, 2020', 'comment': '33K', 'share': '437K', 'likes': '1.6M'}, 7: {'content': 'Happy birthday to my love, my partner, and my best friend. Every moment with you is a blessing. Love you, Miche.', 'date': 'Jan 17, 2021', 'comment': '35K', 'share': '105K', 'likes': '1.7M'}, 8: {'content': 'Like the Beatles said: It’s getting better all the time. Thanks, babe, for 27 amazing years!', 'date': 'Oct 3, 2019', 'comment': '23K', 'share': '200K', 'likes': '1.6M'}, 9: {'content': 'Hi everybody! Back to the original handle. Is this thing still on? Michelle and I are off on a quick vacation, then we’ll get back to work.', 'date': 'Jan 20, 2017', 'comment': '59K', 'share': '375K', 'likes': '1.5M'}, 10: {'content': 'Vote.', 'date': 'May 14, 2020', 'comment': '65K', 'share': '303K', 'likes': '1.5M'}, 11: {'content': 'Michelle & I are praying for the victims in Las Vegas. Our thoughts are with their families & everyone enduring another senseless tragedy.', 'date': 'Oct 2, 2017', 'comment': '18K', 'share': '318K', 'likes': '1.3M'}, 12: {'content': \"Young people have helped lead all our great movements. How inspiring to see it again in so many smart, fearless students standing up for their right to be safe; marching and organizing to remake the world as it should be. We've been waiting for you. And we've got your backs.\", 'date': 'Feb 22, 2018', 'comment': '27K', 'share': '369K', 'likes': '1.3M'}, 13: {'content': 'Michelle and I are thinking of the victims and their families in Barcelona. Americans will always stand with our Spanish friends. Un abrazo.', 'date': 'Aug 17, 2017', 'comment': '21K', 'share': '263K', 'likes': '1.3M'}, 14: {'content': 'Happy Valentine’s Day, \\n@MichelleObama\\n. You make every day and every place better.', 'date': 'Feb 14, 2018', 'comment': '20K', 'share': '205K', 'likes': '1.2M'}, 15: {'content': 'Congratulations to my friends, \\n@JoeBiden\\n and \\n@KamalaHarris\\n — our next President and Vice President of the United States.', 'date': 'Nov 7, 2020', 'comment': '21K', 'share': '171K', 'likes': '1.3M'}, 16: {'content': 'Thinking about our neighbors in Mexico and all our Mexican-American friends tonight. Cuidense mucho y un fuerte abrazo para todos.', 'date': 'Sep 20, 2017', 'comment': '19K', 'share': '369K', 'likes': '1.2M'}, 17: {'content': 'On behalf of the Obama family, Merry Christmas! We wish you joy and peace this holiday season.', 'date': 'Dec 25, 2017', 'comment': '37K', 'share': '211K', 'likes': '1.2M'}, 18: {'content': 'Dr. King was 26 when the Montgomery bus boycott began. He started small, rallying others who believed their efforts mattered, pressing on through challenges and doubts to change our world for the better. A permanent inspiration for the rest of us to keep pushing towards justice.', 'date': 'Jan 15, 2018', 'comment': '24K', 'share': '301K', 'likes': '1.1M'}, 19: {'content': 'Have fun out there among the stars.', 'date': 'Mar 14, 2018', 'comment': '6.5K', 'share': '217K', 'likes': '1.1M'}, 20: {'content': '\"...For love comes more naturally to the human heart than its opposite.\" - Nelson Mandela', 'date': 'Aug 13, 2017', 'comment': '15K', 'share': '327K', 'likes': '1.1M'}, 21: {'content': 'I knew it way back then and I’m absolutely convinced of it today — you’re one of a kind, \\n@MichelleObama\\n. Happy Birthday!', 'date': 'Jan 17, 2019', 'comment': '27K', 'share': '164K', 'likes': '1.1M'}, 22: {'content': 'From the Obama family to yours, we wish you a Happy Thanksgiving full of joy and gratitude.', 'date': 'Nov 23, 2017', 'comment': '28K', 'share': '180K', 'likes': '1.1M'}, 23: {'content': 'We remember everyone we lost on 9/11 and honor all who defend our country and our ideals. No act of terror will ever change who we are.', 'date': 'Sep 11, 2017', 'comment': '12K', 'share': '272K', 'likes': '1.1M'}, 24: {'content': \"Of all that I've done in my life, I'm most proud to be Sasha and Malia's dad. To all those lucky enough to be a dad, Happy Father's Day!\", 'date': 'Jun 18, 2017', 'comment': '19K', 'share': '208K', 'likes': '1.1M'}, 25: {'content': \"We are grieving with Parkland. But we are not powerless. Caring for our kids is our first job. And until we can honestly say that we're doing enough to keep them safe from harm, including long overdue, common-sense gun safety laws that most Americans want, then we have to change.\", 'date': 'Feb 15, 2018', 'comment': '25K', 'share': '309K', 'likes': '1M'}, 26: {'content': \"Happy anniversary, sweetheart! \\n@MichelleObama\\n, you're brilliant, kind, funny, and beautiful—and I'm lucky to call you mine.\", 'date': 'Oct 3', 'comment': '41K', 'share': '73K', 'likes': '1.2M'}, 27: {'content': 'Michelle and I are delighted to congratulate Prince Harry and Meghan Markle on their engagement. We wish you a lifetime of joy and happiness together.', 'date': 'Nov 27, 2017', 'comment': '10K', 'share': '95K', 'likes': '951K'}, 28: {'content': 'Happy Valentine’s Day, \\n@michelleobama\\n! Almost 28 years with you, but it always feels new.', 'date': 'Feb 14, 2017', 'comment': '13K', 'share': '218K', 'likes': '906K'}, 29: {'content': '“Low plastic stool, cheap but delicious noodles, cold Hanoi beer.” This is how I’ll remember Tony. He taught us about food — but more importantly, about its ability to bring us together. To make us a little less afraid of the unknown. We’ll miss him.', 'date': 'Jun 8, 2018', 'comment': '12K', 'share': '204K', 'likes': '931K'}, 30: {'content': 'Here’s to a happy, healthy, and hopeful 2020. Happy New Year, everybody!', 'date': 'Jan 1, 2020', 'comment': '19K', 'share': '119K', 'likes': '932K'}, 31: {'content': 'Our hearts go out to those killed and wounded in Manchester. Americans will always stand shoulder to shoulder with the people of the UK.', 'date': 'May 23, 2017', 'comment': '9.4K', 'share': '175K', 'likes': '845K'}, 32: {'content': None, 'date': 'Aug 5, 2019', 'comment': '26K', 'share': '276K', 'likes': '868K'}, 33: {'content': 'Enjoy the holiday season with the ones you love. Michelle and I wish you a very Merry Christmas!', 'date': 'Dec 25, 2018', 'comment': '21K', 'share': '81K', 'likes': '783K'}, 34: {'content': 'Happy Valentine’s Day to the three who never fail to make me smile. Your dazzling light makes everything brighter.', 'date': 'Feb 14, 2021', 'comment': '11K', 'share': '44K', 'likes': '836K'}, 35: {'content': 'I wrote out some thoughts on how to make this moment a real turning point to bring about real change––and pulled together some resources to help young activists sustain the momentum by channeling their energy into concrete action.', 'date': 'Jun 1, 2020', 'comment': '39K', 'share': '243K', 'likes': '797K'}, 36: {'content': 'To target hopeful young strivers who grew up here is wrong, because they’ve done nothing wrong. My statement:', 'date': 'Sep 5, 2017', 'comment': '28K', 'share': '316K', 'likes': '745K'}, 37: {'content': 'Here’s my statement on today’s violence at the Capitol.', 'date': 'Jan 7, 2021', 'comment': '15K', 'share': '156K', 'likes': '818K'}, 38: {'content': 'Today, the Supreme Court not only reversed nearly 50 years of precedent, it relegated the most intensely personal decision someone can make to the whims of politicians and ideologues—attacking the essential freedoms of millions of Americans.', 'date': 'Jun 24, 2022', 'comment': '37K', 'share': '208K', 'likes': '840K'}, 39: {'content': 'As millions of people across the country take to the streets and raise their voices in response to the killing of George Floyd and the ongoing problem of unequal justice, I’ve heard many ask how we can sustain momentum to bring about real change.', 'date': 'Jun 1, 2020', 'comment': '13K', 'share': '145K', 'likes': '749K'}}\n"
     ]
    }
   ],
   "source": [
    "\n",
    "\n",
    "def get_everything(steps):\n",
    "  dict_tweets={}\n",
    "  scroll_value=0\n",
    "  for _ in range(steps):\n",
    "        help_dict_tweets={}\n",
    "        driver.execute_script(f\"window.scrollTo(0, {scroll_value})\")\n",
    "        time.sleep(3)\n",
    "        elements = driver.find_elements(By.CSS_SELECTOR, '[data-testid=\"cellInnerDiv\"]')#get divs of the elements\n",
    "\n",
    "        tweetTexts=get_tweetText(elements)\n",
    "        tweetDates=get_tweetDate(elements)\n",
    "        tweetComments,tweetShares,tweetLikes=get_icons(elements)\n",
    "\n",
    "        for i in range(len(tweetTexts)):\n",
    "         dict_tweets_one_scroll={#one tweet\n",
    "            \"content\":tweetTexts[i],\n",
    "            \"date\":tweetDates[i],\n",
    "            \"comment\":tweetComments[i],\n",
    "            \"share\":tweetShares[i],\n",
    "            \"likes\":tweetLikes[i]\n",
    "        }\n",
    "         help_dict_tweets[i]=dict_tweets_one_scroll\n",
    "\n",
    "        #annoying and complicating steps in order to fill the dict without overwriting values\n",
    "        length=len(help_dict_tweets)\n",
    "        length2=len(dict_tweets)#length of current dict\n",
    "\n",
    "        e=0\n",
    "        for k in range(length2,(length2+length)-1):\n",
    "           dict_tweets[k]=help_dict_tweets[e]\n",
    "           e+=1\n",
    "\n",
    "\n",
    "        scroll_value+=3500#prepare scroll for next iteration\n",
    "  return dict_tweets\n",
    "\n",
    "tweet_info=get_everything(5)\n",
    "print(tweet_info)\n",
    "#print(len(tweet_info))"
   ]
  },
  {
   "cell_type": "code",
   "execution_count": 366,
   "metadata": {},
   "outputs": [
    {
     "name": "stdout",
     "output_type": "stream",
     "text": [
      "{0: {'content': '\"No one is born hating another person because of the color of his skin or his background or his religion...\"', 'date': 'Aug 13, 2017', 'comment': '62K', 'share': '1.4M', 'likes': '3.8M'}, 1: {'content': 'Kobe was a legend on the court and just getting started in what would have been just as meaningful a second act. To lose Gianna is even more heartbreaking to us as parents. Michelle and I send love and prayers to Vanessa and the entire Bryant family on an unthinkable day.', 'date': 'Jan 26, 2020', 'comment': '14K', 'share': '586K', 'likes': '3.5M'}, 2: {'content': 'Congratulations to my friend, President \\n@JoeBiden\\n! This is your time.', 'date': 'Jan 20, 2021', 'comment': '18K', 'share': '290K', 'likes': '2.5M'}, 3: {'content': 'In every scene, you are my star, \\n@MichelleObama\\n! Happy birthday, baby!', 'date': 'Jan 17, 2020', 'comment': '37K', 'share': '383K', 'likes': '2.4M'}, 4: {'content': \"John McCain is an American hero & one of the bravest fighters I've ever known. Cancer doesn't know what it's up against. Give it hell, John.\", 'date': 'Jul 20, 2017', 'comment': '24K', 'share': '337K', 'likes': '1.6M'}, 5: {'content': 'ME:  Joe, about halfway through the speech, I’m gonna wish you a happy birth--\\nBIDEN:  IT’S MY BIRTHDAY!\\nME:  Joe.\\n \\nHappy birthday to \\n@JoeBiden\\n, my brother and the best vice president anybody could have.', 'date': 'Nov 20, 2017', 'comment': '20K', 'share': '425K', 'likes': '1.6M'}, 6: {'content': 'My statement on the death of George Floyd:', 'date': 'May 29, 2020', 'comment': '33K', 'share': '437K', 'likes': '1.6M'}, 7: {'content': 'Happy birthday to my love, my partner, and my best friend. Every moment with you is a blessing. Love you, Miche.', 'date': 'Jan 17, 2021', 'comment': '35K', 'share': '105K', 'likes': '1.7M'}, 8: {'content': 'Like the Beatles said: It’s getting better all the time. Thanks, babe, for 27 amazing years!', 'date': 'Oct 3, 2019', 'comment': '23K', 'share': '200K', 'likes': '1.6M'}, 9: {'content': 'Hi everybody! Back to the original handle. Is this thing still on? Michelle and I are off on a quick vacation, then we’ll get back to work.', 'date': 'Jan 20, 2017', 'comment': '59K', 'share': '375K', 'likes': '1.5M'}, 10: {'content': 'Vote.', 'date': 'May 14, 2020', 'comment': '65K', 'share': '303K', 'likes': '1.5M'}, 11: {'content': 'Michelle & I are praying for the victims in Las Vegas. Our thoughts are with their families & everyone enduring another senseless tragedy.', 'date': 'Oct 2, 2017', 'comment': '18K', 'share': '318K', 'likes': '1.3M'}, 12: {'content': \"Young people have helped lead all our great movements. How inspiring to see it again in so many smart, fearless students standing up for their right to be safe; marching and organizing to remake the world as it should be. We've been waiting for you. And we've got your backs.\", 'date': 'Feb 22, 2018', 'comment': '27K', 'share': '369K', 'likes': '1.3M'}, 13: {'content': 'Michelle and I are thinking of the victims and their families in Barcelona. Americans will always stand with our Spanish friends. Un abrazo.', 'date': 'Aug 17, 2017', 'comment': '21K', 'share': '263K', 'likes': '1.3M'}, 14: {'content': 'Happy Valentine’s Day, \\n@MichelleObama\\n. You make every day and every place better.', 'date': 'Feb 14, 2018', 'comment': '20K', 'share': '205K', 'likes': '1.2M'}, 15: {'content': 'Congratulations to my friends, \\n@JoeBiden\\n and \\n@KamalaHarris\\n — our next President and Vice President of the United States.', 'date': 'Nov 7, 2020', 'comment': '21K', 'share': '171K', 'likes': '1.3M'}, 16: {'content': 'Thinking about our neighbors in Mexico and all our Mexican-American friends tonight. Cuidense mucho y un fuerte abrazo para todos.', 'date': 'Sep 20, 2017', 'comment': '19K', 'share': '369K', 'likes': '1.2M'}, 17: {'content': 'On behalf of the Obama family, Merry Christmas! We wish you joy and peace this holiday season.', 'date': 'Dec 25, 2017', 'comment': '37K', 'share': '211K', 'likes': '1.2M'}, 18: {'content': 'Dr. King was 26 when the Montgomery bus boycott began. He started small, rallying others who believed their efforts mattered, pressing on through challenges and doubts to change our world for the better. A permanent inspiration for the rest of us to keep pushing towards justice.', 'date': 'Jan 15, 2018', 'comment': '24K', 'share': '301K', 'likes': '1.1M'}, 19: {'content': 'Have fun out there among the stars.', 'date': 'Mar 14, 2018', 'comment': '6.5K', 'share': '217K', 'likes': '1.1M'}, 20: {'content': '\"...For love comes more naturally to the human heart than its opposite.\" - Nelson Mandela', 'date': 'Aug 13, 2017', 'comment': '15K', 'share': '327K', 'likes': '1.1M'}, 21: {'content': 'I knew it way back then and I’m absolutely convinced of it today — you’re one of a kind, \\n@MichelleObama\\n. Happy Birthday!', 'date': 'Jan 17, 2019', 'comment': '27K', 'share': '164K', 'likes': '1.1M'}, 22: {'content': 'From the Obama family to yours, we wish you a Happy Thanksgiving full of joy and gratitude.', 'date': 'Nov 23, 2017', 'comment': '28K', 'share': '180K', 'likes': '1.1M'}, 23: {'content': 'We remember everyone we lost on 9/11 and honor all who defend our country and our ideals. No act of terror will ever change who we are.', 'date': 'Sep 11, 2017', 'comment': '12K', 'share': '272K', 'likes': '1.1M'}, 24: {'content': \"Of all that I've done in my life, I'm most proud to be Sasha and Malia's dad. To all those lucky enough to be a dad, Happy Father's Day!\", 'date': 'Jun 18, 2017', 'comment': '19K', 'share': '208K', 'likes': '1.1M'}, 25: {'content': \"We are grieving with Parkland. But we are not powerless. Caring for our kids is our first job. And until we can honestly say that we're doing enough to keep them safe from harm, including long overdue, common-sense gun safety laws that most Americans want, then we have to change.\", 'date': 'Feb 15, 2018', 'comment': '25K', 'share': '309K', 'likes': '1M'}, 26: {'content': \"Happy anniversary, sweetheart! \\n@MichelleObama\\n, you're brilliant, kind, funny, and beautiful—and I'm lucky to call you mine.\", 'date': 'Oct 3', 'comment': '41K', 'share': '73K', 'likes': '1.2M'}, 27: {'content': 'Michelle and I are delighted to congratulate Prince Harry and Meghan Markle on their engagement. We wish you a lifetime of joy and happiness together.', 'date': 'Nov 27, 2017', 'comment': '10K', 'share': '95K', 'likes': '951K'}, 28: {'content': 'Happy Valentine’s Day, \\n@michelleobama\\n! Almost 28 years with you, but it always feels new.', 'date': 'Feb 14, 2017', 'comment': '13K', 'share': '218K', 'likes': '906K'}, 29: {'content': '“Low plastic stool, cheap but delicious noodles, cold Hanoi beer.” This is how I’ll remember Tony. He taught us about food — but more importantly, about its ability to bring us together. To make us a little less afraid of the unknown. We’ll miss him.', 'date': 'Jun 8, 2018', 'comment': '12K', 'share': '204K', 'likes': '931K'}, 30: {'content': 'Here’s to a happy, healthy, and hopeful 2020. Happy New Year, everybody!', 'date': 'Jan 1, 2020', 'comment': '19K', 'share': '119K', 'likes': '932K'}, 31: {'content': 'Our hearts go out to those killed and wounded in Manchester. Americans will always stand shoulder to shoulder with the people of the UK.', 'date': 'May 23, 2017', 'comment': '9.4K', 'share': '175K', 'likes': '845K'}, 32: {'content': None, 'date': 'Aug 5, 2019', 'comment': '26K', 'share': '276K', 'likes': '868K'}, 33: {'content': 'Enjoy the holiday season with the ones you love. Michelle and I wish you a very Merry Christmas!', 'date': 'Dec 25, 2018', 'comment': '21K', 'share': '81K', 'likes': '783K'}, 34: {'content': 'Happy Valentine’s Day to the three who never fail to make me smile. Your dazzling light makes everything brighter.', 'date': 'Feb 14, 2021', 'comment': '11K', 'share': '44K', 'likes': '836K'}, 35: {'content': 'I wrote out some thoughts on how to make this moment a real turning point to bring about real change––and pulled together some resources to help young activists sustain the momentum by channeling their energy into concrete action.', 'date': 'Jun 1, 2020', 'comment': '39K', 'share': '243K', 'likes': '797K'}, 36: {'content': 'To target hopeful young strivers who grew up here is wrong, because they’ve done nothing wrong. My statement:', 'date': 'Sep 5, 2017', 'comment': '28K', 'share': '316K', 'likes': '745K'}, 37: {'content': 'Here’s my statement on today’s violence at the Capitol.', 'date': 'Jan 7, 2021', 'comment': '15K', 'share': '156K', 'likes': '818K'}, 38: {'content': 'Today, the Supreme Court not only reversed nearly 50 years of precedent, it relegated the most intensely personal decision someone can make to the whims of politicians and ideologues—attacking the essential freedoms of millions of Americans.', 'date': 'Jun 24, 2022', 'comment': '37K', 'share': '208K', 'likes': '840K'}, 39: {'content': 'As millions of people across the country take to the streets and raise their voices in response to the killing of George Floyd and the ongoing problem of unequal justice, I’ve heard many ask how we can sustain momentum to bring about real change.', 'date': 'Jun 1, 2020', 'comment': '13K', 'share': '145K', 'likes': '749K'}}\n",
      "40\n"
     ]
    }
   ],
   "source": [
    "print(tweet_info)\n",
    "print(len(tweet_info))"
   ]
  },
  {
   "cell_type": "code",
   "execution_count": 367,
   "metadata": {},
   "outputs": [],
   "source": [
    "\n",
    "# def remove_duplicates(data:dict):\n",
    "\n",
    "#  output={}\n",
    "#  i=0\n",
    "\n",
    "#  for value in data:\n",
    "#     if value not in output:\n",
    "#         output[i]=value\n",
    "#     i+=1\n",
    "#  return output\n",
    "\n",
    "# new_tweet_info=remove_duplicates(tweet_info)\n",
    "# print(new_tweet_info)\n",
    "# # #new_dates=remove_duplicates(tweets_dates)\n",
    "\n",
    "\n",
    "# # print(new_contents)\n",
    "# # print(len(new_contents))\n",
    "# # print(new_contents[6])\n",
    "# # print(new_dates)\n",
    "# # print(len(new_dates))\n",
    "# # print(new_dates[6])"
   ]
  }
 ],
 "metadata": {
  "kernelspec": {
   "display_name": "Python 3",
   "language": "python",
   "name": "python3"
  },
  "language_info": {
   "codemirror_mode": {
    "name": "ipython",
    "version": 3
   },
   "file_extension": ".py",
   "mimetype": "text/x-python",
   "name": "python",
   "nbconvert_exporter": "python",
   "pygments_lexer": "ipython3",
   "version": "3.11.7"
  }
 },
 "nbformat": 4,
 "nbformat_minor": 2
}
