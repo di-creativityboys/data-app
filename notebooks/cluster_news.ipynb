{
 "cells": [
  {
   "cell_type": "code",
   "execution_count": null,
   "metadata": {},
   "outputs": [],
   "source": [
    "## load news data from database into dataframe anc cluster with https://towardsdatascience.com/all-the-news-17fa34b52b9d"
   ]
  },
  {
   "cell_type": "code",
   "execution_count": null,
   "metadata": {},
   "outputs": [],
   "source": [
    "import psycopg2\n",
    "import pandas as pd\n",
    "import pandas.io.sql as sqlio"
   ]
  },
  {
   "cell_type": "code",
   "execution_count": 3,
   "metadata": {},
   "outputs": [
    {
     "ename": "ModuleNotFoundError",
     "evalue": "No module named 'app'",
     "output_type": "error",
     "traceback": [
      "\u001b[0;31m---------------------------------------------------------------------------\u001b[0m",
      "\u001b[0;31mModuleNotFoundError\u001b[0m                       Traceback (most recent call last)",
      "\u001b[1;32m/workspaces/data-app/notebooks/cluster_news.ipynb Cell 3\u001b[0m line \u001b[0;36m1\n\u001b[0;32m----> <a href='vscode-notebook-cell://dev-container%2B7b22686f737450617468223a22633a5c5c55736572735c5c6b7261656d5c5c446f63756d656e74735c5c575755204dc3bc6e737465725c5c4d61737465722049535c5c31205754323332345c5c4461746120496e746567726174696f6e5c5c646174612d617070222c226c6f63616c446f636b6572223a66616c73652c22636f6e66696746696c65223a7b22246d6964223a312c22667350617468223a22633a5c5c55736572735c5c6b7261656d5c5c446f63756d656e74735c5c575755204dc3bc6e737465725c5c4d61737465722049535c5c31205754323332345c5c4461746120496e746567726174696f6e5c5c646174612d6170705c5c2e646576636f6e7461696e65725c5c646576636f6e7461696e65722e6a736f6e222c225f736570223a312c2265787465726e616c223a2266696c653a2f2f2f632533412f55736572732f6b7261656d2f446f63756d656e74732f5757552532304d2543332542436e737465722f4d617374657225323049532f312532305754323332342f44617461253230496e746567726174696f6e2f646174612d6170702f2e646576636f6e7461696e65722f646576636f6e7461696e65722e6a736f6e222c2270617468223a222f633a2f55736572732f6b7261656d2f446f63756d656e74732f575755204dc3bc6e737465722f4d61737465722049532f31205754323332342f4461746120496e746567726174696f6e2f646174612d6170702f2e646576636f6e7461696e65722f646576636f6e7461696e65722e6a736f6e222c22736368656d65223a2266696c65227d7d/workspaces/data-app/notebooks/cluster_news.ipynb#W1sdnNjb2RlLXJlbW90ZQ%3D%3D?line=0'>1</a>\u001b[0m \u001b[39mfrom\u001b[39;00m \u001b[39mapp\u001b[39;00m\u001b[39m.\u001b[39;00m\u001b[39mnews_scrape\u001b[39;00m\u001b[39m.\u001b[39;00m\u001b[39mbbc\u001b[39;00m\u001b[39m.\u001b[39;00m\u001b[39mbbc\u001b[39;00m \u001b[39mimport\u001b[39;00m get_bbc_news\n\u001b[1;32m      <a href='vscode-notebook-cell://dev-container%2B7b22686f737450617468223a22633a5c5c55736572735c5c6b7261656d5c5c446f63756d656e74735c5c575755204dc3bc6e737465725c5c4d61737465722049535c5c31205754323332345c5c4461746120496e746567726174696f6e5c5c646174612d617070222c226c6f63616c446f636b6572223a66616c73652c22636f6e66696746696c65223a7b22246d6964223a312c22667350617468223a22633a5c5c55736572735c5c6b7261656d5c5c446f63756d656e74735c5c575755204dc3bc6e737465725c5c4d61737465722049535c5c31205754323332345c5c4461746120496e746567726174696f6e5c5c646174612d6170705c5c2e646576636f6e7461696e65725c5c646576636f6e7461696e65722e6a736f6e222c225f736570223a312c2265787465726e616c223a2266696c653a2f2f2f632533412f55736572732f6b7261656d2f446f63756d656e74732f5757552532304d2543332542436e737465722f4d617374657225323049532f312532305754323332342f44617461253230496e746567726174696f6e2f646174612d6170702f2e646576636f6e7461696e65722f646576636f6e7461696e65722e6a736f6e222c2270617468223a222f633a2f55736572732f6b7261656d2f446f63756d656e74732f575755204dc3bc6e737465722f4d61737465722049532f31205754323332342f4461746120496e746567726174696f6e2f646174612d6170702f2e646576636f6e7461696e65722f646576636f6e7461696e65722e6a736f6e222c22736368656d65223a2266696c65227d7d/workspaces/data-app/notebooks/cluster_news.ipynb#W1sdnNjb2RlLXJlbW90ZQ%3D%3D?line=1'>2</a>\u001b[0m \u001b[39mfrom\u001b[39;00m \u001b[39mapp\u001b[39;00m\u001b[39m.\u001b[39;00m\u001b[39mnews_scrape\u001b[39;00m\u001b[39m.\u001b[39;00m\u001b[39mcnn\u001b[39;00m\u001b[39m.\u001b[39;00m\u001b[39mscraper\u001b[39;00m \u001b[39mimport\u001b[39;00m scrape_from_cnn\n",
      "\u001b[0;31mModuleNotFoundError\u001b[0m: No module named 'app'"
     ]
    }
   ],
   "source": [
    "from app.news_scrape.bbc.bbc import get_bbc_news\n",
    "from app.news_scrape.cnn.scraper import scrape_from_cnn"
   ]
  },
  {
   "cell_type": "code",
   "execution_count": 19,
   "metadata": {},
   "outputs": [],
   "source": [
    "## database connection\n",
    "host = \"localhost\"\n",
    "port = 5432\n",
    "dbname = \"postgres\"\n",
    "username = \"postgres\"\n",
    "pwd = \"postgres\"\n",
    "conn = psycopg2.connect(\"host='{}' port={} dbname='{}' user={} password={}\".format(host, port, dbname, username, pwd))"
   ]
  },
  {
   "cell_type": "code",
   "execution_count": null,
   "metadata": {},
   "outputs": [],
   "source": []
  },
  {
   "cell_type": "code",
   "execution_count": 16,
   "metadata": {},
   "outputs": [
    {
     "name": "stderr",
     "output_type": "stream",
     "text": [
      "/tmp/ipykernel_1036/2722885557.py:3: UserWarning: pandas only supports SQLAlchemy connectable (engine/connection) or database string URI or sqlite3 DBAPI2 connection. Other DBAPI2 objects are not tested. Please consider using SQLAlchemy.\n",
      "  articles = sqlio.read_sql_query(sql, conn) # type: ignore\n"
     ]
    }
   ],
   "source": [
    "## get articles table into datframe\n",
    "sql = \"SELECT * FROM articles;\"\n",
    "articles = sqlio.read_sql_query(sql, conn) # type: ignore"
   ]
  },
  {
   "cell_type": "code",
   "execution_count": 17,
   "metadata": {},
   "outputs": [
    {
     "data": {
      "text/html": [
       "<div>\n",
       "<style scoped>\n",
       "    .dataframe tbody tr th:only-of-type {\n",
       "        vertical-align: middle;\n",
       "    }\n",
       "\n",
       "    .dataframe tbody tr th {\n",
       "        vertical-align: top;\n",
       "    }\n",
       "\n",
       "    .dataframe thead th {\n",
       "        text-align: right;\n",
       "    }\n",
       "</style>\n",
       "<table border=\"1\" class=\"dataframe\">\n",
       "  <thead>\n",
       "    <tr style=\"text-align: right;\">\n",
       "      <th></th>\n",
       "      <th>urlid</th>\n",
       "      <th>headline</th>\n",
       "      <th>contents</th>\n",
       "      <th>authors</th>\n",
       "      <th>uploaddate</th>\n",
       "      <th>readtime</th>\n",
       "      <th>imageurl</th>\n",
       "      <th>imagedescription</th>\n",
       "    </tr>\n",
       "  </thead>\n",
       "  <tbody>\n",
       "  </tbody>\n",
       "</table>\n",
       "</div>"
      ],
      "text/plain": [
       "Empty DataFrame\n",
       "Columns: [urlid, headline, contents, authors, uploaddate, readtime, imageurl, imagedescription]\n",
       "Index: []"
      ]
     },
     "execution_count": 17,
     "metadata": {},
     "output_type": "execute_result"
    }
   ],
   "source": [
    "articles"
   ]
  },
  {
   "cell_type": "code",
   "execution_count": null,
   "metadata": {},
   "outputs": [],
   "source": [
    "## Plan:\n",
    "## 1) stemming\n",
    "## 2) create word matrix\n",
    "## 3) TFIDF\n",
    "## 4) Clustering\n",
    "\n",
    "## 5) majority vote of category within clusters to be used as cluster name"
   ]
  },
  {
   "cell_type": "code",
   "execution_count": null,
   "metadata": {},
   "outputs": [],
   "source": [
    "## 1) stemming\n",
    "import nltk\n",
    "from nltk import pos_tag\n",
    "from nltk.stem import PorterStemmer\n",
    "from nltk import word_tokenize\n",
    "from collections import Counter\n",
    "import time\n",
    "stemmer = PorterStemmer()\n",
    "tokenizer = nltk.data.load(‘tokenizers/punkt/english.pickle’)\n",
    "progress = 0 #for keeping track of where the function is\n",
    "def stem(x):\n",
    "    end = time.time()\n",
    "    dirty = word_tokenize(x)\n",
    "    tokens = []\n",
    "    for word in dirty:\n",
    "        if word.strip(‘.’) == ‘’: #this deals with the bug\n",
    "           pass\n",
    "        elif re.search(r’\\d{1,}’, word): #getting rid of digits\n",
    "           pass\n",
    "       else:\n",
    "           tokens.append(word.strip(‘.’))\n",
    "   global start\n",
    "   global progress\n",
    "   tokens = pos_tag(tokens) #\n",
    "   progress += 1\n",
    "   stems = ‘ ‘.join(stemmer.stem(key.lower()) for key, value in  tokens if value != ‘NNP’) #getting rid of proper nouns\n",
    " \n",
    "   end = time.time()\n",
    "   sys.stdout.write(‘\\r {} percent, {} position, {} per second ‘.format(str(float(progress / len(articles))), \n",
    " str(progress), (1 / (end — start)))) #lets us see how much time is left \n",
    "   start = time.time()\n",
    "   return stems\n",
    "start = time.time()\n",
    "articles['stems'] = articles.content.apply(lambda x: stem(x))"
   ]
  }
 ],
 "metadata": {
  "kernelspec": {
   "display_name": "Python 3",
   "language": "python",
   "name": "python3"
  },
  "language_info": {
   "codemirror_mode": {
    "name": "ipython",
    "version": 3
   },
   "file_extension": ".py",
   "mimetype": "text/x-python",
   "name": "python",
   "nbconvert_exporter": "python",
   "pygments_lexer": "ipython3",
   "version": "3.11.6"
  }
 },
 "nbformat": 4,
 "nbformat_minor": 2
}
