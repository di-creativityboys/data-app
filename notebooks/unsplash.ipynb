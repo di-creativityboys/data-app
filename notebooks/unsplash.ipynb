{
 "cells": [
  {
   "cell_type": "code",
   "execution_count": 1,
   "metadata": {},
   "outputs": [],
   "source": [
    "import requests\n",
    "from IPython.display import Image, display\n",
    "import os"
   ]
  },
  {
   "cell_type": "code",
   "execution_count": 2,
   "metadata": {},
   "outputs": [],
   "source": [
    "url = \"https://api.unsplash.com/photos/random\"\n",
    "\n",
    "# My personal API-Key\n",
    "api_key = \"yxTqVe8SO0J4Bc8ThfY9wwnZolR3qCNzSU42bzbRCWs\""
   ]
  },
  {
   "cell_type": "code",
   "execution_count": 3,
   "metadata": {},
   "outputs": [
    {
     "name": "stdout",
     "output_type": "stream",
     "text": [
      "[{'id': '5BdWO94DrrY', 'slug': 'a-pile-of-rubble-in-a-city-with-buildings-in-the-background-5BdWO94DrrY', 'created_at': '2023-12-08T09:05:59Z', 'updated_at': '2023-12-18T22:49:36Z', 'promoted_at': None, 'width': 4032, 'height': 3024, 'color': '#d9d9d9', 'blur_hash': 'LsKd*vjYRjax_NNGf5Rj%MoLfPof', 'description': 'Scenes of the devastation suffered by the besieged city of Gaza after it was bombed by the State of Israel in its war since October 7, 2023, which lasted for more than 63 days of genocide and continues until now.', 'alt_description': 'a pile of rubble in a city with buildings in the background', 'breadcrumbs': [], 'urls': {'raw': 'https://images.unsplash.com/photo-1702024284454-6aeec37aec64?ixid=M3w1MjkxMDF8MHwxfHJhbmRvbXx8fHx8fHx8fDE3MDI5OTMwOTd8&ixlib=rb-4.0.3', 'full': 'https://images.unsplash.com/photo-1702024284454-6aeec37aec64?crop=entropy&cs=srgb&fm=jpg&ixid=M3w1MjkxMDF8MHwxfHJhbmRvbXx8fHx8fHx8fDE3MDI5OTMwOTd8&ixlib=rb-4.0.3&q=85', 'regular': 'https://images.unsplash.com/photo-1702024284454-6aeec37aec64?crop=entropy&cs=tinysrgb&fit=max&fm=jpg&ixid=M3w1MjkxMDF8MHwxfHJhbmRvbXx8fHx8fHx8fDE3MDI5OTMwOTd8&ixlib=rb-4.0.3&q=80&w=1080', 'small': 'https://images.unsplash.com/photo-1702024284454-6aeec37aec64?crop=entropy&cs=tinysrgb&fit=max&fm=jpg&ixid=M3w1MjkxMDF8MHwxfHJhbmRvbXx8fHx8fHx8fDE3MDI5OTMwOTd8&ixlib=rb-4.0.3&q=80&w=400', 'thumb': 'https://images.unsplash.com/photo-1702024284454-6aeec37aec64?crop=entropy&cs=tinysrgb&fit=max&fm=jpg&ixid=M3w1MjkxMDF8MHwxfHJhbmRvbXx8fHx8fHx8fDE3MDI5OTMwOTd8&ixlib=rb-4.0.3&q=80&w=200', 'small_s3': 'https://s3.us-west-2.amazonaws.com/images.unsplash.com/small/photo-1702024284454-6aeec37aec64'}, 'links': {'self': 'https://api.unsplash.com/photos/a-pile-of-rubble-in-a-city-with-buildings-in-the-background-5BdWO94DrrY', 'html': 'https://unsplash.com/photos/a-pile-of-rubble-in-a-city-with-buildings-in-the-background-5BdWO94DrrY', 'download': 'https://unsplash.com/photos/5BdWO94DrrY/download?ixid=M3w1MjkxMDF8MHwxfHJhbmRvbXx8fHx8fHx8fDE3MDI5OTMwOTd8', 'download_location': 'https://api.unsplash.com/photos/5BdWO94DrrY/download?ixid=M3w1MjkxMDF8MHwxfHJhbmRvbXx8fHx8fHx8fDE3MDI5OTMwOTd8'}, 'likes': 0, 'liked_by_user': False, 'current_user_collections': [], 'sponsorship': None, 'topic_submissions': {'current-events': {'status': 'unevaluated'}}, 'user': {'id': '-yPQ_2jcqYg', 'updated_at': '2023-12-18T21:32:05Z', 'username': 'emad_el_bayed', 'name': 'Emad El Byed', 'first_name': 'Emad', 'last_name': 'El Byed', 'twitter_username': 'emad_el_bayed', 'portfolio_url': 'https://www.behance.net/emadelbayed', 'bio': None, 'location': 'Palestine', 'links': {'self': 'https://api.unsplash.com/users/emad_el_bayed', 'html': 'https://unsplash.com/@emad_el_bayed', 'photos': 'https://api.unsplash.com/users/emad_el_bayed/photos', 'likes': 'https://api.unsplash.com/users/emad_el_bayed/likes', 'portfolio': 'https://api.unsplash.com/users/emad_el_bayed/portfolio', 'following': 'https://api.unsplash.com/users/emad_el_bayed/following', 'followers': 'https://api.unsplash.com/users/emad_el_bayed/followers'}, 'profile_image': {'small': 'https://images.unsplash.com/profile-1629305958578-29de42df1a85image?ixlib=rb-4.0.3&crop=faces&fit=crop&w=32&h=32', 'medium': 'https://images.unsplash.com/profile-1629305958578-29de42df1a85image?ixlib=rb-4.0.3&crop=faces&fit=crop&w=64&h=64', 'large': 'https://images.unsplash.com/profile-1629305958578-29de42df1a85image?ixlib=rb-4.0.3&crop=faces&fit=crop&w=128&h=128'}, 'instagram_username': 'emad_el_bayed', 'total_collections': 0, 'total_likes': 1, 'total_photos': 55, 'total_promoted_photos': 0, 'accepted_tos': True, 'for_hire': True, 'social': {'instagram_username': 'emad_el_bayed', 'portfolio_url': 'https://www.behance.net/emadelbayed', 'twitter_username': 'emad_el_bayed', 'paypal_email': None}}, 'exif': {'make': 'Apple', 'model': 'iPhone 7 Plus', 'name': 'Apple, iPhone 7 Plus', 'exposure_time': '1/2179', 'aperture': '1.8', 'focal_length': '4.0', 'iso': 20}, 'location': {'name': 'Gaza Strip', 'city': None, 'country': None, 'position': {'latitude': 31.354676, 'longitude': 34.308826}}, 'views': 2920, 'downloads': 24}, {'id': 'FWs7PcwMIGc', 'slug': 'man-in-black-jacket-and-black-cap-holding-white-banner-FWs7PcwMIGc', 'created_at': '2021-05-11T21:17:05Z', 'updated_at': '2023-12-18T21:23:43Z', 'promoted_at': '2021-05-12T08:08:15Z', 'width': 6000, 'height': 4000, 'color': '#262626', 'blur_hash': 'LFD+-_vx9a55~Vx^kCROx@xt%3%3', 'description': 'May 11th 2021 - Emergency Rally For Jerusalem, Save Sheikh Jarrah protest in London', 'alt_description': 'man in black jacket and black cap holding white banner', 'breadcrumbs': [], 'urls': {'raw': 'https://images.unsplash.com/photo-1620767463583-14661a8b63eb?ixid=M3w1MjkxMDF8MHwxfHJhbmRvbXx8fHx8fHx8fDE3MDI5OTMwOTd8&ixlib=rb-4.0.3', 'full': 'https://images.unsplash.com/photo-1620767463583-14661a8b63eb?crop=entropy&cs=srgb&fm=jpg&ixid=M3w1MjkxMDF8MHwxfHJhbmRvbXx8fHx8fHx8fDE3MDI5OTMwOTd8&ixlib=rb-4.0.3&q=85', 'regular': 'https://images.unsplash.com/photo-1620767463583-14661a8b63eb?crop=entropy&cs=tinysrgb&fit=max&fm=jpg&ixid=M3w1MjkxMDF8MHwxfHJhbmRvbXx8fHx8fHx8fDE3MDI5OTMwOTd8&ixlib=rb-4.0.3&q=80&w=1080', 'small': 'https://images.unsplash.com/photo-1620767463583-14661a8b63eb?crop=entropy&cs=tinysrgb&fit=max&fm=jpg&ixid=M3w1MjkxMDF8MHwxfHJhbmRvbXx8fHx8fHx8fDE3MDI5OTMwOTd8&ixlib=rb-4.0.3&q=80&w=400', 'thumb': 'https://images.unsplash.com/photo-1620767463583-14661a8b63eb?crop=entropy&cs=tinysrgb&fit=max&fm=jpg&ixid=M3w1MjkxMDF8MHwxfHJhbmRvbXx8fHx8fHx8fDE3MDI5OTMwOTd8&ixlib=rb-4.0.3&q=80&w=200', 'small_s3': 'https://s3.us-west-2.amazonaws.com/images.unsplash.com/small/photo-1620767463583-14661a8b63eb'}, 'links': {'self': 'https://api.unsplash.com/photos/man-in-black-jacket-and-black-cap-holding-white-banner-FWs7PcwMIGc', 'html': 'https://unsplash.com/photos/man-in-black-jacket-and-black-cap-holding-white-banner-FWs7PcwMIGc', 'download': 'https://unsplash.com/photos/FWs7PcwMIGc/download?ixid=M3w1MjkxMDF8MHwxfHJhbmRvbXx8fHx8fHx8fDE3MDI5OTMwOTd8', 'download_location': 'https://api.unsplash.com/photos/FWs7PcwMIGc/download?ixid=M3w1MjkxMDF8MHwxfHJhbmRvbXx8fHx8fHx8fDE3MDI5OTMwOTd8'}, 'likes': 62, 'liked_by_user': False, 'current_user_collections': [], 'sponsorship': None, 'topic_submissions': {'current-events': {'status': 'approved', 'approved_on': '2021-05-12T09:36:40Z'}}, 'user': {'id': 'DGhEid0owbc', 'updated_at': '2023-12-15T13:45:08Z', 'username': 'mettyunuabona', 'name': 'Ehimetalor Akhere Unuabona', 'first_name': 'Ehimetalor Akhere', 'last_name': 'Unuabona', 'twitter_username': 'TheEastLDNTog', 'portfolio_url': 'https://www.mettyunuabona.com/', 'bio': 'Ehimetalor \"Metty\" Unuabona is a portrait and social documentary photographer based in London, with a specific focus on street-style portraiture and social documentation.', 'location': 'London, UK', 'links': {'self': 'https://api.unsplash.com/users/mettyunuabona', 'html': 'https://unsplash.com/@mettyunuabona', 'photos': 'https://api.unsplash.com/users/mettyunuabona/photos', 'likes': 'https://api.unsplash.com/users/mettyunuabona/likes', 'portfolio': 'https://api.unsplash.com/users/mettyunuabona/portfolio', 'following': 'https://api.unsplash.com/users/mettyunuabona/following', 'followers': 'https://api.unsplash.com/users/mettyunuabona/followers'}, 'profile_image': {'small': 'https://images.unsplash.com/profile-1602499837447-54090944da0bimage?ixlib=rb-4.0.3&crop=faces&fit=crop&w=32&h=32', 'medium': 'https://images.unsplash.com/profile-1602499837447-54090944da0bimage?ixlib=rb-4.0.3&crop=faces&fit=crop&w=64&h=64', 'large': 'https://images.unsplash.com/profile-1602499837447-54090944da0bimage?ixlib=rb-4.0.3&crop=faces&fit=crop&w=128&h=128'}, 'instagram_username': 'TheEastLondonPhotographer', 'total_collections': 0, 'total_likes': 173, 'total_photos': 1142, 'total_promoted_photos': 109, 'accepted_tos': True, 'for_hire': True, 'social': {'instagram_username': 'TheEastLondonPhotographer', 'portfolio_url': 'https://www.mettyunuabona.com/', 'twitter_username': 'TheEastLDNTog', 'paypal_email': None}}, 'exif': {'make': 'FUJIFILM', 'model': 'X-H1', 'name': 'FUJIFILM, X-H1', 'exposure_time': '1/250', 'aperture': '2.0', 'focal_length': '18.0', 'iso': 800}, 'location': {'name': 'Westminster, London, UK', 'city': None, 'country': None, 'position': {'latitude': None, 'longitude': None}}, 'views': 941700, 'downloads': 4361}, {'id': 'UsA2-DkWAqI', 'slug': 'a-run-down-building-with-a-bunch-of-debris-on-the-ground-UsA2-DkWAqI', 'created_at': '2023-11-30T20:10:23Z', 'updated_at': '2023-12-19T04:47:07Z', 'promoted_at': None, 'width': 4032, 'height': 3024, 'color': '#404040', 'blur_hash': 'LHHo8yD*xYoz4:D*ayxu~qM{WAxu', 'description': 'Scenes of the devastation suffered by the besieged city of Gaza after it was bombed by the State of Israel in its war since October 7, 2023, which lasted for more than 50 days of genocide and continues until now.', 'alt_description': 'a run down building with a bunch of debris on the ground', 'breadcrumbs': [], 'urls': {'raw': 'https://images.unsplash.com/photo-1701374622160-f49a328862e1?ixid=M3w1MjkxMDF8MHwxfHJhbmRvbXx8fHx8fHx8fDE3MDI5OTMwOTd8&ixlib=rb-4.0.3', 'full': 'https://images.unsplash.com/photo-1701374622160-f49a328862e1?crop=entropy&cs=srgb&fm=jpg&ixid=M3w1MjkxMDF8MHwxfHJhbmRvbXx8fHx8fHx8fDE3MDI5OTMwOTd8&ixlib=rb-4.0.3&q=85', 'regular': 'https://images.unsplash.com/photo-1701374622160-f49a328862e1?crop=entropy&cs=tinysrgb&fit=max&fm=jpg&ixid=M3w1MjkxMDF8MHwxfHJhbmRvbXx8fHx8fHx8fDE3MDI5OTMwOTd8&ixlib=rb-4.0.3&q=80&w=1080', 'small': 'https://images.unsplash.com/photo-1701374622160-f49a328862e1?crop=entropy&cs=tinysrgb&fit=max&fm=jpg&ixid=M3w1MjkxMDF8MHwxfHJhbmRvbXx8fHx8fHx8fDE3MDI5OTMwOTd8&ixlib=rb-4.0.3&q=80&w=400', 'thumb': 'https://images.unsplash.com/photo-1701374622160-f49a328862e1?crop=entropy&cs=tinysrgb&fit=max&fm=jpg&ixid=M3w1MjkxMDF8MHwxfHJhbmRvbXx8fHx8fHx8fDE3MDI5OTMwOTd8&ixlib=rb-4.0.3&q=80&w=200', 'small_s3': 'https://s3.us-west-2.amazonaws.com/images.unsplash.com/small/photo-1701374622160-f49a328862e1'}, 'links': {'self': 'https://api.unsplash.com/photos/a-run-down-building-with-a-bunch-of-debris-on-the-ground-UsA2-DkWAqI', 'html': 'https://unsplash.com/photos/a-run-down-building-with-a-bunch-of-debris-on-the-ground-UsA2-DkWAqI', 'download': 'https://unsplash.com/photos/UsA2-DkWAqI/download?ixid=M3w1MjkxMDF8MHwxfHJhbmRvbXx8fHx8fHx8fDE3MDI5OTMwOTd8', 'download_location': 'https://api.unsplash.com/photos/UsA2-DkWAqI/download?ixid=M3w1MjkxMDF8MHwxfHJhbmRvbXx8fHx8fHx8fDE3MDI5OTMwOTd8'}, 'likes': 1, 'liked_by_user': False, 'current_user_collections': [], 'sponsorship': None, 'topic_submissions': {'current-events': {'status': 'approved', 'approved_on': '2023-12-05T14:27:56Z'}}, 'user': {'id': '-yPQ_2jcqYg', 'updated_at': '2023-12-18T21:32:05Z', 'username': 'emad_el_bayed', 'name': 'Emad El Byed', 'first_name': 'Emad', 'last_name': 'El Byed', 'twitter_username': 'emad_el_bayed', 'portfolio_url': 'https://www.behance.net/emadelbayed', 'bio': None, 'location': 'Palestine', 'links': {'self': 'https://api.unsplash.com/users/emad_el_bayed', 'html': 'https://unsplash.com/@emad_el_bayed', 'photos': 'https://api.unsplash.com/users/emad_el_bayed/photos', 'likes': 'https://api.unsplash.com/users/emad_el_bayed/likes', 'portfolio': 'https://api.unsplash.com/users/emad_el_bayed/portfolio', 'following': 'https://api.unsplash.com/users/emad_el_bayed/following', 'followers': 'https://api.unsplash.com/users/emad_el_bayed/followers'}, 'profile_image': {'small': 'https://images.unsplash.com/profile-1629305958578-29de42df1a85image?ixlib=rb-4.0.3&crop=faces&fit=crop&w=32&h=32', 'medium': 'https://images.unsplash.com/profile-1629305958578-29de42df1a85image?ixlib=rb-4.0.3&crop=faces&fit=crop&w=64&h=64', 'large': 'https://images.unsplash.com/profile-1629305958578-29de42df1a85image?ixlib=rb-4.0.3&crop=faces&fit=crop&w=128&h=128'}, 'instagram_username': 'emad_el_bayed', 'total_collections': 0, 'total_likes': 1, 'total_photos': 55, 'total_promoted_photos': 0, 'accepted_tos': True, 'for_hire': True, 'social': {'instagram_username': 'emad_el_bayed', 'portfolio_url': 'https://www.behance.net/emadelbayed', 'twitter_username': 'emad_el_bayed', 'paypal_email': None}}, 'exif': {'make': 'Apple', 'model': 'iPhone 7 Plus', 'name': 'Apple, iPhone 7 Plus', 'exposure_time': '1/380', 'aperture': '1.8', 'focal_length': '4.0', 'iso': 20}, 'location': {'name': 'Gaza Strip', 'city': None, 'country': None, 'position': {'latitude': 31.354676, 'longitude': 34.308826}}, 'views': 25598, 'downloads': 139}, {'id': 'oc4gKmNZxyw', 'slug': 'man-in-red-jacket-holding-flag-of-united-states-of-america-oc4gKmNZxyw', 'created_at': '2021-05-15T09:09:55Z', 'updated_at': '2023-12-18T22:23:29Z', 'promoted_at': None, 'width': 3456, 'height': 4608, 'color': '#8c8c73', 'blur_hash': 'LvH.f}jEt7f,?wobodkCtmoyoeax', 'description': 'We stand with Palestine ', 'alt_description': 'man in red jacket holding flag of united states of america', 'breadcrumbs': [], 'urls': {'raw': 'https://images.unsplash.com/photo-1621069432479-3d78e390dc39?ixid=M3w1MjkxMDF8MHwxfHJhbmRvbXx8fHx8fHx8fDE3MDI5OTMwOTd8&ixlib=rb-4.0.3', 'full': 'https://images.unsplash.com/photo-1621069432479-3d78e390dc39?crop=entropy&cs=srgb&fm=jpg&ixid=M3w1MjkxMDF8MHwxfHJhbmRvbXx8fHx8fHx8fDE3MDI5OTMwOTd8&ixlib=rb-4.0.3&q=85', 'regular': 'https://images.unsplash.com/photo-1621069432479-3d78e390dc39?crop=entropy&cs=tinysrgb&fit=max&fm=jpg&ixid=M3w1MjkxMDF8MHwxfHJhbmRvbXx8fHx8fHx8fDE3MDI5OTMwOTd8&ixlib=rb-4.0.3&q=80&w=1080', 'small': 'https://images.unsplash.com/photo-1621069432479-3d78e390dc39?crop=entropy&cs=tinysrgb&fit=max&fm=jpg&ixid=M3w1MjkxMDF8MHwxfHJhbmRvbXx8fHx8fHx8fDE3MDI5OTMwOTd8&ixlib=rb-4.0.3&q=80&w=400', 'thumb': 'https://images.unsplash.com/photo-1621069432479-3d78e390dc39?crop=entropy&cs=tinysrgb&fit=max&fm=jpg&ixid=M3w1MjkxMDF8MHwxfHJhbmRvbXx8fHx8fHx8fDE3MDI5OTMwOTd8&ixlib=rb-4.0.3&q=80&w=200', 'small_s3': 'https://s3.us-west-2.amazonaws.com/images.unsplash.com/small/photo-1621069432479-3d78e390dc39'}, 'links': {'self': 'https://api.unsplash.com/photos/man-in-red-jacket-holding-flag-of-united-states-of-america-oc4gKmNZxyw', 'html': 'https://unsplash.com/photos/man-in-red-jacket-holding-flag-of-united-states-of-america-oc4gKmNZxyw', 'download': 'https://unsplash.com/photos/oc4gKmNZxyw/download?ixid=M3w1MjkxMDF8MHwxfHJhbmRvbXx8fHx8fHx8fDE3MDI5OTMwOTd8', 'download_location': 'https://api.unsplash.com/photos/oc4gKmNZxyw/download?ixid=M3w1MjkxMDF8MHwxfHJhbmRvbXx8fHx8fHx8fDE3MDI5OTMwOTd8'}, 'likes': 14, 'liked_by_user': False, 'current_user_collections': [], 'sponsorship': None, 'topic_submissions': {}, 'user': {'id': 'CbadbrhqMJU', 'updated_at': '2023-10-26T12:26:04Z', 'username': 'akbar710', 'name': 'Gilgit Baltistan', 'first_name': 'Gilgit', 'last_name': 'Baltistan', 'twitter_username': None, 'portfolio_url': None, 'bio': 'Trying to see the beauty in everything around me', 'location': 'Northern Areas , Gilgit Baltistan, Pakistan', 'links': {'self': 'https://api.unsplash.com/users/akbar710', 'html': 'https://unsplash.com/@akbar710', 'photos': 'https://api.unsplash.com/users/akbar710/photos', 'likes': 'https://api.unsplash.com/users/akbar710/likes', 'portfolio': 'https://api.unsplash.com/users/akbar710/portfolio', 'following': 'https://api.unsplash.com/users/akbar710/following', 'followers': 'https://api.unsplash.com/users/akbar710/followers'}, 'profile_image': {'small': 'https://images.unsplash.com/profile-1603487958029-7545c4a35a6bimage?ixlib=rb-4.0.3&crop=faces&fit=crop&w=32&h=32', 'medium': 'https://images.unsplash.com/profile-1603487958029-7545c4a35a6bimage?ixlib=rb-4.0.3&crop=faces&fit=crop&w=64&h=64', 'large': 'https://images.unsplash.com/profile-1603487958029-7545c4a35a6bimage?ixlib=rb-4.0.3&crop=faces&fit=crop&w=128&h=128'}, 'instagram_username': None, 'total_collections': 0, 'total_likes': 16, 'total_photos': 90, 'total_promoted_photos': 0, 'accepted_tos': True, 'for_hire': True, 'social': {'instagram_username': None, 'portfolio_url': None, 'twitter_username': None, 'paypal_email': None}}, 'exif': {'make': 'OPPO', 'model': 'CPH1613', 'name': 'OPPO, CPH1613', 'exposure_time': '1/2222', 'aperture': '1.7', 'focal_length': '3.8', 'iso': 105}, 'location': {'name': 'Tarkati', 'city': None, 'country': None, 'position': {'latitude': None, 'longitude': None}}, 'views': 344162, 'downloads': 2368}, {'id': '1e-8AT7W1aM', 'slug': 'yellow-tulips-on-green-and-red-umbrella-1e-8AT7W1aM', 'created_at': '2021-05-16T16:41:45Z', 'updated_at': '2023-12-19T08:24:24Z', 'promoted_at': None, 'width': 6000, 'height': 4000, 'color': '#0c7340', 'blur_hash': 'LbDc:P%yNat8}]$QNabv+$v$NFX8', 'description': 'May 15th 2021, around 150,000 people attend the  March for Palestine protest; they converged at the Israeli Embassy but were blocked and eventually met with resistance by the met Police', 'alt_description': 'yellow tulips on green and red umbrella', 'breadcrumbs': [], 'urls': {'raw': 'https://images.unsplash.com/photo-1621183037868-050ca5d88189?ixid=M3w1MjkxMDF8MHwxfHJhbmRvbXx8fHx8fHx8fDE3MDI5OTMwOTd8&ixlib=rb-4.0.3', 'full': 'https://images.unsplash.com/photo-1621183037868-050ca5d88189?crop=entropy&cs=srgb&fm=jpg&ixid=M3w1MjkxMDF8MHwxfHJhbmRvbXx8fHx8fHx8fDE3MDI5OTMwOTd8&ixlib=rb-4.0.3&q=85', 'regular': 'https://images.unsplash.com/photo-1621183037868-050ca5d88189?crop=entropy&cs=tinysrgb&fit=max&fm=jpg&ixid=M3w1MjkxMDF8MHwxfHJhbmRvbXx8fHx8fHx8fDE3MDI5OTMwOTd8&ixlib=rb-4.0.3&q=80&w=1080', 'small': 'https://images.unsplash.com/photo-1621183037868-050ca5d88189?crop=entropy&cs=tinysrgb&fit=max&fm=jpg&ixid=M3w1MjkxMDF8MHwxfHJhbmRvbXx8fHx8fHx8fDE3MDI5OTMwOTd8&ixlib=rb-4.0.3&q=80&w=400', 'thumb': 'https://images.unsplash.com/photo-1621183037868-050ca5d88189?crop=entropy&cs=tinysrgb&fit=max&fm=jpg&ixid=M3w1MjkxMDF8MHwxfHJhbmRvbXx8fHx8fHx8fDE3MDI5OTMwOTd8&ixlib=rb-4.0.3&q=80&w=200', 'small_s3': 'https://s3.us-west-2.amazonaws.com/images.unsplash.com/small/photo-1621183037868-050ca5d88189'}, 'links': {'self': 'https://api.unsplash.com/photos/yellow-tulips-on-green-and-red-umbrella-1e-8AT7W1aM', 'html': 'https://unsplash.com/photos/yellow-tulips-on-green-and-red-umbrella-1e-8AT7W1aM', 'download': 'https://unsplash.com/photos/1e-8AT7W1aM/download?ixid=M3w1MjkxMDF8MHwxfHJhbmRvbXx8fHx8fHx8fDE3MDI5OTMwOTd8', 'download_location': 'https://api.unsplash.com/photos/1e-8AT7W1aM/download?ixid=M3w1MjkxMDF8MHwxfHJhbmRvbXx8fHx8fHx8fDE3MDI5OTMwOTd8'}, 'likes': 5, 'liked_by_user': False, 'current_user_collections': [], 'sponsorship': None, 'topic_submissions': {'current-events': {'status': 'rejected'}}, 'user': {'id': 'DGhEid0owbc', 'updated_at': '2023-12-15T13:45:08Z', 'username': 'mettyunuabona', 'name': 'Ehimetalor Akhere Unuabona', 'first_name': 'Ehimetalor Akhere', 'last_name': 'Unuabona', 'twitter_username': 'TheEastLDNTog', 'portfolio_url': 'https://www.mettyunuabona.com/', 'bio': 'Ehimetalor \"Metty\" Unuabona is a portrait and social documentary photographer based in London, with a specific focus on street-style portraiture and social documentation.', 'location': 'London, UK', 'links': {'self': 'https://api.unsplash.com/users/mettyunuabona', 'html': 'https://unsplash.com/@mettyunuabona', 'photos': 'https://api.unsplash.com/users/mettyunuabona/photos', 'likes': 'https://api.unsplash.com/users/mettyunuabona/likes', 'portfolio': 'https://api.unsplash.com/users/mettyunuabona/portfolio', 'following': 'https://api.unsplash.com/users/mettyunuabona/following', 'followers': 'https://api.unsplash.com/users/mettyunuabona/followers'}, 'profile_image': {'small': 'https://images.unsplash.com/profile-1602499837447-54090944da0bimage?ixlib=rb-4.0.3&crop=faces&fit=crop&w=32&h=32', 'medium': 'https://images.unsplash.com/profile-1602499837447-54090944da0bimage?ixlib=rb-4.0.3&crop=faces&fit=crop&w=64&h=64', 'large': 'https://images.unsplash.com/profile-1602499837447-54090944da0bimage?ixlib=rb-4.0.3&crop=faces&fit=crop&w=128&h=128'}, 'instagram_username': 'TheEastLondonPhotographer', 'total_collections': 0, 'total_likes': 173, 'total_photos': 1142, 'total_promoted_photos': 109, 'accepted_tos': True, 'for_hire': True, 'social': {'instagram_username': 'TheEastLondonPhotographer', 'portfolio_url': 'https://www.mettyunuabona.com/', 'twitter_username': 'TheEastLDNTog', 'paypal_email': None}}, 'exif': {'make': 'FUJIFILM', 'model': 'X-H1', 'name': 'FUJIFILM, X-H1', 'exposure_time': '1/4000', 'aperture': '2', 'focal_length': '18.0', 'iso': 400}, 'location': {'name': 'High Street Kensington, Kensington High Street, London, UK', 'city': None, 'country': None, 'position': {'latitude': None, 'longitude': None}}, 'views': 236439, 'downloads': 651}]\n"
     ]
    }
   ],
   "source": [
    "amount_images=5\n",
    "search_query=\"gaza\"#topic\n",
    "\n",
    "parameter={\n",
    "    \"client_id\":api_key,\n",
    "    \"count\":amount_images,\n",
    "    \"query\":search_query\n",
    "}\n",
    "\n",
    "response = requests.get(url, params=parameter)\n",
    "data = response.json()\n",
    "print(data)\n",
    "\n"
   ]
  },
  {
   "cell_type": "code",
   "execution_count": 4,
   "metadata": {},
   "outputs": [
    {
     "name": "stdout",
     "output_type": "stream",
     "text": [
      "Emad El Byed\n",
      "https://images.unsplash.com/photo-1702024284454-6aeec37aec64?crop=entropy&cs=tinysrgb&fit=max&fm=jpg&ixid=M3w1MjkxMDF8MHwxfHJhbmRvbXx8fHx8fHx8fDE3MDI5OTMwOTd8&ixlib=rb-4.0.3&q=80&w=1080\n"
     ]
    },
    {
     "data": {
      "text/html": [
       "<img src=\"https://images.unsplash.com/photo-1702024284454-6aeec37aec64?crop=entropy&cs=tinysrgb&fit=max&fm=jpg&ixid=M3w1MjkxMDF8MHwxfHJhbmRvbXx8fHx8fHx8fDE3MDI5OTMwOTd8&ixlib=rb-4.0.3&q=80&w=1080\"/>"
      ],
      "text/plain": [
       "<IPython.core.display.Image object>"
      ]
     },
     "metadata": {},
     "output_type": "display_data"
    },
    {
     "name": "stdout",
     "output_type": "stream",
     "text": [
      "Ehimetalor Akhere Unuabona\n",
      "https://images.unsplash.com/photo-1620767463583-14661a8b63eb?crop=entropy&cs=tinysrgb&fit=max&fm=jpg&ixid=M3w1MjkxMDF8MHwxfHJhbmRvbXx8fHx8fHx8fDE3MDI5OTMwOTd8&ixlib=rb-4.0.3&q=80&w=1080\n"
     ]
    },
    {
     "data": {
      "text/html": [
       "<img src=\"https://images.unsplash.com/photo-1620767463583-14661a8b63eb?crop=entropy&cs=tinysrgb&fit=max&fm=jpg&ixid=M3w1MjkxMDF8MHwxfHJhbmRvbXx8fHx8fHx8fDE3MDI5OTMwOTd8&ixlib=rb-4.0.3&q=80&w=1080\"/>"
      ],
      "text/plain": [
       "<IPython.core.display.Image object>"
      ]
     },
     "metadata": {},
     "output_type": "display_data"
    },
    {
     "name": "stdout",
     "output_type": "stream",
     "text": [
      "Emad El Byed\n",
      "https://images.unsplash.com/photo-1701374622160-f49a328862e1?crop=entropy&cs=tinysrgb&fit=max&fm=jpg&ixid=M3w1MjkxMDF8MHwxfHJhbmRvbXx8fHx8fHx8fDE3MDI5OTMwOTd8&ixlib=rb-4.0.3&q=80&w=1080\n"
     ]
    },
    {
     "data": {
      "text/html": [
       "<img src=\"https://images.unsplash.com/photo-1701374622160-f49a328862e1?crop=entropy&cs=tinysrgb&fit=max&fm=jpg&ixid=M3w1MjkxMDF8MHwxfHJhbmRvbXx8fHx8fHx8fDE3MDI5OTMwOTd8&ixlib=rb-4.0.3&q=80&w=1080\"/>"
      ],
      "text/plain": [
       "<IPython.core.display.Image object>"
      ]
     },
     "metadata": {},
     "output_type": "display_data"
    },
    {
     "name": "stdout",
     "output_type": "stream",
     "text": [
      "Gilgit Baltistan\n",
      "https://images.unsplash.com/photo-1621069432479-3d78e390dc39?crop=entropy&cs=tinysrgb&fit=max&fm=jpg&ixid=M3w1MjkxMDF8MHwxfHJhbmRvbXx8fHx8fHx8fDE3MDI5OTMwOTd8&ixlib=rb-4.0.3&q=80&w=1080\n"
     ]
    },
    {
     "data": {
      "text/html": [
       "<img src=\"https://images.unsplash.com/photo-1621069432479-3d78e390dc39?crop=entropy&cs=tinysrgb&fit=max&fm=jpg&ixid=M3w1MjkxMDF8MHwxfHJhbmRvbXx8fHx8fHx8fDE3MDI5OTMwOTd8&ixlib=rb-4.0.3&q=80&w=1080\"/>"
      ],
      "text/plain": [
       "<IPython.core.display.Image object>"
      ]
     },
     "metadata": {},
     "output_type": "display_data"
    },
    {
     "name": "stdout",
     "output_type": "stream",
     "text": [
      "Ehimetalor Akhere Unuabona\n",
      "https://images.unsplash.com/photo-1621183037868-050ca5d88189?crop=entropy&cs=tinysrgb&fit=max&fm=jpg&ixid=M3w1MjkxMDF8MHwxfHJhbmRvbXx8fHx8fHx8fDE3MDI5OTMwOTd8&ixlib=rb-4.0.3&q=80&w=1080\n"
     ]
    },
    {
     "data": {
      "text/html": [
       "<img src=\"https://images.unsplash.com/photo-1621183037868-050ca5d88189?crop=entropy&cs=tinysrgb&fit=max&fm=jpg&ixid=M3w1MjkxMDF8MHwxfHJhbmRvbXx8fHx8fHx8fDE3MDI5OTMwOTd8&ixlib=rb-4.0.3&q=80&w=1080\"/>"
      ],
      "text/plain": [
       "<IPython.core.display.Image object>"
      ]
     },
     "metadata": {},
     "output_type": "display_data"
    }
   ],
   "source": [
    "#important to get the name of the photograph and the url, because unsplash wants you to credit the photograph and themselves when using an image\n",
    "def display_images(images_data):\n",
    " for foto in images_data:\n",
    "    foto_url = foto[\"urls\"][\"regular\"]\n",
    "    print(foto[\"user\"][\"name\"])\n",
    "    print(foto_url)\n",
    "    display(Image(url=foto_url))\n",
    "\n",
    "display_images(data)"
   ]
  },
  {
   "cell_type": "code",
   "execution_count": 7,
   "metadata": {},
   "outputs": [
    {
     "ename": "FileNotFoundError",
     "evalue": "[Errno 2] No such file or directory: '/workspaces/data-app/notebooks/saved_images_unsplash/test_save.jpg'",
     "output_type": "error",
     "traceback": [
      "\u001b[0;31m---------------------------------------------------------------------------\u001b[0m",
      "\u001b[0;31mFileNotFoundError\u001b[0m                         Traceback (most recent call last)",
      "\u001b[1;32m/workspaces/data integration project/notebooks/unsplash.ipynb Cell 5\u001b[0m line \u001b[0;36m9\n\u001b[1;32m      <a href='vscode-notebook-cell://dev-container%2B7b22686f737450617468223a22633a5c5c50726f6772616d2046696c65735c5c6461746120696e746567726174696f6e2070726f6a656374222c226c6f63616c446f636b6572223a66616c73652c22636f6e66696746696c65223a7b22246d6964223a312c22667350617468223a22633a5c5c50726f6772616d2046696c65735c5c6461746120696e746567726174696f6e2070726f6a6563745c5c2e646576636f6e7461696e65725c5c646576636f6e7461696e65722e6a736f6e222c225f736570223a312c2265787465726e616c223a2266696c653a2f2f2f632533412f50726f6772616d25323046696c65732f64617461253230696e746567726174696f6e25323070726f6a6563742f2e646576636f6e7461696e65722f646576636f6e7461696e65722e6a736f6e222c2270617468223a222f633a2f50726f6772616d2046696c65732f6461746120696e746567726174696f6e2070726f6a6563742f2e646576636f6e7461696e65722f646576636f6e7461696e65722e6a736f6e222c22736368656d65223a2266696c65227d7d/workspaces/data%20integration%20project/notebooks/unsplash.ipynb#W4sdnNjb2RlLXJlbW90ZQ%3D%3D?line=5'>6</a>\u001b[0m  \u001b[39mwith\u001b[39;00m \u001b[39mopen\u001b[39m(filepath,\u001b[39m\"\u001b[39m\u001b[39mwb\u001b[39m\u001b[39m\"\u001b[39m) \u001b[39mas\u001b[39;00m file:\n\u001b[1;32m      <a href='vscode-notebook-cell://dev-container%2B7b22686f737450617468223a22633a5c5c50726f6772616d2046696c65735c5c6461746120696e746567726174696f6e2070726f6a656374222c226c6f63616c446f636b6572223a66616c73652c22636f6e66696746696c65223a7b22246d6964223a312c22667350617468223a22633a5c5c50726f6772616d2046696c65735c5c6461746120696e746567726174696f6e2070726f6a6563745c5c2e646576636f6e7461696e65725c5c646576636f6e7461696e65722e6a736f6e222c225f736570223a312c2265787465726e616c223a2266696c653a2f2f2f632533412f50726f6772616d25323046696c65732f64617461253230696e746567726174696f6e25323070726f6a6563742f2e646576636f6e7461696e65722f646576636f6e7461696e65722e6a736f6e222c2270617468223a222f633a2f50726f6772616d2046696c65732f6461746120696e746567726174696f6e2070726f6a6563742f2e646576636f6e7461696e65722f646576636f6e7461696e65722e6a736f6e222c22736368656d65223a2266696c65227d7d/workspaces/data%20integration%20project/notebooks/unsplash.ipynb#W4sdnNjb2RlLXJlbW90ZQ%3D%3D?line=6'>7</a>\u001b[0m     file\u001b[39m.\u001b[39mwrite(image_response\u001b[39m.\u001b[39mcontent)\n\u001b[0;32m----> <a href='vscode-notebook-cell://dev-container%2B7b22686f737450617468223a22633a5c5c50726f6772616d2046696c65735c5c6461746120696e746567726174696f6e2070726f6a656374222c226c6f63616c446f636b6572223a66616c73652c22636f6e66696746696c65223a7b22246d6964223a312c22667350617468223a22633a5c5c50726f6772616d2046696c65735c5c6461746120696e746567726174696f6e2070726f6a6563745c5c2e646576636f6e7461696e65725c5c646576636f6e7461696e65722e6a736f6e222c225f736570223a312c2265787465726e616c223a2266696c653a2f2f2f632533412f50726f6772616d25323046696c65732f64617461253230696e746567726174696f6e25323070726f6a6563742f2e646576636f6e7461696e65722f646576636f6e7461696e65722e6a736f6e222c2270617468223a222f633a2f50726f6772616d2046696c65732f6461746120696e746567726174696f6e2070726f6a6563742f2e646576636f6e7461696e65722f646576636f6e7461696e65722e6a736f6e222c22736368656d65223a2266696c65227d7d/workspaces/data%20integration%20project/notebooks/unsplash.ipynb#W4sdnNjb2RlLXJlbW90ZQ%3D%3D?line=8'>9</a>\u001b[0m save_image(data[\u001b[39m0\u001b[39;49m],\u001b[39m\"\u001b[39;49m\u001b[39mtest_save.jpg\u001b[39;49m\u001b[39m\"\u001b[39;49m)\u001b[39m#save first image\u001b[39;00m\n",
      "\u001b[1;32m/workspaces/data integration project/notebooks/unsplash.ipynb Cell 5\u001b[0m line \u001b[0;36m6\n\u001b[1;32m      <a href='vscode-notebook-cell://dev-container%2B7b22686f737450617468223a22633a5c5c50726f6772616d2046696c65735c5c6461746120696e746567726174696f6e2070726f6a656374222c226c6f63616c446f636b6572223a66616c73652c22636f6e66696746696c65223a7b22246d6964223a312c22667350617468223a22633a5c5c50726f6772616d2046696c65735c5c6461746120696e746567726174696f6e2070726f6a6563745c5c2e646576636f6e7461696e65725c5c646576636f6e7461696e65722e6a736f6e222c225f736570223a312c2265787465726e616c223a2266696c653a2f2f2f632533412f50726f6772616d25323046696c65732f64617461253230696e746567726174696f6e25323070726f6a6563742f2e646576636f6e7461696e65722f646576636f6e7461696e65722e6a736f6e222c2270617468223a222f633a2f50726f6772616d2046696c65732f6461746120696e746567726174696f6e2070726f6a6563742f2e646576636f6e7461696e65722f646576636f6e7461696e65722e6a736f6e222c22736368656d65223a2266696c65227d7d/workspaces/data%20integration%20project/notebooks/unsplash.ipynb#W4sdnNjb2RlLXJlbW90ZQ%3D%3D?line=3'>4</a>\u001b[0m image_url \u001b[39m=\u001b[39m image[\u001b[39m\"\u001b[39m\u001b[39murls\u001b[39m\u001b[39m\"\u001b[39m][\u001b[39m\"\u001b[39m\u001b[39mregular\u001b[39m\u001b[39m\"\u001b[39m]\u001b[39m#url of chosen image\u001b[39;00m\n\u001b[1;32m      <a href='vscode-notebook-cell://dev-container%2B7b22686f737450617468223a22633a5c5c50726f6772616d2046696c65735c5c6461746120696e746567726174696f6e2070726f6a656374222c226c6f63616c446f636b6572223a66616c73652c22636f6e66696746696c65223a7b22246d6964223a312c22667350617468223a22633a5c5c50726f6772616d2046696c65735c5c6461746120696e746567726174696f6e2070726f6a6563745c5c2e646576636f6e7461696e65725c5c646576636f6e7461696e65722e6a736f6e222c225f736570223a312c2265787465726e616c223a2266696c653a2f2f2f632533412f50726f6772616d25323046696c65732f64617461253230696e746567726174696f6e25323070726f6a6563742f2e646576636f6e7461696e65722f646576636f6e7461696e65722e6a736f6e222c2270617468223a222f633a2f50726f6772616d2046696c65732f6461746120696e746567726174696f6e2070726f6a6563742f2e646576636f6e7461696e65722f646576636f6e7461696e65722e6a736f6e222c22736368656d65223a2266696c65227d7d/workspaces/data%20integration%20project/notebooks/unsplash.ipynb#W4sdnNjb2RlLXJlbW90ZQ%3D%3D?line=4'>5</a>\u001b[0m image_response \u001b[39m=\u001b[39m requests\u001b[39m.\u001b[39mget(image_url)\u001b[39m#download\u001b[39;00m\n\u001b[0;32m----> <a href='vscode-notebook-cell://dev-container%2B7b22686f737450617468223a22633a5c5c50726f6772616d2046696c65735c5c6461746120696e746567726174696f6e2070726f6a656374222c226c6f63616c446f636b6572223a66616c73652c22636f6e66696746696c65223a7b22246d6964223a312c22667350617468223a22633a5c5c50726f6772616d2046696c65735c5c6461746120696e746567726174696f6e2070726f6a6563745c5c2e646576636f6e7461696e65725c5c646576636f6e7461696e65722e6a736f6e222c225f736570223a312c2265787465726e616c223a2266696c653a2f2f2f632533412f50726f6772616d25323046696c65732f64617461253230696e746567726174696f6e25323070726f6a6563742f2e646576636f6e7461696e65722f646576636f6e7461696e65722e6a736f6e222c2270617468223a222f633a2f50726f6772616d2046696c65732f6461746120696e746567726174696f6e2070726f6a6563742f2e646576636f6e7461696e65722f646576636f6e7461696e65722e6a736f6e222c22736368656d65223a2266696c65227d7d/workspaces/data%20integration%20project/notebooks/unsplash.ipynb#W4sdnNjb2RlLXJlbW90ZQ%3D%3D?line=5'>6</a>\u001b[0m \u001b[39mwith\u001b[39;00m \u001b[39mopen\u001b[39;49m(filepath,\u001b[39m\"\u001b[39;49m\u001b[39mwb\u001b[39;49m\u001b[39m\"\u001b[39;49m) \u001b[39mas\u001b[39;00m file:\n\u001b[1;32m      <a href='vscode-notebook-cell://dev-container%2B7b22686f737450617468223a22633a5c5c50726f6772616d2046696c65735c5c6461746120696e746567726174696f6e2070726f6a656374222c226c6f63616c446f636b6572223a66616c73652c22636f6e66696746696c65223a7b22246d6964223a312c22667350617468223a22633a5c5c50726f6772616d2046696c65735c5c6461746120696e746567726174696f6e2070726f6a6563745c5c2e646576636f6e7461696e65725c5c646576636f6e7461696e65722e6a736f6e222c225f736570223a312c2265787465726e616c223a2266696c653a2f2f2f632533412f50726f6772616d25323046696c65732f64617461253230696e746567726174696f6e25323070726f6a6563742f2e646576636f6e7461696e65722f646576636f6e7461696e65722e6a736f6e222c2270617468223a222f633a2f50726f6772616d2046696c65732f6461746120696e746567726174696f6e2070726f6a6563742f2e646576636f6e7461696e65722f646576636f6e7461696e65722e6a736f6e222c22736368656d65223a2266696c65227d7d/workspaces/data%20integration%20project/notebooks/unsplash.ipynb#W4sdnNjb2RlLXJlbW90ZQ%3D%3D?line=6'>7</a>\u001b[0m    file\u001b[39m.\u001b[39mwrite(image_response\u001b[39m.\u001b[39mcontent)\n",
      "File \u001b[0;32m~/.local/lib/python3.11/site-packages/IPython/core/interactiveshell.py:310\u001b[0m, in \u001b[0;36m_modified_open\u001b[0;34m(file, *args, **kwargs)\u001b[0m\n\u001b[1;32m    303\u001b[0m \u001b[39mif\u001b[39;00m file \u001b[39min\u001b[39;00m {\u001b[39m0\u001b[39m, \u001b[39m1\u001b[39m, \u001b[39m2\u001b[39m}:\n\u001b[1;32m    304\u001b[0m     \u001b[39mraise\u001b[39;00m \u001b[39mValueError\u001b[39;00m(\n\u001b[1;32m    305\u001b[0m         \u001b[39mf\u001b[39m\u001b[39m\"\u001b[39m\u001b[39mIPython won\u001b[39m\u001b[39m'\u001b[39m\u001b[39mt let you open fd=\u001b[39m\u001b[39m{\u001b[39;00mfile\u001b[39m}\u001b[39;00m\u001b[39m by default \u001b[39m\u001b[39m\"\u001b[39m\n\u001b[1;32m    306\u001b[0m         \u001b[39m\"\u001b[39m\u001b[39mas it is likely to crash IPython. If you know what you are doing, \u001b[39m\u001b[39m\"\u001b[39m\n\u001b[1;32m    307\u001b[0m         \u001b[39m\"\u001b[39m\u001b[39myou can use builtins\u001b[39m\u001b[39m'\u001b[39m\u001b[39m open.\u001b[39m\u001b[39m\"\u001b[39m\n\u001b[1;32m    308\u001b[0m     )\n\u001b[0;32m--> 310\u001b[0m \u001b[39mreturn\u001b[39;00m io_open(file, \u001b[39m*\u001b[39;49margs, \u001b[39m*\u001b[39;49m\u001b[39m*\u001b[39;49mkwargs)\n",
      "\u001b[0;31mFileNotFoundError\u001b[0m: [Errno 2] No such file or directory: '/workspaces/data-app/notebooks/saved_images_unsplash/test_save.jpg'"
     ]
    }
   ],
   "source": [
    "\n",
    "def save_image(image,name_to_save):\n",
    " save_folder=\"/workspaces/data-app/notebooks/saved_images_unsplash\"#has to be changed to the new directory\n",
    " filepath = os.path.join(save_folder, name_to_save)\n",
    " image_url = image[\"urls\"][\"regular\"]#url of chosen image\n",
    " image_response = requests.get(image_url)#download\n",
    " with open(filepath,\"wb\") as file:\n",
    "    file.write(image_response.content)\n",
    "\n",
    "save_image(data[0],\"test_save.jpg\")#save first image\n",
    "\n",
    "    "
   ]
  }
 ],
 "metadata": {
  "kernelspec": {
   "display_name": "Python 3",
   "language": "python",
   "name": "python3"
  },
  "language_info": {
   "codemirror_mode": {
    "name": "ipython",
    "version": 3
   },
   "file_extension": ".py",
   "mimetype": "text/x-python",
   "name": "python",
   "nbconvert_exporter": "python",
   "pygments_lexer": "ipython3",
   "version": "3.11.7"
  }
 },
 "nbformat": 4,
 "nbformat_minor": 2
}
