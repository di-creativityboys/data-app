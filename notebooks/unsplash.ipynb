{
 "cells": [
  {
   "cell_type": "code",
   "execution_count": 3,
   "metadata": {},
   "outputs": [],
   "source": [
    "import requests\n",
    "from IPython.display import Image, display\n",
    "import os"
   ]
  },
  {
   "cell_type": "code",
   "execution_count": 4,
   "metadata": {},
   "outputs": [],
   "source": [
    "url = \"https://api.unsplash.com/photos/random\"\n",
    "\n",
    "# My personal API-Key\n",
    "api_key = \"yxTqVe8SO0J4Bc8ThfY9wwnZolR3qCNzSU42bzbRCWs\""
   ]
  },
  {
   "cell_type": "code",
   "execution_count": 5,
   "metadata": {},
   "outputs": [
    {
     "name": "stdout",
     "output_type": "stream",
     "text": [
      "[{'id': 'fXUSMymH0aI', 'slug': 'a-large-group-of-people-holding-flags-and-signs-fXUSMymH0aI', 'created_at': '2023-11-11T23:10:53Z', 'updated_at': '2023-11-30T12:49:44Z', 'promoted_at': None, 'width': 4000, 'height': 1800, 'color': '#262626', 'blur_hash': 'LCHnmRE1%g~p_MM|IVo_9Z4nEMNZ', 'description': 'Over 600,000 people came out on Saturday, 11th November 2023. To march from Hyde Park to the USA Embassy at 33 Nine Elms Lane in London. In opposition to the Israel-USA Genocide of the Palestinian people.', 'alt_description': 'a large group of people holding flags and signs', 'breadcrumbs': [], 'urls': {'raw': 'https://images.unsplash.com/photo-1699742853610-cb8ea6b0697a?ixid=M3w1MjkxMDF8MHwxfHJhbmRvbXx8fHx8fHx8fDE3MDEzNjczNTR8&ixlib=rb-4.0.3', 'full': 'https://images.unsplash.com/photo-1699742853610-cb8ea6b0697a?crop=entropy&cs=srgb&fm=jpg&ixid=M3w1MjkxMDF8MHwxfHJhbmRvbXx8fHx8fHx8fDE3MDEzNjczNTR8&ixlib=rb-4.0.3&q=85', 'regular': 'https://images.unsplash.com/photo-1699742853610-cb8ea6b0697a?crop=entropy&cs=tinysrgb&fit=max&fm=jpg&ixid=M3w1MjkxMDF8MHwxfHJhbmRvbXx8fHx8fHx8fDE3MDEzNjczNTR8&ixlib=rb-4.0.3&q=80&w=1080', 'small': 'https://images.unsplash.com/photo-1699742853610-cb8ea6b0697a?crop=entropy&cs=tinysrgb&fit=max&fm=jpg&ixid=M3w1MjkxMDF8MHwxfHJhbmRvbXx8fHx8fHx8fDE3MDEzNjczNTR8&ixlib=rb-4.0.3&q=80&w=400', 'thumb': 'https://images.unsplash.com/photo-1699742853610-cb8ea6b0697a?crop=entropy&cs=tinysrgb&fit=max&fm=jpg&ixid=M3w1MjkxMDF8MHwxfHJhbmRvbXx8fHx8fHx8fDE3MDEzNjczNTR8&ixlib=rb-4.0.3&q=80&w=200', 'small_s3': 'https://s3.us-west-2.amazonaws.com/images.unsplash.com/small/photo-1699742853610-cb8ea6b0697a'}, 'links': {'self': 'https://api.unsplash.com/photos/a-large-group-of-people-holding-flags-and-signs-fXUSMymH0aI', 'html': 'https://unsplash.com/photos/a-large-group-of-people-holding-flags-and-signs-fXUSMymH0aI', 'download': 'https://unsplash.com/photos/fXUSMymH0aI/download?ixid=M3w1MjkxMDF8MHwxfHJhbmRvbXx8fHx8fHx8fDE3MDEzNjczNTR8', 'download_location': 'https://api.unsplash.com/photos/fXUSMymH0aI/download?ixid=M3w1MjkxMDF8MHwxfHJhbmRvbXx8fHx8fHx8fDE3MDEzNjczNTR8'}, 'likes': 0, 'liked_by_user': False, 'current_user_collections': [], 'sponsorship': None, 'topic_submissions': {}, 'user': {'id': '4rKWVObpSLc', 'updated_at': '2023-11-29T17:05:12Z', 'username': 'austin_nft', 'name': 'Austin Crick', 'first_name': 'Austin', 'last_name': 'Crick', 'twitter_username': None, 'portfolio_url': None, 'bio': None, 'location': None, 'links': {'self': 'https://api.unsplash.com/users/austin_nft', 'html': 'https://unsplash.com/@austin_nft', 'photos': 'https://api.unsplash.com/users/austin_nft/photos', 'likes': 'https://api.unsplash.com/users/austin_nft/likes', 'portfolio': 'https://api.unsplash.com/users/austin_nft/portfolio', 'following': 'https://api.unsplash.com/users/austin_nft/following', 'followers': 'https://api.unsplash.com/users/austin_nft/followers'}, 'profile_image': {'small': 'https://images.unsplash.com/profile-1661345877599-45ca89164711image?ixlib=rb-4.0.3&crop=faces&fit=crop&w=32&h=32', 'medium': 'https://images.unsplash.com/profile-1661345877599-45ca89164711image?ixlib=rb-4.0.3&crop=faces&fit=crop&w=64&h=64', 'large': 'https://images.unsplash.com/profile-1661345877599-45ca89164711image?ixlib=rb-4.0.3&crop=faces&fit=crop&w=128&h=128'}, 'instagram_username': None, 'total_collections': 7, 'total_likes': 0, 'total_photos': 1883, 'total_promoted_photos': 0, 'accepted_tos': True, 'for_hire': False, 'social': {'instagram_username': None, 'portfolio_url': None, 'twitter_username': None, 'paypal_email': None}}, 'exif': {'make': 'samsung', 'model': 'SM-G988B', 'name': 'samsung, SM-G988B', 'exposure_time': '1/506', 'aperture': '1.8', 'focal_length': '7.0', 'iso': 50}, 'location': {'name': 'Park Lane, Mayfair, London, UK', 'city': None, 'country': 'United Kingdom', 'position': {'latitude': 51.508333, 'longitude': -0.154719}}, 'views': 2193, 'downloads': 3}, {'id': 'DYFTmqL_kEw', 'slug': 'a-woman-holding-a-sign-that-says-from-the-river-to-the-sea-palestine-will-be-DYFTmqL_kEw', 'created_at': '2023-10-24T18:28:55Z', 'updated_at': '2023-11-30T00:54:14Z', 'promoted_at': None, 'width': 4423, 'height': 6635, 'color': '#d9d9d9', 'blur_hash': 'LYIz^_ISE1I;8^%MxvNG58M|t6xa', 'description': 'From the River to the Sea Palestine will be Free', 'alt_description': 'a woman holding a sign that says from the river to the sea palestine will be', 'breadcrumbs': [], 'urls': {'raw': 'https://images.unsplash.com/photo-1698171784335-0bf93f179f70?ixid=M3w1MjkxMDF8MHwxfHJhbmRvbXx8fHx8fHx8fDE3MDEzNjczNTR8&ixlib=rb-4.0.3', 'full': 'https://images.unsplash.com/photo-1698171784335-0bf93f179f70?crop=entropy&cs=srgb&fm=jpg&ixid=M3w1MjkxMDF8MHwxfHJhbmRvbXx8fHx8fHx8fDE3MDEzNjczNTR8&ixlib=rb-4.0.3&q=85', 'regular': 'https://images.unsplash.com/photo-1698171784335-0bf93f179f70?crop=entropy&cs=tinysrgb&fit=max&fm=jpg&ixid=M3w1MjkxMDF8MHwxfHJhbmRvbXx8fHx8fHx8fDE3MDEzNjczNTR8&ixlib=rb-4.0.3&q=80&w=1080', 'small': 'https://images.unsplash.com/photo-1698171784335-0bf93f179f70?crop=entropy&cs=tinysrgb&fit=max&fm=jpg&ixid=M3w1MjkxMDF8MHwxfHJhbmRvbXx8fHx8fHx8fDE3MDEzNjczNTR8&ixlib=rb-4.0.3&q=80&w=400', 'thumb': 'https://images.unsplash.com/photo-1698171784335-0bf93f179f70?crop=entropy&cs=tinysrgb&fit=max&fm=jpg&ixid=M3w1MjkxMDF8MHwxfHJhbmRvbXx8fHx8fHx8fDE3MDEzNjczNTR8&ixlib=rb-4.0.3&q=80&w=200', 'small_s3': 'https://s3.us-west-2.amazonaws.com/images.unsplash.com/small/photo-1698171784335-0bf93f179f70'}, 'links': {'self': 'https://api.unsplash.com/photos/a-woman-holding-a-sign-that-says-from-the-river-to-the-sea-palestine-will-be-DYFTmqL_kEw', 'html': 'https://unsplash.com/photos/a-woman-holding-a-sign-that-says-from-the-river-to-the-sea-palestine-will-be-DYFTmqL_kEw', 'download': 'https://unsplash.com/photos/DYFTmqL_kEw/download?ixid=M3w1MjkxMDF8MHwxfHJhbmRvbXx8fHx8fHx8fDE3MDEzNjczNTR8', 'download_location': 'https://api.unsplash.com/photos/DYFTmqL_kEw/download?ixid=M3w1MjkxMDF8MHwxfHJhbmRvbXx8fHx8fHx8fDE3MDEzNjczNTR8'}, 'likes': 8, 'liked_by_user': False, 'current_user_collections': [], 'sponsorship': None, 'topic_submissions': {}, 'user': {'id': 'cHYya4LwotM', 'updated_at': '2023-11-29T02:37:09Z', 'username': 'gmalhotra', 'name': 'Gayatri Malhotra', 'first_name': 'Gayatri', 'last_name': 'Malhotra', 'twitter_username': 'gayatrim16', 'portfolio_url': 'http://gayatrimalhotra.com', 'bio': 'Globetrotter', 'location': 'Washington, DC', 'links': {'self': 'https://api.unsplash.com/users/gmalhotra', 'html': 'https://unsplash.com/@gmalhotra', 'photos': 'https://api.unsplash.com/users/gmalhotra/photos', 'likes': 'https://api.unsplash.com/users/gmalhotra/likes', 'portfolio': 'https://api.unsplash.com/users/gmalhotra/portfolio', 'following': 'https://api.unsplash.com/users/gmalhotra/following', 'followers': 'https://api.unsplash.com/users/gmalhotra/followers'}, 'profile_image': {'small': 'https://images.unsplash.com/profile-1608514617921-235a62acbd71image?ixlib=rb-4.0.3&crop=faces&fit=crop&w=32&h=32', 'medium': 'https://images.unsplash.com/profile-1608514617921-235a62acbd71image?ixlib=rb-4.0.3&crop=faces&fit=crop&w=64&h=64', 'large': 'https://images.unsplash.com/profile-1608514617921-235a62acbd71image?ixlib=rb-4.0.3&crop=faces&fit=crop&w=128&h=128'}, 'instagram_username': 'gayatrim', 'total_collections': 8, 'total_likes': 41, 'total_photos': 653, 'total_promoted_photos': 46, 'accepted_tos': True, 'for_hire': True, 'social': {'instagram_username': 'gayatrim', 'portfolio_url': 'http://gayatrimalhotra.com', 'twitter_username': 'gayatrim16', 'paypal_email': None}}, 'exif': {'make': 'SONY', 'model': 'ILCE-7M4', 'name': 'SONY, ILCE-7M4', 'exposure_time': '1/1600', 'aperture': '5.0', 'focal_length': '70.0', 'iso': 160}, 'location': {'name': 'Washington D.C., DC, USA', 'city': 'Washington', 'country': 'United States', 'position': {'latitude': 38.907192, 'longitude': -77.036871}}, 'views': 17707, 'downloads': 238}, {'id': 'zNSGT7DN2RA', 'slug': 'a-man-holding-a-sign-in-front-of-a-building-zNSGT7DN2RA', 'created_at': '2023-10-24T15:21:56Z', 'updated_at': '2023-11-12T14:59:35Z', 'promoted_at': None, 'width': 4227, 'height': 6340, 'color': '#f3f3f3', 'blur_hash': 'LvMj%RtRxuWU_NflWCofW?RiRiae', 'description': 'Zionism = Fascism', 'alt_description': 'a man holding a sign in front of a building', 'breadcrumbs': [], 'urls': {'raw': 'https://images.unsplash.com/photo-1698159905715-2727879266f4?ixid=M3w1MjkxMDF8MHwxfHJhbmRvbXx8fHx8fHx8fDE3MDEzNjczNTR8&ixlib=rb-4.0.3', 'full': 'https://images.unsplash.com/photo-1698159905715-2727879266f4?crop=entropy&cs=srgb&fm=jpg&ixid=M3w1MjkxMDF8MHwxfHJhbmRvbXx8fHx8fHx8fDE3MDEzNjczNTR8&ixlib=rb-4.0.3&q=85', 'regular': 'https://images.unsplash.com/photo-1698159905715-2727879266f4?crop=entropy&cs=tinysrgb&fit=max&fm=jpg&ixid=M3w1MjkxMDF8MHwxfHJhbmRvbXx8fHx8fHx8fDE3MDEzNjczNTR8&ixlib=rb-4.0.3&q=80&w=1080', 'small': 'https://images.unsplash.com/photo-1698159905715-2727879266f4?crop=entropy&cs=tinysrgb&fit=max&fm=jpg&ixid=M3w1MjkxMDF8MHwxfHJhbmRvbXx8fHx8fHx8fDE3MDEzNjczNTR8&ixlib=rb-4.0.3&q=80&w=400', 'thumb': 'https://images.unsplash.com/photo-1698159905715-2727879266f4?crop=entropy&cs=tinysrgb&fit=max&fm=jpg&ixid=M3w1MjkxMDF8MHwxfHJhbmRvbXx8fHx8fHx8fDE3MDEzNjczNTR8&ixlib=rb-4.0.3&q=80&w=200', 'small_s3': 'https://s3.us-west-2.amazonaws.com/images.unsplash.com/small/photo-1698159905715-2727879266f4'}, 'links': {'self': 'https://api.unsplash.com/photos/a-man-holding-a-sign-in-front-of-a-building-zNSGT7DN2RA', 'html': 'https://unsplash.com/photos/a-man-holding-a-sign-in-front-of-a-building-zNSGT7DN2RA', 'download': 'https://unsplash.com/photos/zNSGT7DN2RA/download?ixid=M3w1MjkxMDF8MHwxfHJhbmRvbXx8fHx8fHx8fDE3MDEzNjczNTR8', 'download_location': 'https://api.unsplash.com/photos/zNSGT7DN2RA/download?ixid=M3w1MjkxMDF8MHwxfHJhbmRvbXx8fHx8fHx8fDE3MDEzNjczNTR8'}, 'likes': 0, 'liked_by_user': False, 'current_user_collections': [], 'sponsorship': None, 'topic_submissions': {}, 'user': {'id': 'cHYya4LwotM', 'updated_at': '2023-11-29T02:37:09Z', 'username': 'gmalhotra', 'name': 'Gayatri Malhotra', 'first_name': 'Gayatri', 'last_name': 'Malhotra', 'twitter_username': 'gayatrim16', 'portfolio_url': 'http://gayatrimalhotra.com', 'bio': 'Globetrotter', 'location': 'Washington, DC', 'links': {'self': 'https://api.unsplash.com/users/gmalhotra', 'html': 'https://unsplash.com/@gmalhotra', 'photos': 'https://api.unsplash.com/users/gmalhotra/photos', 'likes': 'https://api.unsplash.com/users/gmalhotra/likes', 'portfolio': 'https://api.unsplash.com/users/gmalhotra/portfolio', 'following': 'https://api.unsplash.com/users/gmalhotra/following', 'followers': 'https://api.unsplash.com/users/gmalhotra/followers'}, 'profile_image': {'small': 'https://images.unsplash.com/profile-1608514617921-235a62acbd71image?ixlib=rb-4.0.3&crop=faces&fit=crop&w=32&h=32', 'medium': 'https://images.unsplash.com/profile-1608514617921-235a62acbd71image?ixlib=rb-4.0.3&crop=faces&fit=crop&w=64&h=64', 'large': 'https://images.unsplash.com/profile-1608514617921-235a62acbd71image?ixlib=rb-4.0.3&crop=faces&fit=crop&w=128&h=128'}, 'instagram_username': 'gayatrim', 'total_collections': 8, 'total_likes': 41, 'total_photos': 653, 'total_promoted_photos': 46, 'accepted_tos': True, 'for_hire': True, 'social': {'instagram_username': 'gayatrim', 'portfolio_url': 'http://gayatrimalhotra.com', 'twitter_username': 'gayatrim16', 'paypal_email': None}}, 'exif': {'make': 'SONY', 'model': 'ILCE-7M4', 'name': 'SONY, ILCE-7M4', 'exposure_time': '1/800', 'aperture': '7.1', 'focal_length': '30.0', 'iso': 500}, 'location': {'name': 'Washington D.C., DC, USA', 'city': 'Washington', 'country': 'United States', 'position': {'latitude': 38.907192, 'longitude': -77.036871}}, 'views': 10671, 'downloads': 32}, {'id': 'Ia60q8oFVUc', 'slug': 'a-group-of-people-holding-signs-in-front-of-a-building-Ia60q8oFVUc', 'created_at': '2023-10-19T15:16:05Z', 'updated_at': '2023-11-29T21:46:59Z', 'promoted_at': None, 'width': 6865, 'height': 4577, 'color': '#f3f3f3', 'blur_hash': 'L#K-qVxpE4xY~p%gRiWrIUt7xuRj', 'description': 'Decolonization is not a metaphor end Israeli occupation-free Palestine', 'alt_description': 'a group of people holding signs in front of a building', 'breadcrumbs': [], 'urls': {'raw': 'https://images.unsplash.com/photo-1697728150818-0f5a26dd55ce?ixid=M3w1MjkxMDF8MHwxfHJhbmRvbXx8fHx8fHx8fDE3MDEzNjczNTR8&ixlib=rb-4.0.3', 'full': 'https://images.unsplash.com/photo-1697728150818-0f5a26dd55ce?crop=entropy&cs=srgb&fm=jpg&ixid=M3w1MjkxMDF8MHwxfHJhbmRvbXx8fHx8fHx8fDE3MDEzNjczNTR8&ixlib=rb-4.0.3&q=85', 'regular': 'https://images.unsplash.com/photo-1697728150818-0f5a26dd55ce?crop=entropy&cs=tinysrgb&fit=max&fm=jpg&ixid=M3w1MjkxMDF8MHwxfHJhbmRvbXx8fHx8fHx8fDE3MDEzNjczNTR8&ixlib=rb-4.0.3&q=80&w=1080', 'small': 'https://images.unsplash.com/photo-1697728150818-0f5a26dd55ce?crop=entropy&cs=tinysrgb&fit=max&fm=jpg&ixid=M3w1MjkxMDF8MHwxfHJhbmRvbXx8fHx8fHx8fDE3MDEzNjczNTR8&ixlib=rb-4.0.3&q=80&w=400', 'thumb': 'https://images.unsplash.com/photo-1697728150818-0f5a26dd55ce?crop=entropy&cs=tinysrgb&fit=max&fm=jpg&ixid=M3w1MjkxMDF8MHwxfHJhbmRvbXx8fHx8fHx8fDE3MDEzNjczNTR8&ixlib=rb-4.0.3&q=80&w=200', 'small_s3': 'https://s3.us-west-2.amazonaws.com/images.unsplash.com/small/photo-1697728150818-0f5a26dd55ce'}, 'links': {'self': 'https://api.unsplash.com/photos/a-group-of-people-holding-signs-in-front-of-a-building-Ia60q8oFVUc', 'html': 'https://unsplash.com/photos/a-group-of-people-holding-signs-in-front-of-a-building-Ia60q8oFVUc', 'download': 'https://unsplash.com/photos/Ia60q8oFVUc/download?ixid=M3w1MjkxMDF8MHwxfHJhbmRvbXx8fHx8fHx8fDE3MDEzNjczNTR8', 'download_location': 'https://api.unsplash.com/photos/Ia60q8oFVUc/download?ixid=M3w1MjkxMDF8MHwxfHJhbmRvbXx8fHx8fHx8fDE3MDEzNjczNTR8'}, 'likes': 0, 'liked_by_user': False, 'current_user_collections': [], 'sponsorship': None, 'topic_submissions': {}, 'user': {'id': 'cHYya4LwotM', 'updated_at': '2023-11-29T02:37:09Z', 'username': 'gmalhotra', 'name': 'Gayatri Malhotra', 'first_name': 'Gayatri', 'last_name': 'Malhotra', 'twitter_username': 'gayatrim16', 'portfolio_url': 'http://gayatrimalhotra.com', 'bio': 'Globetrotter', 'location': 'Washington, DC', 'links': {'self': 'https://api.unsplash.com/users/gmalhotra', 'html': 'https://unsplash.com/@gmalhotra', 'photos': 'https://api.unsplash.com/users/gmalhotra/photos', 'likes': 'https://api.unsplash.com/users/gmalhotra/likes', 'portfolio': 'https://api.unsplash.com/users/gmalhotra/portfolio', 'following': 'https://api.unsplash.com/users/gmalhotra/following', 'followers': 'https://api.unsplash.com/users/gmalhotra/followers'}, 'profile_image': {'small': 'https://images.unsplash.com/profile-1608514617921-235a62acbd71image?ixlib=rb-4.0.3&crop=faces&fit=crop&w=32&h=32', 'medium': 'https://images.unsplash.com/profile-1608514617921-235a62acbd71image?ixlib=rb-4.0.3&crop=faces&fit=crop&w=64&h=64', 'large': 'https://images.unsplash.com/profile-1608514617921-235a62acbd71image?ixlib=rb-4.0.3&crop=faces&fit=crop&w=128&h=128'}, 'instagram_username': 'gayatrim', 'total_collections': 8, 'total_likes': 41, 'total_photos': 653, 'total_promoted_photos': 46, 'accepted_tos': True, 'for_hire': True, 'social': {'instagram_username': 'gayatrim', 'portfolio_url': 'http://gayatrimalhotra.com', 'twitter_username': 'gayatrim16', 'paypal_email': None}}, 'exif': {'make': 'SONY', 'model': 'ILCE-7M4', 'name': 'SONY, ILCE-7M4', 'exposure_time': '1/500', 'aperture': '7.1', 'focal_length': '24.0', 'iso': 500}, 'location': {'name': 'Washington D.C., DC, USA', 'city': 'Washington', 'country': 'United States', 'position': {'latitude': 38.907192, 'longitude': -77.036871}}, 'views': 24054, 'downloads': 50}, {'id': 'XftpyFNy5wQ', 'slug': 'a-large-group-of-people-holding-flags-and-signs-XftpyFNy5wQ', 'created_at': '2023-11-11T23:10:53Z', 'updated_at': '2023-11-30T09:49:35Z', 'promoted_at': None, 'width': 4000, 'height': 1800, 'color': '#595940', 'blur_hash': 'LLEMRdv_H=I[*0RNIANLIujGsma$', 'description': 'Over 600,000 people came out on Saturday, 11th November 2023. To march from Hyde Park to the USA Embassy at 33 Nine Elms Lane in London. In opposition to the Israel-USA Genocide of the Palestinian people.', 'alt_description': 'a large group of people holding flags and signs', 'breadcrumbs': [], 'urls': {'raw': 'https://images.unsplash.com/photo-1699742855158-a68cde26c941?ixid=M3w1MjkxMDF8MHwxfHJhbmRvbXx8fHx8fHx8fDE3MDEzNjczNTR8&ixlib=rb-4.0.3', 'full': 'https://images.unsplash.com/photo-1699742855158-a68cde26c941?crop=entropy&cs=srgb&fm=jpg&ixid=M3w1MjkxMDF8MHwxfHJhbmRvbXx8fHx8fHx8fDE3MDEzNjczNTR8&ixlib=rb-4.0.3&q=85', 'regular': 'https://images.unsplash.com/photo-1699742855158-a68cde26c941?crop=entropy&cs=tinysrgb&fit=max&fm=jpg&ixid=M3w1MjkxMDF8MHwxfHJhbmRvbXx8fHx8fHx8fDE3MDEzNjczNTR8&ixlib=rb-4.0.3&q=80&w=1080', 'small': 'https://images.unsplash.com/photo-1699742855158-a68cde26c941?crop=entropy&cs=tinysrgb&fit=max&fm=jpg&ixid=M3w1MjkxMDF8MHwxfHJhbmRvbXx8fHx8fHx8fDE3MDEzNjczNTR8&ixlib=rb-4.0.3&q=80&w=400', 'thumb': 'https://images.unsplash.com/photo-1699742855158-a68cde26c941?crop=entropy&cs=tinysrgb&fit=max&fm=jpg&ixid=M3w1MjkxMDF8MHwxfHJhbmRvbXx8fHx8fHx8fDE3MDEzNjczNTR8&ixlib=rb-4.0.3&q=80&w=200', 'small_s3': 'https://s3.us-west-2.amazonaws.com/images.unsplash.com/small/photo-1699742855158-a68cde26c941'}, 'links': {'self': 'https://api.unsplash.com/photos/a-large-group-of-people-holding-flags-and-signs-XftpyFNy5wQ', 'html': 'https://unsplash.com/photos/a-large-group-of-people-holding-flags-and-signs-XftpyFNy5wQ', 'download': 'https://unsplash.com/photos/XftpyFNy5wQ/download?ixid=M3w1MjkxMDF8MHwxfHJhbmRvbXx8fHx8fHx8fDE3MDEzNjczNTR8', 'download_location': 'https://api.unsplash.com/photos/XftpyFNy5wQ/download?ixid=M3w1MjkxMDF8MHwxfHJhbmRvbXx8fHx8fHx8fDE3MDEzNjczNTR8'}, 'likes': 0, 'liked_by_user': False, 'current_user_collections': [], 'sponsorship': None, 'topic_submissions': {}, 'user': {'id': '4rKWVObpSLc', 'updated_at': '2023-11-29T17:05:12Z', 'username': 'austin_nft', 'name': 'Austin Crick', 'first_name': 'Austin', 'last_name': 'Crick', 'twitter_username': None, 'portfolio_url': None, 'bio': None, 'location': None, 'links': {'self': 'https://api.unsplash.com/users/austin_nft', 'html': 'https://unsplash.com/@austin_nft', 'photos': 'https://api.unsplash.com/users/austin_nft/photos', 'likes': 'https://api.unsplash.com/users/austin_nft/likes', 'portfolio': 'https://api.unsplash.com/users/austin_nft/portfolio', 'following': 'https://api.unsplash.com/users/austin_nft/following', 'followers': 'https://api.unsplash.com/users/austin_nft/followers'}, 'profile_image': {'small': 'https://images.unsplash.com/profile-1661345877599-45ca89164711image?ixlib=rb-4.0.3&crop=faces&fit=crop&w=32&h=32', 'medium': 'https://images.unsplash.com/profile-1661345877599-45ca89164711image?ixlib=rb-4.0.3&crop=faces&fit=crop&w=64&h=64', 'large': 'https://images.unsplash.com/profile-1661345877599-45ca89164711image?ixlib=rb-4.0.3&crop=faces&fit=crop&w=128&h=128'}, 'instagram_username': None, 'total_collections': 7, 'total_likes': 0, 'total_photos': 1883, 'total_promoted_photos': 0, 'accepted_tos': True, 'for_hire': False, 'social': {'instagram_username': None, 'portfolio_url': None, 'twitter_username': None, 'paypal_email': None}}, 'exif': {'make': 'samsung', 'model': 'SM-G988B', 'name': 'samsung, SM-G988B', 'exposure_time': '1/246', 'aperture': '2.2', 'focal_length': '2.2', 'iso': 64}, 'location': {'name': 'Park Lane, Mayfair, London, UK', 'city': None, 'country': 'United Kingdom', 'position': {'latitude': 51.508333, 'longitude': -0.154719}}, 'views': 940, 'downloads': 0}]\n"
     ]
    }
   ],
   "source": [
    "amount_images=5\n",
    "search_query=\"gaza\"#topic\n",
    "\n",
    "parameter={\n",
    "    \"client_id\":api_key,\n",
    "    \"count\":amount_images,\n",
    "    \"query\":search_query\n",
    "}\n",
    "\n",
    "response = requests.get(url, params=parameter)\n",
    "data = response.json()\n",
    "print(data)\n",
    "\n"
   ]
  },
  {
   "cell_type": "code",
   "execution_count": 6,
   "metadata": {},
   "outputs": [
    {
     "name": "stdout",
     "output_type": "stream",
     "text": [
      "Austin Crick\n",
      "https://images.unsplash.com/photo-1699742853610-cb8ea6b0697a?crop=entropy&cs=tinysrgb&fit=max&fm=jpg&ixid=M3w1MjkxMDF8MHwxfHJhbmRvbXx8fHx8fHx8fDE3MDEzNjczNTR8&ixlib=rb-4.0.3&q=80&w=1080\n"
     ]
    },
    {
     "data": {
      "text/html": [
       "<img src=\"https://images.unsplash.com/photo-1699742853610-cb8ea6b0697a?crop=entropy&cs=tinysrgb&fit=max&fm=jpg&ixid=M3w1MjkxMDF8MHwxfHJhbmRvbXx8fHx8fHx8fDE3MDEzNjczNTR8&ixlib=rb-4.0.3&q=80&w=1080\"/>"
      ],
      "text/plain": [
       "<IPython.core.display.Image object>"
      ]
     },
     "metadata": {},
     "output_type": "display_data"
    },
    {
     "name": "stdout",
     "output_type": "stream",
     "text": [
      "Gayatri Malhotra\n",
      "https://images.unsplash.com/photo-1698171784335-0bf93f179f70?crop=entropy&cs=tinysrgb&fit=max&fm=jpg&ixid=M3w1MjkxMDF8MHwxfHJhbmRvbXx8fHx8fHx8fDE3MDEzNjczNTR8&ixlib=rb-4.0.3&q=80&w=1080\n"
     ]
    },
    {
     "data": {
      "text/html": [
       "<img src=\"https://images.unsplash.com/photo-1698171784335-0bf93f179f70?crop=entropy&cs=tinysrgb&fit=max&fm=jpg&ixid=M3w1MjkxMDF8MHwxfHJhbmRvbXx8fHx8fHx8fDE3MDEzNjczNTR8&ixlib=rb-4.0.3&q=80&w=1080\"/>"
      ],
      "text/plain": [
       "<IPython.core.display.Image object>"
      ]
     },
     "metadata": {},
     "output_type": "display_data"
    },
    {
     "name": "stdout",
     "output_type": "stream",
     "text": [
      "Gayatri Malhotra\n",
      "https://images.unsplash.com/photo-1698159905715-2727879266f4?crop=entropy&cs=tinysrgb&fit=max&fm=jpg&ixid=M3w1MjkxMDF8MHwxfHJhbmRvbXx8fHx8fHx8fDE3MDEzNjczNTR8&ixlib=rb-4.0.3&q=80&w=1080\n"
     ]
    },
    {
     "data": {
      "text/html": [
       "<img src=\"https://images.unsplash.com/photo-1698159905715-2727879266f4?crop=entropy&cs=tinysrgb&fit=max&fm=jpg&ixid=M3w1MjkxMDF8MHwxfHJhbmRvbXx8fHx8fHx8fDE3MDEzNjczNTR8&ixlib=rb-4.0.3&q=80&w=1080\"/>"
      ],
      "text/plain": [
       "<IPython.core.display.Image object>"
      ]
     },
     "metadata": {},
     "output_type": "display_data"
    },
    {
     "name": "stdout",
     "output_type": "stream",
     "text": [
      "Gayatri Malhotra\n",
      "https://images.unsplash.com/photo-1697728150818-0f5a26dd55ce?crop=entropy&cs=tinysrgb&fit=max&fm=jpg&ixid=M3w1MjkxMDF8MHwxfHJhbmRvbXx8fHx8fHx8fDE3MDEzNjczNTR8&ixlib=rb-4.0.3&q=80&w=1080\n"
     ]
    },
    {
     "data": {
      "text/html": [
       "<img src=\"https://images.unsplash.com/photo-1697728150818-0f5a26dd55ce?crop=entropy&cs=tinysrgb&fit=max&fm=jpg&ixid=M3w1MjkxMDF8MHwxfHJhbmRvbXx8fHx8fHx8fDE3MDEzNjczNTR8&ixlib=rb-4.0.3&q=80&w=1080\"/>"
      ],
      "text/plain": [
       "<IPython.core.display.Image object>"
      ]
     },
     "metadata": {},
     "output_type": "display_data"
    },
    {
     "name": "stdout",
     "output_type": "stream",
     "text": [
      "Austin Crick\n",
      "https://images.unsplash.com/photo-1699742855158-a68cde26c941?crop=entropy&cs=tinysrgb&fit=max&fm=jpg&ixid=M3w1MjkxMDF8MHwxfHJhbmRvbXx8fHx8fHx8fDE3MDEzNjczNTR8&ixlib=rb-4.0.3&q=80&w=1080\n"
     ]
    },
    {
     "data": {
      "text/html": [
       "<img src=\"https://images.unsplash.com/photo-1699742855158-a68cde26c941?crop=entropy&cs=tinysrgb&fit=max&fm=jpg&ixid=M3w1MjkxMDF8MHwxfHJhbmRvbXx8fHx8fHx8fDE3MDEzNjczNTR8&ixlib=rb-4.0.3&q=80&w=1080\"/>"
      ],
      "text/plain": [
       "<IPython.core.display.Image object>"
      ]
     },
     "metadata": {},
     "output_type": "display_data"
    }
   ],
   "source": [
    "#important to get the name of the photograph and the url, because unsplash wants you to credit the photograph and themselves when using an image\n",
    "def display_images(images_data):\n",
    " for foto in images_data:\n",
    "    foto_url = foto[\"urls\"][\"regular\"]\n",
    "    print(foto[\"user\"][\"name\"])\n",
    "    print(foto_url)\n",
    "    display(Image(url=foto_url))\n",
    "\n",
    "display_images(data)"
   ]
  },
  {
   "cell_type": "code",
   "execution_count": 7,
   "metadata": {},
   "outputs": [
    {
     "ename": "FileNotFoundError",
     "evalue": "[Errno 2] No such file or directory: '/workspaces/data-app/notebooks/saved_images_unsplash/test_save.jpg'",
     "output_type": "error",
     "traceback": [
      "\u001b[0;31m---------------------------------------------------------------------------\u001b[0m",
      "\u001b[0;31mFileNotFoundError\u001b[0m                         Traceback (most recent call last)",
      "\u001b[1;32m/workspaces/data integration project/notebooks/unsplash.ipynb Cell 5\u001b[0m line \u001b[0;36m9\n\u001b[1;32m      <a href='vscode-notebook-cell://dev-container%2B7b22686f737450617468223a22633a5c5c50726f6772616d2046696c65735c5c6461746120696e746567726174696f6e2070726f6a656374222c226c6f63616c446f636b6572223a66616c73652c22636f6e66696746696c65223a7b22246d6964223a312c22667350617468223a22633a5c5c50726f6772616d2046696c65735c5c6461746120696e746567726174696f6e2070726f6a6563745c5c2e646576636f6e7461696e65725c5c646576636f6e7461696e65722e6a736f6e222c225f736570223a312c2265787465726e616c223a2266696c653a2f2f2f632533412f50726f6772616d25323046696c65732f64617461253230696e746567726174696f6e25323070726f6a6563742f2e646576636f6e7461696e65722f646576636f6e7461696e65722e6a736f6e222c2270617468223a222f633a2f50726f6772616d2046696c65732f6461746120696e746567726174696f6e2070726f6a6563742f2e646576636f6e7461696e65722f646576636f6e7461696e65722e6a736f6e222c22736368656d65223a2266696c65227d7d/workspaces/data%20integration%20project/notebooks/unsplash.ipynb#W4sdnNjb2RlLXJlbW90ZQ%3D%3D?line=5'>6</a>\u001b[0m  \u001b[39mwith\u001b[39;00m \u001b[39mopen\u001b[39m(filepath,\u001b[39m\"\u001b[39m\u001b[39mwb\u001b[39m\u001b[39m\"\u001b[39m) \u001b[39mas\u001b[39;00m file:\n\u001b[1;32m      <a href='vscode-notebook-cell://dev-container%2B7b22686f737450617468223a22633a5c5c50726f6772616d2046696c65735c5c6461746120696e746567726174696f6e2070726f6a656374222c226c6f63616c446f636b6572223a66616c73652c22636f6e66696746696c65223a7b22246d6964223a312c22667350617468223a22633a5c5c50726f6772616d2046696c65735c5c6461746120696e746567726174696f6e2070726f6a6563745c5c2e646576636f6e7461696e65725c5c646576636f6e7461696e65722e6a736f6e222c225f736570223a312c2265787465726e616c223a2266696c653a2f2f2f632533412f50726f6772616d25323046696c65732f64617461253230696e746567726174696f6e25323070726f6a6563742f2e646576636f6e7461696e65722f646576636f6e7461696e65722e6a736f6e222c2270617468223a222f633a2f50726f6772616d2046696c65732f6461746120696e746567726174696f6e2070726f6a6563742f2e646576636f6e7461696e65722f646576636f6e7461696e65722e6a736f6e222c22736368656d65223a2266696c65227d7d/workspaces/data%20integration%20project/notebooks/unsplash.ipynb#W4sdnNjb2RlLXJlbW90ZQ%3D%3D?line=6'>7</a>\u001b[0m     file\u001b[39m.\u001b[39mwrite(image_response\u001b[39m.\u001b[39mcontent)\n\u001b[0;32m----> <a href='vscode-notebook-cell://dev-container%2B7b22686f737450617468223a22633a5c5c50726f6772616d2046696c65735c5c6461746120696e746567726174696f6e2070726f6a656374222c226c6f63616c446f636b6572223a66616c73652c22636f6e66696746696c65223a7b22246d6964223a312c22667350617468223a22633a5c5c50726f6772616d2046696c65735c5c6461746120696e746567726174696f6e2070726f6a6563745c5c2e646576636f6e7461696e65725c5c646576636f6e7461696e65722e6a736f6e222c225f736570223a312c2265787465726e616c223a2266696c653a2f2f2f632533412f50726f6772616d25323046696c65732f64617461253230696e746567726174696f6e25323070726f6a6563742f2e646576636f6e7461696e65722f646576636f6e7461696e65722e6a736f6e222c2270617468223a222f633a2f50726f6772616d2046696c65732f6461746120696e746567726174696f6e2070726f6a6563742f2e646576636f6e7461696e65722f646576636f6e7461696e65722e6a736f6e222c22736368656d65223a2266696c65227d7d/workspaces/data%20integration%20project/notebooks/unsplash.ipynb#W4sdnNjb2RlLXJlbW90ZQ%3D%3D?line=8'>9</a>\u001b[0m save_image(data[\u001b[39m0\u001b[39;49m],\u001b[39m\"\u001b[39;49m\u001b[39mtest_save.jpg\u001b[39;49m\u001b[39m\"\u001b[39;49m)\u001b[39m#save first image\u001b[39;00m\n",
      "\u001b[1;32m/workspaces/data integration project/notebooks/unsplash.ipynb Cell 5\u001b[0m line \u001b[0;36m6\n\u001b[1;32m      <a href='vscode-notebook-cell://dev-container%2B7b22686f737450617468223a22633a5c5c50726f6772616d2046696c65735c5c6461746120696e746567726174696f6e2070726f6a656374222c226c6f63616c446f636b6572223a66616c73652c22636f6e66696746696c65223a7b22246d6964223a312c22667350617468223a22633a5c5c50726f6772616d2046696c65735c5c6461746120696e746567726174696f6e2070726f6a6563745c5c2e646576636f6e7461696e65725c5c646576636f6e7461696e65722e6a736f6e222c225f736570223a312c2265787465726e616c223a2266696c653a2f2f2f632533412f50726f6772616d25323046696c65732f64617461253230696e746567726174696f6e25323070726f6a6563742f2e646576636f6e7461696e65722f646576636f6e7461696e65722e6a736f6e222c2270617468223a222f633a2f50726f6772616d2046696c65732f6461746120696e746567726174696f6e2070726f6a6563742f2e646576636f6e7461696e65722f646576636f6e7461696e65722e6a736f6e222c22736368656d65223a2266696c65227d7d/workspaces/data%20integration%20project/notebooks/unsplash.ipynb#W4sdnNjb2RlLXJlbW90ZQ%3D%3D?line=3'>4</a>\u001b[0m image_url \u001b[39m=\u001b[39m image[\u001b[39m\"\u001b[39m\u001b[39murls\u001b[39m\u001b[39m\"\u001b[39m][\u001b[39m\"\u001b[39m\u001b[39mregular\u001b[39m\u001b[39m\"\u001b[39m]\u001b[39m#url of chosen image\u001b[39;00m\n\u001b[1;32m      <a href='vscode-notebook-cell://dev-container%2B7b22686f737450617468223a22633a5c5c50726f6772616d2046696c65735c5c6461746120696e746567726174696f6e2070726f6a656374222c226c6f63616c446f636b6572223a66616c73652c22636f6e66696746696c65223a7b22246d6964223a312c22667350617468223a22633a5c5c50726f6772616d2046696c65735c5c6461746120696e746567726174696f6e2070726f6a6563745c5c2e646576636f6e7461696e65725c5c646576636f6e7461696e65722e6a736f6e222c225f736570223a312c2265787465726e616c223a2266696c653a2f2f2f632533412f50726f6772616d25323046696c65732f64617461253230696e746567726174696f6e25323070726f6a6563742f2e646576636f6e7461696e65722f646576636f6e7461696e65722e6a736f6e222c2270617468223a222f633a2f50726f6772616d2046696c65732f6461746120696e746567726174696f6e2070726f6a6563742f2e646576636f6e7461696e65722f646576636f6e7461696e65722e6a736f6e222c22736368656d65223a2266696c65227d7d/workspaces/data%20integration%20project/notebooks/unsplash.ipynb#W4sdnNjb2RlLXJlbW90ZQ%3D%3D?line=4'>5</a>\u001b[0m image_response \u001b[39m=\u001b[39m requests\u001b[39m.\u001b[39mget(image_url)\u001b[39m#download\u001b[39;00m\n\u001b[0;32m----> <a href='vscode-notebook-cell://dev-container%2B7b22686f737450617468223a22633a5c5c50726f6772616d2046696c65735c5c6461746120696e746567726174696f6e2070726f6a656374222c226c6f63616c446f636b6572223a66616c73652c22636f6e66696746696c65223a7b22246d6964223a312c22667350617468223a22633a5c5c50726f6772616d2046696c65735c5c6461746120696e746567726174696f6e2070726f6a6563745c5c2e646576636f6e7461696e65725c5c646576636f6e7461696e65722e6a736f6e222c225f736570223a312c2265787465726e616c223a2266696c653a2f2f2f632533412f50726f6772616d25323046696c65732f64617461253230696e746567726174696f6e25323070726f6a6563742f2e646576636f6e7461696e65722f646576636f6e7461696e65722e6a736f6e222c2270617468223a222f633a2f50726f6772616d2046696c65732f6461746120696e746567726174696f6e2070726f6a6563742f2e646576636f6e7461696e65722f646576636f6e7461696e65722e6a736f6e222c22736368656d65223a2266696c65227d7d/workspaces/data%20integration%20project/notebooks/unsplash.ipynb#W4sdnNjb2RlLXJlbW90ZQ%3D%3D?line=5'>6</a>\u001b[0m \u001b[39mwith\u001b[39;00m \u001b[39mopen\u001b[39;49m(filepath,\u001b[39m\"\u001b[39;49m\u001b[39mwb\u001b[39;49m\u001b[39m\"\u001b[39;49m) \u001b[39mas\u001b[39;00m file:\n\u001b[1;32m      <a href='vscode-notebook-cell://dev-container%2B7b22686f737450617468223a22633a5c5c50726f6772616d2046696c65735c5c6461746120696e746567726174696f6e2070726f6a656374222c226c6f63616c446f636b6572223a66616c73652c22636f6e66696746696c65223a7b22246d6964223a312c22667350617468223a22633a5c5c50726f6772616d2046696c65735c5c6461746120696e746567726174696f6e2070726f6a6563745c5c2e646576636f6e7461696e65725c5c646576636f6e7461696e65722e6a736f6e222c225f736570223a312c2265787465726e616c223a2266696c653a2f2f2f632533412f50726f6772616d25323046696c65732f64617461253230696e746567726174696f6e25323070726f6a6563742f2e646576636f6e7461696e65722f646576636f6e7461696e65722e6a736f6e222c2270617468223a222f633a2f50726f6772616d2046696c65732f6461746120696e746567726174696f6e2070726f6a6563742f2e646576636f6e7461696e65722f646576636f6e7461696e65722e6a736f6e222c22736368656d65223a2266696c65227d7d/workspaces/data%20integration%20project/notebooks/unsplash.ipynb#W4sdnNjb2RlLXJlbW90ZQ%3D%3D?line=6'>7</a>\u001b[0m    file\u001b[39m.\u001b[39mwrite(image_response\u001b[39m.\u001b[39mcontent)\n",
      "File \u001b[0;32m~/.local/lib/python3.11/site-packages/IPython/core/interactiveshell.py:310\u001b[0m, in \u001b[0;36m_modified_open\u001b[0;34m(file, *args, **kwargs)\u001b[0m\n\u001b[1;32m    303\u001b[0m \u001b[39mif\u001b[39;00m file \u001b[39min\u001b[39;00m {\u001b[39m0\u001b[39m, \u001b[39m1\u001b[39m, \u001b[39m2\u001b[39m}:\n\u001b[1;32m    304\u001b[0m     \u001b[39mraise\u001b[39;00m \u001b[39mValueError\u001b[39;00m(\n\u001b[1;32m    305\u001b[0m         \u001b[39mf\u001b[39m\u001b[39m\"\u001b[39m\u001b[39mIPython won\u001b[39m\u001b[39m'\u001b[39m\u001b[39mt let you open fd=\u001b[39m\u001b[39m{\u001b[39;00mfile\u001b[39m}\u001b[39;00m\u001b[39m by default \u001b[39m\u001b[39m\"\u001b[39m\n\u001b[1;32m    306\u001b[0m         \u001b[39m\"\u001b[39m\u001b[39mas it is likely to crash IPython. If you know what you are doing, \u001b[39m\u001b[39m\"\u001b[39m\n\u001b[1;32m    307\u001b[0m         \u001b[39m\"\u001b[39m\u001b[39myou can use builtins\u001b[39m\u001b[39m'\u001b[39m\u001b[39m open.\u001b[39m\u001b[39m\"\u001b[39m\n\u001b[1;32m    308\u001b[0m     )\n\u001b[0;32m--> 310\u001b[0m \u001b[39mreturn\u001b[39;00m io_open(file, \u001b[39m*\u001b[39;49margs, \u001b[39m*\u001b[39;49m\u001b[39m*\u001b[39;49mkwargs)\n",
      "\u001b[0;31mFileNotFoundError\u001b[0m: [Errno 2] No such file or directory: '/workspaces/data-app/notebooks/saved_images_unsplash/test_save.jpg'"
     ]
    }
   ],
   "source": [
    "\n",
    "def save_image(image,name_to_save):\n",
    " save_folder=\"/workspaces/data-app/notebooks/saved_images_unsplash\"#has to be changed to the new directory\n",
    " filepath = os.path.join(save_folder, name_to_save)\n",
    " image_url = image[\"urls\"][\"regular\"]#url of chosen image\n",
    " image_response = requests.get(image_url)#download\n",
    " with open(filepath,\"wb\") as file:\n",
    "    file.write(image_response.content)\n",
    "\n",
    "save_image(data[0],\"test_save.jpg\")#save first image\n",
    "\n",
    "    "
   ]
  }
 ],
 "metadata": {
  "kernelspec": {
   "display_name": "Python 3",
   "language": "python",
   "name": "python3"
  },
  "language_info": {
   "codemirror_mode": {
    "name": "ipython",
    "version": 3
   },
   "file_extension": ".py",
   "mimetype": "text/x-python",
   "name": "python",
   "nbconvert_exporter": "python",
   "pygments_lexer": "ipython3",
   "version": "3.11.6"
  }
 },
 "nbformat": 4,
 "nbformat_minor": 2
}
