{
 "cells": [
  {
   "cell_type": "code",
   "execution_count": 26,
   "metadata": {},
   "outputs": [],
   "source": [
    "import requests\n",
    "from IPython.display import Image, display\n",
    "import os"
   ]
  },
  {
   "cell_type": "code",
   "execution_count": 10,
   "metadata": {},
   "outputs": [],
   "source": [
    "url = \"https://api.unsplash.com/photos/random\"\n",
    "\n",
    "# My personal API-Key\n",
    "api_key = \"yxTqVe8SO0J4Bc8ThfY9wwnZolR3qCNzSU42bzbRCWs\""
   ]
  },
  {
   "cell_type": "code",
   "execution_count": 19,
   "metadata": {},
   "outputs": [
    {
     "name": "stdout",
     "output_type": "stream",
     "text": [
      "[{'id': 'oc4gKmNZxyw', 'slug': 'man-in-red-jacket-holding-flag-of-united-states-of-america-oc4gKmNZxyw', 'created_at': '2021-05-15T09:09:55Z', 'updated_at': '2023-11-15T22:22:53Z', 'promoted_at': None, 'width': 3456, 'height': 4608, 'color': '#8c8c73', 'blur_hash': 'LvH.f}jEt7f,?wobodkCtmoyoeax', 'description': 'We stand with Palestine ', 'alt_description': 'man in red jacket holding flag of united states of america', 'breadcrumbs': [], 'urls': {'raw': 'https://images.unsplash.com/photo-1621069432479-3d78e390dc39?ixid=M3w1MjkxMDF8MHwxfHJhbmRvbXx8fHx8fHx8fDE3MDAxNjQyMTB8&ixlib=rb-4.0.3', 'full': 'https://images.unsplash.com/photo-1621069432479-3d78e390dc39?crop=entropy&cs=srgb&fm=jpg&ixid=M3w1MjkxMDF8MHwxfHJhbmRvbXx8fHx8fHx8fDE3MDAxNjQyMTB8&ixlib=rb-4.0.3&q=85', 'regular': 'https://images.unsplash.com/photo-1621069432479-3d78e390dc39?crop=entropy&cs=tinysrgb&fit=max&fm=jpg&ixid=M3w1MjkxMDF8MHwxfHJhbmRvbXx8fHx8fHx8fDE3MDAxNjQyMTB8&ixlib=rb-4.0.3&q=80&w=1080', 'small': 'https://images.unsplash.com/photo-1621069432479-3d78e390dc39?crop=entropy&cs=tinysrgb&fit=max&fm=jpg&ixid=M3w1MjkxMDF8MHwxfHJhbmRvbXx8fHx8fHx8fDE3MDAxNjQyMTB8&ixlib=rb-4.0.3&q=80&w=400', 'thumb': 'https://images.unsplash.com/photo-1621069432479-3d78e390dc39?crop=entropy&cs=tinysrgb&fit=max&fm=jpg&ixid=M3w1MjkxMDF8MHwxfHJhbmRvbXx8fHx8fHx8fDE3MDAxNjQyMTB8&ixlib=rb-4.0.3&q=80&w=200', 'small_s3': 'https://s3.us-west-2.amazonaws.com/images.unsplash.com/small/photo-1621069432479-3d78e390dc39'}, 'links': {'self': 'https://api.unsplash.com/photos/man-in-red-jacket-holding-flag-of-united-states-of-america-oc4gKmNZxyw', 'html': 'https://unsplash.com/photos/man-in-red-jacket-holding-flag-of-united-states-of-america-oc4gKmNZxyw', 'download': 'https://unsplash.com/photos/oc4gKmNZxyw/download?ixid=M3w1MjkxMDF8MHwxfHJhbmRvbXx8fHx8fHx8fDE3MDAxNjQyMTB8', 'download_location': 'https://api.unsplash.com/photos/oc4gKmNZxyw/download?ixid=M3w1MjkxMDF8MHwxfHJhbmRvbXx8fHx8fHx8fDE3MDAxNjQyMTB8'}, 'likes': 12, 'liked_by_user': False, 'current_user_collections': [], 'sponsorship': None, 'topic_submissions': {}, 'user': {'id': 'CbadbrhqMJU', 'updated_at': '2023-10-26T12:26:04Z', 'username': 'akbar710', 'name': 'Gilgit Baltistan', 'first_name': 'Gilgit', 'last_name': 'Baltistan', 'twitter_username': None, 'portfolio_url': None, 'bio': 'Trying to see the beauty in everything around me', 'location': 'Northern Areas , Gilgit Baltistan, Pakistan', 'links': {'self': 'https://api.unsplash.com/users/akbar710', 'html': 'https://unsplash.com/@akbar710', 'photos': 'https://api.unsplash.com/users/akbar710/photos', 'likes': 'https://api.unsplash.com/users/akbar710/likes', 'portfolio': 'https://api.unsplash.com/users/akbar710/portfolio', 'following': 'https://api.unsplash.com/users/akbar710/following', 'followers': 'https://api.unsplash.com/users/akbar710/followers'}, 'profile_image': {'small': 'https://images.unsplash.com/profile-1603487958029-7545c4a35a6bimage?ixlib=rb-4.0.3&crop=faces&fit=crop&w=32&h=32', 'medium': 'https://images.unsplash.com/profile-1603487958029-7545c4a35a6bimage?ixlib=rb-4.0.3&crop=faces&fit=crop&w=64&h=64', 'large': 'https://images.unsplash.com/profile-1603487958029-7545c4a35a6bimage?ixlib=rb-4.0.3&crop=faces&fit=crop&w=128&h=128'}, 'instagram_username': None, 'total_collections': 0, 'total_likes': 16, 'total_photos': 90, 'total_promoted_photos': 0, 'accepted_tos': True, 'for_hire': True, 'social': {'instagram_username': None, 'portfolio_url': None, 'twitter_username': None, 'paypal_email': None}}, 'exif': {'make': 'OPPO', 'model': 'CPH1613', 'name': 'OPPO, CPH1613', 'exposure_time': '1/2222', 'aperture': '1.7', 'focal_length': '3.8', 'iso': 105}, 'location': {'name': 'Tarkati', 'city': None, 'country': None, 'position': {'latitude': None, 'longitude': None}}, 'views': 326876, 'downloads': 2061}, {'id': 'RwYPstfaqH4', 'slug': 'a-group-of-people-standing-in-front-of-a-sign-RwYPstfaqH4', 'created_at': '2022-05-16T11:01:07Z', 'updated_at': '2023-11-16T13:35:01Z', 'promoted_at': None, 'width': 4000, 'height': 6000, 'color': '#d9d9f3', 'blur_hash': 'LeHe,?xu9EtRIUWVozjZ4mRj%MWB', 'description': 'Protestors came out in large to protest in support of Palestine and mourn Journalist Shireen Abu Akleh and the many other journalists who have been killed in action in Palestine over the years.', 'alt_description': 'a group of people standing in front of a sign', 'breadcrumbs': [], 'urls': {'raw': 'https://images.unsplash.com/photo-1652697903150-69d7c63eb823?ixid=M3w1MjkxMDF8MHwxfHJhbmRvbXx8fHx8fHx8fDE3MDAxNjQyMTB8&ixlib=rb-4.0.3', 'full': 'https://images.unsplash.com/photo-1652697903150-69d7c63eb823?crop=entropy&cs=srgb&fm=jpg&ixid=M3w1MjkxMDF8MHwxfHJhbmRvbXx8fHx8fHx8fDE3MDAxNjQyMTB8&ixlib=rb-4.0.3&q=85', 'regular': 'https://images.unsplash.com/photo-1652697903150-69d7c63eb823?crop=entropy&cs=tinysrgb&fit=max&fm=jpg&ixid=M3w1MjkxMDF8MHwxfHJhbmRvbXx8fHx8fHx8fDE3MDAxNjQyMTB8&ixlib=rb-4.0.3&q=80&w=1080', 'small': 'https://images.unsplash.com/photo-1652697903150-69d7c63eb823?crop=entropy&cs=tinysrgb&fit=max&fm=jpg&ixid=M3w1MjkxMDF8MHwxfHJhbmRvbXx8fHx8fHx8fDE3MDAxNjQyMTB8&ixlib=rb-4.0.3&q=80&w=400', 'thumb': 'https://images.unsplash.com/photo-1652697903150-69d7c63eb823?crop=entropy&cs=tinysrgb&fit=max&fm=jpg&ixid=M3w1MjkxMDF8MHwxfHJhbmRvbXx8fHx8fHx8fDE3MDAxNjQyMTB8&ixlib=rb-4.0.3&q=80&w=200', 'small_s3': 'https://s3.us-west-2.amazonaws.com/images.unsplash.com/small/photo-1652697903150-69d7c63eb823'}, 'links': {'self': 'https://api.unsplash.com/photos/a-group-of-people-standing-in-front-of-a-sign-RwYPstfaqH4', 'html': 'https://unsplash.com/photos/a-group-of-people-standing-in-front-of-a-sign-RwYPstfaqH4', 'download': 'https://unsplash.com/photos/RwYPstfaqH4/download?ixid=M3w1MjkxMDF8MHwxfHJhbmRvbXx8fHx8fHx8fDE3MDAxNjQyMTB8', 'download_location': 'https://api.unsplash.com/photos/RwYPstfaqH4/download?ixid=M3w1MjkxMDF8MHwxfHJhbmRvbXx8fHx8fHx8fDE3MDAxNjQyMTB8'}, 'likes': 37, 'liked_by_user': False, 'current_user_collections': [], 'sponsorship': None, 'topic_submissions': {'current-events': {'status': 'approved', 'approved_on': '2022-05-18T09:00:14Z'}}, 'user': {'id': 'DGhEid0owbc', 'updated_at': '2023-11-07T02:33:12Z', 'username': 'mettyunuabona', 'name': 'Ehimetalor Akhere Unuabona', 'first_name': 'Ehimetalor Akhere', 'last_name': 'Unuabona', 'twitter_username': 'TheEastLDNTog', 'portfolio_url': 'https://www.mettyunuabona.com/', 'bio': 'Ehimetalor \"Metty\" Unuabona is a portrait and social documentary photographer based in London, with a specific focus on street-style portraiture and social documentation.', 'location': 'London, UK', 'links': {'self': 'https://api.unsplash.com/users/mettyunuabona', 'html': 'https://unsplash.com/@mettyunuabona', 'photos': 'https://api.unsplash.com/users/mettyunuabona/photos', 'likes': 'https://api.unsplash.com/users/mettyunuabona/likes', 'portfolio': 'https://api.unsplash.com/users/mettyunuabona/portfolio', 'following': 'https://api.unsplash.com/users/mettyunuabona/following', 'followers': 'https://api.unsplash.com/users/mettyunuabona/followers'}, 'profile_image': {'small': 'https://images.unsplash.com/profile-1602499837447-54090944da0bimage?ixlib=rb-4.0.3&crop=faces&fit=crop&w=32&h=32', 'medium': 'https://images.unsplash.com/profile-1602499837447-54090944da0bimage?ixlib=rb-4.0.3&crop=faces&fit=crop&w=64&h=64', 'large': 'https://images.unsplash.com/profile-1602499837447-54090944da0bimage?ixlib=rb-4.0.3&crop=faces&fit=crop&w=128&h=128'}, 'instagram_username': 'TheEastLondonPhotographer', 'total_collections': 0, 'total_likes': 173, 'total_photos': 1142, 'total_promoted_photos': 109, 'accepted_tos': True, 'for_hire': True, 'social': {'instagram_username': 'TheEastLondonPhotographer', 'portfolio_url': 'https://www.mettyunuabona.com/', 'twitter_username': 'TheEastLDNTog', 'paypal_email': None}}, 'exif': {'make': 'FUJIFILM', 'model': 'X-H1', 'name': 'FUJIFILM, X-H1', 'exposure_time': '1/4000', 'aperture': '4.0', 'focal_length': '55.0', 'iso': 200}, 'location': {'name': 'London, UK', 'city': None, 'country': None, 'position': {'latitude': None, 'longitude': None}}, 'views': 184723, 'downloads': 467}, {'id': 'XsIuwoxufWA', 'slug': 'XsIuwoxufWA', 'created_at': '2022-08-14T12:22:15Z', 'updated_at': '2023-11-16T19:35:37Z', 'promoted_at': None, 'width': 6720, 'height': 4480, 'color': '#737373', 'blur_hash': 'LHEy*|x_8_j[KnXAoHofOcM{i]WA', 'description': None, 'alt_description': None, 'breadcrumbs': [], 'urls': {'raw': 'https://images.unsplash.com/photo-1660479643676-80ad9576d20f?ixid=M3w1MjkxMDF8MHwxfHJhbmRvbXx8fHx8fHx8fDE3MDAxNjQyMTB8&ixlib=rb-4.0.3', 'full': 'https://images.unsplash.com/photo-1660479643676-80ad9576d20f?crop=entropy&cs=srgb&fm=jpg&ixid=M3w1MjkxMDF8MHwxfHJhbmRvbXx8fHx8fHx8fDE3MDAxNjQyMTB8&ixlib=rb-4.0.3&q=85', 'regular': 'https://images.unsplash.com/photo-1660479643676-80ad9576d20f?crop=entropy&cs=tinysrgb&fit=max&fm=jpg&ixid=M3w1MjkxMDF8MHwxfHJhbmRvbXx8fHx8fHx8fDE3MDAxNjQyMTB8&ixlib=rb-4.0.3&q=80&w=1080', 'small': 'https://images.unsplash.com/photo-1660479643676-80ad9576d20f?crop=entropy&cs=tinysrgb&fit=max&fm=jpg&ixid=M3w1MjkxMDF8MHwxfHJhbmRvbXx8fHx8fHx8fDE3MDAxNjQyMTB8&ixlib=rb-4.0.3&q=80&w=400', 'thumb': 'https://images.unsplash.com/photo-1660479643676-80ad9576d20f?crop=entropy&cs=tinysrgb&fit=max&fm=jpg&ixid=M3w1MjkxMDF8MHwxfHJhbmRvbXx8fHx8fHx8fDE3MDAxNjQyMTB8&ixlib=rb-4.0.3&q=80&w=200', 'small_s3': 'https://s3.us-west-2.amazonaws.com/images.unsplash.com/small/photo-1660479643676-80ad9576d20f'}, 'links': {'self': 'https://api.unsplash.com/photos/XsIuwoxufWA', 'html': 'https://unsplash.com/photos/XsIuwoxufWA', 'download': 'https://unsplash.com/photos/XsIuwoxufWA/download?ixid=M3w1MjkxMDF8MHwxfHJhbmRvbXx8fHx8fHx8fDE3MDAxNjQyMTB8', 'download_location': 'https://api.unsplash.com/photos/XsIuwoxufWA/download?ixid=M3w1MjkxMDF8MHwxfHJhbmRvbXx8fHx8fHx8fDE3MDAxNjQyMTB8'}, 'likes': 8, 'liked_by_user': False, 'current_user_collections': [], 'sponsorship': None, 'topic_submissions': {}, 'user': {'id': 'gEdJCVCXZcU', 'updated_at': '2023-11-13T04:48:54Z', 'username': 'mohammed_ibrahim_mi', 'name': 'Mohammed Ibrahim', 'first_name': 'Mohammed', 'last_name': 'Ibrahim', 'twitter_username': 'MElmadhoum', 'portfolio_url': None, 'bio': 'A photojournalist from the Gaza Strip, I work in the field of journalism and photography', 'location': 'gaza', 'links': {'self': 'https://api.unsplash.com/users/mohammed_ibrahim_mi', 'html': 'https://unsplash.com/@mohammed_ibrahim_mi', 'photos': 'https://api.unsplash.com/users/mohammed_ibrahim_mi/photos', 'likes': 'https://api.unsplash.com/users/mohammed_ibrahim_mi/likes', 'portfolio': 'https://api.unsplash.com/users/mohammed_ibrahim_mi/portfolio', 'following': 'https://api.unsplash.com/users/mohammed_ibrahim_mi/following', 'followers': 'https://api.unsplash.com/users/mohammed_ibrahim_mi/followers'}, 'profile_image': {'small': 'https://images.unsplash.com/profile-1660478792873-32ce0c66efe1image?ixlib=rb-4.0.3&crop=faces&fit=crop&w=32&h=32', 'medium': 'https://images.unsplash.com/profile-1660478792873-32ce0c66efe1image?ixlib=rb-4.0.3&crop=faces&fit=crop&w=64&h=64', 'large': 'https://images.unsplash.com/profile-1660478792873-32ce0c66efe1image?ixlib=rb-4.0.3&crop=faces&fit=crop&w=128&h=128'}, 'instagram_username': 'mohammedelmadhoun', 'total_collections': 0, 'total_likes': 0, 'total_photos': 10, 'total_promoted_photos': 0, 'accepted_tos': True, 'for_hire': True, 'social': {'instagram_username': 'mohammedelmadhoun', 'portfolio_url': None, 'twitter_username': 'MElmadhoum', 'paypal_email': None}}, 'exif': {'make': 'Canon', 'model': ' EOS 5D Mark IV', 'name': 'Canon, EOS 5D Mark IV', 'exposure_time': '1/1250', 'aperture': '2.8', 'focal_length': '16.0', 'iso': 100}, 'location': {'name': 'Gaza', 'city': 'Gaza', 'country': None, 'position': {'latitude': 31.501695, 'longitude': 34.466845}}, 'views': 64630, 'downloads': 786}, {'id': 'qlCWg_v1PmY', 'slug': 'village-under-blue-sky-qlCWg_v1PmY', 'created_at': '2018-06-15T16:39:08Z', 'updated_at': '2023-11-16T06:04:29Z', 'promoted_at': None, 'width': 2529, 'height': 3794, 'color': '#73c0d9', 'blur_hash': 'L*FjE1ofWBWVlVbIayj[Neoeofj[', 'description': 'Palestine', 'alt_description': 'village under blue sky', 'breadcrumbs': [], 'urls': {'raw': 'https://images.unsplash.com/photo-1529080666093-e863229ff121?ixid=M3w1MjkxMDF8MHwxfHJhbmRvbXx8fHx8fHx8fDE3MDAxNjQyMTB8&ixlib=rb-4.0.3', 'full': 'https://images.unsplash.com/photo-1529080666093-e863229ff121?crop=entropy&cs=srgb&fm=jpg&ixid=M3w1MjkxMDF8MHwxfHJhbmRvbXx8fHx8fHx8fDE3MDAxNjQyMTB8&ixlib=rb-4.0.3&q=85', 'regular': 'https://images.unsplash.com/photo-1529080666093-e863229ff121?crop=entropy&cs=tinysrgb&fit=max&fm=jpg&ixid=M3w1MjkxMDF8MHwxfHJhbmRvbXx8fHx8fHx8fDE3MDAxNjQyMTB8&ixlib=rb-4.0.3&q=80&w=1080', 'small': 'https://images.unsplash.com/photo-1529080666093-e863229ff121?crop=entropy&cs=tinysrgb&fit=max&fm=jpg&ixid=M3w1MjkxMDF8MHwxfHJhbmRvbXx8fHx8fHx8fDE3MDAxNjQyMTB8&ixlib=rb-4.0.3&q=80&w=400', 'thumb': 'https://images.unsplash.com/photo-1529080666093-e863229ff121?crop=entropy&cs=tinysrgb&fit=max&fm=jpg&ixid=M3w1MjkxMDF8MHwxfHJhbmRvbXx8fHx8fHx8fDE3MDAxNjQyMTB8&ixlib=rb-4.0.3&q=80&w=200', 'small_s3': 'https://s3.us-west-2.amazonaws.com/images.unsplash.com/small/photo-1529080666093-e863229ff121'}, 'links': {'self': 'https://api.unsplash.com/photos/village-under-blue-sky-qlCWg_v1PmY', 'html': 'https://unsplash.com/photos/village-under-blue-sky-qlCWg_v1PmY', 'download': 'https://unsplash.com/photos/qlCWg_v1PmY/download?ixid=M3w1MjkxMDF8MHwxfHJhbmRvbXx8fHx8fHx8fDE3MDAxNjQyMTB8', 'download_location': 'https://api.unsplash.com/photos/qlCWg_v1PmY/download?ixid=M3w1MjkxMDF8MHwxfHJhbmRvbXx8fHx8fHx8fDE3MDAxNjQyMTB8'}, 'likes': 93, 'liked_by_user': False, 'current_user_collections': [], 'sponsorship': None, 'topic_submissions': {}, 'user': {'id': 'zYw2OJ152h8', 'updated_at': '2023-11-10T18:13:35Z', 'username': 'heftiba', 'name': 'Toa Heftiba', 'first_name': 'Toa', 'last_name': 'Heftiba', 'twitter_username': 'toaheftiba', 'portfolio_url': 'http://heftiba.co.uk/', 'bio': \"ᴘʀᴏᴅᴜᴄᴛ | ꜰᴏᴏᴅ | ʟɪꜰᴇꜱᴛʏʟᴇ ᴘʜᴏᴛᴏɢʀᴀᴘʜᴇʀ • ᴀ ꜰᴀɴ ᴏꜰ ᴏᴅᴅ ᴛʜɪɴɢꜱ ᴀɴᴅ ɢᴏᴏᴅ ʜᴜᴍᴏᴜʀ. 🙂\\r\\n👉🏻ᴄʟɪᴄᴋ ᴛʜᴇ 'ᴄᴏʟʟᴇᴄᴛɪᴏɴꜱ' ᴛᴀʙ ʙᴇʟᴏᴡ ᴛᴏ ᴠɪᴇᴡ ᴍʏ ɪᴍᴀɢᴇꜱ ɪɴ ᴏʀɢᴀɴɪꜱᴇᴅ ꜰᴏʟᴅᴇʀꜱ.  ᴡʜʏ ɴᴏᴛ ꜱᴀʏ ʜᴇʟʟᴏ ⚡️ ɪɢ: @ʜᴇꜰᴛɪʙᴀ.ᴄᴏ.ᴜᴋ \", 'location': 'UK', 'links': {'self': 'https://api.unsplash.com/users/heftiba', 'html': 'https://unsplash.com/@heftiba', 'photos': 'https://api.unsplash.com/users/heftiba/photos', 'likes': 'https://api.unsplash.com/users/heftiba/likes', 'portfolio': 'https://api.unsplash.com/users/heftiba/portfolio', 'following': 'https://api.unsplash.com/users/heftiba/following', 'followers': 'https://api.unsplash.com/users/heftiba/followers'}, 'profile_image': {'small': 'https://images.unsplash.com/profile-1605780274397-200ea3604d6fimage?ixlib=rb-4.0.3&crop=faces&fit=crop&w=32&h=32', 'medium': 'https://images.unsplash.com/profile-1605780274397-200ea3604d6fimage?ixlib=rb-4.0.3&crop=faces&fit=crop&w=64&h=64', 'large': 'https://images.unsplash.com/profile-1605780274397-200ea3604d6fimage?ixlib=rb-4.0.3&crop=faces&fit=crop&w=128&h=128'}, 'instagram_username': 'heftiba.co.uk', 'total_collections': 42, 'total_likes': 2436, 'total_photos': 3544, 'total_promoted_photos': 1249, 'accepted_tos': True, 'for_hire': True, 'social': {'instagram_username': 'heftiba.co.uk', 'portfolio_url': 'http://heftiba.co.uk/', 'twitter_username': 'toaheftiba', 'paypal_email': None}}, 'exif': {'make': None, 'model': None, 'name': None, 'exposure_time': None, 'aperture': None, 'focal_length': None, 'iso': None}, 'location': {'name': 'Palestine, Yeruham, Israel', 'city': 'Yeruham', 'country': 'Israel', 'position': {'latitude': 30.987804, 'longitude': 34.929741}}, 'views': 848043, 'downloads': 6230}, {'id': 'l2kiT6D-Xo0', 'slug': 'a-group-of-people-holding-signs-in-front-of-a-building-l2kiT6D-Xo0', 'created_at': '2023-11-11T23:10:53Z', 'updated_at': '2023-11-16T10:05:34Z', 'promoted_at': None, 'width': 4000, 'height': 1800, 'color': '#404040', 'blur_hash': 'LaHeOPavEKs=~VRiScRnoaadofai', 'description': 'Over 600,000 people came out on Saturday, 11th November 2023. To march from Hyde Park to the USA Embassy at 33 Nine Elms Lane in London. In opposition to the Israel-USA Genocide of the Palestinian people.', 'alt_description': 'a group of people holding signs in front of a building', 'breadcrumbs': [], 'urls': {'raw': 'https://images.unsplash.com/photo-1699742853404-f599a8f6d770?ixid=M3w1MjkxMDF8MHwxfHJhbmRvbXx8fHx8fHx8fDE3MDAxNjQyMTB8&ixlib=rb-4.0.3', 'full': 'https://images.unsplash.com/photo-1699742853404-f599a8f6d770?crop=entropy&cs=srgb&fm=jpg&ixid=M3w1MjkxMDF8MHwxfHJhbmRvbXx8fHx8fHx8fDE3MDAxNjQyMTB8&ixlib=rb-4.0.3&q=85', 'regular': 'https://images.unsplash.com/photo-1699742853404-f599a8f6d770?crop=entropy&cs=tinysrgb&fit=max&fm=jpg&ixid=M3w1MjkxMDF8MHwxfHJhbmRvbXx8fHx8fHx8fDE3MDAxNjQyMTB8&ixlib=rb-4.0.3&q=80&w=1080', 'small': 'https://images.unsplash.com/photo-1699742853404-f599a8f6d770?crop=entropy&cs=tinysrgb&fit=max&fm=jpg&ixid=M3w1MjkxMDF8MHwxfHJhbmRvbXx8fHx8fHx8fDE3MDAxNjQyMTB8&ixlib=rb-4.0.3&q=80&w=400', 'thumb': 'https://images.unsplash.com/photo-1699742853404-f599a8f6d770?crop=entropy&cs=tinysrgb&fit=max&fm=jpg&ixid=M3w1MjkxMDF8MHwxfHJhbmRvbXx8fHx8fHx8fDE3MDAxNjQyMTB8&ixlib=rb-4.0.3&q=80&w=200', 'small_s3': 'https://s3.us-west-2.amazonaws.com/images.unsplash.com/small/photo-1699742853404-f599a8f6d770'}, 'links': {'self': 'https://api.unsplash.com/photos/a-group-of-people-holding-signs-in-front-of-a-building-l2kiT6D-Xo0', 'html': 'https://unsplash.com/photos/a-group-of-people-holding-signs-in-front-of-a-building-l2kiT6D-Xo0', 'download': 'https://unsplash.com/photos/l2kiT6D-Xo0/download?ixid=M3w1MjkxMDF8MHwxfHJhbmRvbXx8fHx8fHx8fDE3MDAxNjQyMTB8', 'download_location': 'https://api.unsplash.com/photos/l2kiT6D-Xo0/download?ixid=M3w1MjkxMDF8MHwxfHJhbmRvbXx8fHx8fHx8fDE3MDAxNjQyMTB8'}, 'likes': 0, 'liked_by_user': False, 'current_user_collections': [], 'sponsorship': None, 'topic_submissions': {}, 'user': {'id': '4rKWVObpSLc', 'updated_at': '2023-11-16T10:03:23Z', 'username': 'austin_nft', 'name': 'Austin Crick', 'first_name': 'Austin', 'last_name': 'Crick', 'twitter_username': None, 'portfolio_url': None, 'bio': None, 'location': None, 'links': {'self': 'https://api.unsplash.com/users/austin_nft', 'html': 'https://unsplash.com/@austin_nft', 'photos': 'https://api.unsplash.com/users/austin_nft/photos', 'likes': 'https://api.unsplash.com/users/austin_nft/likes', 'portfolio': 'https://api.unsplash.com/users/austin_nft/portfolio', 'following': 'https://api.unsplash.com/users/austin_nft/following', 'followers': 'https://api.unsplash.com/users/austin_nft/followers'}, 'profile_image': {'small': 'https://images.unsplash.com/profile-1661345877599-45ca89164711image?ixlib=rb-4.0.3&crop=faces&fit=crop&w=32&h=32', 'medium': 'https://images.unsplash.com/profile-1661345877599-45ca89164711image?ixlib=rb-4.0.3&crop=faces&fit=crop&w=64&h=64', 'large': 'https://images.unsplash.com/profile-1661345877599-45ca89164711image?ixlib=rb-4.0.3&crop=faces&fit=crop&w=128&h=128'}, 'instagram_username': None, 'total_collections': 4, 'total_likes': 0, 'total_photos': 1115, 'total_promoted_photos': 0, 'accepted_tos': True, 'for_hire': False, 'social': {'instagram_username': None, 'portfolio_url': None, 'twitter_username': None, 'paypal_email': None}}, 'exif': {'make': 'samsung', 'model': 'SM-G988B', 'name': 'samsung, SM-G988B', 'exposure_time': '1/50', 'aperture': '3.5', 'focal_length': '19.0', 'iso': 50}, 'location': {'name': 'Park Lane, Mayfair, London, UK', 'city': None, 'country': 'United Kingdom', 'position': {'latitude': 51.508333, 'longitude': -0.154719}}, 'views': 200, 'downloads': 0}]\n"
     ]
    }
   ],
   "source": [
    "amount_images=5\n",
    "search_query=\"gaza\"#topic\n",
    "\n",
    "parameter={\n",
    "    \"client_id\":api_key,\n",
    "    \"count\":amount_images,\n",
    "    \"query\":search_query\n",
    "}\n",
    "\n",
    "response = requests.get(url, params=parameter)\n",
    "data = response.json()\n",
    "print(data)\n",
    "\n"
   ]
  },
  {
   "cell_type": "code",
   "execution_count": 23,
   "metadata": {},
   "outputs": [
    {
     "name": "stdout",
     "output_type": "stream",
     "text": [
      "Gilgit Baltistan\n",
      "https://images.unsplash.com/photo-1621069432479-3d78e390dc39?crop=entropy&cs=tinysrgb&fit=max&fm=jpg&ixid=M3w1MjkxMDF8MHwxfHJhbmRvbXx8fHx8fHx8fDE3MDAxNjQyMTB8&ixlib=rb-4.0.3&q=80&w=1080\n"
     ]
    },
    {
     "data": {
      "text/html": [
       "<img src=\"https://images.unsplash.com/photo-1621069432479-3d78e390dc39?crop=entropy&cs=tinysrgb&fit=max&fm=jpg&ixid=M3w1MjkxMDF8MHwxfHJhbmRvbXx8fHx8fHx8fDE3MDAxNjQyMTB8&ixlib=rb-4.0.3&q=80&w=1080\"/>"
      ],
      "text/plain": [
       "<IPython.core.display.Image object>"
      ]
     },
     "metadata": {},
     "output_type": "display_data"
    },
    {
     "name": "stdout",
     "output_type": "stream",
     "text": [
      "Ehimetalor Akhere Unuabona\n",
      "https://images.unsplash.com/photo-1652697903150-69d7c63eb823?crop=entropy&cs=tinysrgb&fit=max&fm=jpg&ixid=M3w1MjkxMDF8MHwxfHJhbmRvbXx8fHx8fHx8fDE3MDAxNjQyMTB8&ixlib=rb-4.0.3&q=80&w=1080\n"
     ]
    },
    {
     "data": {
      "text/html": [
       "<img src=\"https://images.unsplash.com/photo-1652697903150-69d7c63eb823?crop=entropy&cs=tinysrgb&fit=max&fm=jpg&ixid=M3w1MjkxMDF8MHwxfHJhbmRvbXx8fHx8fHx8fDE3MDAxNjQyMTB8&ixlib=rb-4.0.3&q=80&w=1080\"/>"
      ],
      "text/plain": [
       "<IPython.core.display.Image object>"
      ]
     },
     "metadata": {},
     "output_type": "display_data"
    },
    {
     "name": "stdout",
     "output_type": "stream",
     "text": [
      "Mohammed Ibrahim\n",
      "https://images.unsplash.com/photo-1660479643676-80ad9576d20f?crop=entropy&cs=tinysrgb&fit=max&fm=jpg&ixid=M3w1MjkxMDF8MHwxfHJhbmRvbXx8fHx8fHx8fDE3MDAxNjQyMTB8&ixlib=rb-4.0.3&q=80&w=1080\n"
     ]
    },
    {
     "data": {
      "text/html": [
       "<img src=\"https://images.unsplash.com/photo-1660479643676-80ad9576d20f?crop=entropy&cs=tinysrgb&fit=max&fm=jpg&ixid=M3w1MjkxMDF8MHwxfHJhbmRvbXx8fHx8fHx8fDE3MDAxNjQyMTB8&ixlib=rb-4.0.3&q=80&w=1080\"/>"
      ],
      "text/plain": [
       "<IPython.core.display.Image object>"
      ]
     },
     "metadata": {},
     "output_type": "display_data"
    },
    {
     "name": "stdout",
     "output_type": "stream",
     "text": [
      "Toa Heftiba\n",
      "https://images.unsplash.com/photo-1529080666093-e863229ff121?crop=entropy&cs=tinysrgb&fit=max&fm=jpg&ixid=M3w1MjkxMDF8MHwxfHJhbmRvbXx8fHx8fHx8fDE3MDAxNjQyMTB8&ixlib=rb-4.0.3&q=80&w=1080\n"
     ]
    },
    {
     "data": {
      "text/html": [
       "<img src=\"https://images.unsplash.com/photo-1529080666093-e863229ff121?crop=entropy&cs=tinysrgb&fit=max&fm=jpg&ixid=M3w1MjkxMDF8MHwxfHJhbmRvbXx8fHx8fHx8fDE3MDAxNjQyMTB8&ixlib=rb-4.0.3&q=80&w=1080\"/>"
      ],
      "text/plain": [
       "<IPython.core.display.Image object>"
      ]
     },
     "metadata": {},
     "output_type": "display_data"
    },
    {
     "name": "stdout",
     "output_type": "stream",
     "text": [
      "Austin Crick\n",
      "https://images.unsplash.com/photo-1699742853404-f599a8f6d770?crop=entropy&cs=tinysrgb&fit=max&fm=jpg&ixid=M3w1MjkxMDF8MHwxfHJhbmRvbXx8fHx8fHx8fDE3MDAxNjQyMTB8&ixlib=rb-4.0.3&q=80&w=1080\n"
     ]
    },
    {
     "data": {
      "text/html": [
       "<img src=\"https://images.unsplash.com/photo-1699742853404-f599a8f6d770?crop=entropy&cs=tinysrgb&fit=max&fm=jpg&ixid=M3w1MjkxMDF8MHwxfHJhbmRvbXx8fHx8fHx8fDE3MDAxNjQyMTB8&ixlib=rb-4.0.3&q=80&w=1080\"/>"
      ],
      "text/plain": [
       "<IPython.core.display.Image object>"
      ]
     },
     "metadata": {},
     "output_type": "display_data"
    }
   ],
   "source": [
    "#important to get the name of the photograph and the url, because unsplash wants you to credit the photograph and themselves when using an image\n",
    "def display_images(images_data):\n",
    " for foto in images_data:\n",
    "    foto_url = foto[\"urls\"][\"regular\"]\n",
    "    print(foto[\"user\"][\"name\"])\n",
    "    print(foto_url)\n",
    "    display(Image(url=foto_url))\n",
    "\n",
    "display_images(data)"
   ]
  },
  {
   "cell_type": "code",
   "execution_count": 28,
   "metadata": {},
   "outputs": [],
   "source": [
    "\n",
    "def save_image(image,name_to_save):\n",
    " save_folder=\"/workspaces/data-app/notebooks/saved_images_unsplash\"\n",
    " filepath = os.path.join(save_folder, name_to_save)\n",
    " image_url = image[\"urls\"][\"regular\"]#url of chosen image\n",
    " image_response = requests.get(image_url)#download\n",
    " with open(filepath,\"wb\") as file:\n",
    "    file.write(image_response.content)\n",
    "\n",
    "save_image(data[0],\"test_save.jpg\")#save first image\n",
    "\n",
    "    "
   ]
  }
 ],
 "metadata": {
  "kernelspec": {
   "display_name": "Python 3",
   "language": "python",
   "name": "python3"
  },
  "language_info": {
   "codemirror_mode": {
    "name": "ipython",
    "version": 3
   },
   "file_extension": ".py",
   "mimetype": "text/x-python",
   "name": "python",
   "nbconvert_exporter": "python",
   "pygments_lexer": "ipython3",
   "version": "3.11.6"
  }
 },
 "nbformat": 4,
 "nbformat_minor": 2
}
