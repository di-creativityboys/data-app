{
 "cells": [
  {
   "cell_type": "code",
   "execution_count": 6,
   "metadata": {},
   "outputs": [
    {
     "name": "stderr",
     "output_type": "stream",
     "text": [
      "\u001b[32m2023-11-09 13:46:30.273\u001b[0m | \u001b[33m\u001b[1mWARNING \u001b[0m | \u001b[36mtwscrape.accounts_pool\u001b[0m:\u001b[36madd_account\u001b[0m:\u001b[36m76\u001b[0m - \u001b[33m\u001b[1mAccount BingBong2397074 already exists\u001b[0m\n",
      "\u001b[32m2023-11-09 13:46:30.277\u001b[0m | \u001b[33m\u001b[1mWARNING \u001b[0m | \u001b[36mtwscrape.accounts_pool\u001b[0m:\u001b[36madd_account\u001b[0m:\u001b[36m76\u001b[0m - \u001b[33m\u001b[1mAccount BBong20237297 already exists\u001b[0m\n",
      "\u001b[32m2023-11-09 13:46:30.291\u001b[0m | \u001b[1mINFO    \u001b[0m | \u001b[36mtwscrape.accounts_pool\u001b[0m:\u001b[36madd_account\u001b[0m:\u001b[36m97\u001b[0m - \u001b[1mAccount bong220059128 added successfully (active=False)\u001b[0m\n",
      "\u001b[32m2023-11-09 13:46:30.295\u001b[0m | \u001b[1mINFO    \u001b[0m | \u001b[36mtwscrape.accounts_pool\u001b[0m:\u001b[36mlogin_all\u001b[0m:\u001b[36m155\u001b[0m - \u001b[1m[1/1] Logging in bong220059128 - twitterscrapertest@rambler.ua\u001b[0m\n",
      "\u001b[32m2023-11-09 13:46:32.029\u001b[0m | \u001b[33m\u001b[1mWARNING \u001b[0m | \u001b[36mtwscrape.utils\u001b[0m:\u001b[36mraise_for_status\u001b[0m:\u001b[36m25\u001b[0m - \u001b[33m\u001b[1mlogin_success - 403 - {\"errors\":[{\"code\":326,\"message\":\"To protect our users from spam and other malicious activity, this account is temporarily locked. Please log in to https://twitter.com to unlock your account.\",\"sub_error_code\":0,\"bounce_location\":\"https://twitter.com/account/access\"}]}\u001b[0m\n",
      "\u001b[32m2023-11-09 13:46:32.030\u001b[0m | \u001b[31m\u001b[1mERROR   \u001b[0m | \u001b[36mtwscrape.login\u001b[0m:\u001b[36mnext_login_task\u001b[0m:\u001b[36m181\u001b[0m - \u001b[31m\u001b[1mError in LoginSuccessSubtask: Client error '403 Forbidden' for url 'https://api.twitter.com/1.1/onboarding/task.json'\n",
      "For more information check: https://httpstatuses.com/403\u001b[0m\n",
      "\u001b[32m2023-11-09 13:46:32.031\u001b[0m | \u001b[31m\u001b[1mERROR   \u001b[0m | \u001b[36mtwscrape.login\u001b[0m:\u001b[36mlogin\u001b[0m:\u001b[36m211\u001b[0m - \u001b[31m\u001b[1m403 error bong220059128 - twitterscrapertest@rambler.ua\u001b[0m\n",
      "\u001b[32m2023-11-09 13:46:32.031\u001b[0m | \u001b[1mINFO    \u001b[0m | \u001b[36mtwscrape.accounts_pool\u001b[0m:\u001b[36mlogin\u001b[0m:\u001b[36m138\u001b[0m - \u001b[1mLogged in to bong220059128 successfully\u001b[0m\n",
      "\u001b[32m2023-11-09 13:46:32.053\u001b[0m | \u001b[1mINFO    \u001b[0m | \u001b[36mtwscrape.accounts_pool\u001b[0m:\u001b[36mlogin_all\u001b[0m:\u001b[36m155\u001b[0m - \u001b[1m[1/1] Logging in bong220059128 - twitterscrapertest@rambler.ua\u001b[0m\n",
      "\u001b[32m2023-11-09 13:46:33.681\u001b[0m | \u001b[33m\u001b[1mWARNING \u001b[0m | \u001b[36mtwscrape.utils\u001b[0m:\u001b[36mraise_for_status\u001b[0m:\u001b[36m25\u001b[0m - \u001b[33m\u001b[1mlogin_success - 403 - {\"errors\":[{\"code\":326,\"message\":\"To protect our users from spam and other malicious activity, this account is temporarily locked. Please log in to https://twitter.com to unlock your account.\",\"sub_error_code\":0,\"bounce_location\":\"https://twitter.com/account/access\"}]}\u001b[0m\n",
      "\u001b[32m2023-11-09 13:46:33.682\u001b[0m | \u001b[31m\u001b[1mERROR   \u001b[0m | \u001b[36mtwscrape.login\u001b[0m:\u001b[36mnext_login_task\u001b[0m:\u001b[36m181\u001b[0m - \u001b[31m\u001b[1mError in LoginSuccessSubtask: Client error '403 Forbidden' for url 'https://api.twitter.com/1.1/onboarding/task.json'\n",
      "For more information check: https://httpstatuses.com/403\u001b[0m\n",
      "\u001b[32m2023-11-09 13:46:33.682\u001b[0m | \u001b[31m\u001b[1mERROR   \u001b[0m | \u001b[36mtwscrape.login\u001b[0m:\u001b[36mlogin\u001b[0m:\u001b[36m211\u001b[0m - \u001b[31m\u001b[1m403 error bong220059128 - twitterscrapertest@rambler.ua\u001b[0m\n",
      "\u001b[32m2023-11-09 13:46:33.683\u001b[0m | \u001b[1mINFO    \u001b[0m | \u001b[36mtwscrape.accounts_pool\u001b[0m:\u001b[36mlogin\u001b[0m:\u001b[36m138\u001b[0m - \u001b[1mLogged in to bong220059128 successfully\u001b[0m\n"
     ]
    },
    {
     "name": "stdout",
     "output_type": "stream",
     "text": [
      "user login: User(id=25073877, id_str='25073877', url='https://twitter.com/realDonaldTrump', username='realDonaldTrump', displayname='Donald J. Trump', rawDescription='45th President of the United States of America🇺🇸', created=datetime.datetime(2009, 3, 18, 13, 46, 38, tzinfo=datetime.timezone.utc), followersCount=87490419, friendsCount=51, statusesCount=59120, favouritesCount=0, listedCount=112953, mediaCount=4967, location='', profileImageUrl='https://pbs.twimg.com/profile_images/874276197357596672/kUuht00m_normal.jpg', profileBannerUrl='https://pbs.twimg.com/profile_banners/25073877/1604214583', protected=None, verified=False, blue=True, blueType=None, descriptionLinks=[TextLink(url='http://DonaldJTrump.com', text='DonaldJTrump.com', tcourl='https://t.co/mjKdTvQzae')], _type='snscrape.modules.twitter.User') \n",
      "\n",
      "user id: 25073877 \n",
      "\n"
     ]
    },
    {
     "ename": "TypeError",
     "evalue": "'>' not supported between instances of 'str' and 'int'",
     "output_type": "error",
     "traceback": [
      "\u001b[1;31m---------------------------------------------------------------------------\u001b[0m",
      "\u001b[1;31mTypeError\u001b[0m                                 Traceback (most recent call last)",
      "\u001b[1;32mc:\\Users\\Danii\\Desktop\\repos\\data-app\\notebooks\\twscrape.ipynb Cell 1\u001b[0m line \u001b[0;36m4\n\u001b[0;32m     <a href='vscode-notebook-cell:/c%3A/Users/Danii/Desktop/repos/data-app/notebooks/twscrape.ipynb#W0sZmlsZQ%3D%3D?line=36'>37</a>\u001b[0m     \u001b[39mprint\u001b[39m(\u001b[39m\"\u001b[39m\u001b[39mTesting the output \u001b[39m\u001b[39m\\n\u001b[39;00m\u001b[39m\"\u001b[39m, result)\n\u001b[0;32m     <a href='vscode-notebook-cell:/c%3A/Users/Danii/Desktop/repos/data-app/notebooks/twscrape.ipynb#W0sZmlsZQ%3D%3D?line=37'>38</a>\u001b[0m     \u001b[39m#the function should take in the number of tweets (default value = 100) and username, and it returns the list with the dic-s \u001b[39;00m\n\u001b[1;32m---> <a href='vscode-notebook-cell:/c%3A/Users/Danii/Desktop/repos/data-app/notebooks/twscrape.ipynb#W0sZmlsZQ%3D%3D?line=39'>40</a>\u001b[0m \u001b[39mawait\u001b[39;00m main()\n",
      "\u001b[1;32mc:\\Users\\Danii\\Desktop\\repos\\data-app\\notebooks\\twscrape.ipynb Cell 1\u001b[0m line \u001b[0;36m3\n\u001b[0;32m     <a href='vscode-notebook-cell:/c%3A/Users/Danii/Desktop/repos/data-app/notebooks/twscrape.ipynb#W0sZmlsZQ%3D%3D?line=33'>34</a>\u001b[0m user_name \u001b[39m=\u001b[39m \u001b[39minput\u001b[39m(\u001b[39m\"\u001b[39m\u001b[39mInput the username: \u001b[39m\u001b[39m\"\u001b[39m)\n\u001b[0;32m     <a href='vscode-notebook-cell:/c%3A/Users/Danii/Desktop/repos/data-app/notebooks/twscrape.ipynb#W0sZmlsZQ%3D%3D?line=34'>35</a>\u001b[0m limit \u001b[39m=\u001b[39m \u001b[39minput\u001b[39m(\u001b[39m\"\u001b[39m\u001b[39mInput the amt of tweets to get: \u001b[39m\u001b[39m\"\u001b[39m)\n\u001b[1;32m---> <a href='vscode-notebook-cell:/c%3A/Users/Danii/Desktop/repos/data-app/notebooks/twscrape.ipynb#W0sZmlsZQ%3D%3D?line=35'>36</a>\u001b[0m result \u001b[39m=\u001b[39m \u001b[39mawait\u001b[39;00m gettweets(user_name, limit)\n\u001b[0;32m     <a href='vscode-notebook-cell:/c%3A/Users/Danii/Desktop/repos/data-app/notebooks/twscrape.ipynb#W0sZmlsZQ%3D%3D?line=36'>37</a>\u001b[0m \u001b[39mprint\u001b[39m(\u001b[39m\"\u001b[39m\u001b[39mTesting the output \u001b[39m\u001b[39m\\n\u001b[39;00m\u001b[39m\"\u001b[39m, result)\n",
      "\u001b[1;32mc:\\Users\\Danii\\Desktop\\repos\\data-app\\notebooks\\twscrape.ipynb Cell 1\u001b[0m line \u001b[0;36m2\n\u001b[0;32m     <a href='vscode-notebook-cell:/c%3A/Users/Danii/Desktop/repos/data-app/notebooks/twscrape.ipynb#W0sZmlsZQ%3D%3D?line=19'>20</a>\u001b[0m user_id \u001b[39m=\u001b[39m user_login\u001b[39m.\u001b[39mid\n\u001b[0;32m     <a href='vscode-notebook-cell:/c%3A/Users/Danii/Desktop/repos/data-app/notebooks/twscrape.ipynb#W0sZmlsZQ%3D%3D?line=20'>21</a>\u001b[0m \u001b[39mprint\u001b[39m(\u001b[39m\"\u001b[39m\u001b[39muser id:\u001b[39m\u001b[39m\"\u001b[39m, user_id, \u001b[39m\"\u001b[39m\u001b[39m\\n\u001b[39;00m\u001b[39m\"\u001b[39m)\n\u001b[1;32m---> <a href='vscode-notebook-cell:/c%3A/Users/Danii/Desktop/repos/data-app/notebooks/twscrape.ipynb#W0sZmlsZQ%3D%3D?line=21'>22</a>\u001b[0m out \u001b[39m=\u001b[39m \u001b[39mawait\u001b[39;00m gather(api\u001b[39m.\u001b[39muser_tweets(user_id, limit))  \u001b[39m# list[Tweet]\u001b[39;00m\n\u001b[0;32m     <a href='vscode-notebook-cell:/c%3A/Users/Danii/Desktop/repos/data-app/notebooks/twscrape.ipynb#W0sZmlsZQ%3D%3D?line=22'>23</a>\u001b[0m \u001b[39mprint\u001b[39m(out) \u001b[39m# - print the actual response \u001b[39;00m\n\u001b[0;32m     <a href='vscode-notebook-cell:/c%3A/Users/Danii/Desktop/repos/data-app/notebooks/twscrape.ipynb#W0sZmlsZQ%3D%3D?line=23'>24</a>\u001b[0m \u001b[39m# change log level, default info\u001b[39;00m\n",
      "File \u001b[1;32mc:\\Users\\Danii\\anaconda3\\Lib\\site-packages\\twscrape\\utils.py:16\u001b[0m, in \u001b[0;36mgather\u001b[1;34m(gen)\u001b[0m\n\u001b[0;32m     14\u001b[0m \u001b[39masync\u001b[39;00m \u001b[39mdef\u001b[39;00m \u001b[39mgather\u001b[39m(gen: AsyncGenerator[T, \u001b[39mNone\u001b[39;00m]) \u001b[39m-\u001b[39m\u001b[39m>\u001b[39m \u001b[39mlist\u001b[39m[T]:\n\u001b[0;32m     15\u001b[0m     items \u001b[39m=\u001b[39m []\n\u001b[1;32m---> 16\u001b[0m     \u001b[39masync\u001b[39;00m \u001b[39mfor\u001b[39;00m x \u001b[39min\u001b[39;00m gen:\n\u001b[0;32m     17\u001b[0m         items\u001b[39m.\u001b[39mappend(x)\n\u001b[0;32m     18\u001b[0m     \u001b[39mreturn\u001b[39;00m items\n",
      "File \u001b[1;32mc:\\Users\\Danii\\anaconda3\\Lib\\site-packages\\twscrape\\api.py:238\u001b[0m, in \u001b[0;36mAPI.user_tweets\u001b[1;34m(self, uid, limit, kv)\u001b[0m\n\u001b[0;32m    237\u001b[0m \u001b[39masync\u001b[39;00m \u001b[39mdef\u001b[39;00m \u001b[39muser_tweets\u001b[39m(\u001b[39mself\u001b[39m, uid: \u001b[39mint\u001b[39m, limit\u001b[39m=\u001b[39m\u001b[39m-\u001b[39m\u001b[39m1\u001b[39m, kv\u001b[39m=\u001b[39m\u001b[39mNone\u001b[39;00m):\n\u001b[1;32m--> 238\u001b[0m     \u001b[39masync\u001b[39;00m \u001b[39mfor\u001b[39;00m rep \u001b[39min\u001b[39;00m \u001b[39mself\u001b[39m\u001b[39m.\u001b[39muser_tweets_raw(uid, limit\u001b[39m=\u001b[39mlimit, kv\u001b[39m=\u001b[39mkv):\n\u001b[0;32m    239\u001b[0m         \u001b[39mfor\u001b[39;00m x \u001b[39min\u001b[39;00m parse_tweets(rep\u001b[39m.\u001b[39mjson(), limit):\n\u001b[0;32m    240\u001b[0m             \u001b[39myield\u001b[39;00m x\n",
      "File \u001b[1;32mc:\\Users\\Danii\\anaconda3\\Lib\\site-packages\\twscrape\\api.py:234\u001b[0m, in \u001b[0;36mAPI.user_tweets_raw\u001b[1;34m(self, uid, limit, kv)\u001b[0m\n\u001b[0;32m    224\u001b[0m op \u001b[39m=\u001b[39m OP_UserTweets\n\u001b[0;32m    225\u001b[0m kv \u001b[39m=\u001b[39m {\n\u001b[0;32m    226\u001b[0m     \u001b[39m\"\u001b[39m\u001b[39muserId\u001b[39m\u001b[39m\"\u001b[39m: \u001b[39mstr\u001b[39m(uid),\n\u001b[0;32m    227\u001b[0m     \u001b[39m\"\u001b[39m\u001b[39mcount\u001b[39m\u001b[39m\"\u001b[39m: \u001b[39m40\u001b[39m,\n\u001b[1;32m   (...)\u001b[0m\n\u001b[0;32m    232\u001b[0m     \u001b[39m*\u001b[39m\u001b[39m*\u001b[39m(kv \u001b[39mor\u001b[39;00m {}),\n\u001b[0;32m    233\u001b[0m }\n\u001b[1;32m--> 234\u001b[0m \u001b[39masync\u001b[39;00m \u001b[39mfor\u001b[39;00m x \u001b[39min\u001b[39;00m \u001b[39mself\u001b[39m\u001b[39m.\u001b[39m_gql_items(op, kv, limit\u001b[39m=\u001b[39mlimit):\n\u001b[0;32m    235\u001b[0m     \u001b[39myield\u001b[39;00m x\n",
      "File \u001b[1;32mc:\\Users\\Danii\\anaconda3\\Lib\\site-packages\\twscrape\\api.py:69\u001b[0m, in \u001b[0;36mAPI._gql_items\u001b[1;34m(self, op, kv, ft, limit)\u001b[0m\n\u001b[0;32m     66\u001b[0m entries \u001b[39m=\u001b[39m [x \u001b[39mfor\u001b[39;00m x \u001b[39min\u001b[39;00m entries \u001b[39mif\u001b[39;00m \u001b[39mnot\u001b[39;00m x[\u001b[39m\"\u001b[39m\u001b[39mentryId\u001b[39m\u001b[39m\"\u001b[39m]\u001b[39m.\u001b[39mstartswith(\u001b[39m\"\u001b[39m\u001b[39mcursor-\u001b[39m\u001b[39m\"\u001b[39m)]\n\u001b[0;32m     67\u001b[0m cursor \u001b[39m=\u001b[39m \u001b[39mself\u001b[39m\u001b[39m.\u001b[39m_get_cursor(obj)\n\u001b[1;32m---> 69\u001b[0m rep, count, active \u001b[39m=\u001b[39m \u001b[39mself\u001b[39;49m\u001b[39m.\u001b[39;49m_is_end(rep, queue, entries, cursor, count, limit)\n\u001b[0;32m     70\u001b[0m \u001b[39mif\u001b[39;00m rep \u001b[39mis\u001b[39;00m \u001b[39mNone\u001b[39;00m:\n\u001b[0;32m     71\u001b[0m     \u001b[39mreturn\u001b[39;00m\n",
      "File \u001b[1;32mc:\\Users\\Danii\\anaconda3\\Lib\\site-packages\\twscrape\\api.py:39\u001b[0m, in \u001b[0;36mAPI._is_end\u001b[1;34m(self, rep, q, res, cur, cnt, lim)\u001b[0m\n\u001b[0;32m     37\u001b[0m is_res \u001b[39m=\u001b[39m new_count \u001b[39m>\u001b[39m \u001b[39m0\u001b[39m\n\u001b[0;32m     38\u001b[0m is_cur \u001b[39m=\u001b[39m cur \u001b[39mis\u001b[39;00m \u001b[39mnot\u001b[39;00m \u001b[39mNone\u001b[39;00m\n\u001b[1;32m---> 39\u001b[0m is_lim \u001b[39m=\u001b[39m lim \u001b[39m>\u001b[39;49m \u001b[39m0\u001b[39;49m \u001b[39mand\u001b[39;00m new_total \u001b[39m>\u001b[39m\u001b[39m=\u001b[39m lim\n\u001b[0;32m     41\u001b[0m \u001b[39mreturn\u001b[39;00m rep \u001b[39mif\u001b[39;00m is_res \u001b[39melse\u001b[39;00m \u001b[39mNone\u001b[39;00m, new_total, is_cur \u001b[39mand\u001b[39;00m \u001b[39mnot\u001b[39;00m is_lim\n",
      "\u001b[1;31mTypeError\u001b[0m: '>' not supported between instances of 'str' and 'int'"
     ]
    }
   ],
   "source": [
    "import asyncio\n",
    "import brotli\n",
    "from twscrape import API, gather\n",
    "from twscrape.logger import set_log_level\n",
    "\n",
    "async def gettweets(user_login, limit):\n",
    "    api = API()  # or API(\"path-to.db\") - default is `accounts.db`\n",
    "    # ADD ACCOUNTS \n",
    "    await api.pool.add_account(\"BingBong2397074\", \"BingBong\", \"twitterscrapertest@rambler.ua\", \"BingBong2397074\")\n",
    "    await api.pool.add_account(\"BBong20237297\", \"BingBong\", \"twitterscrapertest@rambler.ua\", \"BingBong2397074\")\n",
    "    await api.pool.add_account(\"bong220059128\", \"BingBong\", \"twitterscrapertest@rambler.ua\", \"BingBong2397074\")\n",
    "    await api.pool.add_account(\"Bong2021Bi31407\", \"BingBong\", \"twitterscrapertest@rambler.ua\", \"BingBong2397074\")\n",
    "    await api.pool.add_account(\"BBong20223868\", \"BingBong\", \"twitterscrapertest@rambler.ua\", \"BingBong2397074\")\n",
    "    await api.pool.add_account(\"BBong202380929\", \"BingBong\", \"twitterscrapertest@rambler.ua\", \"BingBong2397074\")\n",
    "    await api.pool.add_account(\"BBong202320783\", \"BingBong\", \"twitterscrapertest@rambler.ua\", \"BingBong2397074\")\n",
    "    await api.pool.add_account(\"BBong202339368\", \"BingBong\", \"twitterscrapertest@rambler.ua\", \"BingBong2397074\")\n",
    "    await api.pool.add_account(\"BBong202355016\", \"BingBong\", \"twitterscrapertest@rambler.ua\", \"BingBong2397074\")\n",
    "    await api.pool.add_account(\"BBong202338320\", \"BingBong\", \"twitterscrapertest@rambler.ua\", \"BingBong2397074\")\n",
    "    \n",
    "    await api.pool.login_all()\n",
    "    await api.pool.relogin_failed()\n",
    "    await api.pool.reset_locks()\n",
    "    \n",
    "    #get user by login\n",
    "    user_login = await api.user_by_login(user_login)  # User\n",
    "    print(\"user login:\", user_login, \"\\n\")\n",
    "    # user info\n",
    "    user_id = user_login.id\n",
    "    print(\"user id:\", user_id, \"\\n\")\n",
    "    out = await gather(api.user_tweets(user_id, limit))  # list[Tweet]\n",
    "    print(out) # - print the actual response \n",
    "    # change log level, default info\n",
    "    set_log_level(\"DEBUG\")\n",
    "    tweetno = 1\n",
    "    for tweet in out:\n",
    "        print(\"This is tweet number\", tweetno, \":\")\n",
    "        tweetno += 1\n",
    "        print(tweet.rawContent, \"\\n\")\n",
    "    return out\n",
    "\n",
    "async def main():\n",
    "    user_name = input(\"Input the username: \")\n",
    "    limit = input(\"Input the amt of tweets to get: \")\n",
    "    result = await gettweets(user_name, limit)\n",
    "    print(\"Testing the output \\n\", result)\n",
    "    #the function should take in the number of tweets (default value = 100) and username, and it returns the list with the dic-s \n",
    "    \n",
    "await main()"
   ]
  },
  {
   "cell_type": "code",
   "execution_count": null,
   "metadata": {},
   "outputs": [],
   "source": []
  }
 ],
 "metadata": {
  "kernelspec": {
   "display_name": "base",
   "language": "python",
   "name": "python3"
  },
  "language_info": {
   "codemirror_mode": {
    "name": "ipython",
    "version": 3
   },
   "file_extension": ".py",
   "mimetype": "text/x-python",
   "name": "python",
   "nbconvert_exporter": "python",
   "pygments_lexer": "ipython3",
   "version": "3.11.5"
  }
 },
 "nbformat": 4,
 "nbformat_minor": 2
}
