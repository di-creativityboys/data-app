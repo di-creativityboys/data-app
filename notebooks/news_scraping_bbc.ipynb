{
 "cells": [
  {
   "cell_type": "code",
   "execution_count": null,
   "metadata": {},
   "outputs": [],
   "source": [
    "from selenium import webdriver\n",
    "from selenium.webdriver.chrome.options import Options\n",
    "from selenium.webdriver.chrome.service import Service\n",
    "from webdriver_manager.chrome import ChromeDriverManager\n",
    "from selenium.webdriver.common.by import By\n",
    "from datetime import datetime"
   ]
  },
  {
   "cell_type": "markdown",
   "metadata": {},
   "source": []
  },
  {
   "cell_type": "code",
   "execution_count": 33,
   "metadata": {},
   "outputs": [
    {
     "name": "stdout",
     "output_type": "stream",
     "text": [
      "Home - BBC News\n"
     ]
    }
   ],
   "source": [
    "options = Options()\n",
    "options.add_argument('--headless')\n",
    "options.add_argument('--no-sandbox')\n",
    "options.add_argument('--disable-dev-shm-usage')\n",
    "driver = webdriver.Chrome(service=Service(ChromeDriverManager().install()), options=options)\n",
    "\n",
    " \n",
    "driver.get(\"https://www.bbc.com/news\")\n",
    "print(driver.title)"
   ]
  },
  {
   "cell_type": "markdown",
   "metadata": {},
   "source": []
  },
  {
   "cell_type": "code",
   "execution_count": 34,
   "metadata": {},
   "outputs": [
    {
     "name": "stdout",
     "output_type": "stream",
     "text": [
      "76\n",
      "76\n",
      "https://www.bbc.com/news/world-australia-67365484\n"
     ]
    }
   ],
   "source": [
    "news_urls=[]\n",
    "def get_urls():\n",
    " elements_for_url=driver.find_elements(By.CLASS_NAME, 'gs-c-promo-heading')\n",
    " for element in elements_for_url:\n",
    "        news_urls.append(element.get_attribute('href'))\n",
    " print(len(elements_for_url))\n",
    "get_urls()\n",
    "print(len(news_urls))#list with all the urls to the articels. should be equally long to elements_for_url\n",
    "print(news_urls[12])"
   ]
  },
  {
   "cell_type": "code",
   "execution_count": 35,
   "metadata": {},
   "outputs": [],
   "source": [
    "#here we extract all the text contents from the articles. This takes approximately 2 minutes with a total of 76 articels today\n",
    "def extract_contents(text_contents):\n",
    "  try:\n",
    "   article = driver.find_element(By.TAG_NAME, 'article')\n",
    "   text_contents.append(article.text)\n",
    "  except: #exception if no article element is there. doesn´t happen often, but has to be handled\n",
    "   article = driver.find_element(By.TAG_NAME, 'body')\n",
    "   text_contents.append(article.text)\n",
    "   print(\"article not found\") #in this test, 3 of 73 articels had no article element. \n",
    "#extract_contents()\n",
    "#print(len(text_contents)) "
   ]
  },
  {
   "cell_type": "code",
   "execution_count": 36,
   "metadata": {},
   "outputs": [],
   "source": [
    "\n",
    "#here are a few exceptions, because the bbc articles have different html structures\n",
    "def get_headers(headers):\n",
    "  try:\n",
    "   header=driver.find_element(By.ID, 'main-heading')\n",
    "   headers.append(header.text)\n",
    "  except:\n",
    "   try:\n",
    "     header = driver.find_element(By.CLASS_NAME, 'qa-story-headline')\n",
    "     headers.append(header.text)\n",
    "   except:\n",
    "    try:\n",
    "     header = driver.find_element(By.CLASS_NAME, 'article-headline__text')\n",
    "     headers.append(header.text)\n",
    "    except:\n",
    "     header=None\n",
    "     headers.append(header)\n",
    "     print('no header')\n",
    "#get_headers()\n",
    "\n",
    "\n"
   ]
  },
  {
   "cell_type": "code",
   "execution_count": 37,
   "metadata": {},
   "outputs": [],
   "source": [
    "def get_timestamps(time):\n",
    "  try:\n",
    "   time_element=driver.find_element(By.TAG_NAME, 'time')\n",
    "   date=(time_element.get_attribute('datetime'))\n",
    "   time.append(date)\n",
    "  except:\n",
    "    date=None\n",
    "    time.append(date)\n",
    "    print('no date')"
   ]
  },
  {
   "cell_type": "code",
   "execution_count": 38,
   "metadata": {},
   "outputs": [],
   "source": [
    "\n",
    "def get_Image(imageURL,ImageDesc):\n",
    "   try:\n",
    "    image_element=driver.find_element(By.TAG_NAME, 'img')\n",
    "    url=(image_element.get_attribute('src'))\n",
    "    desc=(image_element.get_attribute('alt'))\n",
    "    imageURL.append(url)\n",
    "    ImageDesc.append(desc)\n",
    "   except:\n",
    "    url=None\n",
    "    desc=None\n",
    "    imageURL.append(url)\n",
    "    ImageDesc.append(desc)\n",
    "    print('no image')"
   ]
  },
  {
   "cell_type": "code",
   "execution_count": null,
   "metadata": {},
   "outputs": [],
   "source": []
  },
  {
   "cell_type": "code",
   "execution_count": 39,
   "metadata": {},
   "outputs": [
    {
     "name": "stdout",
     "output_type": "stream",
     "text": [
      "no header\n",
      "no header\n",
      "no header\n",
      "article not found\n",
      "no header\n",
      "article not found\n",
      "no date\n",
      "no header\n",
      "no date\n",
      "no date\n",
      "no date\n",
      "no date\n",
      "no date\n",
      "no date\n",
      "no date\n",
      "no header\n",
      "no header\n",
      "no header\n",
      "no header\n",
      "Top Gun: Maverick spoiler threat prompts officer to pull gun on colleague\n",
      "Published\n",
      "3 hours ago\n",
      "Share\n",
      "IMAGE SOURCE,\n",
      "GETTY IMAGES\n",
      "By Emily Atkinson\n",
      "BBC News\n",
      "An Australian police officer has been sentenced for threatening to shoot a colleague after warning him not to reveal details of a blockbuster film.\n",
      "Constable Dominic Gaynor, 30, was at work at a police station in Sydney when the incident unfolded in May.\n",
      "Complainant Morgan Royston, 26, threatened to reveal the plot of the Top Gun: Maverick movie to Gaynor.\n",
      "This prompted Gaynor to pull a pistol from its holster and aim it at his co-worker, court documents said.\n",
      "Gaynor is said to have initially laughed when Royston made his threat to ruin the ending of the 2022 Tom Cruise, which Royston had seen the night before.\n",
      "Another colleague left the room, at which point Gaynor told the other man not to give away any spoilers - using expletives.\n",
      "He is quoted by the court papers as saying: \"I'll shoot you\", before pointing the gun in Royston's \"vicinity\" and holding it for five seconds.\n",
      "Gaynor's finger was on the gun's receiver - rather than the trigger - and he laughed throughout the the incident, the documents state.\n",
      "He pleaded guilty to carrying a firearm with disregard for the complainant's safety.\n",
      "IMAGE SOURCE,\n",
      "ALAMY\n",
      "Image caption,\n",
      "Critics praised the return of Tom Cruise in Top Gun: Maverick, a sequel to the original 1986 fighter pilots movie\n",
      "ABC reported that Royston, who has since left the force, became emotional as he told the court he fell into depression after the incident.\n",
      "Reading his victim impact statement, he described having \"completely lost the trust\" he had in the force.\n",
      "Gaynor's lawyer said his client acknowledged his mistake while denying any malicious intent to scare or intimidate.\n",
      "He told the court this was a case of \"skylarking and tomfoolery\" that had \"gone awry\". He said his client was remorseful, and that the incident would \"cost him dearly\".\n",
      "In his sentencing, the judge noted the \"power imbalance\" between Gaynor and his more junior colleague.\n",
      "He acknowledged several character references for Gaynor, saying the officer's actions represented \"an unfortunate lapse of judgement\", which was not representative of his \"true character\".\n",
      "Gaynor was today handed a community corrections order for two years, 100 hours of community service, and recorded a conviction, ABC reports.\n",
      "Related Topics\n",
      "Sydney\n",
      "Tom Cruise\n",
      "More on this story\n",
      "Top Gun sequel gives Cruise first $100m opening\n",
      "Published\n",
      "30 May 2022\n",
      "Critics praise 'thrilling' Top Gun sequel\n",
      "Published\n",
      "12 May 2022\n",
      "Harry Styles boosts record entertainment industry sales\n",
      "Published\n",
      "10 January\n",
      "2023-11-09T09:49:03.000Z\n",
      "Top Gun: Maverick spoiler threat prompts officer to pull gun on colleague\n",
      "https://ichef.bbci.co.uk/news/976/cpsprodpb/1385D/production/_131656997_gettyimages-1410112696.jpg\n",
      "Red seats at the cinema\n"
     ]
    }
   ],
   "source": [
    "#main method to extract all contents except the authors(might follow later). Runs way faster than the different smaller methods before\n",
    "text_contents=[]\n",
    "time=[]\n",
    "headers=[]\n",
    "imageURL=[]\n",
    "imageDesc=[]\n",
    "def extract_all():\n",
    "    for i in range(len(news_urls)):\n",
    "       driver.get(news_urls[i]) #we go to the specific article by using the url\n",
    "       extract_contents(text_contents)\n",
    "       get_timestamps(time)\n",
    "       get_headers(headers)\n",
    "       get_Image(imageURL,imageDesc)\n",
    "extract_all()\n",
    "print(text_contents[10])\n",
    "print(time[10])\n",
    "print(headers[10])\n",
    "print(imageURL[10])\n",
    "print(imageDesc[10])"
   ]
  },
  {
   "cell_type": "code",
   "execution_count": 40,
   "metadata": {},
   "outputs": [
    {
     "name": "stdout",
     "output_type": "stream",
     "text": [
      "None\n",
      "None\n",
      "'We walked into a wasteland' - BBC's Jeremy Bowen in Gaza with Israeli forces\n",
      "Hollywood actors' union Sag-Aftra agrees tentative deal to end four-month strike\n",
      "Suspects held over alleged Hezbollah plot in Brazil\n",
      "Apple co-founder Steve Wozniak in hospital - reports\n",
      "Thirteen-metre wave earns Laura Enever a women's surfing record\n",
      "Ivanka Trump testifies to New York fraud trial she cannot recall loan details\n",
      "A turning point in Myanmar as army suffers big losses\n",
      "Woman with a Watch: Picasso masterpiece of 'golden muse' sells for £113m\n",
      "Top Gun: Maverick spoiler threat prompts officer to pull gun on colleague\n",
      "Third Republican debate: Four takeaways from the Miami event\n",
      "Top Gun: Maverick spoiler threat prompts officer to pull gun on colleague\n",
      "Third Republican debate: Four takeaways from the Miami event\n",
      "Kenya's Ogiek people being evicted for carbon credits - lawyers\n",
      "Apple should pay €13bn Irish tax, argues EU lawyer\n",
      "Kenya replacement ID cards: New charge sparks outcry\n",
      "Israel-Gaza war: Dead bodies and tanks on road south as people flee\n",
      "'I’m calling from Israeli intelligence. We have the order to bomb. You have two hours'\n",
      "None\n",
      "UK accused of 'whitewash' after Chevening scholar feared killed in Gaza\n",
      "Hezbollah warns of regional war if Gaza bombing goes on\n",
      "China's 'communist spies' in the dock in Taiwan\n",
      "None\n",
      "None\n",
      "Ivanka Trump testimony: Why 'I don't recall' is a common legal strategy\n",
      "Belarus musicians behind bars in Lukashenko's crackdown on dissent\n",
      "Claressa Shields: The 'loudmouth American' with a story worth saying\n",
      "World Cup 2023: Afghanistan's dazzling run captivates cricket\n",
      "Star of David graffiti in Paris - the Russian connection\n",
      "'We walked into a wasteland' - BBC's Jeremy Bowen in Gaza with Israeli forces\n",
      "Spirit of Discovery: Huge waves filmed by cruise ship passenger\n",
      "Sad farewells for US pandas heading back to China\n",
      "Israel-Gaza war: Civilians leave northern Gaza along evacuation corridor\n",
      "BBC World Service\n",
      "Russia strikes civilian ship in Black Sea port of Odesa - Ukraine\n",
      "Iran: French tourist Louis Arnaud jailed for five years\n",
      "Rashida Tlaib censured over Israel-Gaza comments\n",
      "Lalibela fighting: Amhara Fano militia and Ethiopian army clash in historic town\n",
      "Xolidayboy: Russian TikTok star collapses on stage after draft notice\n",
      "Man crushed to death by robot in South Korea\n",
      "Spanish fury at Pedro Sánchez' controversial amnesty plan for power\n",
      "A turning point in Myanmar as army suffers big losses\n",
      "Thirteen-metre wave earns Laura Enever a women's surfing record\n",
      "Apple co-founder Steve Wozniak in hospital - reports\n",
      "Hollywood actors' union Sag-Aftra agrees tentative deal to end four-month strike\n",
      "Ivanka Trump testimony: Why 'I don't recall' is a common legal strategy\n",
      "Top Gun: Maverick spoiler threat prompts officer to pull gun on colleague\n",
      "Third Republican debate: Four takeaways from the Miami event\n",
      "Apple should pay €13bn Irish tax, argues EU lawyer\n",
      "Woman with a Watch: Picasso masterpiece of 'golden muse' sells for £113m\n",
      "Rishi Sunak didn't clear Suella Braverman's attack on police over protests\n",
      "Batteries of the future: How cotton and seawater might power our devices\n",
      "Three big reasons Americans haven't rapidly adopted EVs\n",
      "Yerba Mate: South America's 'beverage of champions'\n",
      "Can luxury fashion ever be fully sustainable?\n",
      "The 420-year-search for Shakespeare's lost play\n",
      "Why Diwali spending is primed to rocket in the US\n",
      "Sam Youkilis: The Instagram sensation changing how we see the world\n",
      "None\n",
      "None\n",
      "'VAR has got out of control' - Man Utd lose again on chaotic night in Copenhagen\n",
      "Sarina Wiegman says female manager in English men's professional football 'only a matter of time'\n",
      "None\n",
      "None\n",
      "Women's FA Cup: Fund doubled to £6m in 'positive step' towards equal prize money\n",
      "A turning point in Myanmar as army suffers big losses\n",
      "Thirteen-metre wave earns Laura Enever a women's surfing record\n",
      "Apple co-founder Steve Wozniak in hospital - reports\n",
      "Hollywood actors' union Sag-Aftra agrees tentative deal to end four-month strike\n",
      "Ivanka Trump testimony: Why 'I don't recall' is a common legal strategy\n",
      "Top Gun: Maverick spoiler threat prompts officer to pull gun on colleague\n",
      "Third Republican debate: Four takeaways from the Miami event\n",
      "Apple should pay €13bn Irish tax, argues EU lawyer\n",
      "Woman with a Watch: Picasso masterpiece of 'golden muse' sells for £113m\n",
      "Rishi Sunak didn't clear Suella Braverman's attack on police over protests\n",
      "76\n",
      "9\n",
      "https://www.bbc.com/news/live/world-middle-east-67364296\n",
      "https://www.bbc.com/news/live/world-middle-east-67364296\n",
      "https://www.bbc.com/news/world-middle-east-67362960\n",
      "https://www.bbc.com/news/entertainment-arts-67364587\n",
      "https://www.bbc.com/news/world-latin-america-67367483\n",
      "https://www.bbc.com/news/technology-67366306\n",
      "https://www.bbc.com/news/world-australia-67340904\n",
      "https://www.bbc.com/news/world-us-canada-67359901\n",
      "https://www.bbc.com/news/world-asia-67305690\n",
      "https://www.bbc.com/news/entertainment-arts-67364579\n",
      "https://www.bbc.com/news/world-australia-67365484\n",
      "https://www.bbc.com/news/world-us-canada-67364573\n",
      "https://www.bbc.com/news/world-australia-67365484\n",
      "https://www.bbc.com/news/world-us-canada-67364573\n",
      "https://www.bbc.com/news/world-africa-67352067\n",
      "https://www.bbc.com/news/business-67367101\n",
      "https://www.bbc.com/news/world-africa-67365053\n",
      "https://www.bbc.com/news/world-middle-east-67361128\n",
      "https://www.bbc.com/news/world-middle-east-67327079\n",
      "https://www.bbc.com/news/live/world-middle-east-67339462?ns_mchannel=social&ns_source=twitter&ns_campaign=bbc_live&ns_linkname=654be6f12ea49e2bc009a34d%26Israeli%20protesters%20say%20they%27ll%20stay%20outside%20parliament%20until%20Nethanyahu%20quits%262023-11-08T20%3A09%3A15.506Z&ns_fee=0&pinned_post_locator=urn:asset:74e4c125-5ffd-4530-9ed2-24d3c24c9edb&pinned_post_asset_id=654be6f12ea49e2bc009a34d&pinned_post_type=share\n",
      "https://www.bbc.com/news/uk-67366031\n",
      "https://www.bbc.com/news/world-67349605\n",
      "https://www.bbc.com/news/world-asia-67330238\n",
      "https://www.bbc.com/news/world_radio_and_tv\n",
      "https://www.bbc.com/sounds/play/live:bbc_world_service\n",
      "https://www.bbc.com/news/world-us-canada-67363774\n",
      "https://www.bbc.com/news/world-europe-67346398\n",
      "https://www.bbc.com/sport/boxing/67337495\n",
      "https://www.bbc.com/news/world-asia-india-67306043\n",
      "https://www.bbc.com/news/world-europe-67360768\n",
      "https://www.bbc.com/news/world-middle-east-67362960\n",
      "https://www.bbc.com/news/uk-england-hampshire-67350933\n",
      "https://www.bbc.com/news/world-us-canada-67363702\n",
      "https://www.bbc.com/news/world-middle-east-67349699\n",
      "https://www.bbc.com/news/world-65432059\n",
      "https://www.bbc.com/news/world-europe-67360440\n",
      "https://www.bbc.com/news/world-middle-east-67360438\n",
      "https://www.bbc.com/news/world-us-canada-67354706\n",
      "https://www.bbc.com/news/world-africa-67361386\n",
      "https://www.bbc.com/news/world-europe-67355430\n",
      "https://www.bbc.com/news/world-asia-67354709\n",
      "https://www.bbc.com/news/world-europe-67355299\n",
      "https://www.bbc.com/news/world-asia-67305690\n",
      "https://www.bbc.com/news/world-australia-67340904\n",
      "https://www.bbc.com/news/technology-67366306\n",
      "https://www.bbc.com/news/entertainment-arts-67364587\n",
      "https://www.bbc.com/news/world-us-canada-67363774\n",
      "https://www.bbc.com/news/world-australia-67365484\n",
      "https://www.bbc.com/news/world-us-canada-67364573\n",
      "https://www.bbc.com/news/business-67367101\n",
      "https://www.bbc.com/news/entertainment-arts-67364579\n",
      "https://www.bbc.com/news/uk-politics-67368785\n",
      "https://www.bbc.com/future/article/20231108-batteries-of-the-future-how-cotton-and-seawater-might-power-our-devices\n",
      "https://www.bbc.com/worklife/article/20231108-three-big-reasons-americans-havent-rapidly-adopted-evs\n",
      "https://www.bbc.com/travel/article/20231108-yerba-mate-south-americas-beverage-of-champions\n",
      "https://www.bbc.com/culture/article/20231108-can-luxury-fashion-ever-be-fully-sustainable\n",
      "https://www.bbc.com/future/article/20231107-the-420-year-search-for-shakespeares-lost-play\n",
      "https://www.bbc.com/worklife/article/20231107-why-diwali-spending-is-primed-to-rocket-in-the-us\n",
      "https://www.bbc.com/travel/article/20231108-sam-youkilis-the-instagram-sensation-changing-how-we-see-the-world\n",
      "https://www.bbc.com/sport/live/cricket/66859253\n",
      "https://www.bbc.com/sport/live/football/67365507\n",
      "https://www.bbc.com/sport/football/67360088\n",
      "https://www.bbc.com/sport/football/67363745\n",
      "https://www.bbc.com/sport/football/67363047\n",
      "https://www.bbc.com/sport/football/67363040\n",
      "https://www.bbc.com/sport/football/67367463\n",
      "https://www.bbc.com/news/world-asia-67305690\n",
      "https://www.bbc.com/news/world-australia-67340904\n",
      "https://www.bbc.com/news/technology-67366306\n",
      "https://www.bbc.com/news/entertainment-arts-67364587\n",
      "https://www.bbc.com/news/world-us-canada-67363774\n",
      "https://www.bbc.com/news/world-australia-67365484\n",
      "https://www.bbc.com/news/world-us-canada-67364573\n",
      "https://www.bbc.com/news/business-67367101\n",
      "https://www.bbc.com/news/entertainment-arts-67364579\n",
      "https://www.bbc.com/news/uk-politics-67368785\n"
     ]
    }
   ],
   "source": [
    "for item in headers:\n",
    "  print(item)\n",
    "print(len(headers))\n",
    "counter=0\n",
    "for i in range(len(headers)):\n",
    "    if headers[i]==None:\n",
    "      counter=counter+1\n",
    "print(counter)\n",
    "for item in news_urls:\n",
    "  print(item)"
   ]
  },
  {
   "cell_type": "code",
   "execution_count": 41,
   "metadata": {},
   "outputs": [
    {
     "name": "stdout",
     "output_type": "stream",
     "text": [
      "By Emily Atkinson\n",
      "76\n",
      "[None, None, None, 'By Oliver Slow & Ian Youngs', 'By Thomas Mackintosh & Robert Plummer', None, 'By Tiffanie Turnbull', 'By Madeline Halpert', 'By Jonathan Head & Lulu Luo', 'By Oliver Slow', 'By Emily Atkinson', 'By Sam Cabral', 'By Emily Atkinson', 'By Sam Cabral', 'By Claire Marshall', 'By Theo Leggett & Michael Race', 'By Gloria Aradi', 'By Jake Horton, Merlyn Thomas & Daniele Palumbo', 'By Alice Cuddy', None, 'By Tom Bateman', 'By Orla Guerin', 'By Kelly Ng', None, None, 'By Holly Honderich', None, 'By Tom Reynolds', 'By Zoya Mateen', 'By Hugh Schofield', None, None, None, None, None, 'By Kathryn Armstrong', 'By Kathryn Armstrong', 'By Emily Atkinson', 'By Kalkidan Yibeltal & Danai Nesta Kupemba', None, 'By Emily Atkinson', 'By Guy Hedgecoe', 'By Jonathan Head & Lulu Luo', 'By Tiffanie Turnbull', None, 'By Oliver Slow & Ian Youngs', 'By Holly Honderich', 'By Emily Atkinson', 'By Sam Cabral', 'By Theo Leggett & Michael Race', 'By Oliver Slow', 'By Joshua Nevett', 'By Chris Baraniuk', 'By Kate Morgan', 'By Suchi Rudra', 'By Faran Krentcil', 'By Zaria Gorvett', 'By Suman Bhattacharyya', 'By Eliot Stein', None, None, 'By Phil Dawkes', None, None, None, None, 'By Jonathan Head & Lulu Luo', 'By Tiffanie Turnbull', None, 'By Oliver Slow & Ian Youngs', 'By Holly Honderich', 'By Emily Atkinson', 'By Sam Cabral', 'By Theo Leggett & Michael Race', 'By Oliver Slow', 'By Joshua Nevett']\n",
      "22\n"
     ]
    }
   ],
   "source": [
    "def get_authors(article):\n",
    "    authors = []\n",
    "    lines = article.split('\\n')\n",
    "    for line in lines[:13]:  # Loop through lines from lines[0] to lines[10]\n",
    "        if \"By\" in line:\n",
    "            authors.append(line)\n",
    "    return authors\n",
    "\n",
    "all_authors = []\n",
    "def get_all_authors():\n",
    "    for article in text_contents:\n",
    "        authors = get_authors(article)\n",
    "        if not authors:  # Check if authors is an empty list\n",
    "            all_authors.append(None)\n",
    "        else:\n",
    "            all_authors.extend(authors)\n",
    "\n",
    "# Print the authors\n",
    "for author in all_authors:\n",
    "    print(author)\n",
    "\n",
    "\n",
    "get_all_authors()\n",
    "print(all_authors[10])\n",
    "print(len(all_authors))\n",
    "print(all_authors)\n",
    "\n",
    "counter=0\n",
    "for i in range(len(all_authors)):\n",
    "    if all_authors[i]==None:\n",
    "      counter=counter+1\n",
    "print(counter)\n",
    "\n",
    "#<p class=\"lx-commentary__meta-reporter gel-long-primer\" data-reactid=\".18n36quudgy.0.2.0.0.1.0.1.0.$lx-tabs0.0.$lx-commentary.$lx-commentary.0.2.0.0\">  Edited by Nadia Ragozhina and Samuel Horti</p>\n",
    "#<div class=\"ssrcss-68pt20-Text-TextContributorName e8mq1e96\">By Jeremy Bowen</div>\n",
    "#<div class=\"ssrcss-68pt20-Text-TextContributorName e8mq1e96\">By David Gritten</div>"
   ]
  },
  {
   "cell_type": "code",
   "execution_count": 47,
   "metadata": {},
   "outputs": [
    {
     "name": "stdout",
     "output_type": "stream",
     "text": [
      "{'headline': None, 'url': 'https://www.bbc.com/news/live/world-middle-east-67364296', 'date': None, 'authors': None, 'ImageURL': 'https://ichef.bbci.co.uk/live-experience/cps/1024/cpsprodpb/15BF3/production/_131657098_idfingaza-lh-reuters.jpg', 'ImageDescription': 'Israel Defense Forces handout photo of Israeli soldiers work near a military vehicle during a ground operation in Gaza', 'contents': 'Posted at 12:56\\n12:56\\nThousands head south - but Khan Younis is already overwhelmed\\nRushdi Abualouf\\nReporting from Khan Younis\\nReuters\\nCopyright: Reuters\\nPeople heading south in Gaza on Thursday\\nImage caption: People heading south in Gaza on Thursday\\nThousands of people have arrived in the south of Gaza, undergoing a miserable journey, in the unusally hot weather.\\nWhy? Because of the fighting in Gaza City.\\nBut where I am, in the grounds of Nasser Hospital in Khan Younis, there is no space for people\\nThere is very little aid, water and food is a real struggle. The situation here is on the edge of catastrophe.\\nThe city is overwhelmed by the number of refugees.\\nArticle share tools\\nShare\\nView more share options\\nShare this post\\nCopy this link\\nRead more about these links.', 'scrapingTimeStamp': None}\n"
     ]
    }
   ],
   "source": [
    "#dictionary with all infos, ordered after attributes\n",
    "from datetime import date\n",
    "\n",
    "\n",
    "articles_info={}\n",
    "for i in range(len(news_urls)):\n",
    " article_info_i={ \n",
    "  \"headline\": headers[i],\n",
    "  \"url\": news_urls[i],\n",
    "  \"date\":time[i],\n",
    "  \"authors\":all_authors[i],\n",
    "  \"ImageURL\":imageURL[i],\n",
    "  \"ImageDescription\":imageDesc[i],\n",
    "  \"contents\":text_contents[i],\n",
    "  \"scrapingTimeStamp\":None\n",
    " }\n",
    " articles_info[i]=article_info_i\n",
    "print(articles_info[0])\n",
    "#URLId, Headline, Contents, Authors, UploadDate, ReadTime, ImageURL, ImageDescription"
   ]
  },
  {
   "cell_type": "code",
   "execution_count": 43,
   "metadata": {},
   "outputs": [
    {
     "name": "stdout",
     "output_type": "stream",
     "text": [
      "<class 'dict'>\n"
     ]
    }
   ],
   "source": [
    "\n",
    "print(type(articles_info[8]))\n"
   ]
  },
  {
   "cell_type": "code",
   "execution_count": 44,
   "metadata": {},
   "outputs": [],
   "source": [
    "import psycopg2"
   ]
  },
  {
   "cell_type": "code",
   "execution_count": 48,
   "metadata": {},
   "outputs": [],
   "source": [
    "conn = psycopg2.connect(dbname=\"postgres\",user=\"postgres\", password=\"postgres\", port=\"5432\", host=\"localhost\")\n",
    "conn.autocommit = True\n",
    "cursor = conn.cursor()"
   ]
  },
  {
   "cell_type": "code",
   "execution_count": 51,
   "metadata": {},
   "outputs": [
    {
     "ename": "InvalidTextRepresentation",
     "evalue": "malformed array literal: \"By Oliver Slow & Ian Youngs\"\nLINE 92: 21 July', 'By Oliver Slow & Ian Youngs', '2023-11-09T10:21:3...\n                   ^\nDETAIL:  Array value must start with \"{\" or dimension information.\n",
     "output_type": "error",
     "traceback": [
      "\u001b[0;31m---------------------------------------------------------------------------\u001b[0m",
      "\u001b[0;31mInvalidTextRepresentation\u001b[0m                 Traceback (most recent call last)",
      "\u001b[1;32m/workspaces/data-app/notebooks/news_scraping_bbc.ipynb Cell 18\u001b[0m line \u001b[0;36m3\n\u001b[1;32m      <a href='vscode-notebook-cell://dev-container%2B7b22686f737450617468223a22633a5c5c55736572735c5c6a7363686c5c5c70726f6a656374735c5c646174612d617070222c226c6f63616c446f636b6572223a66616c73652c22636f6e66696746696c65223a7b22246d6964223a312c22667350617468223a22633a5c5c55736572735c5c6a7363686c5c5c70726f6a656374735c5c646174612d6170705c5c2e646576636f6e7461696e65725c5c646576636f6e7461696e65722e6a736f6e222c225f736570223a312c2265787465726e616c223a2266696c653a2f2f2f632533412f55736572732f6a7363686c2f70726f6a656374732f646174612d6170702f2e646576636f6e7461696e65722f646576636f6e7461696e65722e6a736f6e222c2270617468223a222f633a2f55736572732f6a7363686c2f70726f6a656374732f646174612d6170702f2e646576636f6e7461696e65722f646576636f6e7461696e65722e6a736f6e222c22736368656d65223a2266696c65227d7d/workspaces/data-app/notebooks/news_scraping_bbc.ipynb#X23sdnNjb2RlLXJlbW90ZQ%3D%3D?line=0'>1</a>\u001b[0m \u001b[39mfor\u001b[39;00m article \u001b[39min\u001b[39;00m articles_info\u001b[39m.\u001b[39mvalues():\n\u001b[1;32m      <a href='vscode-notebook-cell://dev-container%2B7b22686f737450617468223a22633a5c5c55736572735c5c6a7363686c5c5c70726f6a656374735c5c646174612d617070222c226c6f63616c446f636b6572223a66616c73652c22636f6e66696746696c65223a7b22246d6964223a312c22667350617468223a22633a5c5c55736572735c5c6a7363686c5c5c70726f6a656374735c5c646174612d6170705c5c2e646576636f6e7461696e65725c5c646576636f6e7461696e65722e6a736f6e222c225f736570223a312c2265787465726e616c223a2266696c653a2f2f2f632533412f55736572732f6a7363686c2f70726f6a656374732f646174612d6170702f2e646576636f6e7461696e65722f646576636f6e7461696e65722e6a736f6e222c2270617468223a222f633a2f55736572732f6a7363686c2f70726f6a656374732f646174612d6170702f2e646576636f6e7461696e65722f646576636f6e7461696e65722e6a736f6e222c22736368656d65223a2266696c65227d7d/workspaces/data-app/notebooks/news_scraping_bbc.ipynb#X23sdnNjb2RlLXJlbW90ZQ%3D%3D?line=1'>2</a>\u001b[0m     \u001b[39mtry\u001b[39;00m:\n\u001b[0;32m----> <a href='vscode-notebook-cell://dev-container%2B7b22686f737450617468223a22633a5c5c55736572735c5c6a7363686c5c5c70726f6a656374735c5c646174612d617070222c226c6f63616c446f636b6572223a66616c73652c22636f6e66696746696c65223a7b22246d6964223a312c22667350617468223a22633a5c5c55736572735c5c6a7363686c5c5c70726f6a656374735c5c646174612d6170705c5c2e646576636f6e7461696e65725c5c646576636f6e7461696e65722e6a736f6e222c225f736570223a312c2265787465726e616c223a2266696c653a2f2f2f632533412f55736572732f6a7363686c2f70726f6a656374732f646174612d6170702f2e646576636f6e7461696e65722f646576636f6e7461696e65722e6a736f6e222c2270617468223a222f633a2f55736572732f6a7363686c2f70726f6a656374732f646174612d6170702f2e646576636f6e7461696e65722f646576636f6e7461696e65722e6a736f6e222c22736368656d65223a2266696c65227d7d/workspaces/data-app/notebooks/news_scraping_bbc.ipynb#X23sdnNjb2RlLXJlbW90ZQ%3D%3D?line=2'>3</a>\u001b[0m         cursor\u001b[39m.\u001b[39;49mexecute(\u001b[39m'''\u001b[39;49m\u001b[39mINSERT INTO Articles(URLId, Headline, Content, Authors, UploadDate, ImageURL, ImageDescription,scrapingTimeStamp) \u001b[39;49m\n\u001b[1;32m      <a href='vscode-notebook-cell://dev-container%2B7b22686f737450617468223a22633a5c5c55736572735c5c6a7363686c5c5c70726f6a656374735c5c646174612d617070222c226c6f63616c446f636b6572223a66616c73652c22636f6e66696746696c65223a7b22246d6964223a312c22667350617468223a22633a5c5c55736572735c5c6a7363686c5c5c70726f6a656374735c5c646174612d6170705c5c2e646576636f6e7461696e65725c5c646576636f6e7461696e65722e6a736f6e222c225f736570223a312c2265787465726e616c223a2266696c653a2f2f2f632533412f55736572732f6a7363686c2f70726f6a656374732f646174612d6170702f2e646576636f6e7461696e65722f646576636f6e7461696e65722e6a736f6e222c2270617468223a222f633a2f55736572732f6a7363686c2f70726f6a656374732f646174612d6170702f2e646576636f6e7461696e65722f646576636f6e7461696e65722e6a736f6e222c22736368656d65223a2266696c65227d7d/workspaces/data-app/notebooks/news_scraping_bbc.ipynb#X23sdnNjb2RlLXJlbW90ZQ%3D%3D?line=3'>4</a>\u001b[0m \u001b[39m                        VALUES (\u001b[39;49m\u001b[39m%s\u001b[39;49;00m\u001b[39m, \u001b[39;49m\u001b[39m%s\u001b[39;49;00m\u001b[39m, \u001b[39;49m\u001b[39m%s\u001b[39;49;00m\u001b[39m, \u001b[39;49m\u001b[39m%s\u001b[39;49;00m\u001b[39m, \u001b[39;49m\u001b[39m%s\u001b[39;49;00m\u001b[39m, \u001b[39;49m\u001b[39m%s\u001b[39;49;00m\u001b[39m, \u001b[39;49m\u001b[39m%s\u001b[39;49;00m\u001b[39m, \u001b[39;49m\u001b[39m%s\u001b[39;49;00m\u001b[39m);\u001b[39;49m\u001b[39m'''\u001b[39;49m, \n\u001b[1;32m      <a href='vscode-notebook-cell://dev-container%2B7b22686f737450617468223a22633a5c5c55736572735c5c6a7363686c5c5c70726f6a656374735c5c646174612d617070222c226c6f63616c446f636b6572223a66616c73652c22636f6e66696746696c65223a7b22246d6964223a312c22667350617468223a22633a5c5c55736572735c5c6a7363686c5c5c70726f6a656374735c5c646174612d6170705c5c2e646576636f6e7461696e65725c5c646576636f6e7461696e65722e6a736f6e222c225f736570223a312c2265787465726e616c223a2266696c653a2f2f2f632533412f55736572732f6a7363686c2f70726f6a656374732f646174612d6170702f2e646576636f6e7461696e65722f646576636f6e7461696e65722e6a736f6e222c2270617468223a222f633a2f55736572732f6a7363686c2f70726f6a656374732f646174612d6170702f2e646576636f6e7461696e65722f646576636f6e7461696e65722e6a736f6e222c22736368656d65223a2266696c65227d7d/workspaces/data-app/notebooks/news_scraping_bbc.ipynb#X23sdnNjb2RlLXJlbW90ZQ%3D%3D?line=4'>5</a>\u001b[0m                        (article[\u001b[39m\"\u001b[39;49m\u001b[39murl\u001b[39;49m\u001b[39m\"\u001b[39;49m], article[\u001b[39m\"\u001b[39;49m\u001b[39mheadline\u001b[39;49m\u001b[39m\"\u001b[39;49m], article[\u001b[39m\"\u001b[39;49m\u001b[39mcontents\u001b[39;49m\u001b[39m\"\u001b[39;49m], article[\u001b[39m\"\u001b[39;49m\u001b[39mauthors\u001b[39;49m\u001b[39m\"\u001b[39;49m], article[\u001b[39m\"\u001b[39;49m\u001b[39mdate\u001b[39;49m\u001b[39m\"\u001b[39;49m], article[\u001b[39m\"\u001b[39;49m\u001b[39mImageURL\u001b[39;49m\u001b[39m\"\u001b[39;49m], article[\u001b[39m\"\u001b[39;49m\u001b[39mImageDescription\u001b[39;49m\u001b[39m\"\u001b[39;49m], article[\u001b[39m\"\u001b[39;49m\u001b[39mscrapingTimeStamp\u001b[39;49m\u001b[39m\"\u001b[39;49m])\n\u001b[1;32m      <a href='vscode-notebook-cell://dev-container%2B7b22686f737450617468223a22633a5c5c55736572735c5c6a7363686c5c5c70726f6a656374735c5c646174612d617070222c226c6f63616c446f636b6572223a66616c73652c22636f6e66696746696c65223a7b22246d6964223a312c22667350617468223a22633a5c5c55736572735c5c6a7363686c5c5c70726f6a656374735c5c646174612d6170705c5c2e646576636f6e7461696e65725c5c646576636f6e7461696e65722e6a736f6e222c225f736570223a312c2265787465726e616c223a2266696c653a2f2f2f632533412f55736572732f6a7363686c2f70726f6a656374732f646174612d6170702f2e646576636f6e7461696e65722f646576636f6e7461696e65722e6a736f6e222c2270617468223a222f633a2f55736572732f6a7363686c2f70726f6a656374732f646174612d6170702f2e646576636f6e7461696e65722f646576636f6e7461696e65722e6a736f6e222c22736368656d65223a2266696c65227d7d/workspaces/data-app/notebooks/news_scraping_bbc.ipynb#X23sdnNjb2RlLXJlbW90ZQ%3D%3D?line=5'>6</a>\u001b[0m                        )\n\u001b[1;32m      <a href='vscode-notebook-cell://dev-container%2B7b22686f737450617468223a22633a5c5c55736572735c5c6a7363686c5c5c70726f6a656374735c5c646174612d617070222c226c6f63616c446f636b6572223a66616c73652c22636f6e66696746696c65223a7b22246d6964223a312c22667350617468223a22633a5c5c55736572735c5c6a7363686c5c5c70726f6a656374735c5c646174612d6170705c5c2e646576636f6e7461696e65725c5c646576636f6e7461696e65722e6a736f6e222c225f736570223a312c2265787465726e616c223a2266696c653a2f2f2f632533412f55736572732f6a7363686c2f70726f6a656374732f646174612d6170702f2e646576636f6e7461696e65722f646576636f6e7461696e65722e6a736f6e222c2270617468223a222f633a2f55736572732f6a7363686c2f70726f6a656374732f646174612d6170702f2e646576636f6e7461696e65722f646576636f6e7461696e65722e6a736f6e222c22736368656d65223a2266696c65227d7d/workspaces/data-app/notebooks/news_scraping_bbc.ipynb#X23sdnNjb2RlLXJlbW90ZQ%3D%3D?line=6'>7</a>\u001b[0m     \u001b[39mexcept\u001b[39;00m psycopg2\u001b[39m.\u001b[39mIntegrityError \u001b[39mas\u001b[39;00m e:\n\u001b[1;32m      <a href='vscode-notebook-cell://dev-container%2B7b22686f737450617468223a22633a5c5c55736572735c5c6a7363686c5c5c70726f6a656374735c5c646174612d617070222c226c6f63616c446f636b6572223a66616c73652c22636f6e66696746696c65223a7b22246d6964223a312c22667350617468223a22633a5c5c55736572735c5c6a7363686c5c5c70726f6a656374735c5c646174612d6170705c5c2e646576636f6e7461696e65725c5c646576636f6e7461696e65722e6a736f6e222c225f736570223a312c2265787465726e616c223a2266696c653a2f2f2f632533412f55736572732f6a7363686c2f70726f6a656374732f646174612d6170702f2e646576636f6e7461696e65722f646576636f6e7461696e65722e6a736f6e222c2270617468223a222f633a2f55736572732f6a7363686c2f70726f6a656374732f646174612d6170702f2e646576636f6e7461696e65722f646576636f6e7461696e65722e6a736f6e222c22736368656d65223a2266696c65227d7d/workspaces/data-app/notebooks/news_scraping_bbc.ipynb#X23sdnNjb2RlLXJlbW90ZQ%3D%3D?line=7'>8</a>\u001b[0m         \u001b[39mif\u001b[39;00m \u001b[39m\"\u001b[39m\u001b[39mduplicate key value violates unique constraint\u001b[39m\u001b[39m\"\u001b[39m \u001b[39min\u001b[39;00m \u001b[39mstr\u001b[39m(e):\n",
      "\u001b[0;31mInvalidTextRepresentation\u001b[0m: malformed array literal: \"By Oliver Slow & Ian Youngs\"\nLINE 92: 21 July', 'By Oliver Slow & Ian Youngs', '2023-11-09T10:21:3...\n                   ^\nDETAIL:  Array value must start with \"{\" or dimension information.\n"
     ]
    }
   ],
   "source": [
    "for article in articles_info.values():\n",
    "    try:\n",
    "        cursor.execute('''INSERT INTO Articles(URLId, Headline, Content, Authors, UploadDate, ImageURL, ImageDescription,scrapingTimeStamp) \n",
    "                        VALUES (%s, %s, %s, %s, %s, %s, %s, %s);''', \n",
    "                       (article[\"url\"], article[\"headline\"], article[\"contents\"], article[\"authors\"], article[\"date\"], article[\"ImageURL\"], article[\"ImageDescription\"], article[\"scrapingTimeStamp\"])\n",
    "                       )\n",
    "    except psycopg2.IntegrityError as e:\n",
    "        if \"duplicate key value violates unique constraint\" in str(e):\n",
    "            print(f\"Article with URLId {article['url']} already exists in the database.\")\n",
    "\n",
    "\n"
   ]
  },
  {
   "cell_type": "markdown",
   "metadata": {},
   "source": []
  }
 ],
 "metadata": {
  "kernelspec": {
   "display_name": "Python 3",
   "language": "python",
   "name": "python3"
  },
  "language_info": {
   "codemirror_mode": {
    "name": "ipython",
    "version": 3
   },
   "file_extension": ".py",
   "mimetype": "text/x-python",
   "name": "python",
   "nbconvert_exporter": "python",
   "pygments_lexer": "ipython3",
   "version": "3.11.6"
  }
 },
 "nbformat": 4,
 "nbformat_minor": 2
}
