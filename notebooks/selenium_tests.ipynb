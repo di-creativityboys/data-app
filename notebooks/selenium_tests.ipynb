{
 "cells": [
  {
   "cell_type": "code",
   "execution_count": 2,
   "metadata": {},
   "outputs": [],
   "source": [
    "import selenium\n",
    "from selenium import webdriver"
   ]
  },
  {
   "cell_type": "code",
   "execution_count": 3,
   "metadata": {},
   "outputs": [
    {
     "ename": "SessionNotCreatedException",
     "evalue": "Message: session not created: Chrome failed to start: exited normally.\n  (session not created: DevToolsActivePort file doesn't exist)\n  (The process started from chrome location /home/vscode/.cache/selenium/chrome/linux64/118.0.5993.70/chrome is no longer running, so ChromeDriver is assuming that Chrome has crashed.)\nStacktrace:\n#0 0x55c1ab5bafb3 <unknown>\n#1 0x55c1ab28e4a7 <unknown>\n#2 0x55c1ab2c1c93 <unknown>\n#3 0x55c1ab2be10c <unknown>\n#4 0x55c1ab300ac6 <unknown>\n#5 0x55c1ab2f7713 <unknown>\n#6 0x55c1ab2ca18b <unknown>\n#7 0x55c1ab2caf7e <unknown>\n#8 0x55c1ab5808d8 <unknown>\n#9 0x55c1ab584800 <unknown>\n#10 0x55c1ab58ecfc <unknown>\n#11 0x55c1ab585418 <unknown>\n#12 0x55c1ab55242f <unknown>\n#13 0x55c1ab5a94e8 <unknown>\n#14 0x55c1ab5a96b4 <unknown>\n#15 0x55c1ab5ba143 <unknown>\n#16 0x7f194c855ea7 start_thread\n",
     "output_type": "error",
     "traceback": [
      "\u001b[0;31m---------------------------------------------------------------------------\u001b[0m",
      "\u001b[0;31mSessionNotCreatedException\u001b[0m                Traceback (most recent call last)",
      "\u001b[1;32m/workspaces/data-app/app/selenium_tests.ipynb Cell 2\u001b[0m line \u001b[0;36m1\n\u001b[0;32m----> <a href='vscode-notebook-cell://dev-container%2B7b22686f737450617468223a22633a5c5c55736572735c5c6a7363686c5c5c70726f6a656374735c5c646174612d617070222c226c6f63616c446f636b6572223a66616c73652c22636f6e66696746696c65223a7b22246d6964223a312c22667350617468223a22633a5c5c55736572735c5c6a7363686c5c5c70726f6a656374735c5c646174612d6170705c5c2e646576636f6e7461696e65725c5c646576636f6e7461696e65722e6a736f6e222c225f736570223a312c2265787465726e616c223a2266696c653a2f2f2f632533412f55736572732f6a7363686c2f70726f6a656374732f646174612d6170702f2e646576636f6e7461696e65722f646576636f6e7461696e65722e6a736f6e222c2270617468223a222f633a2f55736572732f6a7363686c2f70726f6a656374732f646174612d6170702f2e646576636f6e7461696e65722f646576636f6e7461696e65722e6a736f6e222c22736368656d65223a2266696c65227d7d/workspaces/data-app/app/selenium_tests.ipynb#W1sdnNjb2RlLXJlbW90ZQ%3D%3D?line=0'>1</a>\u001b[0m driver \u001b[39m=\u001b[39m webdriver\u001b[39m.\u001b[39;49mChrome()\n",
      "File \u001b[0;32m~/.local/lib/python3.11/site-packages/selenium/webdriver/chrome/webdriver.py:45\u001b[0m, in \u001b[0;36mWebDriver.__init__\u001b[0;34m(self, options, service, keep_alive)\u001b[0m\n\u001b[1;32m     42\u001b[0m service \u001b[39m=\u001b[39m service \u001b[39mif\u001b[39;00m service \u001b[39melse\u001b[39;00m Service()\n\u001b[1;32m     43\u001b[0m options \u001b[39m=\u001b[39m options \u001b[39mif\u001b[39;00m options \u001b[39melse\u001b[39;00m Options()\n\u001b[0;32m---> 45\u001b[0m \u001b[39msuper\u001b[39;49m()\u001b[39m.\u001b[39;49m\u001b[39m__init__\u001b[39;49m(\n\u001b[1;32m     46\u001b[0m     DesiredCapabilities\u001b[39m.\u001b[39;49mCHROME[\u001b[39m\"\u001b[39;49m\u001b[39mbrowserName\u001b[39;49m\u001b[39m\"\u001b[39;49m],\n\u001b[1;32m     47\u001b[0m     \u001b[39m\"\u001b[39;49m\u001b[39mgoog\u001b[39;49m\u001b[39m\"\u001b[39;49m,\n\u001b[1;32m     48\u001b[0m     options,\n\u001b[1;32m     49\u001b[0m     service,\n\u001b[1;32m     50\u001b[0m     keep_alive,\n\u001b[1;32m     51\u001b[0m )\n",
      "File \u001b[0;32m~/.local/lib/python3.11/site-packages/selenium/webdriver/chromium/webdriver.py:56\u001b[0m, in \u001b[0;36mChromiumDriver.__init__\u001b[0;34m(self, browser_name, vendor_prefix, options, service, keep_alive)\u001b[0m\n\u001b[1;32m     53\u001b[0m \u001b[39mself\u001b[39m\u001b[39m.\u001b[39mservice\u001b[39m.\u001b[39mstart()\n\u001b[1;32m     55\u001b[0m \u001b[39mtry\u001b[39;00m:\n\u001b[0;32m---> 56\u001b[0m     \u001b[39msuper\u001b[39;49m()\u001b[39m.\u001b[39;49m\u001b[39m__init__\u001b[39;49m(\n\u001b[1;32m     57\u001b[0m         command_executor\u001b[39m=\u001b[39;49mChromiumRemoteConnection(\n\u001b[1;32m     58\u001b[0m             remote_server_addr\u001b[39m=\u001b[39;49m\u001b[39mself\u001b[39;49m\u001b[39m.\u001b[39;49mservice\u001b[39m.\u001b[39;49mservice_url,\n\u001b[1;32m     59\u001b[0m             browser_name\u001b[39m=\u001b[39;49mbrowser_name,\n\u001b[1;32m     60\u001b[0m             vendor_prefix\u001b[39m=\u001b[39;49mvendor_prefix,\n\u001b[1;32m     61\u001b[0m             keep_alive\u001b[39m=\u001b[39;49mkeep_alive,\n\u001b[1;32m     62\u001b[0m             ignore_proxy\u001b[39m=\u001b[39;49moptions\u001b[39m.\u001b[39;49m_ignore_local_proxy,\n\u001b[1;32m     63\u001b[0m         ),\n\u001b[1;32m     64\u001b[0m         options\u001b[39m=\u001b[39;49moptions,\n\u001b[1;32m     65\u001b[0m     )\n\u001b[1;32m     66\u001b[0m \u001b[39mexcept\u001b[39;00m \u001b[39mException\u001b[39;00m:\n\u001b[1;32m     67\u001b[0m     \u001b[39mself\u001b[39m\u001b[39m.\u001b[39mquit()\n",
      "File \u001b[0;32m~/.local/lib/python3.11/site-packages/selenium/webdriver/remote/webdriver.py:205\u001b[0m, in \u001b[0;36mWebDriver.__init__\u001b[0;34m(self, command_executor, keep_alive, file_detector, options)\u001b[0m\n\u001b[1;32m    203\u001b[0m \u001b[39mself\u001b[39m\u001b[39m.\u001b[39m_authenticator_id \u001b[39m=\u001b[39m \u001b[39mNone\u001b[39;00m\n\u001b[1;32m    204\u001b[0m \u001b[39mself\u001b[39m\u001b[39m.\u001b[39mstart_client()\n\u001b[0;32m--> 205\u001b[0m \u001b[39mself\u001b[39;49m\u001b[39m.\u001b[39;49mstart_session(capabilities)\n",
      "File \u001b[0;32m~/.local/lib/python3.11/site-packages/selenium/webdriver/remote/webdriver.py:289\u001b[0m, in \u001b[0;36mWebDriver.start_session\u001b[0;34m(self, capabilities)\u001b[0m\n\u001b[1;32m    282\u001b[0m \u001b[39m\u001b[39m\u001b[39m\"\"\"Creates a new session with the desired capabilities.\u001b[39;00m\n\u001b[1;32m    283\u001b[0m \n\u001b[1;32m    284\u001b[0m \u001b[39m:Args:\u001b[39;00m\n\u001b[1;32m    285\u001b[0m \u001b[39m - capabilities - a capabilities dict to start the session with.\u001b[39;00m\n\u001b[1;32m    286\u001b[0m \u001b[39m\"\"\"\u001b[39;00m\n\u001b[1;32m    288\u001b[0m caps \u001b[39m=\u001b[39m _create_caps(capabilities)\n\u001b[0;32m--> 289\u001b[0m response \u001b[39m=\u001b[39m \u001b[39mself\u001b[39;49m\u001b[39m.\u001b[39;49mexecute(Command\u001b[39m.\u001b[39;49mNEW_SESSION, caps)[\u001b[39m\"\u001b[39m\u001b[39mvalue\u001b[39m\u001b[39m\"\u001b[39m]\n\u001b[1;32m    290\u001b[0m \u001b[39mself\u001b[39m\u001b[39m.\u001b[39msession_id \u001b[39m=\u001b[39m response\u001b[39m.\u001b[39mget(\u001b[39m\"\u001b[39m\u001b[39msessionId\u001b[39m\u001b[39m\"\u001b[39m)\n\u001b[1;32m    291\u001b[0m \u001b[39mself\u001b[39m\u001b[39m.\u001b[39mcaps \u001b[39m=\u001b[39m response\u001b[39m.\u001b[39mget(\u001b[39m\"\u001b[39m\u001b[39mcapabilities\u001b[39m\u001b[39m\"\u001b[39m)\n",
      "File \u001b[0;32m~/.local/lib/python3.11/site-packages/selenium/webdriver/remote/webdriver.py:344\u001b[0m, in \u001b[0;36mWebDriver.execute\u001b[0;34m(self, driver_command, params)\u001b[0m\n\u001b[1;32m    342\u001b[0m response \u001b[39m=\u001b[39m \u001b[39mself\u001b[39m\u001b[39m.\u001b[39mcommand_executor\u001b[39m.\u001b[39mexecute(driver_command, params)\n\u001b[1;32m    343\u001b[0m \u001b[39mif\u001b[39;00m response:\n\u001b[0;32m--> 344\u001b[0m     \u001b[39mself\u001b[39;49m\u001b[39m.\u001b[39;49merror_handler\u001b[39m.\u001b[39;49mcheck_response(response)\n\u001b[1;32m    345\u001b[0m     response[\u001b[39m\"\u001b[39m\u001b[39mvalue\u001b[39m\u001b[39m\"\u001b[39m] \u001b[39m=\u001b[39m \u001b[39mself\u001b[39m\u001b[39m.\u001b[39m_unwrap_value(response\u001b[39m.\u001b[39mget(\u001b[39m\"\u001b[39m\u001b[39mvalue\u001b[39m\u001b[39m\"\u001b[39m, \u001b[39mNone\u001b[39;00m))\n\u001b[1;32m    346\u001b[0m     \u001b[39mreturn\u001b[39;00m response\n",
      "File \u001b[0;32m~/.local/lib/python3.11/site-packages/selenium/webdriver/remote/errorhandler.py:229\u001b[0m, in \u001b[0;36mErrorHandler.check_response\u001b[0;34m(self, response)\u001b[0m\n\u001b[1;32m    227\u001b[0m         alert_text \u001b[39m=\u001b[39m value[\u001b[39m\"\u001b[39m\u001b[39malert\u001b[39m\u001b[39m\"\u001b[39m]\u001b[39m.\u001b[39mget(\u001b[39m\"\u001b[39m\u001b[39mtext\u001b[39m\u001b[39m\"\u001b[39m)\n\u001b[1;32m    228\u001b[0m     \u001b[39mraise\u001b[39;00m exception_class(message, screen, stacktrace, alert_text)  \u001b[39m# type: ignore[call-arg]  # mypy is not smart enough here\u001b[39;00m\n\u001b[0;32m--> 229\u001b[0m \u001b[39mraise\u001b[39;00m exception_class(message, screen, stacktrace)\n",
      "\u001b[0;31mSessionNotCreatedException\u001b[0m: Message: session not created: Chrome failed to start: exited normally.\n  (session not created: DevToolsActivePort file doesn't exist)\n  (The process started from chrome location /home/vscode/.cache/selenium/chrome/linux64/118.0.5993.70/chrome is no longer running, so ChromeDriver is assuming that Chrome has crashed.)\nStacktrace:\n#0 0x55c1ab5bafb3 <unknown>\n#1 0x55c1ab28e4a7 <unknown>\n#2 0x55c1ab2c1c93 <unknown>\n#3 0x55c1ab2be10c <unknown>\n#4 0x55c1ab300ac6 <unknown>\n#5 0x55c1ab2f7713 <unknown>\n#6 0x55c1ab2ca18b <unknown>\n#7 0x55c1ab2caf7e <unknown>\n#8 0x55c1ab5808d8 <unknown>\n#9 0x55c1ab584800 <unknown>\n#10 0x55c1ab58ecfc <unknown>\n#11 0x55c1ab585418 <unknown>\n#12 0x55c1ab55242f <unknown>\n#13 0x55c1ab5a94e8 <unknown>\n#14 0x55c1ab5a96b4 <unknown>\n#15 0x55c1ab5ba143 <unknown>\n#16 0x7f194c855ea7 start_thread\n"
     ]
    }
   ],
   "source": [
    "driver = webdriver.Chrome()"
   ]
  },
  {
   "cell_type": "code",
   "execution_count": 4,
   "metadata": {},
   "outputs": [
    {
     "name": "stdout",
     "output_type": "stream",
     "text": [
      "--2023-10-27 11:39:32--  https://dl.google.com/linux/direct/google-chrome-stable_current_amd64.deb\n",
      "Resolving dl.google.com (dl.google.com)... 142.250.181.206, 2a00:1450:4005:802::200e\n",
      "Connecting to dl.google.com (dl.google.com)|142.250.181.206|:443... connected.\n",
      "HTTP request sent, awaiting response... 200 OK\n",
      "Length: 104057764 (99M) [application/x-debian-package]\n",
      "Saving to: ‘google-chrome-stable_current_amd64.deb’\n",
      "\n",
      "google-chrome-stabl 100%[===================>]  99.24M  3.49MB/s    in 22s     \n",
      "\n",
      "2023-10-27 11:39:54 (4.47 MB/s) - ‘google-chrome-stable_current_amd64.deb’ saved [104057764/104057764]\n",
      "\n"
     ]
    }
   ],
   "source": [
    "#maybe change directory\n",
    "!wget -nc https://dl.google.com/linux/direct/google-chrome-stable_current_amd64.deb "
   ]
  },
  {
   "cell_type": "code",
   "execution_count": 11,
   "metadata": {},
   "outputs": [
    {
     "name": "stdout",
     "output_type": "stream",
     "text": [
      "Welcome to Python.org\n"
     ]
    }
   ],
   "source": [
    "from selenium import webdriver\n",
    "from selenium.webdriver.chrome.options import Options\n",
    "from selenium.webdriver.chrome.service import Service\n",
    "from webdriver_manager.chrome import ChromeDriverManager\n",
    " \n",
    "options = Options()\n",
    "options.add_argument('--headless')\n",
    "options.add_argument('--no-sandbox')\n",
    "options.add_argument('--disable-dev-shm-usage')\n",
    "driver = webdriver.Chrome(service=Service(ChromeDriverManager().install()), options=options)\n",
    " \n",
    "driver.get(\"https://python.org\")\n",
    "print(driver.title)\n",
    "driver.close()"
   ]
  },
  {
   "cell_type": "code",
   "execution_count": null,
   "metadata": {},
   "outputs": [],
   "source": []
  }
 ],
 "metadata": {
  "kernelspec": {
   "display_name": "Python 3",
   "language": "python",
   "name": "python3"
  },
  "language_info": {
   "codemirror_mode": {
    "name": "ipython",
    "version": 3
   },
   "file_extension": ".py",
   "mimetype": "text/x-python",
   "name": "python",
   "nbconvert_exporter": "python",
   "pygments_lexer": "ipython3",
   "version": "3.11.6"
  }
 },
 "nbformat": 4,
 "nbformat_minor": 2
}
